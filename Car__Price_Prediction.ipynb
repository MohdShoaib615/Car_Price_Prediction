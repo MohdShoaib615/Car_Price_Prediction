{
  "nbformat": 4,
  "nbformat_minor": 0,
  "metadata": {
    "colab": {
      "provenance": []
    },
    "kernelspec": {
      "name": "python3",
      "display_name": "Python 3"
    },
    "language_info": {
      "name": "python"
    }
  },
  "cells": [
    {
      "cell_type": "code",
      "execution_count": 73,
      "metadata": {
        "id": "XH5O5ToUAAU_"
      },
      "outputs": [],
      "source": [
        "import pandas as pd\n",
        "import numpy as np\n",
        "import matplotlib.pyplot as plt\n",
        "import seaborn as sns\n",
        "import plotly.express as px\n",
        "from sklearn.impute import KNNImputer\n",
        "from sklearn.preprocessing import LabelEncoder,OneHotEncoder,MinMaxScaler\n",
        "from sklearn.model_selection import train_test_split\n",
        "import pickle"
      ]
    },
    {
      "cell_type": "code",
      "source": [
        "data=pd.read_csv('/content/car_price_prediction.csv')\n",
        "data.head()"
      ],
      "metadata": {
        "colab": {
          "base_uri": "https://localhost:8080/",
          "height": 391
        },
        "id": "lJQhz3uCAKHh",
        "outputId": "8b698c8e-0ef5-446e-c24f-845b27825ced"
      },
      "execution_count": 2,
      "outputs": [
        {
          "output_type": "execute_result",
          "data": {
            "text/plain": [
              "         ID  Price  Levy Manufacturer    Model  Prod. year   Category  \\\n",
              "0  45654403  13328  1399        LEXUS   RX 450        2010       Jeep   \n",
              "1  44731507  16621  1018    CHEVROLET  Equinox        2011       Jeep   \n",
              "2  45774419   8467     -        HONDA      FIT        2006  Hatchback   \n",
              "3  45769185   3607   862         FORD   Escape        2011       Jeep   \n",
              "4  45809263  11726   446        HONDA      FIT        2014  Hatchback   \n",
              "\n",
              "  Leather interior Fuel type Engine volume    Mileage  Cylinders  \\\n",
              "0              Yes    Hybrid           3.5  186005 km        6.0   \n",
              "1               No    Petrol             3  192000 km        6.0   \n",
              "2               No    Petrol           1.3  200000 km        4.0   \n",
              "3              Yes    Hybrid           2.5  168966 km        4.0   \n",
              "4              Yes    Petrol           1.3   91901 km        4.0   \n",
              "\n",
              "  Gear box type Drive wheels   Doors             Wheel   Color  Airbags  \n",
              "0     Automatic          4x4  04-May        Left wheel  Silver       12  \n",
              "1     Tiptronic          4x4  04-May        Left wheel   Black        8  \n",
              "2      Variator        Front  04-May  Right-hand drive   Black        2  \n",
              "3     Automatic          4x4  04-May        Left wheel   White        0  \n",
              "4     Automatic        Front  04-May        Left wheel  Silver        4  "
            ],
            "text/html": [
              "\n",
              "\n",
              "  <div id=\"df-3fcb7236-0aee-474a-a7c3-3f89669ec9c4\">\n",
              "    <div class=\"colab-df-container\">\n",
              "      <div>\n",
              "<style scoped>\n",
              "    .dataframe tbody tr th:only-of-type {\n",
              "        vertical-align: middle;\n",
              "    }\n",
              "\n",
              "    .dataframe tbody tr th {\n",
              "        vertical-align: top;\n",
              "    }\n",
              "\n",
              "    .dataframe thead th {\n",
              "        text-align: right;\n",
              "    }\n",
              "</style>\n",
              "<table border=\"1\" class=\"dataframe\">\n",
              "  <thead>\n",
              "    <tr style=\"text-align: right;\">\n",
              "      <th></th>\n",
              "      <th>ID</th>\n",
              "      <th>Price</th>\n",
              "      <th>Levy</th>\n",
              "      <th>Manufacturer</th>\n",
              "      <th>Model</th>\n",
              "      <th>Prod. year</th>\n",
              "      <th>Category</th>\n",
              "      <th>Leather interior</th>\n",
              "      <th>Fuel type</th>\n",
              "      <th>Engine volume</th>\n",
              "      <th>Mileage</th>\n",
              "      <th>Cylinders</th>\n",
              "      <th>Gear box type</th>\n",
              "      <th>Drive wheels</th>\n",
              "      <th>Doors</th>\n",
              "      <th>Wheel</th>\n",
              "      <th>Color</th>\n",
              "      <th>Airbags</th>\n",
              "    </tr>\n",
              "  </thead>\n",
              "  <tbody>\n",
              "    <tr>\n",
              "      <th>0</th>\n",
              "      <td>45654403</td>\n",
              "      <td>13328</td>\n",
              "      <td>1399</td>\n",
              "      <td>LEXUS</td>\n",
              "      <td>RX 450</td>\n",
              "      <td>2010</td>\n",
              "      <td>Jeep</td>\n",
              "      <td>Yes</td>\n",
              "      <td>Hybrid</td>\n",
              "      <td>3.5</td>\n",
              "      <td>186005 km</td>\n",
              "      <td>6.0</td>\n",
              "      <td>Automatic</td>\n",
              "      <td>4x4</td>\n",
              "      <td>04-May</td>\n",
              "      <td>Left wheel</td>\n",
              "      <td>Silver</td>\n",
              "      <td>12</td>\n",
              "    </tr>\n",
              "    <tr>\n",
              "      <th>1</th>\n",
              "      <td>44731507</td>\n",
              "      <td>16621</td>\n",
              "      <td>1018</td>\n",
              "      <td>CHEVROLET</td>\n",
              "      <td>Equinox</td>\n",
              "      <td>2011</td>\n",
              "      <td>Jeep</td>\n",
              "      <td>No</td>\n",
              "      <td>Petrol</td>\n",
              "      <td>3</td>\n",
              "      <td>192000 km</td>\n",
              "      <td>6.0</td>\n",
              "      <td>Tiptronic</td>\n",
              "      <td>4x4</td>\n",
              "      <td>04-May</td>\n",
              "      <td>Left wheel</td>\n",
              "      <td>Black</td>\n",
              "      <td>8</td>\n",
              "    </tr>\n",
              "    <tr>\n",
              "      <th>2</th>\n",
              "      <td>45774419</td>\n",
              "      <td>8467</td>\n",
              "      <td>-</td>\n",
              "      <td>HONDA</td>\n",
              "      <td>FIT</td>\n",
              "      <td>2006</td>\n",
              "      <td>Hatchback</td>\n",
              "      <td>No</td>\n",
              "      <td>Petrol</td>\n",
              "      <td>1.3</td>\n",
              "      <td>200000 km</td>\n",
              "      <td>4.0</td>\n",
              "      <td>Variator</td>\n",
              "      <td>Front</td>\n",
              "      <td>04-May</td>\n",
              "      <td>Right-hand drive</td>\n",
              "      <td>Black</td>\n",
              "      <td>2</td>\n",
              "    </tr>\n",
              "    <tr>\n",
              "      <th>3</th>\n",
              "      <td>45769185</td>\n",
              "      <td>3607</td>\n",
              "      <td>862</td>\n",
              "      <td>FORD</td>\n",
              "      <td>Escape</td>\n",
              "      <td>2011</td>\n",
              "      <td>Jeep</td>\n",
              "      <td>Yes</td>\n",
              "      <td>Hybrid</td>\n",
              "      <td>2.5</td>\n",
              "      <td>168966 km</td>\n",
              "      <td>4.0</td>\n",
              "      <td>Automatic</td>\n",
              "      <td>4x4</td>\n",
              "      <td>04-May</td>\n",
              "      <td>Left wheel</td>\n",
              "      <td>White</td>\n",
              "      <td>0</td>\n",
              "    </tr>\n",
              "    <tr>\n",
              "      <th>4</th>\n",
              "      <td>45809263</td>\n",
              "      <td>11726</td>\n",
              "      <td>446</td>\n",
              "      <td>HONDA</td>\n",
              "      <td>FIT</td>\n",
              "      <td>2014</td>\n",
              "      <td>Hatchback</td>\n",
              "      <td>Yes</td>\n",
              "      <td>Petrol</td>\n",
              "      <td>1.3</td>\n",
              "      <td>91901 km</td>\n",
              "      <td>4.0</td>\n",
              "      <td>Automatic</td>\n",
              "      <td>Front</td>\n",
              "      <td>04-May</td>\n",
              "      <td>Left wheel</td>\n",
              "      <td>Silver</td>\n",
              "      <td>4</td>\n",
              "    </tr>\n",
              "  </tbody>\n",
              "</table>\n",
              "</div>\n",
              "      <button class=\"colab-df-convert\" onclick=\"convertToInteractive('df-3fcb7236-0aee-474a-a7c3-3f89669ec9c4')\"\n",
              "              title=\"Convert this dataframe to an interactive table.\"\n",
              "              style=\"display:none;\">\n",
              "\n",
              "  <svg xmlns=\"http://www.w3.org/2000/svg\" height=\"24px\"viewBox=\"0 0 24 24\"\n",
              "       width=\"24px\">\n",
              "    <path d=\"M0 0h24v24H0V0z\" fill=\"none\"/>\n",
              "    <path d=\"M18.56 5.44l.94 2.06.94-2.06 2.06-.94-2.06-.94-.94-2.06-.94 2.06-2.06.94zm-11 1L8.5 8.5l.94-2.06 2.06-.94-2.06-.94L8.5 2.5l-.94 2.06-2.06.94zm10 10l.94 2.06.94-2.06 2.06-.94-2.06-.94-.94-2.06-.94 2.06-2.06.94z\"/><path d=\"M17.41 7.96l-1.37-1.37c-.4-.4-.92-.59-1.43-.59-.52 0-1.04.2-1.43.59L10.3 9.45l-7.72 7.72c-.78.78-.78 2.05 0 2.83L4 21.41c.39.39.9.59 1.41.59.51 0 1.02-.2 1.41-.59l7.78-7.78 2.81-2.81c.8-.78.8-2.07 0-2.86zM5.41 20L4 18.59l7.72-7.72 1.47 1.35L5.41 20z\"/>\n",
              "  </svg>\n",
              "      </button>\n",
              "\n",
              "\n",
              "\n",
              "    <div id=\"df-2937ce13-472e-4977-8ee7-7acaf9aa7fe1\">\n",
              "      <button class=\"colab-df-quickchart\" onclick=\"quickchart('df-2937ce13-472e-4977-8ee7-7acaf9aa7fe1')\"\n",
              "              title=\"Suggest charts.\"\n",
              "              style=\"display:none;\">\n",
              "\n",
              "<svg xmlns=\"http://www.w3.org/2000/svg\" height=\"24px\"viewBox=\"0 0 24 24\"\n",
              "     width=\"24px\">\n",
              "    <g>\n",
              "        <path d=\"M19 3H5c-1.1 0-2 .9-2 2v14c0 1.1.9 2 2 2h14c1.1 0 2-.9 2-2V5c0-1.1-.9-2-2-2zM9 17H7v-7h2v7zm4 0h-2V7h2v10zm4 0h-2v-4h2v4z\"/>\n",
              "    </g>\n",
              "</svg>\n",
              "      </button>\n",
              "    </div>\n",
              "\n",
              "<style>\n",
              "  .colab-df-quickchart {\n",
              "    background-color: #E8F0FE;\n",
              "    border: none;\n",
              "    border-radius: 50%;\n",
              "    cursor: pointer;\n",
              "    display: none;\n",
              "    fill: #1967D2;\n",
              "    height: 32px;\n",
              "    padding: 0 0 0 0;\n",
              "    width: 32px;\n",
              "  }\n",
              "\n",
              "  .colab-df-quickchart:hover {\n",
              "    background-color: #E2EBFA;\n",
              "    box-shadow: 0px 1px 2px rgba(60, 64, 67, 0.3), 0px 1px 3px 1px rgba(60, 64, 67, 0.15);\n",
              "    fill: #174EA6;\n",
              "  }\n",
              "\n",
              "  [theme=dark] .colab-df-quickchart {\n",
              "    background-color: #3B4455;\n",
              "    fill: #D2E3FC;\n",
              "  }\n",
              "\n",
              "  [theme=dark] .colab-df-quickchart:hover {\n",
              "    background-color: #434B5C;\n",
              "    box-shadow: 0px 1px 3px 1px rgba(0, 0, 0, 0.15);\n",
              "    filter: drop-shadow(0px 1px 2px rgba(0, 0, 0, 0.3));\n",
              "    fill: #FFFFFF;\n",
              "  }\n",
              "</style>\n",
              "\n",
              "    <script>\n",
              "      async function quickchart(key) {\n",
              "        const containerElement = document.querySelector('#' + key);\n",
              "        const charts = await google.colab.kernel.invokeFunction(\n",
              "            'suggestCharts', [key], {});\n",
              "      }\n",
              "    </script>\n",
              "\n",
              "      <script>\n",
              "\n",
              "function displayQuickchartButton(domScope) {\n",
              "  let quickchartButtonEl =\n",
              "    domScope.querySelector('#df-2937ce13-472e-4977-8ee7-7acaf9aa7fe1 button.colab-df-quickchart');\n",
              "  quickchartButtonEl.style.display =\n",
              "    google.colab.kernel.accessAllowed ? 'block' : 'none';\n",
              "}\n",
              "\n",
              "        displayQuickchartButton(document);\n",
              "      </script>\n",
              "      <style>\n",
              "    .colab-df-container {\n",
              "      display:flex;\n",
              "      flex-wrap:wrap;\n",
              "      gap: 12px;\n",
              "    }\n",
              "\n",
              "    .colab-df-convert {\n",
              "      background-color: #E8F0FE;\n",
              "      border: none;\n",
              "      border-radius: 50%;\n",
              "      cursor: pointer;\n",
              "      display: none;\n",
              "      fill: #1967D2;\n",
              "      height: 32px;\n",
              "      padding: 0 0 0 0;\n",
              "      width: 32px;\n",
              "    }\n",
              "\n",
              "    .colab-df-convert:hover {\n",
              "      background-color: #E2EBFA;\n",
              "      box-shadow: 0px 1px 2px rgba(60, 64, 67, 0.3), 0px 1px 3px 1px rgba(60, 64, 67, 0.15);\n",
              "      fill: #174EA6;\n",
              "    }\n",
              "\n",
              "    [theme=dark] .colab-df-convert {\n",
              "      background-color: #3B4455;\n",
              "      fill: #D2E3FC;\n",
              "    }\n",
              "\n",
              "    [theme=dark] .colab-df-convert:hover {\n",
              "      background-color: #434B5C;\n",
              "      box-shadow: 0px 1px 3px 1px rgba(0, 0, 0, 0.15);\n",
              "      filter: drop-shadow(0px 1px 2px rgba(0, 0, 0, 0.3));\n",
              "      fill: #FFFFFF;\n",
              "    }\n",
              "  </style>\n",
              "\n",
              "      <script>\n",
              "        const buttonEl =\n",
              "          document.querySelector('#df-3fcb7236-0aee-474a-a7c3-3f89669ec9c4 button.colab-df-convert');\n",
              "        buttonEl.style.display =\n",
              "          google.colab.kernel.accessAllowed ? 'block' : 'none';\n",
              "\n",
              "        async function convertToInteractive(key) {\n",
              "          const element = document.querySelector('#df-3fcb7236-0aee-474a-a7c3-3f89669ec9c4');\n",
              "          const dataTable =\n",
              "            await google.colab.kernel.invokeFunction('convertToInteractive',\n",
              "                                                     [key], {});\n",
              "          if (!dataTable) return;\n",
              "\n",
              "          const docLinkHtml = 'Like what you see? Visit the ' +\n",
              "            '<a target=\"_blank\" href=https://colab.research.google.com/notebooks/data_table.ipynb>data table notebook</a>'\n",
              "            + ' to learn more about interactive tables.';\n",
              "          element.innerHTML = '';\n",
              "          dataTable['output_type'] = 'display_data';\n",
              "          await google.colab.output.renderOutput(dataTable, element);\n",
              "          const docLink = document.createElement('div');\n",
              "          docLink.innerHTML = docLinkHtml;\n",
              "          element.appendChild(docLink);\n",
              "        }\n",
              "      </script>\n",
              "    </div>\n",
              "  </div>\n"
            ]
          },
          "metadata": {},
          "execution_count": 2
        }
      ]
    },
    {
      "cell_type": "code",
      "source": [
        "data.drop('ID',axis=1,inplace=True)"
      ],
      "metadata": {
        "id": "LG5Wc7jUAihH"
      },
      "execution_count": 3,
      "outputs": []
    },
    {
      "cell_type": "code",
      "source": [
        "data.shape"
      ],
      "metadata": {
        "colab": {
          "base_uri": "https://localhost:8080/"
        },
        "id": "AhL4iSFSAoPp",
        "outputId": "8ec64a68-a429-4b8a-a49f-271007e3cfff"
      },
      "execution_count": 4,
      "outputs": [
        {
          "output_type": "execute_result",
          "data": {
            "text/plain": [
              "(19237, 17)"
            ]
          },
          "metadata": {},
          "execution_count": 4
        }
      ]
    },
    {
      "cell_type": "code",
      "source": [
        "data.info()"
      ],
      "metadata": {
        "colab": {
          "base_uri": "https://localhost:8080/"
        },
        "id": "ZE0g2kWWApFk",
        "outputId": "82856fa6-e429-451d-eba1-e571be789801"
      },
      "execution_count": 5,
      "outputs": [
        {
          "output_type": "stream",
          "name": "stdout",
          "text": [
            "<class 'pandas.core.frame.DataFrame'>\n",
            "RangeIndex: 19237 entries, 0 to 19236\n",
            "Data columns (total 17 columns):\n",
            " #   Column            Non-Null Count  Dtype  \n",
            "---  ------            --------------  -----  \n",
            " 0   Price             19237 non-null  int64  \n",
            " 1   Levy              19237 non-null  object \n",
            " 2   Manufacturer      19237 non-null  object \n",
            " 3   Model             19237 non-null  object \n",
            " 4   Prod. year        19237 non-null  int64  \n",
            " 5   Category          19237 non-null  object \n",
            " 6   Leather interior  19237 non-null  object \n",
            " 7   Fuel type         19237 non-null  object \n",
            " 8   Engine volume     19237 non-null  object \n",
            " 9   Mileage           19237 non-null  object \n",
            " 10  Cylinders         19237 non-null  float64\n",
            " 11  Gear box type     19237 non-null  object \n",
            " 12  Drive wheels      19237 non-null  object \n",
            " 13  Doors             19237 non-null  object \n",
            " 14  Wheel             19237 non-null  object \n",
            " 15  Color             19237 non-null  object \n",
            " 16  Airbags           19237 non-null  int64  \n",
            "dtypes: float64(1), int64(3), object(13)\n",
            "memory usage: 2.5+ MB\n"
          ]
        }
      ]
    },
    {
      "cell_type": "code",
      "source": [
        "data.isnull().sum()"
      ],
      "metadata": {
        "colab": {
          "base_uri": "https://localhost:8080/"
        },
        "id": "MfOCPF6fBPPn",
        "outputId": "5d835b5e-7c5e-4b0e-bbd0-54722313e975"
      },
      "execution_count": 6,
      "outputs": [
        {
          "output_type": "execute_result",
          "data": {
            "text/plain": [
              "Price               0\n",
              "Levy                0\n",
              "Manufacturer        0\n",
              "Model               0\n",
              "Prod. year          0\n",
              "Category            0\n",
              "Leather interior    0\n",
              "Fuel type           0\n",
              "Engine volume       0\n",
              "Mileage             0\n",
              "Cylinders           0\n",
              "Gear box type       0\n",
              "Drive wheels        0\n",
              "Doors               0\n",
              "Wheel               0\n",
              "Color               0\n",
              "Airbags             0\n",
              "dtype: int64"
            ]
          },
          "metadata": {},
          "execution_count": 6
        }
      ]
    },
    {
      "cell_type": "markdown",
      "source": [
        "# ***Data Analysis***"
      ],
      "metadata": {
        "id": "LCxit9GZA8x1"
      }
    },
    {
      "cell_type": "code",
      "source": [
        "sns.histplot(x=data['Price'],kde=True)"
      ],
      "metadata": {
        "colab": {
          "base_uri": "https://localhost:8080/",
          "height": 466
        },
        "id": "FAVjcC4xAqTW",
        "outputId": "8029667e-29ef-42ad-e6cf-41d5f1e2b20c"
      },
      "execution_count": 7,
      "outputs": [
        {
          "output_type": "execute_result",
          "data": {
            "text/plain": [
              "<Axes: xlabel='Price', ylabel='Count'>"
            ]
          },
          "metadata": {},
          "execution_count": 7
        },
        {
          "output_type": "display_data",
          "data": {
            "text/plain": [
              "<Figure size 640x480 with 1 Axes>"
            ],
            "image/png": "[encoded data removed]"
          },
          "metadata": {}
        }
      ]
    },
    {
      "cell_type": "code",
      "source": [
        "data['Price'].max()"
      ],
      "metadata": {
        "colab": {
          "base_uri": "https://localhost:8080/"
        },
        "id": "2Qz0gRtaBGeR",
        "outputId": "d75958f8-0f4c-4d24-bdd1-d0e1d128fd36"
      },
      "execution_count": 8,
      "outputs": [
        {
          "output_type": "execute_result",
          "data": {
            "text/plain": [
              "26307500"
            ]
          },
          "metadata": {},
          "execution_count": 8
        }
      ]
    },
    {
      "cell_type": "code",
      "source": [
        "# Checking the outlier\n",
        "\n",
        "print(data['Price'].quantile(1))\n",
        "print(data['Price'].quantile(0.99))"
      ],
      "metadata": {
        "colab": {
          "base_uri": "https://localhost:8080/"
        },
        "id": "vPZHeifrBhBR",
        "outputId": "762de653-456f-4723-ce62-432a7b15b4cb"
      },
      "execution_count": 9,
      "outputs": [
        {
          "output_type": "stream",
          "name": "stdout",
          "text": [
            "26307500.0\n",
            "84675.0\n"
          ]
        }
      ]
    },
    {
      "cell_type": "markdown",
      "source": [
        "We are not getting a proper graph for price column, because of the outlier is too high.\n"
      ],
      "metadata": {
        "id": "ETPDMWYdBSmB"
      }
    },
    {
      "cell_type": "code",
      "source": [
        "tmpData=data[data['Price']<data['Price'].quantile(0.99)]"
      ],
      "metadata": {
        "id": "bKF3WxndCPUS"
      },
      "execution_count": 10,
      "outputs": []
    },
    {
      "cell_type": "code",
      "source": [
        "sns.histplot(tmpData['Price'],kde=True)"
      ],
      "metadata": {
        "colab": {
          "base_uri": "https://localhost:8080/",
          "height": 466
        },
        "id": "BnyG15PICazV",
        "outputId": "a2453959-12df-4348-a233-363c4a1f37b2"
      },
      "execution_count": 11,
      "outputs": [
        {
          "output_type": "execute_result",
          "data": {
            "text/plain": [
              "<Axes: xlabel='Price', ylabel='Count'>"
            ]
          },
          "metadata": {},
          "execution_count": 11
        },
        {
          "output_type": "display_data",
          "data": {
            "text/plain": [
              "<Figure size 640x480 with 1 Axes>"
            ],
            "image/png": "[encoded data removed]"
          },
          "metadata": {}
        }
      ]
    },
    {
      "cell_type": "markdown",
      "source": [],
      "metadata": {
        "id": "-E0HOZXPCnab"
      }
    },
    {
      "cell_type": "markdown",
      "source": [
        "We concluded that most of the cars are in mid-range only....And the cars with too high prices are very few in numbers."
      ],
      "metadata": {
        "id": "3-XW0lGwCnf5"
      }
    },
    {
      "cell_type": "markdown",
      "source": [
        "# ***Analyzing the total manufacturers***"
      ],
      "metadata": {
        "id": "zLxBXduBElBT"
      }
    },
    {
      "cell_type": "code",
      "source": [
        "sns.countplot(x=tmpData['Manufacturer'])"
      ],
      "metadata": {
        "colab": {
          "base_uri": "https://localhost:8080/",
          "height": 467
        },
        "id": "3-PonT0CClvz",
        "outputId": "607f8b46-ddcd-4ef9-ae52-f73d9987fefa"
      },
      "execution_count": 12,
      "outputs": [
        {
          "output_type": "execute_result",
          "data": {
            "text/plain": [
              "<Axes: xlabel='Manufacturer', ylabel='count'>"
            ]
          },
          "metadata": {},
          "execution_count": 12
        },
        {
          "output_type": "display_data",
          "data": {
            "text/plain": [
              "<Figure size 640x480 with 1 Axes>"
            ],
            "image/png": "[encoded data removed]"
          },
          "metadata": {}
        }
      ]
    },
    {
      "cell_type": "code",
      "source": [
        "tmpData['Manufacturer'].value_counts()"
      ],
      "metadata": {
        "colab": {
          "base_uri": "https://localhost:8080/"
        },
        "id": "enryBRM7Eu9P",
        "outputId": "5b509f8e-ab35-49ea-96c6-7c142df87c06"
      },
      "execution_count": 13,
      "outputs": [
        {
          "output_type": "execute_result",
          "data": {
            "text/plain": [
              "HYUNDAI          3748\n",
              "TOYOTA           3645\n",
              "MERCEDES-BENZ    2027\n",
              "FORD             1089\n",
              "CHEVROLET        1066\n",
              "                 ... \n",
              "TESLA               1\n",
              "PONTIAC             1\n",
              "SATURN              1\n",
              "ASTON MARTIN        1\n",
              "GREATWALL           1\n",
              "Name: Manufacturer, Length: 63, dtype: int64"
            ]
          },
          "metadata": {},
          "execution_count": 13
        }
      ]
    },
    {
      "cell_type": "markdown",
      "source": [
        "As there are 63 different manufacturers, we cant clearly analyse the countplot, so we can also check the each manufacturer's quantity with value_counts() func or plotly also."
      ],
      "metadata": {
        "id": "lyT_ybFcE3qB"
      }
    },
    {
      "cell_type": "code",
      "source": [
        "px.bar(x=tmpData['Manufacturer'])"
      ],
      "metadata": {
        "colab": {
          "base_uri": "https://localhost:8080/",
          "height": 542
        },
        "id": "_l3qBehTE2gS",
        "outputId": "65b26554-a22a-4555-fdd0-7504cf6f45ba"
      },
      "execution_count": 14,
      "outputs": [
        {
          "output_type": "display_data",
          "data": {
            "text/html": [
              "<html>\n",
              "<head><meta charset=\"utf-8\" /></head>\n",
              "<body>\n",
              "    <div>            <script src=\"https://cdnjs.cloudflare.com/ajax/libs/mathjax/2.7.5/MathJax.js?config=TeX-AMS-MML_SVG\"></script><script type=\"text/javascript\">if (window.MathJax && window.MathJax.Hub && window.MathJax.Hub.Config) {window.MathJax.Hub.Config({SVG: {font: \"STIX-Web\"}});}</script>                <script type=\"text/javascript\">window.PlotlyConfig = {MathJaxConfig: 'local'};</script>\n",
              "        <script charset=\"utf-8\" src=\"https://cdn.plot.ly/plotly-2.24.1.min.js\"></script>                <div id=\"98f14671-9495-4345-a5ef-ebf4e53ac02a\" class=\"plotly-graph-div\" style=\"height:525px; width:100%;\"></div>            <script type=\"text/javascript\">                                    window.PLOTLYENV=window.PLOTLYENV || {};                                    if (document.getElementById(\"98f14671-9495-4345-a5ef-ebf4e53ac02a\")) {                    Plotly.newPlot(                        \"98f14671-9495-4345-a5ef-ebf4e53ac02a\",                        [{\"alignmentgroup\":\"True\",\"hovertemplate\":\"x=%{x}\\u003cbr\\u003ecount=%{y}\\u003cextra\\u003e\\u003c\\u002fextra\\u003e\",\"legendgroup\":\"\",\"marker\":{\"color\":\"#636efa\",\"pattern\":{\"shape\":\"\"}},\"name\":\"\",\"offsetgroup\":\"\",\"orientation\":\"v\",\"showlegend\":false,\"textposition\":\"auto\",\"x\":[\"LEXUS\",\"CHEVROLET\",\"HONDA\",\"FORD\",\"HONDA\",\"HYUNDAI\",\"TOYOTA\",\"HYUNDAI\",\"TOYOTA\",\"LEXUS\",\"MERCEDES-BENZ\",\"FORD\",\"OPEL\",\"LEXUS\",\"HYUNDAI\",\"TOYOTA\",\"HYUNDAI\",\"HYUNDAI\",\"HYUNDAI\",\"LEXUS\",\"HYUNDAI\",\"TOYOTA\",\"TOYOTA\",\"FORD\",\"OPEL\",\"MERCEDES-BENZ\",\"LEXUS\",\"TOYOTA\",\"HYUNDAI\",\"TOYOTA\",\"MERCEDES-BENZ\",\"PORSCHE\",\"BMW\",\"TOYOTA\",\"JEEP\",\"HYUNDAI\",\"TOYOTA\",\"HONDA\",\"HYUNDAI\",\"LEXUS\",\"TOYOTA\",\"HYUNDAI\",\"VOLKSWAGEN\",\"HYUNDAI\",\"PORSCHE\",\"TOYOTA\",\"TOYOTA\",\"HYUNDAI\",\"TOYOTA\",\"FORD\",\"HONDA\",\"AUDI\",\"RENAULT\",\"MERCEDES-BENZ\",\"AUDI\",\"MERCEDES-BENZ\",\"NISSAN\",\"BMW\",\"CHEVROLET\",\"FORD\",\"TOYOTA\",\"NISSAN\",\"MERCEDES-BENZ\",\"HYUNDAI\",\"HYUNDAI\",\"HYUNDAI\",\"HYUNDAI\",\"TOYOTA\",\"TOYOTA\",\"HYUNDAI\",\"CHEVROLET\",\"HYUNDAI\",\"HYUNDAI\",\"TOYOTA\",\"FORD\",\"MERCEDES-BENZ\",\"TOYOTA\",\"LEXUS\",\"FORD\",\"TOYOTA\",\"TOYOTA\",\"HONDA\",\"HONDA\",\"TOYOTA\",\"HYUNDAI\",\"HYUNDAI\",\"HONDA\",\"CHEVROLET\",\"CHEVROLET\",\"MERCEDES-BENZ\",\"BMW\",\"SUBARU\",\"DAEWOO\",\"HYUNDAI\",\"BMW\",\"NISSAN\",\"HONDA\",\"MERCEDES-BENZ\",\"HYUNDAI\",\"CHEVROLET\",\"PORSCHE\",\"FORD\",\"LEXUS\",\"MERCEDES-BENZ\",\"TOYOTA\",\"FORD\",\"BMW\",\"BMW\",\"KIA\",\"BMW\",\"HYUNDAI\",\"HYUNDAI\",\"MITSUBISHI\",\"MERCEDES-BENZ\",\"MITSUBISHI\",\"HONDA\",\"SSANGYONG\",\"HYUNDAI\",\"TOYOTA\",\"RENAULT\",\"MAZDA\",\"TOYOTA\",\"FORD\",\"TOYOTA\",\"HYUNDAI\",\"HYUNDAI\",\"TOYOTA\",\"MERCEDES-BENZ\",\"HYUNDAI\",\"NISSAN\",\"NISSAN\",\"TOYOTA\",\"HYUNDAI\",\"HONDA\",\"MITSUBISHI\",\"LEXUS\",\"LEXUS\",\"HYUNDAI\",\"MERCEDES-BENZ\",\"HYUNDAI\",\"CHEVROLET\",\"GMC\",\"MERCEDES-BENZ\",\"TOYOTA\",\"HONDA\",\"FIAT\",\"VOLKSWAGEN\",\"SUBARU\",\"HYUNDAI\",\"HYUNDAI\",\"TOYOTA\",\"TOYOTA\",\"HYUNDAI\",\"HYUNDAI\",\"CHEVROLET\",\"TOYOTA\",\"MERCEDES-BENZ\",\"LEXUS\",\"SSANGYONG\",\"TOYOTA\",\"TOYOTA\",\"KIA\",\"HYUNDAI\",\"OPEL\",\"INFINITI\",\"HYUNDAI\",\"VOLKSWAGEN\",\"MERCEDES-BENZ\",\"MAZDA\",\"AUDI\",\"HYUNDAI\",\"MERCEDES-BENZ\",\"TOYOTA\",\"TOYOTA\",\"HYUNDAI\",\"BMW\",\"AUDI\",\"FORD\",\"FIAT\",\"CHEVROLET\",\"OPEL\",\"MITSUBISHI\",\"NISSAN\",\"MITSUBISHI\",\"MERCEDES-BENZ\",\"VOLKSWAGEN\",\"MERCEDES-BENZ\",\"TOYOTA\",\"VOLKSWAGEN\",\"TOYOTA\",\"MERCEDES-BENZ\",\"HONDA\",\"NISSAN\",\"AUDI\",\"HYUNDAI\",\"MERCEDES-BENZ\",\"TOYOTA\",\"CHEVROLET\",\"TOYOTA\",\"FORD\",\"HYUNDAI\",\"HYUNDAI\",\"NISSAN\",\"PORSCHE\",\"ALFA ROMEO\",\"SUZUKI\",\"LEXUS\",\"TOYOTA\",\"HYUNDAI\",\"PORSCHE\",\"HYUNDAI\",\"TOYOTA\",\"HONDA\",\"TOYOTA\",\"TOYOTA\",\"TOYOTA\",\"HONDA\",\"MERCEDES-BENZ\",\"HONDA\",\"HYUNDAI\",\"VOLKSWAGEN\",\"CHEVROLET\",\"HYUNDAI\",\"TOYOTA\",\"KIA\",\"MAZDA\",\"JEEP\",\"LEXUS\",\"HYUNDAI\",\"CHEVROLET\",\"HYUNDAI\",\"OPEL\",\"TOYOTA\",\"FORD\",\"VOLKSWAGEN\",\"TOYOTA\",\"HYUNDAI\",\"HONDA\",\"TOYOTA\",\"VOLKSWAGEN\",\"VOLKSWAGEN\",\"HONDA\",\"NISSAN\",\"MAZDA\",\"MERCEDES-BENZ\",\"TOYOTA\",\"BMW\",\"LEXUS\",\"FORD\",\"HYUNDAI\",\"HYUNDAI\",\"TOYOTA\",\"HYUNDAI\",\"VOLKSWAGEN\",\"MERCEDES-BENZ\",\"TOYOTA\",\"CHEVROLET\",\"HONDA\",\"FORD\",\"HYUNDAI\",\"TOYOTA\",\"HYUNDAI\",\"MERCEDES-BENZ\",\"NISSAN\",\"FORD\",\"MERCEDES-BENZ\",\"FORD\",\"NISSAN\",\"MERCEDES-BENZ\",\"SSANGYONG\",\"FORD\",\"TOYOTA\",\"LEXUS\",\"HYUNDAI\",\"CHEVROLET\",\"TOYOTA\",\"HYUNDAI\",\"NISSAN\",\"MERCEDES-BENZ\",\"HYUNDAI\",\"MERCEDES-BENZ\",\"HYUNDAI\",\"HYUNDAI\",\"FORD\",\"HYUNDAI\",\"MERCEDES-BENZ\",\"TOYOTA\",\"MERCEDES-BENZ\",\"HYUNDAI\",\"HYUNDAI\",\"NISSAN\",\"TOYOTA\",\"OPEL\",\"CHEVROLET\",\"OPEL\",\"HYUNDAI\",\"MERCEDES-BENZ\",\"TOYOTA\",\"OPEL\",\"MAZDA\",\"CHEVROLET\",\"FORD\",\"LEXUS\",\"MERCEDES-BENZ\",\"FORD\",\"TOYOTA\",\"HYUNDAI\",\"HONDA\",\"MERCEDES-BENZ\",\"HONDA\",\"SUBARU\",\"TOYOTA\",\"MERCEDES-BENZ\",\"BMW\",\"MITSUBISHI\",\"HYUNDAI\",\"TOYOTA\",\"HYUNDAI\",\"TOYOTA\",\"NISSAN\",\"HONDA\",\"BMW\",\"TOYOTA\",\"MITSUBISHI\",\"TOYOTA\",\"SUBARU\",\"HYUNDAI\",\"MERCEDES-BENZ\",\"FORD\",\"MERCEDES-BENZ\",\"HYUNDAI\",\"HONDA\",\"CHEVROLET\",\"ACURA\",\"TOYOTA\",\"MERCEDES-BENZ\",\"HYUNDAI\",\"HYUNDAI\",\"CHEVROLET\",\"HYUNDAI\",\"BMW\",\"HYUNDAI\",\"MERCEDES-BENZ\",\"LEXUS\",\"LEXUS\",\"MERCEDES-BENZ\",\"TOYOTA\",\"DAEWOO\",\"BMW\",\"HYUNDAI\",\"HONDA\",\"HONDA\",\"HYUNDAI\",\"HONDA\",\"HYUNDAI\",\"CHEVROLET\",\"TOYOTA\",\"NISSAN\",\"HYUNDAI\",\"HYUNDAI\",\"HYUNDAI\",\"TOYOTA\",\"HYUNDAI\",\"HYUNDAI\",\"LEXUS\",\"LEXUS\",\"HYUNDAI\",\"HYUNDAI\",\"TOYOTA\",\"HYUNDAI\",\"LEXUS\",\"FORD\",\"HONDA\",\"HYUNDAI\",\"SSANGYONG\",\"MERCEDES-BENZ\",\"MERCEDES-BENZ\",\"MITSUBISHI\",\"SSANGYONG\",\"HYUNDAI\",\"HYUNDAI\",\"TOYOTA\",\"DAEWOO\",\"TOYOTA\",\"HONDA\",\"MERCEDES-BENZ\",\"VOLKSWAGEN\",\"MITSUBISHI\",\"OPEL\",\"FORD\",\"VOLKSWAGEN\",\"MITSUBISHI\",\"FORD\",\"HONDA\",\"BMW\",\"TOYOTA\",\"LEXUS\",\"MERCEDES-BENZ\",\"VOLKSWAGEN\",\"HONDA\",\"HYUNDAI\",\"TOYOTA\",\"TOYOTA\",\"AUDI\",\"LEXUS\",\"TOYOTA\",\"CHEVROLET\",\"HYUNDAI\",\"TOYOTA\",\"FORD\",\"TOYOTA\",\"HYUNDAI\",\"MERCEDES-BENZ\",\"CHEVROLET\",\"CHEVROLET\",\"LEXUS\",\"HYUNDAI\",\"LEXUS\",\"HYUNDAI\",\"SUBARU\",\"TOYOTA\",\"MERCEDES-BENZ\",\"LEXUS\",\"CHEVROLET\",\"LINCOLN\",\"BMW\",\"MERCEDES-BENZ\",\"TOYOTA\",\"LEXUS\",\"MERCEDES-BENZ\",\"TOYOTA\",\"FORD\",\"HYUNDAI\",\"HYUNDAI\",\"HYUNDAI\",\"SUZUKI\",\"HYUNDAI\",\"CHEVROLET\",\"CHEVROLET\",\"BMW\",\"TOYOTA\",\"HYUNDAI\",\"TOYOTA\",\"TOYOTA\",\"VAZ\",\"TOYOTA\",\"HYUNDAI\",\"HYUNDAI\",\"HYUNDAI\",\"FORD\",\"MERCEDES-BENZ\",\"LEXUS\",\"OPEL\",\"GAZ\",\"RENAULT\",\"KIA\",\"HYUNDAI\",\"HONDA\",\"VOLKSWAGEN\",\"MERCEDES-BENZ\",\"TOYOTA\",\"TOYOTA\",\"HONDA\",\"CHEVROLET\",\"FORD\",\"MERCEDES-BENZ\",\"SUBARU\",\"MERCEDES-BENZ\",\"BMW\",\"BMW\",\"HYUNDAI\",\"TOYOTA\",\"TOYOTA\",\"NISSAN\",\"SSANGYONG\",\"HONDA\",\"MERCEDES-BENZ\",\"TOYOTA\",\"HYUNDAI\",\"LEXUS\",\"HYUNDAI\",\"LEXUS\",\"FORD\",\"MERCEDES-BENZ\",\"MERCEDES-BENZ\",\"FORD\",\"HYUNDAI\",\"BMW\",\"LEXUS\",\"TOYOTA\",\"MERCEDES-BENZ\",\"FORD\",\"HYUNDAI\",\"CHEVROLET\",\"TOYOTA\",\"CHEVROLET\",\"HYUNDAI\",\"HYUNDAI\",\"MAZDA\",\"TOYOTA\",\"RENAULT\",\"HYUNDAI\",\"BMW\",\"LEXUS\",\"MITSUBISHI\",\"TOYOTA\",\"LEXUS\",\"MERCEDES-BENZ\",\"TOYOTA\",\"BMW\",\"TOYOTA\",\"HYUNDAI\",\"LEXUS\",\"HYUNDAI\",\"SSANGYONG\",\"BMW\",\"LEXUS\",\"BMW\",\"HYUNDAI\",\"HYUNDAI\",\"TOYOTA\",\"OPEL\",\"TOYOTA\",\"MERCEDES-BENZ\",\"TOYOTA\",\"MERCEDES-BENZ\",\"LEXUS\",\"FORD\",\"MERCEDES-BENZ\",\"AUDI\",\"FORD\",\"HYUNDAI\",\"TOYOTA\",\"SUZUKI\",\"HYUNDAI\",\"TOYOTA\",\"TOYOTA\",\"TOYOTA\",\"TOYOTA\",\"HONDA\",\"VOLKSWAGEN\",\"FORD\",\"BMW\",\"FORD\",\"TOYOTA\",\"BMW\",\"FORD\",\"HYUNDAI\",\"HONDA\",\"CITROEN\",\"NISSAN\",\"CHEVROLET\",\"KIA\",\"LEXUS\",\"FORD\",\"LAND ROVER\",\"HONDA\",\"SSANGYONG\",\"MERCEDES-BENZ\",\"TOYOTA\",\"VOLKSWAGEN\",\"MERCEDES-BENZ\",\"HONDA\",\"VOLKSWAGEN\",\"VOLKSWAGEN\",\"BMW\",\"OPEL\",\"HYUNDAI\",\"BMW\",\"HONDA\",\"HYUNDAI\",\"BMW\",\"VOLKSWAGEN\",\"TOYOTA\",\"MERCEDES-BENZ\",\"HONDA\",\"HYUNDAI\",\"TOYOTA\",\"TOYOTA\",\"TOYOTA\",\"MERCEDES-BENZ\",\"DAEWOO\",\"FORD\",\"HYUNDAI\",\"FORD\",\"HONDA\",\"MINI\",\"OPEL\",\"HYUNDAI\",\"TOYOTA\",\"BMW\",\"DODGE\",\"MERCEDES-BENZ\",\"MERCEDES-BENZ\",\"BMW\",\"MERCEDES-BENZ\",\"LEXUS\",\"HYUNDAI\",\"LEXUS\",\"TOYOTA\",\"HYUNDAI\",\"AUDI\",\"TOYOTA\",\"HYUNDAI\",\"KIA\",\"MERCEDES-BENZ\",\"HYUNDAI\",\"AUDI\",\"TOYOTA\",\"HYUNDAI\",\"CHEVROLET\",\"BMW\",\"TOYOTA\",\"TOYOTA\",\"TOYOTA\",\"HYUNDAI\",\"HYUNDAI\",\"TOYOTA\",\"HYUNDAI\",\"FORD\",\"HYUNDAI\",\"BMW\",\"HYUNDAI\",\"TOYOTA\",\"MERCEDES-BENZ\",\"LEXUS\",\"TOYOTA\",\"HYUNDAI\",\"TOYOTA\",\"MITSUBISHI\",\"LEXUS\",\"MERCEDES-BENZ\",\"BMW\",\"TOYOTA\",\"BMW\",\"HYUNDAI\",\"AUDI\",\"AUDI\",\"DAEWOO\",\"SSANGYONG\",\"HONDA\",\"MITSUBISHI\",\"SSANGYONG\",\"HONDA\",\"HYUNDAI\",\"TOYOTA\",\"HYUNDAI\",\"HONDA\",\"HYUNDAI\",\"TOYOTA\",\"FORD\",\"SSANGYONG\",\"FORD\",\"HYUNDAI\",\"HYUNDAI\",\"FORD\",\"NISSAN\",\"DAEWOO\",\"CHEVROLET\",\"HYUNDAI\",\"DAEWOO\",\"TOYOTA\",\"HONDA\",\"SSANGYONG\",\"CHEVROLET\",\"HYUNDAI\",\"MAZDA\",\"TOYOTA\",\"OPEL\",\"BMW\",\"HONDA\",\"RENAULT\",\"BMW\",\"CHEVROLET\",\"BMW\",\"FORD\",\"LEXUS\",\"CHEVROLET\",\"HYUNDAI\",\"TOYOTA\",\"NISSAN\",\"MERCEDES-BENZ\",\"SSANGYONG\",\"HYUNDAI\",\"HYUNDAI\",\"LEXUS\",\"HONDA\",\"HYUNDAI\",\"TOYOTA\",\"HYUNDAI\",\"HONDA\",\"VOLKSWAGEN\",\"TOYOTA\",\"DODGE\",\"LEXUS\",\"HYUNDAI\",\"HYUNDAI\",\"HYUNDAI\",\"HONDA\",\"LEXUS\",\"MITSUBISHI\",\"NISSAN\",\"NISSAN\",\"TOYOTA\",\"MERCEDES-BENZ\",\"MERCEDES-BENZ\",\"FORD\",\"HYUNDAI\",\"CHEVROLET\",\"TOYOTA\",\"MERCEDES-BENZ\",\"KIA\",\"TOYOTA\",\"FORD\",\"LEXUS\",\"CHEVROLET\",\"BMW\",\"LEXUS\",\"TOYOTA\",\"MERCEDES-BENZ\",\"CHEVROLET\",\"CHEVROLET\",\"HYUNDAI\",\"FORD\",\"HYUNDAI\",\"TOYOTA\",\"HYUNDAI\",\"LEXUS\",\"CHEVROLET\",\"CHEVROLET\",\"SSANGYONG\",\"KIA\",\"HYUNDAI\",\"MERCEDES-BENZ\",\"TOYOTA\",\"HYUNDAI\",\"SSANGYONG\",\"TOYOTA\",\"HYUNDAI\",\"LEXUS\",\"HYUNDAI\",\"HYUNDAI\",\"HYUNDAI\",\"FIAT\",\"HYUNDAI\",\"NISSAN\",\"MITSUBISHI\",\"HYUNDAI\",\"AUDI\",\"MITSUBISHI\",\"FORD\",\"MERCEDES-BENZ\",\"CHEVROLET\",\"MERCEDES-BENZ\",\"HYUNDAI\",\"BMW\",\"VOLKSWAGEN\",\"TOYOTA\",\"NISSAN\",\"MINI\",\"TOYOTA\",\"HYUNDAI\",\"TOYOTA\",\"HYUNDAI\",\"MERCEDES-BENZ\",\"FORD\",\"HYUNDAI\",\"MERCEDES-BENZ\",\"CHEVROLET\",\"NISSAN\",\"HYUNDAI\",\"NISSAN\",\"MERCEDES-BENZ\",\"MERCEDES-BENZ\",\"HYUNDAI\",\"HYUNDAI\",\"HYUNDAI\",\"TOYOTA\",\"TOYOTA\",\"NISSAN\",\"BMW\",\"AUDI\",\"SUBARU\",\"AUDI\",\"HYUNDAI\",\"HYUNDAI\",\"HYUNDAI\",\"NISSAN\",\"HYUNDAI\",\"LEXUS\",\"HYUNDAI\",\"SUBARU\",\"HONDA\",\"MERCEDES-BENZ\",\"BMW\",\"HYUNDAI\",\"NISSAN\",\"MINI\",\"TOYOTA\",\"TOYOTA\",\"HYUNDAI\",\"CHEVROLET\",\"TOYOTA\",\"NISSAN\",\"FORD\",\"BMW\",\"TOYOTA\",\"MERCEDES-BENZ\",\"CHEVROLET\",\"HONDA\",\"FORD\",\"CHEVROLET\",\"TOYOTA\",\"DODGE\",\"HYUNDAI\",\"MERCEDES-BENZ\",\"TOYOTA\",\"HYUNDAI\",\"HYUNDAI\",\"VOLKSWAGEN\",\"MAZDA\",\"NISSAN\",\"VOLKSWAGEN\",\"CHRYSLER\",\"HYUNDAI\",\"HONDA\",\"TOYOTA\",\"VOLKSWAGEN\",\"LEXUS\",\"TOYOTA\",\"NISSAN\",\"TOYOTA\",\"TOYOTA\",\"CHEVROLET\",\"HYUNDAI\",\"JAGUAR\",\"HYUNDAI\",\"TOYOTA\",\"CHEVROLET\",\"MERCEDES-BENZ\",\"CHEVROLET\",\"HYUNDAI\",\"HYUNDAI\",\"HYUNDAI\",\"TOYOTA\",\"TOYOTA\",\"AUDI\",\"LEXUS\",\"MERCEDES-BENZ\",\"HYUNDAI\",\"TOYOTA\",\"FORD\",\"BMW\",\"BMW\",\"MERCEDES-BENZ\",\"TOYOTA\",\"FORD\",\"CHEVROLET\",\"DAEWOO\",\"FORD\",\"LAND ROVER\",\"TOYOTA\",\"HYUNDAI\",\"TOYOTA\",\"NISSAN\",\"HYUNDAI\",\"MERCEDES-BENZ\",\"LEXUS\",\"LEXUS\",\"TOYOTA\",\"FORD\",\"CHEVROLET\",\"LEXUS\",\"HONDA\",\"HYUNDAI\",\"JEEP\",\"HYUNDAI\",\"MITSUBISHI\",\"LEXUS\",\"HYUNDAI\",\"FORD\",\"HYUNDAI\",\"TOYOTA\",\"FORD\",\"SUBARU\",\"MERCEDES-BENZ\",\"SUBARU\",\"BMW\",\"FORD\",\"TOYOTA\",\"TOYOTA\",\"TOYOTA\",\"HONDA\",\"OPEL\",\"TOYOTA\",\"NISSAN\",\"NISSAN\",\"NISSAN\",\"HYUNDAI\",\"TOYOTA\",\"MERCEDES-BENZ\",\"TOYOTA\",\"HYUNDAI\",\"TOYOTA\",\"TOYOTA\",\"CHEVROLET\",\"TOYOTA\",\"HONDA\",\"HYUNDAI\",\"KIA\",\"HYUNDAI\",\"MITSUBISHI\",\"MAZDA\",\"FORD\",\"BMW\",\"KIA\",\"TOYOTA\",\"HYUNDAI\",\"SUBARU\",\"LEXUS\",\"SSANGYONG\",\"HONDA\",\"LEXUS\",\"CHEVROLET\",\"FORD\",\"BMW\",\"TOYOTA\",\"TOYOTA\",\"MERCEDES-BENZ\",\"BMW\",\"TOYOTA\",\"LEXUS\",\"FORD\",\"FORD\",\"KIA\",\"HYUNDAI\",\"BMW\",\"TOYOTA\",\"HONDA\",\"LEXUS\",\"MERCEDES-BENZ\",\"BMW\",\"ISUZU\",\"HYUNDAI\",\"MITSUBISHI\",\"TOYOTA\",\"TOYOTA\",\"HONDA\",\"KIA\",\"AUDI\",\"VOLKSWAGEN\",\"HYUNDAI\",\"HYUNDAI\",\"BMW\",\"BMW\",\"NISSAN\",\"HYUNDAI\",\"NISSAN\",\"HYUNDAI\",\"HONDA\",\"AUDI\",\"TOYOTA\",\"FORD\",\"HONDA\",\"CHEVROLET\",\"HONDA\",\"TOYOTA\",\"DAEWOO\",\"MERCEDES-BENZ\",\"HYUNDAI\",\"TOYOTA\",\"TOYOTA\",\"KIA\",\"HONDA\",\"TOYOTA\",\"CHEVROLET\",\"TOYOTA\",\"OPEL\",\"LEXUS\",\"TOYOTA\",\"HYUNDAI\",\"VOLKSWAGEN\",\"HYUNDAI\",\"DODGE\",\"TOYOTA\",\"OPEL\",\"MERCEDES-BENZ\",\"TOYOTA\",\"HONDA\",\"DODGE\",\"HONDA\",\"FORD\",\"CHEVROLET\",\"HYUNDAI\",\"TOYOTA\",\"HYUNDAI\",\"OPEL\",\"VOLKSWAGEN\",\"LEXUS\",\"TOYOTA\",\"CHEVROLET\",\"TOYOTA\",\"ACURA\",\"TOYOTA\",\"HYUNDAI\",\"FORD\",\"BMW\",\"SSANGYONG\",\"LEXUS\",\"MERCEDES-BENZ\",\"NISSAN\",\"HYUNDAI\",\"HYUNDAI\",\"MERCEDES-BENZ\",\"CHEVROLET\",\"HYUNDAI\",\"FORD\",\"LEXUS\",\"HYUNDAI\",\"SSANGYONG\",\"AUDI\",\"TOYOTA\",\"MERCEDES-BENZ\",\"FORD\",\"HONDA\",\"SSANGYONG\",\"TOYOTA\",\"TOYOTA\",\"TOYOTA\",\"MITSUBISHI\",\"TOYOTA\",\"HYUNDAI\",\"HYUNDAI\",\"HYUNDAI\",\"LEXUS\",\"TOYOTA\",\"CHEVROLET\",\"CHEVROLET\",\"TOYOTA\",\"HYUNDAI\",\"HONDA\",\"BMW\",\"HYUNDAI\",\"HYUNDAI\",\"TOYOTA\",\"HYUNDAI\",\"MERCEDES-BENZ\",\"HYUNDAI\",\"TOYOTA\",\"HYUNDAI\",\"HYUNDAI\",\"HYUNDAI\",\"VOLKSWAGEN\",\"TOYOTA\",\"MERCEDES-BENZ\",\"HYUNDAI\",\"NISSAN\",\"CHEVROLET\",\"KIA\",\"BMW\",\"BMW\",\"KIA\",\"KIA\",\"TOYOTA\",\"TOYOTA\",\"MERCEDES-BENZ\",\"BMW\",\"HYUNDAI\",\"JEEP\",\"HONDA\",\"CHEVROLET\",\"MITSUBISHI\",\"BMW\",\"MERCEDES-BENZ\",\"MAZDA\",\"TOYOTA\",\"DODGE\",\"HYUNDAI\",\"SSANGYONG\",\"CHEVROLET\",\"HONDA\",\"HYUNDAI\",\"OPEL\",\"HYUNDAI\",\"HYUNDAI\",\"JEEP\",\"HYUNDAI\",\"TOYOTA\",\"MERCEDES-BENZ\",\"TOYOTA\",\"TOYOTA\",\"TOYOTA\",\"NISSAN\",\"NISSAN\",\"TOYOTA\",\"HYUNDAI\",\"HYUNDAI\",\"MERCEDES-BENZ\",\"TOYOTA\",\"TOYOTA\",\"OPEL\",\"TOYOTA\",\"TOYOTA\",\"HYUNDAI\",\"HYUNDAI\",\"CHEVROLET\",\"MERCEDES-BENZ\",\"CHEVROLET\",\"TOYOTA\",\"HYUNDAI\",\"HONDA\",\"TOYOTA\",\"BMW\",\"LEXUS\",\"LEXUS\",\"CHEVROLET\",\"TOYOTA\",\"MERCEDES-BENZ\",\"MERCEDES-BENZ\",\"MERCEDES-BENZ\",\"FORD\",\"MERCEDES-BENZ\",\"MERCEDES-BENZ\",\"FORD\",\"BMW\",\"OPEL\",\"FORD\",\"LEXUS\",\"JEEP\",\"TOYOTA\",\"FORD\",\"HYUNDAI\",\"SUBARU\",\"TOYOTA\",\"FORD\",\"BMW\",\"MITSUBISHI\",\"MERCEDES-BENZ\",\"LEXUS\",\"TOYOTA\",\"MITSUBISHI\",\"NISSAN\",\"VOLKSWAGEN\",\"TOYOTA\",\"TOYOTA\",\"FORD\",\"JEEP\",\"OPEL\",\"HONDA\",\"HONDA\",\"HYUNDAI\",\"FORD\",\"MITSUBISHI\",\"TOYOTA\",\"VOLKSWAGEN\",\"PORSCHE\",\"VOLKSWAGEN\",\"VOLKSWAGEN\",\"SSANGYONG\",\"HYUNDAI\",\"HYUNDAI\",\"TOYOTA\",\"TOYOTA\",\"LEXUS\",\"TOYOTA\",\"MERCEDES-BENZ\",\"CHEVROLET\",\"SSANGYONG\",\"NISSAN\",\"HONDA\",\"HYUNDAI\",\"HYUNDAI\",\"HYUNDAI\",\"TOYOTA\",\"TOYOTA\",\"NISSAN\",\"VOLKSWAGEN\",\"SSANGYONG\",\"TOYOTA\",\"HONDA\",\"MERCEDES-BENZ\",\"OPEL\",\"NISSAN\",\"HONDA\",\"HONDA\",\"TOYOTA\",\"KIA\",\"TOYOTA\",\"MINI\",\"SSANGYONG\",\"VAZ\",\"HYUNDAI\",\"NISSAN\",\"FIAT\",\"NISSAN\",\"NISSAN\",\"HYUNDAI\",\"TOYOTA\",\"OPEL\",\"DAEWOO\",\"HYUNDAI\",\"MITSUBISHI\",\"FORD\",\"HYUNDAI\",\"HONDA\",\"TOYOTA\",\"HYUNDAI\",\"JAGUAR\",\"FORD\",\"HYUNDAI\",\"KIA\",\"BMW\",\"HYUNDAI\",\"SSANGYONG\",\"MERCEDES-BENZ\",\"TOYOTA\",\"TOYOTA\",\"SSANGYONG\",\"MITSUBISHI\",\"HYUNDAI\",\"LEXUS\",\"SKODA\",\"TOYOTA\",\"HYUNDAI\",\"SUBARU\",\"TOYOTA\",\"TOYOTA\",\"CHEVROLET\",\"TOYOTA\",\"MITSUBISHI\",\"VOLKSWAGEN\",\"TOYOTA\",\"MAZDA\",\"NISSAN\",\"TOYOTA\",\"TOYOTA\",\"TOYOTA\",\"TOYOTA\",\"HYUNDAI\",\"FORD\",\"HYUNDAI\",\"LAND ROVER\",\"TOYOTA\",\"TOYOTA\",\"HYUNDAI\",\"TOYOTA\",\"TOYOTA\",\"JEEP\",\"FORD\",\"HYUNDAI\",\"FORD\",\"HYUNDAI\",\"SSANGYONG\",\"HONDA\",\"NISSAN\",\"HYUNDAI\",\"TOYOTA\",\"NISSAN\",\"KIA\",\"VOLKSWAGEN\",\"FORD\",\"TOYOTA\",\"HYUNDAI\",\"KIA\",\"TOYOTA\",\"TOYOTA\",\"HYUNDAI\",\"HYUNDAI\",\"CHEVROLET\",\"FORD\",\"HYUNDAI\",\"MITSUBISHI\",\"TOYOTA\",\"TOYOTA\",\"HONDA\",\"HYUNDAI\",\"HYUNDAI\",\"TOYOTA\",\"NISSAN\",\"VOLKSWAGEN\",\"BMW\",\"NISSAN\",\"CHEVROLET\",\"HYUNDAI\",\"MERCEDES-BENZ\",\"HYUNDAI\",\"MERCEDES-BENZ\",\"MERCEDES-BENZ\",\"LINCOLN\",\"MERCEDES-BENZ\",\"MITSUBISHI\",\"TOYOTA\",\"TOYOTA\",\"MITSUBISHI\",\"TOYOTA\",\"OPEL\",\"TOYOTA\",\"MERCEDES-BENZ\",\"NISSAN\",\"LEXUS\",\"GMC\",\"MITSUBISHI\",\"HONDA\",\"CHEVROLET\",\"HYUNDAI\",\"CHEVROLET\",\"HYUNDAI\",\"FORD\",\"NISSAN\",\"FORD\",\"TOYOTA\",\"HYUNDAI\",\"FORD\",\"HONDA\",\"TOYOTA\",\"HYUNDAI\",\"TOYOTA\",\"HONDA\",\"MERCEDES-BENZ\",\"TOYOTA\",\"NISSAN\",\"MERCEDES-BENZ\",\"SSANGYONG\",\"TOYOTA\",\"TOYOTA\",\"HYUNDAI\",\"FORD\",\"HYUNDAI\",\"MERCEDES-BENZ\",\"LEXUS\",\"LEXUS\",\"HYUNDAI\",\"BMW\",\"NISSAN\",\"HONDA\",\"MERCEDES-BENZ\",\"HYUNDAI\",\"TOYOTA\",\"BMW\",\"DAEWOO\",\"HYUNDAI\",\"KIA\",\"HYUNDAI\",\"MERCEDES-BENZ\",\"TOYOTA\",\"PORSCHE\",\"MERCEDES-BENZ\",\"MERCEDES-BENZ\",\"TOYOTA\",\"TOYOTA\",\"LEXUS\",\"HYUNDAI\",\"NISSAN\",\"VOLKSWAGEN\",\"MERCEDES-BENZ\",\"TOYOTA\",\"LEXUS\",\"BMW\",\"SUBARU\",\"TOYOTA\",\"HYUNDAI\",\"CHEVROLET\",\"HYUNDAI\",\"HYUNDAI\",\"BMW\",\"SSANGYONG\",\"TOYOTA\",\"HYUNDAI\",\"HYUNDAI\",\"HONDA\",\"TOYOTA\",\"HONDA\",\"TOYOTA\",\"MERCEDES-BENZ\",\"SSANGYONG\",\"FORD\",\"CHEVROLET\",\"HYUNDAI\",\"HYUNDAI\",\"LEXUS\",\"HONDA\",\"TOYOTA\",\"FORD\",\"VOLKSWAGEN\",\"HYUNDAI\",\"TOYOTA\",\"MERCEDES-BENZ\",\"TOYOTA\",\"FORD\",\"BMW\",\"BMW\",\"CHEVROLET\",\"LEXUS\",\"HYUNDAI\",\"KIA\",\"HYUNDAI\",\"HYUNDAI\",\"MERCEDES-BENZ\",\"TOYOTA\",\"MERCEDES-BENZ\",\"HYUNDAI\",\"TOYOTA\",\"MERCEDES-BENZ\",\"NISSAN\",\"OPEL\",\"HONDA\",\"TOYOTA\",\"TOYOTA\",\"SSANGYONG\",\"CHEVROLET\",\"BMW\",\"BMW\",\"CHEVROLET\",\"HYUNDAI\",\"TOYOTA\",\"CHEVROLET\",\"BMW\",\"HONDA\",\"LEXUS\",\"CHEVROLET\",\"HONDA\",\"HONDA\",\"MERCEDES-BENZ\",\"OPEL\",\"MERCEDES-BENZ\",\"MERCEDES-BENZ\",\"RENAULT\",\"MERCEDES-BENZ\",\"NISSAN\",\"TOYOTA\",\"HYUNDAI\",\"TOYOTA\",\"TOYOTA\",\"BMW\",\"TOYOTA\",\"HYUNDAI\",\"ACURA\",\"MINI\",\"HONDA\",\"HYUNDAI\",\"FORD\",\"TOYOTA\",\"MERCEDES-BENZ\",\"TOYOTA\",\"LEXUS\",\"JEEP\",\"LEXUS\",\"TOYOTA\",\"MAZDA\",\"HYUNDAI\",\"HYUNDAI\",\"VOLKSWAGEN\",\"SSANGYONG\",\"TOYOTA\",\"MERCEDES-BENZ\",\"DAIHATSU\",\"BMW\",\"TOYOTA\",\"HYUNDAI\",\"HYUNDAI\",\"HYUNDAI\",\"KIA\",\"FORD\",\"HYUNDAI\",\"TOYOTA\",\"BMW\",\"MERCEDES-BENZ\",\"HYUNDAI\",\"HONDA\",\"CHEVROLET\",\"HYUNDAI\",\"TOYOTA\",\"LAND ROVER\",\"VOLKSWAGEN\",\"TOYOTA\",\"JEEP\",\"MERCEDES-BENZ\",\"HONDA\",\"FORD\",\"SSANGYONG\",\"HYUNDAI\",\"HYUNDAI\",\"CHEVROLET\",\"MITSUBISHI\",\"HYUNDAI\",\"FORD\",\"DODGE\",\"HYUNDAI\",\"TOYOTA\",\"HYUNDAI\",\"CHEVROLET\",\"MERCEDES-BENZ\",\"HYUNDAI\",\"HYUNDAI\",\"LEXUS\",\"MERCEDES-BENZ\",\"TOYOTA\",\"TOYOTA\",\"TOYOTA\",\"MERCEDES-BENZ\",\"HONDA\",\"BMW\",\"HYUNDAI\",\"MERCEDES-BENZ\",\"TOYOTA\",\"TOYOTA\",\"HYUNDAI\",\"TOYOTA\",\"CHEVROLET\",\"MERCEDES-BENZ\",\"MERCEDES-BENZ\",\"KIA\",\"TOYOTA\",\"MINI\",\"NISSAN\",\"SUBARU\",\"FORD\",\"SSANGYONG\",\"TOYOTA\",\"HYUNDAI\",\"HYUNDAI\",\"MERCEDES-BENZ\",\"HONDA\",\"CHRYSLER\",\"HYUNDAI\",\"OPEL\",\"HYUNDAI\",\"FORD\",\"HYUNDAI\",\"HYUNDAI\",\"HONDA\",\"MERCEDES-BENZ\",\"TOYOTA\",\"HYUNDAI\",\"HYUNDAI\",\"HYUNDAI\",\"SUBARU\",\"MERCEDES-BENZ\",\"MERCEDES-BENZ\",\"TOYOTA\",\"CHEVROLET\",\"TOYOTA\",\"BMW\",\"HYUNDAI\",\"TOYOTA\",\"TOYOTA\",\"VOLKSWAGEN\",\"LEXUS\",\"MERCEDES-BENZ\",\"TOYOTA\",\"OPEL\",\"TOYOTA\",\"HYUNDAI\",\"CHEVROLET\",\"FORD\",\"LEXUS\",\"BMW\",\"AUDI\",\"FORD\",\"LEXUS\",\"HYUNDAI\",\"FIAT\",\"MERCEDES-BENZ\",\"TOYOTA\",\"MERCEDES-BENZ\",\"TOYOTA\",\"HYUNDAI\",\"TOYOTA\",\"TOYOTA\",\"FORD\",\"HYUNDAI\",\"TOYOTA\",\"MERCEDES-BENZ\",\"TOYOTA\",\"OPEL\",\"HYUNDAI\",\"LEXUS\",\"OPEL\",\"HYUNDAI\",\"LEXUS\",\"CHEVROLET\",\"TOYOTA\",\"NISSAN\",\"TOYOTA\",\"HONDA\",\"HONDA\",\"HYUNDAI\",\"VOLKSWAGEN\",\"NISSAN\",\"HYUNDAI\",\"CHEVROLET\",\"TOYOTA\",\"CHEVROLET\",\"MERCEDES-BENZ\",\"FORD\",\"MERCEDES-BENZ\",\"LINCOLN\",\"BMW\",\"HYUNDAI\",\"HYUNDAI\",\"HYUNDAI\",\"TOYOTA\",\"HONDA\",\"CHEVROLET\",\"HYUNDAI\",\"TOYOTA\",\"CHEVROLET\",\"HONDA\",\"LEXUS\",\"HYUNDAI\",\"CHEVROLET\",\"CHEVROLET\",\"TOYOTA\",\"MINI\",\"TOYOTA\",\"HYUNDAI\",\"CHEVROLET\",\"NISSAN\",\"TOYOTA\",\"HYUNDAI\",\"SUBARU\",\"SUBARU\",\"TOYOTA\",\"MERCEDES-BENZ\",\"HYUNDAI\",\"CHEVROLET\",\"MERCEDES-BENZ\",\"HONDA\",\"MERCEDES-BENZ\",\"HYUNDAI\",\"TOYOTA\",\"TOYOTA\",\"LEXUS\",\"HONDA\",\"SUZUKI\",\"LEXUS\",\"TOYOTA\",\"FORD\",\"TOYOTA\",\"BMW\",\"HYUNDAI\",\"HYUNDAI\",\"HYUNDAI\",\"TOYOTA\",\"LEXUS\",\"MERCEDES-BENZ\",\"HYUNDAI\",\"TOYOTA\",\"CHEVROLET\",\"TOYOTA\",\"TOYOTA\",\"HYUNDAI\",\"LEXUS\",\"MAZDA\",\"SSANGYONG\",\"MERCEDES-BENZ\",\"LEXUS\",\"MERCEDES-BENZ\",\"LEXUS\",\"TOYOTA\",\"LEXUS\",\"HYUNDAI\",\"CHEVROLET\",\"FORD\",\"HYUNDAI\",\"BMW\",\"BUICK\",\"HONDA\",\"MITSUBISHI\",\"HYUNDAI\",\"CHEVROLET\",\"JEEP\",\"TOYOTA\",\"NISSAN\",\"CHEVROLET\",\"FORD\",\"MAZDA\",\"FORD\",\"TOYOTA\",\"TOYOTA\",\"HONDA\",\"HYUNDAI\",\"SUBARU\",\"FORD\",\"SSANGYONG\",\"HYUNDAI\",\"LEXUS\",\"BMW\",\"HONDA\",\"HYUNDAI\",\"HYUNDAI\",\"HONDA\",\"OPEL\",\"MERCEDES-BENZ\",\"HONDA\",\"MERCEDES-BENZ\",\"TOYOTA\",\"HONDA\",\"SSANGYONG\",\"HYUNDAI\",\"HYUNDAI\",\"SUBARU\",\"HYUNDAI\",\"OPEL\",\"TOYOTA\",\"TOYOTA\",\"HYUNDAI\",\"BMW\",\"HYUNDAI\",\"LEXUS\",\"TOYOTA\",\"HYUNDAI\",\"OPEL\",\"TOYOTA\",\"HYUNDAI\",\"CHEVROLET\",\"DODGE\",\"BMW\",\"LEXUS\",\"MERCEDES-BENZ\",\"TOYOTA\",\"HYUNDAI\",\"AUDI\",\"NISSAN\",\"FORD\",\"MAZDA\",\"TOYOTA\",\"TOYOTA\",\"MERCEDES-BENZ\",\"TOYOTA\",\"VOLKSWAGEN\",\"MERCEDES-BENZ\",\"HYUNDAI\",\"HYUNDAI\",\"BMW\",\"HYUNDAI\",\"TOYOTA\",\"TOYOTA\",\"TOYOTA\",\"NISSAN\",\"HONDA\",\"HYUNDAI\",\"OPEL\",\"SUBARU\",\"MERCEDES-BENZ\",\"TOYOTA\",\"MERCEDES-BENZ\",\"HYUNDAI\",\"LEXUS\",\"MERCEDES-BENZ\",\"TOYOTA\",\"TOYOTA\",\"BMW\",\"CHEVROLET\",\"MERCEDES-BENZ\",\"MERCEDES-BENZ\",\"CHEVROLET\",\"DAEWOO\",\"NISSAN\",\"FORD\",\"HONDA\",\"TOYOTA\",\"JEEP\",\"SSANGYONG\",\"TOYOTA\",\"SSANGYONG\",\"TOYOTA\",\"TOYOTA\",\"MERCEDES-BENZ\",\"HYUNDAI\",\"NISSAN\",\"FORD\",\"SUZUKI\",\"TOYOTA\",\"FORD\",\"VOLKSWAGEN\",\"VOLKSWAGEN\",\"MERCEDES-BENZ\",\"HYUNDAI\",\"VOLKSWAGEN\",\"TOYOTA\",\"HONDA\",\"HYUNDAI\",\"CHEVROLET\",\"LEXUS\",\"HYUNDAI\",\"TOYOTA\",\"MERCEDES-BENZ\",\"HYUNDAI\",\"HYUNDAI\",\"FORD\",\"HYUNDAI\",\"HYUNDAI\",\"PORSCHE\",\"SUBARU\",\"NISSAN\",\"MERCEDES-BENZ\",\"TOYOTA\",\"HYUNDAI\",\"TOYOTA\",\"HYUNDAI\",\"TOYOTA\",\"HYUNDAI\",\"SUBARU\",\"LEXUS\",\"BMW\",\"LEXUS\",\"MITSUBISHI\",\"TOYOTA\",\"OPEL\",\"CHEVROLET\",\"HYUNDAI\",\"NISSAN\",\"HYUNDAI\",\"VOLKSWAGEN\",\"SSANGYONG\",\"HYUNDAI\",\"BMW\",\"MAZDA\",\"HYUNDAI\",\"SUZUKI\",\"MERCEDES-BENZ\",\"HYUNDAI\",\"MERCEDES-BENZ\",\"SUZUKI\",\"TOYOTA\",\"KIA\",\"TOYOTA\",\"SUBARU\",\"BMW\",\"LEXUS\",\"MERCEDES-BENZ\",\"BMW\",\"TOYOTA\",\"MITSUBISHI\",\"TOYOTA\",\"KIA\",\"OPEL\",\"TOYOTA\",\"LEXUS\",\"TOYOTA\",\"KIA\",\"CHEVROLET\",\"VOLKSWAGEN\",\"HYUNDAI\",\"HONDA\",\"MITSUBISHI\",\"TOYOTA\",\"HYUNDAI\",\"DAEWOO\",\"HYUNDAI\",\"BMW\",\"BMW\",\"HYUNDAI\",\"LEXUS\",\"MAZDA\",\"NISSAN\",\"FORD\",\"TOYOTA\",\"TOYOTA\",\"TOYOTA\",\"TOYOTA\",\"HYUNDAI\",\"TOYOTA\",\"AUDI\",\"TOYOTA\",\"HYUNDAI\",\"BUICK\",\"TOYOTA\",\"FORD\",\"HYUNDAI\",\"HYUNDAI\",\"TOYOTA\",\"MERCEDES-BENZ\",\"TOYOTA\",\"HYUNDAI\",\"CHEVROLET\",\"JEEP\",\"JEEP\",\"LEXUS\",\"MERCEDES-BENZ\",\"LEXUS\",\"TOYOTA\",\"TOYOTA\",\"CHEVROLET\",\"KIA\",\"OPEL\",\"VOLKSWAGEN\",\"HYUNDAI\",\"KIA\",\"TOYOTA\",\"TOYOTA\",\"LEXUS\",\"TOYOTA\",\"BMW\",\"HYUNDAI\",\"VOLKSWAGEN\",\"MERCEDES-BENZ\",\"HONDA\",\"MAZDA\",\"TOYOTA\",\"TOYOTA\",\"HYUNDAI\",\"HYUNDAI\",\"NISSAN\",\"HYUNDAI\",\"TOYOTA\",\"BMW\",\"CHEVROLET\",\"FORD\",\"TOYOTA\",\"CHEVROLET\",\"FORD\",\"HYUNDAI\",\"OPEL\",\"AUDI\",\"FORD\",\"HYUNDAI\",\"HYUNDAI\",\"JAGUAR\",\"TOYOTA\",\"MITSUBISHI\",\"MERCEDES-BENZ\",\"CHEVROLET\",\"HONDA\",\"HYUNDAI\",\"TOYOTA\",\"HYUNDAI\",\"TOYOTA\",\"TOYOTA\",\"CHEVROLET\",\"MERCEDES-BENZ\",\"BMW\",\"HYUNDAI\",\"MERCEDES-BENZ\",\"TOYOTA\",\"CHEVROLET\",\"HYUNDAI\",\"HYUNDAI\",\"HONDA\",\"HONDA\",\"FORD\",\"LINCOLN\",\"NISSAN\",\"LEXUS\",\"TOYOTA\",\"MERCEDES-BENZ\",\"HONDA\",\"CHEVROLET\",\"MERCEDES-BENZ\",\"LEXUS\",\"HYUNDAI\",\"MERCEDES-BENZ\",\"MERCEDES-BENZ\",\"TOYOTA\",\"TOYOTA\",\"HYUNDAI\",\"SSANGYONG\",\"MITSUBISHI\",\"KIA\",\"MERCEDES-BENZ\",\"TOYOTA\",\"FORD\",\"OPEL\",\"TOYOTA\",\"CHRYSLER\",\"SUBARU\",\"HYUNDAI\",\"VOLKSWAGEN\",\"MERCEDES-BENZ\",\"LEXUS\",\"HYUNDAI\",\"MERCEDES-BENZ\",\"TOYOTA\",\"SUBARU\",\"HYUNDAI\",\"CHEVROLET\",\"OPEL\",\"BMW\",\"TOYOTA\",\"MERCEDES-BENZ\",\"HYUNDAI\",\"MERCEDES-BENZ\",\"SUBARU\",\"OPEL\",\"HYUNDAI\",\"HYUNDAI\",\"CHEVROLET\",\"TOYOTA\",\"MAZDA\",\"TESLA\",\"SSANGYONG\",\"MAZDA\",\"FORD\",\"TOYOTA\",\"HYUNDAI\",\"TOYOTA\",\"BMW\",\"HYUNDAI\",\"MERCEDES-BENZ\",\"MINI\",\"TOYOTA\",\"TOYOTA\",\"TOYOTA\",\"MERCEDES-BENZ\",\"CHEVROLET\",\"HYUNDAI\",\"VOLKSWAGEN\",\"BMW\",\"HYUNDAI\",\"SSANGYONG\",\"MITSUBISHI\",\"DAEWOO\",\"MERCEDES-BENZ\",\"MERCEDES-BENZ\",\"TOYOTA\",\"FORD\",\"LEXUS\",\"HYUNDAI\",\"VOLKSWAGEN\",\"DAEWOO\",\"MERCEDES-BENZ\",\"LEXUS\",\"KIA\",\"FORD\",\"TOYOTA\",\"OPEL\",\"MERCEDES-BENZ\",\"TOYOTA\",\"TOYOTA\",\"HYUNDAI\",\"MERCEDES-BENZ\",\"CHEVROLET\",\"TOYOTA\",\"LEXUS\",\"BMW\",\"TOYOTA\",\"CHEVROLET\",\"HYUNDAI\",\"MITSUBISHI\",\"LEXUS\",\"MAZDA\",\"AUDI\",\"OPEL\",\"VOLKSWAGEN\",\"LEXUS\",\"FORD\",\"CHEVROLET\",\"HYUNDAI\",\"TOYOTA\",\"TOYOTA\",\"MERCEDES-BENZ\",\"NISSAN\",\"CHEVROLET\",\"MERCEDES-BENZ\",\"MERCEDES-BENZ\",\"SSANGYONG\",\"FORD\",\"HYUNDAI\",\"VOLKSWAGEN\",\"NISSAN\",\"MAZDA\",\"NISSAN\",\"HYUNDAI\",\"AUDI\",\"FORD\",\"SUZUKI\",\"MERCEDES-BENZ\",\"SUBARU\",\"MERCEDES-BENZ\",\"MERCEDES-BENZ\",\"CHEVROLET\",\"TOYOTA\",\"TOYOTA\",\"HYUNDAI\",\"HYUNDAI\",\"HYUNDAI\",\"TOYOTA\",\"LEXUS\",\"FORD\",\"FORD\",\"HYUNDAI\",\"TOYOTA\",\"MERCEDES-BENZ\",\"RENAULT\",\"HYUNDAI\",\"LEXUS\",\"HYUNDAI\",\"HYUNDAI\",\"HYUNDAI\",\"SSANGYONG\",\"MERCEDES-BENZ\",\"TOYOTA\",\"BMW\",\"HYUNDAI\",\"HONDA\",\"LEXUS\",\"LEXUS\",\"HYUNDAI\",\"DAIHATSU\",\"MERCEDES-BENZ\",\"NISSAN\",\"MITSUBISHI\",\"HYUNDAI\",\"HYUNDAI\",\"MERCEDES-BENZ\",\"HYUNDAI\",\"HYUNDAI\",\"SUBARU\",\"TOYOTA\",\"CADILLAC\",\"TOYOTA\",\"MITSUBISHI\",\"KIA\",\"TOYOTA\",\"KIA\",\"MERCEDES-BENZ\",\"HYUNDAI\",\"HYUNDAI\",\"OPEL\",\"HYUNDAI\",\"MERCEDES-BENZ\",\"HYUNDAI\",\"MERCEDES-BENZ\",\"MERCEDES-BENZ\",\"HYUNDAI\",\"FORD\",\"HYUNDAI\",\"FORD\",\"TOYOTA\",\"FORD\",\"BMW\",\"CHEVROLET\",\"FORD\",\"TOYOTA\",\"TOYOTA\",\"FORD\",\"TOYOTA\",\"NISSAN\",\"SUBARU\",\"MERCEDES-BENZ\",\"HYUNDAI\",\"SUBARU\",\"BMW\",\"TOYOTA\",\"TOYOTA\",\"FIAT\",\"TOYOTA\",\"TOYOTA\",\"HYUNDAI\",\"BMW\",\"FORD\",\"OPEL\",\"VOLKSWAGEN\",\"HYUNDAI\",\"TOYOTA\",\"TOYOTA\",\"CHEVROLET\",\"MERCEDES-BENZ\",\"BMW\",\"GAZ\",\"MITSUBISHI\",\"FORD\",\"HYUNDAI\",\"HYUNDAI\",\"HYUNDAI\",\"HYUNDAI\",\"PEUGEOT\",\"HYUNDAI\",\"TOYOTA\",\"AUDI\",\"MERCEDES-BENZ\",\"TOYOTA\",\"HYUNDAI\",\"MINI\",\"CHEVROLET\",\"BMW\",\"HYUNDAI\",\"MAZDA\",\"SUZUKI\",\"HONDA\",\"TOYOTA\",\"LEXUS\",\"HONDA\",\"HYUNDAI\",\"OPEL\",\"TOYOTA\",\"HYUNDAI\",\"HONDA\",\"NISSAN\",\"KIA\",\"FORD\",\"MITSUBISHI\",\"MERCEDES-BENZ\",\"BMW\",\"MERCEDES-BENZ\",\"BMW\",\"HYUNDAI\",\"VAZ\",\"HYUNDAI\",\"MERCEDES-BENZ\",\"DAEWOO\",\"TOYOTA\",\"LEXUS\",\"HONDA\",\"TOYOTA\",\"LEXUS\",\"BMW\",\"HYUNDAI\",\"MERCEDES-BENZ\",\"TOYOTA\",\"BMW\",\"SUBARU\",\"BMW\",\"TOYOTA\",\"BMW\",\"HYUNDAI\",\"NISSAN\",\"FORD\",\"HYUNDAI\",\"MERCEDES-BENZ\",\"HYUNDAI\",\"HYUNDAI\",\"KIA\",\"CHEVROLET\",\"LEXUS\",\"TOYOTA\",\"MERCEDES-BENZ\",\"MERCEDES-BENZ\",\"MERCEDES-BENZ\",\"OPEL\",\"CHEVROLET\",\"FORD\",\"TOYOTA\",\"BMW\",\"HYUNDAI\",\"TOYOTA\",\"FORD\",\"HYUNDAI\",\"OPEL\",\"AUDI\",\"LEXUS\",\"TOYOTA\",\"TOYOTA\",\"HYUNDAI\",\"CHEVROLET\",\"TOYOTA\",\"HYUNDAI\",\"LEXUS\",\"NISSAN\",\"MERCEDES-BENZ\",\"DAEWOO\",\"TOYOTA\",\"FORD\",\"HYUNDAI\",\"MERCEDES-BENZ\",\"TOYOTA\",\"LEXUS\",\"VOLKSWAGEN\",\"TOYOTA\",\"HYUNDAI\",\"TOYOTA\",\"HYUNDAI\",\"AUDI\",\"HONDA\",\"MERCEDES-BENZ\",\"HYUNDAI\",\"LEXUS\",\"BMW\",\"BMW\",\"HYUNDAI\",\"HYUNDAI\",\"HYUNDAI\",\"TOYOTA\",\"MERCEDES-BENZ\",\"HONDA\",\"FIAT\",\"VOLVO\",\"HYUNDAI\",\"TOYOTA\",\"LEXUS\",\"TOYOTA\",\"TOYOTA\",\"NISSAN\",\"CHEVROLET\",\"HONDA\",\"LEXUS\",\"HYUNDAI\",\"MERCEDES-BENZ\",\"HYUNDAI\",\"HYUNDAI\",\"NISSAN\",\"HYUNDAI\",\"HYUNDAI\",\"TOYOTA\",\"BMW\",\"LEXUS\",\"HYUNDAI\",\"AUDI\",\"TOYOTA\",\"BMW\",\"MINI\",\"TOYOTA\",\"TOYOTA\",\"HYUNDAI\",\"MERCEDES-BENZ\",\"TOYOTA\",\"HYUNDAI\",\"CHEVROLET\",\"TOYOTA\",\"TOYOTA\",\"HYUNDAI\",\"MITSUBISHI\",\"CHEVROLET\",\"TOYOTA\",\"SUBARU\",\"MAZDA\",\"CHEVROLET\",\"FORD\",\"HYUNDAI\",\"BMW\",\"AUDI\",\"TOYOTA\",\"TOYOTA\",\"MERCEDES-BENZ\",\"VOLKSWAGEN\",\"OPEL\",\"MERCEDES-BENZ\",\"BMW\",\"TOYOTA\",\"VOLKSWAGEN\",\"TOYOTA\",\"HONDA\",\"BMW\",\"HYUNDAI\",\"\\u10e1\\u10ee\\u10d5\\u10d0\",\"TOYOTA\",\"MERCEDES-BENZ\",\"TOYOTA\",\"MERCEDES-BENZ\",\"LEXUS\",\"BMW\",\"LAND ROVER\",\"CHEVROLET\",\"TOYOTA\",\"HYUNDAI\",\"NISSAN\",\"TOYOTA\",\"HYUNDAI\",\"BMW\",\"LEXUS\",\"CHEVROLET\",\"TOYOTA\",\"FORD\",\"HYUNDAI\",\"HYUNDAI\",\"MERCEDES-BENZ\",\"MERCEDES-BENZ\",\"MAZDA\",\"TOYOTA\",\"HYUNDAI\",\"MITSUBISHI\",\"SUBARU\",\"TOYOTA\",\"MINI\",\"TOYOTA\",\"VOLKSWAGEN\",\"HYUNDAI\",\"KIA\",\"HYUNDAI\",\"TOYOTA\",\"OPEL\",\"VAZ\",\"TOYOTA\",\"MERCEDES-BENZ\",\"TOYOTA\",\"MERCEDES-BENZ\",\"HONDA\",\"TOYOTA\",\"MERCEDES-BENZ\",\"HYUNDAI\",\"HONDA\",\"MERCEDES-BENZ\",\"BMW\",\"BMW\",\"KIA\",\"TOYOTA\",\"HYUNDAI\",\"LEXUS\",\"FORD\",\"TOYOTA\",\"KIA\",\"MERCEDES-BENZ\",\"TOYOTA\",\"GMC\",\"CHEVROLET\",\"TOYOTA\",\"HYUNDAI\",\"TOYOTA\",\"HYUNDAI\",\"MERCEDES-BENZ\",\"TOYOTA\",\"TOYOTA\",\"BMW\",\"VOLKSWAGEN\",\"TOYOTA\",\"LEXUS\",\"FORD\",\"SSANGYONG\",\"TOYOTA\",\"HYUNDAI\",\"RENAULT\",\"TOYOTA\",\"BMW\",\"HYUNDAI\",\"MITSUBISHI\",\"CHEVROLET\",\"HYUNDAI\",\"FORD\",\"FIAT\",\"CHEVROLET\",\"TOYOTA\",\"FORD\",\"TOYOTA\",\"TOYOTA\",\"FORD\",\"MERCEDES-BENZ\",\"TOYOTA\",\"HYUNDAI\",\"FORD\",\"MAZDA\",\"FORD\",\"KIA\",\"TOYOTA\",\"HYUNDAI\",\"HYUNDAI\",\"VOLKSWAGEN\",\"TOYOTA\",\"TOYOTA\",\"JEEP\",\"HYUNDAI\",\"CHRYSLER\",\"CHEVROLET\",\"LEXUS\",\"LEXUS\",\"TOYOTA\",\"TOYOTA\",\"JAGUAR\",\"MITSUBISHI\",\"SUZUKI\",\"HYUNDAI\",\"VOLKSWAGEN\",\"MERCEDES-BENZ\",\"FORD\",\"TOYOTA\",\"JEEP\",\"HYUNDAI\",\"TOYOTA\",\"CHEVROLET\",\"PORSCHE\",\"CHEVROLET\",\"VOLKSWAGEN\",\"HONDA\",\"SSANGYONG\",\"TOYOTA\",\"TOYOTA\",\"HONDA\",\"FORD\",\"LEXUS\",\"AUDI\",\"FORD\",\"LEXUS\",\"HAVAL\",\"VOLKSWAGEN\",\"TOYOTA\",\"BMW\",\"TOYOTA\",\"HYUNDAI\",\"HONDA\",\"OPEL\",\"FORD\",\"MAZDA\",\"BMW\",\"MERCEDES-BENZ\",\"MITSUBISHI\",\"MERCEDES-BENZ\",\"HYUNDAI\",\"TOYOTA\",\"BMW\",\"HYUNDAI\",\"TOYOTA\",\"CHEVROLET\",\"LEXUS\",\"HYUNDAI\",\"MERCEDES-BENZ\",\"VOLKSWAGEN\",\"HONDA\",\"HYUNDAI\",\"HYUNDAI\",\"CHEVROLET\",\"MERCEDES-BENZ\",\"FORD\",\"KIA\",\"TOYOTA\",\"LEXUS\",\"FORD\",\"HYUNDAI\",\"HYUNDAI\",\"HYUNDAI\",\"TOYOTA\",\"HYUNDAI\",\"MERCEDES-BENZ\",\"LEXUS\",\"HYUNDAI\",\"LEXUS\",\"DODGE\",\"BMW\",\"DODGE\",\"HYUNDAI\",\"HONDA\",\"NISSAN\",\"NISSAN\",\"CHEVROLET\",\"HYUNDAI\",\"FORD\",\"MERCEDES-BENZ\",\"MERCEDES-BENZ\",\"MERCEDES-BENZ\",\"HONDA\",\"CHEVROLET\",\"FORD\",\"HYUNDAI\",\"OPEL\",\"CHEVROLET\",\"KIA\",\"BMW\",\"TOYOTA\",\"HYUNDAI\",\"VOLKSWAGEN\",\"HYUNDAI\",\"MAZDA\",\"MERCEDES-BENZ\",\"BMW\",\"MERCEDES-BENZ\",\"HYUNDAI\",\"HYUNDAI\",\"MERCEDES-BENZ\",\"MERCEDES-BENZ\",\"OPEL\",\"HYUNDAI\",\"HYUNDAI\",\"TOYOTA\",\"HONDA\",\"TOYOTA\",\"LAND ROVER\",\"CHRYSLER\",\"TOYOTA\",\"HONDA\",\"CHEVROLET\",\"BMW\",\"HYUNDAI\",\"TOYOTA\",\"FORD\",\"HONDA\",\"HYUNDAI\",\"FORD\",\"HONDA\",\"DODGE\",\"MERCEDES-BENZ\",\"HYUNDAI\",\"TOYOTA\",\"OPEL\",\"SSANGYONG\",\"SSANGYONG\",\"FORD\",\"LEXUS\",\"TOYOTA\",\"TOYOTA\",\"FORD\",\"TOYOTA\",\"JEEP\",\"GMC\",\"SUBARU\",\"SSANGYONG\",\"MERCEDES-BENZ\",\"HYUNDAI\",\"DAEWOO\",\"MAZDA\",\"LEXUS\",\"TOYOTA\",\"TOYOTA\",\"TOYOTA\",\"TOYOTA\",\"HONDA\",\"HYUNDAI\",\"HYUNDAI\",\"MITSUBISHI\",\"FORD\",\"SSANGYONG\",\"HYUNDAI\",\"HONDA\",\"MERCEDES-BENZ\",\"SSANGYONG\",\"FORD\",\"HYUNDAI\",\"OPEL\",\"HYUNDAI\",\"MERCEDES-BENZ\",\"BMW\",\"MERCEDES-BENZ\",\"BMW\",\"FORD\",\"HYUNDAI\",\"FIAT\",\"HONDA\",\"HYUNDAI\",\"LEXUS\",\"NISSAN\",\"TOYOTA\",\"TOYOTA\",\"HONDA\",\"TOYOTA\",\"NISSAN\",\"CHEVROLET\",\"BMW\",\"MERCEDES-BENZ\",\"MERCEDES-BENZ\",\"HYUNDAI\",\"HYUNDAI\",\"BMW\",\"TOYOTA\",\"HONDA\",\"NISSAN\",\"HYUNDAI\",\"NISSAN\",\"MERCEDES-BENZ\",\"MERCEDES-BENZ\",\"TOYOTA\",\"TOYOTA\",\"CHEVROLET\",\"HYUNDAI\",\"NISSAN\",\"VOLKSWAGEN\",\"TOYOTA\",\"HONDA\",\"VOLKSWAGEN\",\"TOYOTA\",\"HYUNDAI\",\"HONDA\",\"HYUNDAI\",\"VOLKSWAGEN\",\"HYUNDAI\",\"NISSAN\",\"HONDA\",\"FORD\",\"HYUNDAI\",\"MERCEDES-BENZ\",\"TOYOTA\",\"SSANGYONG\",\"BMW\",\"CHEVROLET\",\"FORD\",\"FORD\",\"BMW\",\"LEXUS\",\"FORD\",\"TOYOTA\",\"MITSUBISHI\",\"LEXUS\",\"HONDA\",\"TOYOTA\",\"HYUNDAI\",\"BMW\",\"MERCEDES-BENZ\",\"HYUNDAI\",\"MERCEDES-BENZ\",\"SSANGYONG\",\"SUBARU\",\"VOLKSWAGEN\",\"NISSAN\",\"SUBARU\",\"SUZUKI\",\"HYUNDAI\",\"CHEVROLET\",\"HYUNDAI\",\"NISSAN\",\"VOLKSWAGEN\",\"TOYOTA\",\"CHEVROLET\",\"HYUNDAI\",\"TOYOTA\",\"TOYOTA\",\"MERCEDES-BENZ\",\"CHEVROLET\",\"FORD\",\"LEXUS\",\"HYUNDAI\",\"NISSAN\",\"MERCEDES-BENZ\",\"MERCEDES-BENZ\",\"HONDA\",\"LEXUS\",\"NISSAN\",\"FORD\",\"LEXUS\",\"TOYOTA\",\"JEEP\",\"MERCEDES-BENZ\",\"HYUNDAI\",\"MERCEDES-BENZ\",\"OPEL\",\"MERCEDES-BENZ\",\"LEXUS\",\"FORD\",\"HYUNDAI\",\"NISSAN\",\"HYUNDAI\",\"AUDI\",\"NISSAN\",\"HYUNDAI\",\"HYUNDAI\",\"HONDA\",\"HYUNDAI\",\"HYUNDAI\",\"LEXUS\",\"HYUNDAI\",\"TOYOTA\",\"HONDA\",\"FORD\",\"CHEVROLET\",\"NISSAN\",\"MITSUBISHI\",\"FIAT\",\"VOLKSWAGEN\",\"FORD\",\"TOYOTA\",\"TOYOTA\",\"FORD\",\"HYUNDAI\",\"TOYOTA\",\"HYUNDAI\",\"MAZDA\",\"MAZDA\",\"MERCEDES-BENZ\",\"TOYOTA\",\"TOYOTA\",\"FIAT\",\"HYUNDAI\",\"HYUNDAI\",\"TOYOTA\",\"TOYOTA\",\"TOYOTA\",\"HYUNDAI\",\"BMW\",\"MERCEDES-BENZ\",\"HYUNDAI\",\"MERCEDES-BENZ\",\"OPEL\",\"HYUNDAI\",\"TOYOTA\",\"NISSAN\",\"MERCEDES-BENZ\",\"CHEVROLET\",\"CHEVROLET\",\"HYUNDAI\",\"TOYOTA\",\"MERCEDES-BENZ\",\"CHEVROLET\",\"VOLKSWAGEN\",\"NISSAN\",\"FORD\",\"HYUNDAI\",\"LEXUS\",\"HYUNDAI\",\"OPEL\",\"TOYOTA\",\"TOYOTA\",\"TOYOTA\",\"JEEP\",\"HONDA\",\"CHEVROLET\",\"TOYOTA\",\"MERCEDES-BENZ\",\"LINCOLN\",\"SSANGYONG\",\"HYUNDAI\",\"CHEVROLET\",\"VOLKSWAGEN\",\"SSANGYONG\",\"MAZDA\",\"MITSUBISHI\",\"MERCEDES-BENZ\",\"TOYOTA\",\"HYUNDAI\",\"CHEVROLET\",\"LEXUS\",\"NISSAN\",\"VOLKSWAGEN\",\"LEXUS\",\"BMW\",\"CHEVROLET\",\"TOYOTA\",\"SSANGYONG\",\"BMW\",\"LEXUS\",\"MAZDA\",\"TOYOTA\",\"TOYOTA\",\"HYUNDAI\",\"CHRYSLER\",\"FIAT\",\"SSANGYONG\",\"HONDA\",\"BMW\",\"MERCEDES-BENZ\",\"TOYOTA\",\"TOYOTA\",\"TOYOTA\",\"AUDI\",\"BMW\",\"LEXUS\",\"TOYOTA\",\"AUDI\",\"HYUNDAI\",\"MAZDA\",\"HYUNDAI\",\"SSANGYONG\",\"AUDI\",\"NISSAN\",\"TOYOTA\",\"MERCEDES-BENZ\",\"LAND ROVER\",\"PORSCHE\",\"HONDA\",\"HYUNDAI\",\"SSANGYONG\",\"HYUNDAI\",\"MERCEDES-BENZ\",\"FORD\",\"HYUNDAI\",\"TOYOTA\",\"TOYOTA\",\"SSANGYONG\",\"MITSUBISHI\",\"LEXUS\",\"VOLKSWAGEN\",\"JAGUAR\",\"SUBARU\",\"TOYOTA\",\"TOYOTA\",\"TOYOTA\",\"MERCEDES-BENZ\",\"SUBARU\",\"SUZUKI\",\"HYUNDAI\",\"OPEL\",\"CHEVROLET\",\"OPEL\",\"HYUNDAI\",\"HYUNDAI\",\"HYUNDAI\",\"FORD\",\"SSANGYONG\",\"MITSUBISHI\",\"CHEVROLET\",\"FORD\",\"LEXUS\",\"NISSAN\",\"HYUNDAI\",\"CHEVROLET\",\"OPEL\",\"VOLKSWAGEN\",\"TOYOTA\",\"MERCEDES-BENZ\",\"BMW\",\"NISSAN\",\"HYUNDAI\",\"CHEVROLET\",\"CHEVROLET\",\"MAZDA\",\"HYUNDAI\",\"TOYOTA\",\"TOYOTA\",\"OPEL\",\"MINI\",\"HONDA\",\"KIA\",\"MERCEDES-BENZ\",\"HYUNDAI\",\"HYUNDAI\",\"KIA\",\"FORD\",\"SUBARU\",\"HYUNDAI\",\"LEXUS\",\"HONDA\",\"CHEVROLET\",\"HYUNDAI\",\"FORD\",\"FORD\",\"LEXUS\",\"LEXUS\",\"MERCEDES-BENZ\",\"BMW\",\"NISSAN\",\"CHEVROLET\",\"CHEVROLET\",\"VOLKSWAGEN\",\"TOYOTA\",\"MERCEDES-BENZ\",\"MERCEDES-BENZ\",\"LEXUS\",\"LEXUS\",\"CHEVROLET\",\"CHEVROLET\",\"VOLKSWAGEN\",\"CHEVROLET\",\"TOYOTA\",\"CHEVROLET\",\"MERCEDES-BENZ\",\"CHEVROLET\",\"CHEVROLET\",\"LEXUS\",\"VAZ\",\"FORD\",\"MERCEDES-BENZ\",\"TOYOTA\",\"FORD\",\"MERCEDES-BENZ\",\"FORD\",\"HONDA\",\"HYUNDAI\",\"TOYOTA\",\"JEEP\",\"MERCEDES-BENZ\",\"CHEVROLET\",\"TOYOTA\",\"MERCEDES-BENZ\",\"TOYOTA\",\"TOYOTA\",\"CHEVROLET\",\"HYUNDAI\",\"HYUNDAI\",\"VOLKSWAGEN\",\"CHEVROLET\",\"CHEVROLET\",\"MERCEDES-BENZ\",\"FORD\",\"HYUNDAI\",\"TOYOTA\",\"HYUNDAI\",\"TOYOTA\",\"LEXUS\",\"TOYOTA\",\"CHEVROLET\",\"HYUNDAI\",\"TOYOTA\",\"NISSAN\",\"HYUNDAI\",\"SUZUKI\",\"CHEVROLET\",\"BMW\",\"VOLKSWAGEN\",\"HYUNDAI\",\"BMW\",\"MITSUBISHI\",\"HYUNDAI\",\"BMW\",\"HONDA\",\"FORD\",\"MERCEDES-BENZ\",\"VOLKSWAGEN\",\"SUBARU\",\"VOLKSWAGEN\",\"LEXUS\",\"HYUNDAI\",\"BMW\",\"TOYOTA\",\"HYUNDAI\",\"TOYOTA\",\"HYUNDAI\",\"LEXUS\",\"TOYOTA\",\"HYUNDAI\",\"BMW\",\"HONDA\",\"LEXUS\",\"TOYOTA\",\"HYUNDAI\",\"PEUGEOT\",\"HYUNDAI\",\"HYUNDAI\",\"MERCEDES-BENZ\",\"DAEWOO\",\"CHEVROLET\",\"HYUNDAI\",\"HYUNDAI\",\"OPEL\",\"FORD\",\"VOLKSWAGEN\",\"FORD\",\"VOLKSWAGEN\",\"VOLKSWAGEN\",\"MERCEDES-BENZ\",\"RENAULT\",\"HYUNDAI\",\"BMW\",\"TOYOTA\",\"MERCEDES-BENZ\",\"AUDI\",\"CHEVROLET\",\"HYUNDAI\",\"BMW\",\"KIA\",\"TOYOTA\",\"TOYOTA\",\"HYUNDAI\",\"TOYOTA\",\"NISSAN\",\"CHEVROLET\",\"SKODA\",\"MERCEDES-BENZ\",\"MERCEDES-BENZ\",\"HYUNDAI\",\"TOYOTA\",\"TOYOTA\",\"CHEVROLET\",\"FORD\",\"HYUNDAI\",\"HYUNDAI\",\"CHEVROLET\",\"AUDI\",\"HYUNDAI\",\"FORD\",\"TOYOTA\",\"HYUNDAI\",\"TOYOTA\",\"BMW\",\"CHEVROLET\",\"MERCEDES-BENZ\",\"FORD\",\"MERCEDES-BENZ\",\"TOYOTA\",\"HYUNDAI\",\"HYUNDAI\",\"LEXUS\",\"MERCEDES-BENZ\",\"MERCEDES-BENZ\",\"ACURA\",\"SUBARU\",\"DAIHATSU\",\"HYUNDAI\",\"MERCEDES-BENZ\",\"LEXUS\",\"FORD\",\"TOYOTA\",\"FORD\",\"HYUNDAI\",\"MERCEDES-BENZ\",\"HYUNDAI\",\"MITSUBISHI\",\"VOLKSWAGEN\",\"HYUNDAI\",\"CHEVROLET\",\"HYUNDAI\",\"MERCEDES-BENZ\",\"TOYOTA\",\"MERCEDES-BENZ\",\"MERCEDES-BENZ\",\"CHEVROLET\",\"CHEVROLET\",\"MERCEDES-BENZ\",\"CHEVROLET\",\"FORD\",\"TOYOTA\",\"VAZ\",\"JEEP\",\"GAZ\",\"TOYOTA\",\"HYUNDAI\",\"TOYOTA\",\"LINCOLN\",\"HYUNDAI\",\"HYUNDAI\",\"MAZDA\",\"TOYOTA\",\"HYUNDAI\",\"SSANGYONG\",\"BMW\",\"BMW\",\"KIA\",\"CHEVROLET\",\"HYUNDAI\",\"HYUNDAI\",\"NISSAN\",\"BMW\",\"VOLKSWAGEN\",\"HYUNDAI\",\"HYUNDAI\",\"SUBARU\",\"VOLKSWAGEN\",\"VOLKSWAGEN\",\"HYUNDAI\",\"HYUNDAI\",\"BMW\",\"OPEL\",\"NISSAN\",\"LEXUS\",\"BMW\",\"JEEP\",\"FORD\",\"MERCEDES-BENZ\",\"TOYOTA\",\"TOYOTA\",\"HYUNDAI\",\"TOYOTA\",\"HYUNDAI\",\"MERCEDES-BENZ\",\"TOYOTA\",\"ISUZU\",\"TOYOTA\",\"HYUNDAI\",\"TOYOTA\",\"HYUNDAI\",\"VOLKSWAGEN\",\"TOYOTA\",\"FORD\",\"HYUNDAI\",\"TOYOTA\",\"VOLKSWAGEN\",\"HYUNDAI\",\"TOYOTA\",\"HONDA\",\"SSANGYONG\",\"LEXUS\",\"HYUNDAI\",\"TOYOTA\",\"TOYOTA\",\"MERCEDES-BENZ\",\"MERCEDES-BENZ\",\"KIA\",\"HYUNDAI\",\"VOLKSWAGEN\",\"LEXUS\",\"BMW\",\"KIA\",\"HONDA\",\"HYUNDAI\",\"MAZDA\",\"VOLKSWAGEN\",\"RENAULT\",\"SUBARU\",\"TOYOTA\",\"CHEVROLET\",\"MERCEDES-BENZ\",\"LEXUS\",\"VOLKSWAGEN\",\"TOYOTA\",\"HYUNDAI\",\"HYUNDAI\",\"HYUNDAI\",\"JEEP\",\"MERCEDES-BENZ\",\"HONDA\",\"NISSAN\",\"HYUNDAI\",\"LEXUS\",\"NISSAN\",\"FORD\",\"CHEVROLET\",\"TOYOTA\",\"OPEL\",\"MERCEDES-BENZ\",\"NISSAN\",\"MERCEDES-BENZ\",\"TOYOTA\",\"HYUNDAI\",\"TOYOTA\",\"HYUNDAI\",\"TOYOTA\",\"TOYOTA\",\"HYUNDAI\",\"HYUNDAI\",\"HONDA\",\"FORD\",\"TOYOTA\",\"TOYOTA\",\"FORD\",\"HYUNDAI\",\"HONDA\",\"HYUNDAI\",\"MERCEDES-BENZ\",\"TOYOTA\",\"HYUNDAI\",\"HYUNDAI\",\"SUBARU\",\"LEXUS\",\"HONDA\",\"NISSAN\",\"HYUNDAI\",\"TOYOTA\",\"MERCEDES-BENZ\",\"HONDA\",\"TOYOTA\",\"GMC\",\"HYUNDAI\",\"TOYOTA\",\"CHEVROLET\",\"JEEP\",\"FORD\",\"TOYOTA\",\"NISSAN\",\"MAZDA\",\"HYUNDAI\",\"TOYOTA\",\"BMW\",\"DODGE\",\"HYUNDAI\",\"TOYOTA\",\"AUDI\",\"LAND ROVER\",\"HONDA\",\"HYUNDAI\",\"HYUNDAI\",\"MERCEDES-BENZ\",\"HONDA\",\"TOYOTA\",\"MERCEDES-BENZ\",\"FORD\",\"FORD\",\"HYUNDAI\",\"DAEWOO\",\"MERCEDES-BENZ\",\"TOYOTA\",\"HYUNDAI\",\"FORD\",\"LEXUS\",\"MERCEDES-BENZ\",\"CHEVROLET\",\"HYUNDAI\",\"MERCEDES-BENZ\",\"TOYOTA\",\"MITSUBISHI\",\"BMW\",\"MITSUBISHI\",\"HYUNDAI\",\"CHEVROLET\",\"TOYOTA\",\"TOYOTA\",\"TOYOTA\",\"HONDA\",\"TOYOTA\",\"FORD\",\"HONDA\",\"KIA\",\"HYUNDAI\",\"NISSAN\",\"KIA\",\"VOLKSWAGEN\",\"HYUNDAI\",\"HONDA\",\"BMW\",\"TOYOTA\",\"VOLKSWAGEN\",\"HONDA\",\"TOYOTA\",\"SSANGYONG\",\"LEXUS\",\"MERCEDES-BENZ\",\"TOYOTA\",\"TOYOTA\",\"CHEVROLET\",\"HYUNDAI\",\"HYUNDAI\",\"MITSUBISHI\",\"JEEP\",\"KIA\",\"HYUNDAI\",\"TOYOTA\",\"LEXUS\",\"MAZDA\",\"MERCEDES-BENZ\",\"MERCEDES-BENZ\",\"VOLKSWAGEN\",\"HYUNDAI\",\"HYUNDAI\",\"LEXUS\",\"TOYOTA\",\"CHEVROLET\",\"JEEP\",\"LEXUS\",\"HYUNDAI\",\"SSANGYONG\",\"OPEL\",\"FORD\",\"TOYOTA\",\"FORD\",\"MERCEDES-BENZ\",\"KIA\",\"HYUNDAI\",\"HONDA\",\"TOYOTA\",\"MERCEDES-BENZ\",\"NISSAN\",\"FORD\",\"SSANGYONG\",\"TOYOTA\",\"BMW\",\"TOYOTA\",\"SSANGYONG\",\"NISSAN\",\"CHEVROLET\",\"HYUNDAI\",\"SUBARU\",\"KIA\",\"LEXUS\",\"TOYOTA\",\"TOYOTA\",\"HYUNDAI\",\"TOYOTA\",\"SUBARU\",\"FORD\",\"TOYOTA\",\"HYUNDAI\",\"NISSAN\",\"JEEP\",\"FORD\",\"HONDA\",\"MERCEDES-BENZ\",\"HYUNDAI\",\"PORSCHE\",\"TOYOTA\",\"TOYOTA\",\"HYUNDAI\",\"HYUNDAI\",\"HYUNDAI\",\"HYUNDAI\",\"TOYOTA\",\"LEXUS\",\"LEXUS\",\"AUDI\",\"BMW\",\"HONDA\",\"BMW\",\"SUBARU\",\"TOYOTA\",\"HYUNDAI\",\"HYUNDAI\",\"FORD\",\"TOYOTA\",\"TOYOTA\",\"PORSCHE\",\"CHEVROLET\",\"HYUNDAI\",\"TOYOTA\",\"HYUNDAI\",\"NISSAN\",\"BMW\",\"GMC\",\"TOYOTA\",\"HYUNDAI\",\"KIA\",\"MERCEDES-BENZ\",\"BMW\",\"TOYOTA\",\"BMW\",\"TOYOTA\",\"HONDA\",\"LEXUS\",\"SSANGYONG\",\"FIAT\",\"HYUNDAI\",\"TOYOTA\",\"NISSAN\",\"HYUNDAI\",\"HYUNDAI\",\"FORD\",\"FORD\",\"TOYOTA\",\"HONDA\",\"HYUNDAI\",\"MERCEDES-BENZ\",\"FORD\",\"ACURA\",\"HYUNDAI\",\"MERCEDES-BENZ\",\"CHEVROLET\",\"TOYOTA\",\"HYUNDAI\",\"TOYOTA\",\"HYUNDAI\",\"FORD\",\"FORD\",\"BMW\",\"TOYOTA\",\"FORD\",\"MERCEDES-BENZ\",\"MERCEDES-BENZ\",\"HONDA\",\"NISSAN\",\"VOLKSWAGEN\",\"TOYOTA\",\"HONDA\",\"VOLKSWAGEN\",\"CHEVROLET\",\"HYUNDAI\",\"HONDA\",\"HYUNDAI\",\"CHEVROLET\",\"HYUNDAI\",\"HYUNDAI\",\"HYUNDAI\",\"KIA\",\"MERCEDES-BENZ\",\"KIA\",\"KIA\",\"TOYOTA\",\"MERCEDES-BENZ\",\"HYUNDAI\",\"TOYOTA\",\"TOYOTA\",\"FORD\",\"LEXUS\",\"HYUNDAI\",\"BMW\",\"MERCEDES-BENZ\",\"SUBARU\",\"BMW\",\"TOYOTA\",\"TOYOTA\",\"HONDA\",\"HYUNDAI\",\"MERCEDES-BENZ\",\"MERCEDES-BENZ\",\"FORD\",\"LEXUS\",\"BMW\",\"MERCEDES-BENZ\",\"TOYOTA\",\"AUDI\",\"BMW\",\"FORD\",\"HONDA\",\"TOYOTA\",\"SUBARU\",\"BMW\",\"VOLKSWAGEN\",\"FORD\",\"TOYOTA\",\"TOYOTA\",\"TOYOTA\",\"TOYOTA\",\"LEXUS\",\"MERCEDES-BENZ\",\"MERCEDES-BENZ\",\"SSANGYONG\",\"TOYOTA\",\"TOYOTA\",\"SUZUKI\",\"HYUNDAI\",\"HONDA\",\"MITSUBISHI\",\"SUZUKI\",\"OPEL\",\"KIA\",\"AUDI\",\"TOYOTA\",\"FORD\",\"CHEVROLET\",\"OPEL\",\"TOYOTA\",\"MERCEDES-BENZ\",\"CHEVROLET\",\"TOYOTA\",\"HONDA\",\"TOYOTA\",\"HONDA\",\"KIA\",\"TOYOTA\",\"MERCEDES-BENZ\",\"MERCEDES-BENZ\",\"HYUNDAI\",\"AUDI\",\"LEXUS\",\"BMW\",\"MERCEDES-BENZ\",\"CHEVROLET\",\"TOYOTA\",\"HONDA\",\"CHEVROLET\",\"LEXUS\",\"FORD\",\"HYUNDAI\",\"SSANGYONG\",\"VOLKSWAGEN\",\"TOYOTA\",\"HYUNDAI\",\"TOYOTA\",\"CHEVROLET\",\"LEXUS\",\"NISSAN\",\"FORD\",\"TOYOTA\",\"MITSUBISHI\",\"MERCEDES-BENZ\",\"BMW\",\"NISSAN\",\"HYUNDAI\",\"HYUNDAI\",\"TOYOTA\",\"FORD\",\"HYUNDAI\",\"MERCEDES-BENZ\",\"HYUNDAI\",\"TOYOTA\",\"CHEVROLET\",\"TOYOTA\",\"SUBARU\",\"TOYOTA\",\"MERCEDES-BENZ\",\"CHEVROLET\",\"TOYOTA\",\"HYUNDAI\",\"HYUNDAI\",\"KIA\",\"CHEVROLET\",\"TOYOTA\",\"FORD\",\"TOYOTA\",\"HYUNDAI\",\"TOYOTA\",\"TOYOTA\",\"FORD\",\"SSANGYONG\",\"TOYOTA\",\"FORD\",\"BMW\",\"HYUNDAI\",\"TOYOTA\",\"BMW\",\"TOYOTA\",\"HONDA\",\"TOYOTA\",\"MERCEDES-BENZ\",\"TOYOTA\",\"MITSUBISHI\",\"HYUNDAI\",\"TOYOTA\",\"SSANGYONG\",\"MERCEDES-BENZ\",\"HYUNDAI\",\"MERCEDES-BENZ\",\"TOYOTA\",\"BMW\",\"OPEL\",\"TOYOTA\",\"HYUNDAI\",\"FORD\",\"HYUNDAI\",\"HYUNDAI\",\"MERCEDES-BENZ\",\"HYUNDAI\",\"CHEVROLET\",\"TOYOTA\",\"CHEVROLET\",\"KIA\",\"SSANGYONG\",\"LEXUS\",\"TOYOTA\",\"JEEP\",\"INFINITI\",\"TOYOTA\",\"TOYOTA\",\"SUBARU\",\"HONDA\",\"TOYOTA\",\"HYUNDAI\",\"HYUNDAI\",\"SSANGYONG\",\"LEXUS\",\"MERCEDES-BENZ\",\"HYUNDAI\",\"SUBARU\",\"TOYOTA\",\"HYUNDAI\",\"CHEVROLET\",\"OPEL\",\"KIA\",\"TOYOTA\",\"TOYOTA\",\"TOYOTA\",\"BMW\",\"HYUNDAI\",\"AUDI\",\"TOYOTA\",\"NISSAN\",\"HYUNDAI\",\"TOYOTA\",\"TOYOTA\",\"HYUNDAI\",\"BMW\",\"HYUNDAI\",\"TOYOTA\",\"MERCEDES-BENZ\",\"HYUNDAI\",\"BMW\",\"BMW\",\"HONDA\",\"TOYOTA\",\"HYUNDAI\",\"HYUNDAI\",\"LEXUS\",\"BMW\",\"MERCEDES-BENZ\",\"HYUNDAI\",\"HYUNDAI\",\"MERCEDES-BENZ\",\"MERCEDES-BENZ\",\"MERCEDES-BENZ\",\"SSANGYONG\",\"LEXUS\",\"BMW\",\"MERCEDES-BENZ\",\"MERCEDES-BENZ\",\"CHEVROLET\",\"MITSUBISHI\",\"TOYOTA\",\"HYUNDAI\",\"FORD\",\"HYUNDAI\",\"HYUNDAI\",\"OPEL\",\"MAZDA\",\"TOYOTA\",\"AUDI\",\"MERCEDES-BENZ\",\"MERCEDES-BENZ\",\"NISSAN\",\"TOYOTA\",\"KIA\",\"CADILLAC\",\"TOYOTA\",\"SSANGYONG\",\"SSANGYONG\",\"HYUNDAI\",\"TOYOTA\",\"BMW\",\"HUMMER\",\"TOYOTA\",\"BMW\",\"TOYOTA\",\"TOYOTA\",\"OPEL\",\"JEEP\",\"BMW\",\"HYUNDAI\",\"TOYOTA\",\"HYUNDAI\",\"SUBARU\",\"MERCEDES-BENZ\",\"HONDA\",\"MERCEDES-BENZ\",\"BMW\",\"VOLKSWAGEN\",\"HYUNDAI\",\"NISSAN\",\"CHEVROLET\",\"HYUNDAI\",\"HYUNDAI\",\"LEXUS\",\"NISSAN\",\"MERCEDES-BENZ\",\"KIA\",\"HYUNDAI\",\"HYUNDAI\",\"OPEL\",\"SSANGYONG\",\"HYUNDAI\",\"HYUNDAI\",\"TOYOTA\",\"TOYOTA\",\"MERCEDES-BENZ\",\"HYUNDAI\",\"HYUNDAI\",\"BMW\",\"FORD\",\"HYUNDAI\",\"SSANGYONG\",\"MERCEDES-BENZ\",\"BMW\",\"CHEVROLET\",\"HYUNDAI\",\"MAZDA\",\"TOYOTA\",\"HYUNDAI\",\"AUDI\",\"FORD\",\"HONDA\",\"TOYOTA\",\"FIAT\",\"MERCEDES-BENZ\",\"MAZDA\",\"SUBARU\",\"OPEL\",\"HYUNDAI\",\"TOYOTA\",\"TOYOTA\",\"MERCEDES-BENZ\",\"HYUNDAI\",\"HYUNDAI\",\"MERCEDES-BENZ\",\"TOYOTA\",\"TOYOTA\",\"MERCEDES-BENZ\",\"DODGE\",\"NISSAN\",\"HYUNDAI\",\"JEEP\",\"HYUNDAI\",\"LAND ROVER\",\"MERCEDES-BENZ\",\"TOYOTA\",\"HYUNDAI\",\"DODGE\",\"HYUNDAI\",\"CHEVROLET\",\"LEXUS\",\"LEXUS\",\"VOLKSWAGEN\",\"CHEVROLET\",\"MERCEDES-BENZ\",\"HYUNDAI\",\"FORD\",\"BMW\",\"HONDA\",\"MERCEDES-BENZ\",\"NISSAN\",\"SUZUKI\",\"TOYOTA\",\"HYUNDAI\",\"NISSAN\",\"HYUNDAI\",\"MERCEDES-BENZ\",\"FORD\",\"MERCEDES-BENZ\",\"MERCEDES-BENZ\",\"SSANGYONG\",\"HYUNDAI\",\"HYUNDAI\",\"NISSAN\",\"HYUNDAI\",\"HYUNDAI\",\"NISSAN\",\"FORD\",\"HYUNDAI\",\"TOYOTA\",\"FORD\",\"HYUNDAI\",\"KIA\",\"HYUNDAI\",\"CHEVROLET\",\"JEEP\",\"CHEVROLET\",\"HYUNDAI\",\"CHEVROLET\",\"VOLKSWAGEN\",\"TOYOTA\",\"HONDA\",\"MERCEDES-BENZ\",\"HYUNDAI\",\"OPEL\",\"ACURA\",\"BUICK\",\"MERCEDES-BENZ\",\"FORD\",\"HONDA\",\"TOYOTA\",\"AUDI\",\"BMW\",\"NISSAN\",\"HYUNDAI\",\"MERCEDES-BENZ\",\"VOLKSWAGEN\",\"FORD\",\"CHEVROLET\",\"AUDI\",\"LEXUS\",\"TOYOTA\",\"HYUNDAI\",\"HYUNDAI\",\"NISSAN\",\"HONDA\",\"TOYOTA\",\"TOYOTA\",\"MERCEDES-BENZ\",\"TOYOTA\",\"LEXUS\",\"HYUNDAI\",\"HYUNDAI\",\"FORD\",\"LEXUS\",\"BMW\",\"TOYOTA\",\"HYUNDAI\",\"HYUNDAI\",\"BMW\",\"NISSAN\",\"TOYOTA\",\"TOYOTA\",\"HYUNDAI\",\"TOYOTA\",\"HYUNDAI\",\"HYUNDAI\",\"MERCEDES-BENZ\",\"HONDA\",\"MERCEDES-BENZ\",\"BUICK\",\"HYUNDAI\",\"TOYOTA\",\"HYUNDAI\",\"RENAULT\",\"LEXUS\",\"HYUNDAI\",\"JEEP\",\"HYUNDAI\",\"TOYOTA\",\"HONDA\",\"HONDA\",\"LEXUS\",\"SSANGYONG\",\"HONDA\",\"TOYOTA\",\"BMW\",\"FORD\",\"CHEVROLET\",\"NISSAN\",\"TOYOTA\",\"FORD\",\"MERCEDES-BENZ\",\"HYUNDAI\",\"TOYOTA\",\"MERCEDES-BENZ\",\"MERCEDES-BENZ\",\"HYUNDAI\",\"HYUNDAI\",\"LEXUS\",\"SUBARU\",\"BMW\",\"JEEP\",\"TOYOTA\",\"HYUNDAI\",\"MERCEDES-BENZ\",\"TOYOTA\",\"FORD\",\"MERCEDES-BENZ\",\"HYUNDAI\",\"MERCEDES-BENZ\",\"HONDA\",\"HYUNDAI\",\"MERCEDES-BENZ\",\"CHEVROLET\",\"TOYOTA\",\"TOYOTA\",\"HYUNDAI\",\"FORD\",\"TOYOTA\",\"TOYOTA\",\"MERCEDES-BENZ\",\"HYUNDAI\",\"SUZUKI\",\"TOYOTA\",\"HYUNDAI\",\"LEXUS\",\"MERCEDES-BENZ\",\"MERCEDES-BENZ\",\"HYUNDAI\",\"TOYOTA\",\"HYUNDAI\",\"HYUNDAI\",\"SSANGYONG\",\"HYUNDAI\",\"TOYOTA\",\"HYUNDAI\",\"BMW\",\"DAEWOO\",\"HYUNDAI\",\"HYUNDAI\",\"MERCEDES-BENZ\",\"AUDI\",\"HYUNDAI\",\"CHEVROLET\",\"HYUNDAI\",\"HYUNDAI\",\"MERCEDES-BENZ\",\"LEXUS\",\"TOYOTA\",\"HONDA\",\"HYUNDAI\",\"TOYOTA\",\"FORD\",\"BMW\",\"TOYOTA\",\"HYUNDAI\",\"DAEWOO\",\"HYUNDAI\",\"BMW\",\"MITSUBISHI\",\"TOYOTA\",\"MERCEDES-BENZ\",\"CHEVROLET\",\"BMW\",\"HYUNDAI\",\"TOYOTA\",\"NISSAN\",\"HYUNDAI\",\"AUDI\",\"HYUNDAI\",\"HYUNDAI\",\"HONDA\",\"SSANGYONG\",\"MERCEDES-BENZ\",\"HYUNDAI\",\"TOYOTA\",\"KIA\",\"TOYOTA\",\"HYUNDAI\",\"SSANGYONG\",\"HYUNDAI\",\"MERCEDES-BENZ\",\"HONDA\",\"FORD\",\"MERCEDES-BENZ\",\"HYUNDAI\",\"JEEP\",\"HYUNDAI\",\"HYUNDAI\",\"KIA\",\"HYUNDAI\",\"HYUNDAI\",\"LEXUS\",\"HYUNDAI\",\"HYUNDAI\",\"DODGE\",\"HYUNDAI\",\"MITSUBISHI\",\"TOYOTA\",\"FORD\",\"HYUNDAI\",\"TOYOTA\",\"HYUNDAI\",\"CHEVROLET\",\"MERCEDES-BENZ\",\"MERCEDES-BENZ\",\"CHEVROLET\",\"MERCEDES-BENZ\",\"HYUNDAI\",\"TOYOTA\",\"HYUNDAI\",\"MERCEDES-BENZ\",\"HONDA\",\"BMW\",\"TOYOTA\",\"VOLKSWAGEN\",\"KIA\",\"CHEVROLET\",\"INFINITI\",\"CHEVROLET\",\"TOYOTA\",\"LAND ROVER\",\"CHEVROLET\",\"HYUNDAI\",\"BMW\",\"TOYOTA\",\"CHEVROLET\",\"TOYOTA\",\"LEXUS\",\"BMW\",\"SSANGYONG\",\"FORD\",\"MERCEDES-BENZ\",\"MITSUBISHI\",\"TOYOTA\",\"MERCEDES-BENZ\",\"VAZ\",\"TOYOTA\",\"HYUNDAI\",\"TOYOTA\",\"MERCEDES-BENZ\",\"LEXUS\",\"OPEL\",\"TOYOTA\",\"HYUNDAI\",\"HYUNDAI\",\"INFINITI\",\"CHEVROLET\",\"BMW\",\"LEXUS\",\"MERCEDES-BENZ\",\"CHEVROLET\",\"HONDA\",\"DAEWOO\",\"HYUNDAI\",\"TOYOTA\",\"HYUNDAI\",\"PORSCHE\",\"TOYOTA\",\"TOYOTA\",\"HYUNDAI\",\"FORD\",\"TOYOTA\",\"BMW\",\"MERCEDES-BENZ\",\"TOYOTA\",\"FORD\",\"LEXUS\",\"MAZDA\",\"BMW\",\"TOYOTA\",\"CHEVROLET\",\"TOYOTA\",\"SSANGYONG\",\"OPEL\",\"OPEL\",\"LEXUS\",\"OPEL\",\"TOYOTA\",\"TOYOTA\",\"TOYOTA\",\"MERCEDES-BENZ\",\"BMW\",\"SUBARU\",\"TOYOTA\",\"MITSUBISHI\",\"TOYOTA\",\"TOYOTA\",\"TOYOTA\",\"MERCEDES-BENZ\",\"SSANGYONG\",\"HYUNDAI\",\"TOYOTA\",\"CHEVROLET\",\"FORD\",\"MERCEDES-BENZ\",\"BMW\",\"MERCEDES-BENZ\",\"RENAULT\",\"MERCEDES-BENZ\",\"MERCEDES-BENZ\",\"MERCEDES-BENZ\",\"HYUNDAI\",\"NISSAN\",\"HYUNDAI\",\"MERCEDES-BENZ\",\"CHEVROLET\",\"TOYOTA\",\"TOYOTA\",\"HONDA\",\"TOYOTA\",\"MERCEDES-BENZ\",\"BMW\",\"HYUNDAI\",\"LEXUS\",\"FORD\",\"KIA\",\"HYUNDAI\",\"TOYOTA\",\"CHEVROLET\",\"HYUNDAI\",\"HONDA\",\"HYUNDAI\",\"FORD\",\"MERCEDES-BENZ\",\"HYUNDAI\",\"TOYOTA\",\"BMW\",\"TOYOTA\",\"LEXUS\",\"TOYOTA\",\"HYUNDAI\",\"HYUNDAI\",\"HONDA\",\"MERCEDES-BENZ\",\"CHEVROLET\",\"TOYOTA\",\"TOYOTA\",\"TOYOTA\",\"CADILLAC\",\"TOYOTA\",\"HYUNDAI\",\"MERCEDES-BENZ\",\"TOYOTA\",\"HYUNDAI\",\"TOYOTA\",\"HYUNDAI\",\"HYUNDAI\",\"TOYOTA\",\"TOYOTA\",\"FORD\",\"HYUNDAI\",\"MITSUBISHI\",\"MERCEDES-BENZ\",\"MERCEDES-BENZ\",\"CHEVROLET\",\"HYUNDAI\",\"TOYOTA\",\"LEXUS\",\"HYUNDAI\",\"TOYOTA\",\"HONDA\",\"HYUNDAI\",\"HYUNDAI\",\"HYUNDAI\",\"KIA\",\"HYUNDAI\",\"TOYOTA\",\"TOYOTA\",\"TOYOTA\",\"NISSAN\",\"MITSUBISHI\",\"HONDA\",\"TOYOTA\",\"NISSAN\",\"TOYOTA\",\"BMW\",\"LEXUS\",\"MERCEDES-BENZ\",\"HYUNDAI\",\"HYUNDAI\",\"HYUNDAI\",\"CHEVROLET\",\"TOYOTA\",\"HYUNDAI\",\"BMW\",\"MERCEDES-BENZ\",\"CHEVROLET\",\"FORD\",\"TOYOTA\",\"BMW\",\"HONDA\",\"TOYOTA\",\"MERCEDES-BENZ\",\"OPEL\",\"FORD\",\"TOYOTA\",\"TOYOTA\",\"LEXUS\",\"LAND ROVER\",\"LEXUS\",\"MERCEDES-BENZ\",\"TOYOTA\",\"SUZUKI\",\"HONDA\",\"CHEVROLET\",\"HYUNDAI\",\"HYUNDAI\",\"HYUNDAI\",\"NISSAN\",\"AUDI\",\"FORD\",\"MERCEDES-BENZ\",\"TOYOTA\",\"HYUNDAI\",\"TOYOTA\",\"MERCEDES-BENZ\",\"RENAULT\",\"HYUNDAI\",\"TOYOTA\",\"HONDA\",\"TOYOTA\",\"HYUNDAI\",\"SSANGYONG\",\"HYUNDAI\",\"HYUNDAI\",\"MERCEDES-BENZ\",\"HONDA\",\"HYUNDAI\",\"TOYOTA\",\"VOLKSWAGEN\",\"HYUNDAI\",\"HYUNDAI\",\"BMW\",\"CHEVROLET\",\"KIA\",\"HYUNDAI\",\"HYUNDAI\",\"HONDA\",\"TOYOTA\",\"FORD\",\"BMW\",\"MERCEDES-BENZ\",\"TOYOTA\",\"FORD\",\"CHEVROLET\",\"LEXUS\",\"HYUNDAI\",\"AUDI\",\"JAGUAR\",\"LEXUS\",\"HYUNDAI\",\"TOYOTA\",\"TOYOTA\",\"MERCEDES-BENZ\",\"BMW\",\"SSANGYONG\",\"TOYOTA\",\"AUDI\",\"NISSAN\",\"TOYOTA\",\"CHEVROLET\",\"CHEVROLET\",\"CHEVROLET\",\"HONDA\",\"BMW\",\"HONDA\",\"MERCEDES-BENZ\",\"OPEL\",\"HYUNDAI\",\"KIA\",\"TOYOTA\",\"SUZUKI\",\"TOYOTA\",\"HYUNDAI\",\"TOYOTA\",\"TOYOTA\",\"HYUNDAI\",\"HYUNDAI\",\"TOYOTA\",\"HYUNDAI\",\"TOYOTA\",\"BMW\",\"TOYOTA\",\"MERCEDES-BENZ\",\"MERCEDES-BENZ\",\"SSANGYONG\",\"LEXUS\",\"TOYOTA\",\"TOYOTA\",\"LEXUS\",\"LEXUS\",\"SSANGYONG\",\"LEXUS\",\"CHEVROLET\",\"HYUNDAI\",\"FORD\",\"TOYOTA\",\"LEXUS\",\"MERCEDES-BENZ\",\"TOYOTA\",\"HYUNDAI\",\"CHEVROLET\",\"MERCEDES-BENZ\",\"HYUNDAI\",\"BMW\",\"MERCEDES-BENZ\",\"BMW\",\"LEXUS\",\"SSANGYONG\",\"JEEP\",\"TOYOTA\",\"FORD\",\"CHEVROLET\",\"HYUNDAI\",\"HYUNDAI\",\"TOYOTA\",\"HONDA\",\"MERCEDES-BENZ\",\"VOLKSWAGEN\",\"BMW\",\"BMW\",\"MERCEDES-BENZ\",\"CHEVROLET\",\"HYUNDAI\",\"NISSAN\",\"OPEL\",\"TOYOTA\",\"HYUNDAI\",\"HYUNDAI\",\"VOLKSWAGEN\",\"HYUNDAI\",\"TOYOTA\",\"CHEVROLET\",\"HYUNDAI\",\"SSANGYONG\",\"MERCEDES-BENZ\",\"VAZ\",\"TOYOTA\",\"VOLKSWAGEN\",\"FORD\",\"BMW\",\"TOYOTA\",\"VOLKSWAGEN\",\"OPEL\",\"HYUNDAI\",\"KIA\",\"MERCEDES-BENZ\",\"SUBARU\",\"HYUNDAI\",\"TOYOTA\",\"LEXUS\",\"HONDA\",\"HONDA\",\"JEEP\",\"HYUNDAI\",\"LEXUS\",\"TOYOTA\",\"AUDI\",\"HYUNDAI\",\"LEXUS\",\"MAZDA\",\"HYUNDAI\",\"TOYOTA\",\"HYUNDAI\",\"KIA\",\"MITSUBISHI\",\"SSANGYONG\",\"HYUNDAI\",\"TOYOTA\",\"MERCEDES-BENZ\",\"HYUNDAI\",\"SSANGYONG\",\"CHEVROLET\",\"CHEVROLET\",\"HONDA\",\"TOYOTA\",\"OPEL\",\"TOYOTA\",\"VOLKSWAGEN\",\"LAND ROVER\",\"TOYOTA\",\"FORD\",\"HYUNDAI\",\"LEXUS\",\"SSANGYONG\",\"HYUNDAI\",\"HYUNDAI\",\"TOYOTA\",\"HYUNDAI\",\"BMW\",\"MITSUBISHI\",\"FORD\",\"TOYOTA\",\"VOLKSWAGEN\",\"SCION\",\"HYUNDAI\",\"HYUNDAI\",\"HYUNDAI\",\"MAZDA\",\"TOYOTA\",\"TOYOTA\",\"TOYOTA\",\"HYUNDAI\",\"HYUNDAI\",\"BMW\",\"TOYOTA\",\"LEXUS\",\"KIA\",\"HYUNDAI\",\"VOLKSWAGEN\",\"MERCEDES-BENZ\",\"LEXUS\",\"HONDA\",\"TOYOTA\",\"HYUNDAI\",\"TOYOTA\",\"TOYOTA\",\"LEXUS\",\"KIA\",\"GAZ\",\"HYUNDAI\",\"CHEVROLET\",\"MERCEDES-BENZ\",\"HYUNDAI\",\"LEXUS\",\"TOYOTA\",\"LEXUS\",\"DODGE\",\"HYUNDAI\",\"FORD\",\"HONDA\",\"MERCEDES-BENZ\",\"TOYOTA\",\"FORD\",\"HONDA\",\"BMW\",\"KIA\",\"TOYOTA\",\"HYUNDAI\",\"MERCEDES-BENZ\",\"HYUNDAI\",\"FORD\",\"TOYOTA\",\"HYUNDAI\",\"MERCEDES-BENZ\",\"TOYOTA\",\"VOLKSWAGEN\",\"BMW\",\"LEXUS\",\"NISSAN\",\"AUDI\",\"HYUNDAI\",\"HYUNDAI\",\"TOYOTA\",\"CHEVROLET\",\"LEXUS\",\"MERCEDES-BENZ\",\"OPEL\",\"KIA\",\"MITSUBISHI\",\"TOYOTA\",\"CHEVROLET\",\"HYUNDAI\",\"TOYOTA\",\"HYUNDAI\",\"OPEL\",\"TOYOTA\",\"HYUNDAI\",\"TOYOTA\",\"HYUNDAI\",\"TOYOTA\",\"FORD\",\"NISSAN\",\"LEXUS\",\"TOYOTA\",\"BMW\",\"TOYOTA\",\"OPEL\",\"HYUNDAI\",\"BMW\",\"HYUNDAI\",\"JEEP\",\"MERCEDES-BENZ\",\"TOYOTA\",\"TOYOTA\",\"AUDI\",\"MERCEDES-BENZ\",\"MINI\",\"HYUNDAI\",\"LEXUS\",\"KIA\",\"HYUNDAI\",\"CHEVROLET\",\"KIA\",\"BMW\",\"VOLKSWAGEN\",\"HONDA\",\"VOLKSWAGEN\",\"TOYOTA\",\"HYUNDAI\",\"FORD\",\"SSANGYONG\",\"TOYOTA\",\"HYUNDAI\",\"HYUNDAI\",\"MERCEDES-BENZ\",\"HYUNDAI\",\"HYUNDAI\",\"TOYOTA\",\"TOYOTA\",\"TOYOTA\",\"HYUNDAI\",\"HYUNDAI\",\"HONDA\",\"VAZ\",\"TOYOTA\",\"FORD\",\"HYUNDAI\",\"CHEVROLET\",\"MERCEDES-BENZ\",\"HYUNDAI\",\"TOYOTA\",\"HONDA\",\"TOYOTA\",\"MERCEDES-BENZ\",\"HYUNDAI\",\"KIA\",\"HYUNDAI\",\"HYUNDAI\",\"HYUNDAI\",\"HYUNDAI\",\"TOYOTA\",\"HYUNDAI\",\"HYUNDAI\",\"MERCEDES-BENZ\",\"MERCEDES-BENZ\",\"MITSUBISHI\",\"TOYOTA\",\"HYUNDAI\",\"CHEVROLET\",\"TOYOTA\",\"MAZDA\",\"HYUNDAI\",\"VOLKSWAGEN\",\"FORD\",\"BMW\",\"FIAT\",\"TOYOTA\",\"TOYOTA\",\"HYUNDAI\",\"TOYOTA\",\"MERCEDES-BENZ\",\"TOYOTA\",\"CHEVROLET\",\"MERCEDES-BENZ\",\"TOYOTA\",\"MERCEDES-BENZ\",\"HYUNDAI\",\"HONDA\",\"MERCEDES-BENZ\",\"HYUNDAI\",\"TOYOTA\",\"HYUNDAI\",\"SSANGYONG\",\"VAZ\",\"NISSAN\",\"MERCEDES-BENZ\",\"AUDI\",\"MERCEDES-BENZ\",\"HYUNDAI\",\"TOYOTA\",\"CHEVROLET\",\"TOYOTA\",\"OPEL\",\"BMW\",\"TOYOTA\",\"HYUNDAI\",\"MERCEDES-BENZ\",\"MERCEDES-BENZ\",\"FIAT\",\"VOLKSWAGEN\",\"MERCEDES-BENZ\",\"TOYOTA\",\"NISSAN\",\"CHEVROLET\",\"CHEVROLET\",\"TOYOTA\",\"VOLVO\",\"HYUNDAI\",\"TOYOTA\",\"BMW\",\"HYUNDAI\",\"JEEP\",\"HONDA\",\"TOYOTA\",\"TOYOTA\",\"VOLKSWAGEN\",\"TOYOTA\",\"TOYOTA\",\"HYUNDAI\",\"OPEL\",\"FORD\",\"TOYOTA\",\"TOYOTA\",\"SSANGYONG\",\"BMW\",\"HONDA\",\"HYUNDAI\",\"HONDA\",\"HYUNDAI\",\"TOYOTA\",\"BMW\",\"TOYOTA\",\"HONDA\",\"CHEVROLET\",\"KIA\",\"HYUNDAI\",\"MERCEDES-BENZ\",\"HYUNDAI\",\"TOYOTA\",\"TOYOTA\",\"JEEP\",\"BMW\",\"MAZDA\",\"HONDA\",\"HONDA\",\"CHEVROLET\",\"TOYOTA\",\"MERCEDES-BENZ\",\"TOYOTA\",\"HYUNDAI\",\"SUBARU\",\"SSANGYONG\",\"VOLKSWAGEN\",\"TOYOTA\",\"JAGUAR\",\"HYUNDAI\",\"TOYOTA\",\"HONDA\",\"FORD\",\"MERCEDES-BENZ\",\"TOYOTA\",\"TOYOTA\",\"TOYOTA\",\"KIA\",\"MITSUBISHI\",\"HYUNDAI\",\"HONDA\",\"OPEL\",\"SSANGYONG\",\"HONDA\",\"TOYOTA\",\"CHEVROLET\",\"VOLKSWAGEN\",\"KIA\",\"LEXUS\",\"TOYOTA\",\"CHEVROLET\",\"CHEVROLET\",\"HYUNDAI\",\"HYUNDAI\",\"BMW\",\"KIA\",\"HONDA\",\"HYUNDAI\",\"FORD\",\"TOYOTA\",\"LEXUS\",\"PORSCHE\",\"HYUNDAI\",\"HYUNDAI\",\"MERCEDES-BENZ\",\"HYUNDAI\",\"OPEL\",\"NISSAN\",\"ACURA\",\"DAEWOO\",\"CHEVROLET\",\"MAZDA\",\"FIAT\",\"TOYOTA\",\"BMW\",\"CHEVROLET\",\"TOYOTA\",\"VOLKSWAGEN\",\"FORD\",\"TOYOTA\",\"MERCEDES-BENZ\",\"CHEVROLET\",\"VOLKSWAGEN\",\"HYUNDAI\",\"HYUNDAI\",\"HYUNDAI\",\"MERCEDES-BENZ\",\"HYUNDAI\",\"SUZUKI\",\"TOYOTA\",\"HYUNDAI\",\"HYUNDAI\",\"MERCEDES-BENZ\",\"TOYOTA\",\"NISSAN\",\"LEXUS\",\"HYUNDAI\",\"TOYOTA\",\"OPEL\",\"HYUNDAI\",\"HYUNDAI\",\"MAZDA\",\"CHEVROLET\",\"FORD\",\"PORSCHE\",\"FORD\",\"CHEVROLET\",\"NISSAN\",\"PORSCHE\",\"TOYOTA\",\"AUDI\",\"FORD\",\"KIA\",\"MERCEDES-BENZ\",\"BMW\",\"BMW\",\"HONDA\",\"TOYOTA\",\"AUDI\",\"MERCEDES-BENZ\",\"FORD\",\"HYUNDAI\",\"MERCEDES-BENZ\",\"MERCEDES-BENZ\",\"BMW\",\"SSANGYONG\",\"HYUNDAI\",\"LEXUS\",\"HYUNDAI\",\"HYUNDAI\",\"HONDA\",\"CADILLAC\",\"CHEVROLET\",\"HONDA\",\"OPEL\",\"TOYOTA\",\"HYUNDAI\",\"HYUNDAI\",\"SSANGYONG\",\"MERCEDES-BENZ\",\"TOYOTA\",\"KIA\",\"LEXUS\",\"JEEP\",\"HONDA\",\"BMW\",\"TOYOTA\",\"VOLKSWAGEN\",\"LEXUS\",\"HYUNDAI\",\"LEXUS\",\"HYUNDAI\",\"TOYOTA\",\"HYUNDAI\",\"MERCEDES-BENZ\",\"CHEVROLET\",\"MERCEDES-BENZ\",\"FORD\",\"SSANGYONG\",\"SUBARU\",\"KIA\",\"HYUNDAI\",\"HYUNDAI\",\"SUBARU\",\"MINI\",\"LEXUS\",\"TOYOTA\",\"KIA\",\"TOYOTA\",\"CHEVROLET\",\"AUDI\",\"CHEVROLET\",\"JEEP\",\"MERCEDES-BENZ\",\"VOLKSWAGEN\",\"TOYOTA\",\"MERCEDES-BENZ\",\"MERCEDES-BENZ\",\"VOLKSWAGEN\",\"NISSAN\",\"MITSUBISHI\",\"TOYOTA\",\"OPEL\",\"FORD\",\"DODGE\",\"BMW\",\"DODGE\",\"BMW\",\"CHEVROLET\",\"KIA\",\"\\u10e1\\u10ee\\u10d5\\u10d0\",\"CHEVROLET\",\"TOYOTA\",\"MERCEDES-BENZ\",\"FORD\",\"SSANGYONG\",\"BMW\",\"TOYOTA\",\"MERCEDES-BENZ\",\"HYUNDAI\",\"TOYOTA\",\"BMW\",\"VOLKSWAGEN\",\"HYUNDAI\",\"HYUNDAI\",\"CHEVROLET\",\"LEXUS\",\"LEXUS\",\"HYUNDAI\",\"SSANGYONG\",\"HYUNDAI\",\"LEXUS\",\"TOYOTA\",\"MERCEDES-BENZ\",\"SUBARU\",\"TOYOTA\",\"LEXUS\",\"FORD\",\"FORD\",\"TOYOTA\",\"HYUNDAI\",\"UAZ\",\"TOYOTA\",\"OPEL\",\"KIA\",\"HYUNDAI\",\"BMW\",\"HONDA\",\"BMW\",\"SSANGYONG\",\"SUZUKI\",\"JAGUAR\",\"TOYOTA\",\"HONDA\",\"SUBARU\",\"HYUNDAI\",\"VOLKSWAGEN\",\"HYUNDAI\",\"HYUNDAI\",\"HYUNDAI\",\"FORD\",\"TOYOTA\",\"HONDA\",\"HYUNDAI\",\"TOYOTA\",\"SUZUKI\",\"HYUNDAI\",\"TOYOTA\",\"KIA\",\"HYUNDAI\",\"NISSAN\",\"TOYOTA\",\"TOYOTA\",\"HYUNDAI\",\"TOYOTA\",\"TOYOTA\",\"SUZUKI\",\"SSANGYONG\",\"MERCEDES-BENZ\",\"SSANGYONG\",\"HYUNDAI\",\"CHEVROLET\",\"HYUNDAI\",\"LEXUS\",\"BMW\",\"HONDA\",\"MERCEDES-BENZ\",\"MERCURY\",\"MERCEDES-BENZ\",\"TOYOTA\",\"AUDI\",\"TOYOTA\",\"TOYOTA\",\"MERCEDES-BENZ\",\"TOYOTA\",\"TOYOTA\",\"TOYOTA\",\"TOYOTA\",\"BMW\",\"LEXUS\",\"FORD\",\"HYUNDAI\",\"HYUNDAI\",\"FORD\",\"TOYOTA\",\"HYUNDAI\",\"FORD\",\"TOYOTA\",\"MERCEDES-BENZ\",\"VOLKSWAGEN\",\"HYUNDAI\",\"NISSAN\",\"TOYOTA\",\"BMW\",\"HYUNDAI\",\"RENAULT\",\"SUBARU\",\"TOYOTA\",\"CHEVROLET\",\"NISSAN\",\"HYUNDAI\",\"FORD\",\"MITSUBISHI\",\"CHEVROLET\",\"AUDI\",\"HYUNDAI\",\"TOYOTA\",\"KIA\",\"CHEVROLET\",\"HYUNDAI\",\"HONDA\",\"TOYOTA\",\"HYUNDAI\",\"TOYOTA\",\"DODGE\",\"HYUNDAI\",\"JAGUAR\",\"HYUNDAI\",\"LEXUS\",\"FORD\",\"SSANGYONG\",\"HYUNDAI\",\"HYUNDAI\",\"FORD\",\"MITSUBISHI\",\"VOLKSWAGEN\",\"FORD\",\"TOYOTA\",\"MAZDA\",\"TOYOTA\",\"OPEL\",\"SSANGYONG\",\"BMW\",\"CHEVROLET\",\"VOLKSWAGEN\",\"TOYOTA\",\"FORD\",\"FORD\",\"HYUNDAI\",\"OPEL\",\"TOYOTA\",\"HYUNDAI\",\"PORSCHE\",\"TOYOTA\",\"TOYOTA\",\"HYUNDAI\",\"TOYOTA\",\"BMW\",\"KIA\",\"VOLKSWAGEN\",\"HYUNDAI\",\"SSANGYONG\",\"MERCEDES-BENZ\",\"TOYOTA\",\"CHEVROLET\",\"VOLKSWAGEN\",\"BMW\",\"HONDA\",\"MERCEDES-BENZ\",\"JEEP\",\"LEXUS\",\"FORD\",\"OPEL\",\"HYUNDAI\",\"CHEVROLET\",\"HYUNDAI\",\"HYUNDAI\",\"TOYOTA\",\"MERCEDES-BENZ\",\"BMW\",\"MERCEDES-BENZ\",\"TOYOTA\",\"FORD\",\"VOLKSWAGEN\",\"TOYOTA\",\"FORD\",\"TOYOTA\",\"KIA\",\"SUBARU\",\"DODGE\",\"RENAULT\",\"LEXUS\",\"NISSAN\",\"HONDA\",\"LEXUS\",\"SUZUKI\",\"TOYOTA\",\"TOYOTA\",\"CHEVROLET\",\"MERCEDES-BENZ\",\"AUDI\",\"MERCEDES-BENZ\",\"HYUNDAI\",\"HYUNDAI\",\"BMW\",\"OPEL\",\"SSANGYONG\",\"OPEL\",\"HYUNDAI\",\"HYUNDAI\",\"HONDA\",\"AUDI\",\"TOYOTA\",\"TOYOTA\",\"MITSUBISHI\",\"HONDA\",\"NISSAN\",\"FORD\",\"HYUNDAI\",\"CHEVROLET\",\"MITSUBISHI\",\"HONDA\",\"TOYOTA\",\"LEXUS\",\"HYUNDAI\",\"TOYOTA\",\"HYUNDAI\",\"HYUNDAI\",\"FORD\",\"HONDA\",\"TOYOTA\",\"HYUNDAI\",\"TOYOTA\",\"TOYOTA\",\"MITSUBISHI\",\"TOYOTA\",\"HYUNDAI\",\"TOYOTA\",\"INFINITI\",\"MERCEDES-BENZ\",\"OPEL\",\"TOYOTA\",\"HYUNDAI\",\"MERCEDES-BENZ\",\"MERCEDES-BENZ\",\"HYUNDAI\",\"NISSAN\",\"BMW\",\"TOYOTA\",\"TOYOTA\",\"CHEVROLET\",\"HYUNDAI\",\"VOLKSWAGEN\",\"TOYOTA\",\"FORD\",\"TOYOTA\",\"TOYOTA\",\"TOYOTA\",\"HYUNDAI\",\"NISSAN\",\"BMW\",\"LEXUS\",\"TOYOTA\",\"MAZDA\",\"OPEL\",\"TOYOTA\",\"MERCEDES-BENZ\",\"TOYOTA\",\"BMW\",\"BMW\",\"BUICK\",\"HYUNDAI\",\"MERCEDES-BENZ\",\"BMW\",\"TOYOTA\",\"MAZDA\",\"VOLKSWAGEN\",\"HYUNDAI\",\"CHRYSLER\",\"SUZUKI\",\"HYUNDAI\",\"MERCEDES-BENZ\",\"TOYOTA\",\"MERCEDES-BENZ\",\"OPEL\",\"HYUNDAI\",\"TOYOTA\",\"HONDA\",\"AUDI\",\"JEEP\",\"TOYOTA\",\"TOYOTA\",\"TOYOTA\",\"TOYOTA\",\"FORD\",\"MITSUBISHI\",\"TOYOTA\",\"HYUNDAI\",\"BMW\",\"MERCEDES-BENZ\",\"FORD\",\"TOYOTA\",\"HYUNDAI\",\"HYUNDAI\",\"HONDA\",\"MERCEDES-BENZ\",\"SSANGYONG\",\"SUZUKI\",\"BMW\",\"MERCEDES-BENZ\",\"HYUNDAI\",\"SSANGYONG\",\"MITSUBISHI\",\"HYUNDAI\",\"HONDA\",\"HYUNDAI\",\"TOYOTA\",\"TOYOTA\",\"HONDA\",\"HYUNDAI\",\"OPEL\",\"HONDA\",\"TOYOTA\",\"TOYOTA\",\"BMW\",\"BMW\",\"TOYOTA\",\"HONDA\",\"LEXUS\",\"MERCEDES-BENZ\",\"TOYOTA\",\"LEXUS\",\"MERCEDES-BENZ\",\"VOLKSWAGEN\",\"FORD\",\"HYUNDAI\",\"HYUNDAI\",\"FORD\",\"MERCEDES-BENZ\",\"HYUNDAI\",\"INFINITI\",\"FORD\",\"MITSUBISHI\",\"HYUNDAI\",\"HYUNDAI\",\"BMW\",\"CHEVROLET\",\"BMW\",\"DAEWOO\",\"FORD\",\"MERCEDES-BENZ\",\"MERCEDES-BENZ\",\"TOYOTA\",\"FORD\",\"NISSAN\",\"JEEP\",\"TOYOTA\",\"MERCEDES-BENZ\",\"MAZDA\",\"TOYOTA\",\"MERCEDES-BENZ\",\"SKODA\",\"TOYOTA\",\"FORD\",\"HYUNDAI\",\"HYUNDAI\",\"SUZUKI\",\"TOYOTA\",\"LEXUS\",\"HYUNDAI\",\"SSANGYONG\",\"HYUNDAI\",\"TOYOTA\",\"TOYOTA\",\"HYUNDAI\",\"DAEWOO\",\"BMW\",\"HYUNDAI\",\"KIA\",\"TOYOTA\",\"FORD\",\"SSANGYONG\",\"TOYOTA\",\"LEXUS\",\"LEXUS\",\"VOLKSWAGEN\",\"HYUNDAI\",\"SCION\",\"CHEVROLET\",\"TOYOTA\",\"CHEVROLET\",\"FORD\",\"MERCEDES-BENZ\",\"HYUNDAI\",\"DODGE\",\"HYUNDAI\",\"TOYOTA\",\"KIA\",\"SSANGYONG\",\"INFINITI\",\"HONDA\",\"LEXUS\",\"LEXUS\",\"CHEVROLET\",\"VOLKSWAGEN\",\"OPEL\",\"BMW\",\"TOYOTA\",\"SUBARU\",\"HONDA\",\"TOYOTA\",\"HYUNDAI\",\"HYUNDAI\",\"LEXUS\",\"TOYOTA\",\"MITSUBISHI\",\"HYUNDAI\",\"NISSAN\",\"BMW\",\"BMW\",\"TOYOTA\",\"MAZDA\",\"HYUNDAI\",\"NISSAN\",\"HYUNDAI\",\"TOYOTA\",\"NISSAN\",\"TOYOTA\",\"ZAZ\",\"OPEL\",\"TOYOTA\",\"HYUNDAI\",\"NISSAN\",\"TOYOTA\",\"MERCEDES-BENZ\",\"BMW\",\"HYUNDAI\",\"MAZDA\",\"AUDI\",\"HYUNDAI\",\"LEXUS\",\"SUBARU\",\"VOLKSWAGEN\",\"HONDA\",\"FORD\",\"HONDA\",\"HYUNDAI\",\"MERCEDES-BENZ\",\"HYUNDAI\",\"HYUNDAI\",\"HYUNDAI\",\"SSANGYONG\",\"LEXUS\",\"TOYOTA\",\"HYUNDAI\",\"OPEL\",\"HYUNDAI\",\"VOLKSWAGEN\",\"CHEVROLET\",\"CHEVROLET\",\"HYUNDAI\",\"HYUNDAI\",\"TOYOTA\",\"HYUNDAI\",\"CHEVROLET\",\"LEXUS\",\"KIA\",\"HYUNDAI\",\"MERCEDES-BENZ\",\"CHEVROLET\",\"NISSAN\",\"BMW\",\"MERCEDES-BENZ\",\"TOYOTA\",\"MERCEDES-BENZ\",\"TOYOTA\",\"MERCEDES-BENZ\",\"TOYOTA\",\"HYUNDAI\",\"MERCEDES-BENZ\",\"DODGE\",\"JAGUAR\",\"HYUNDAI\",\"MERCEDES-BENZ\",\"TOYOTA\",\"RENAULT\",\"TOYOTA\",\"TOYOTA\",\"FORD\",\"HYUNDAI\",\"HYUNDAI\",\"FORD\",\"SSANGYONG\",\"MERCEDES-BENZ\",\"DAEWOO\",\"SUZUKI\",\"VAZ\",\"HYUNDAI\",\"TOYOTA\",\"TOYOTA\",\"HYUNDAI\",\"NISSAN\",\"NISSAN\",\"BMW\",\"TOYOTA\",\"MITSUBISHI\",\"FORD\",\"HYUNDAI\",\"HYUNDAI\",\"LEXUS\",\"HONDA\",\"TOYOTA\",\"OPEL\",\"TOYOTA\",\"HONDA\",\"ACURA\",\"TOYOTA\",\"SSANGYONG\",\"VOLVO\",\"HONDA\",\"HYUNDAI\",\"BMW\",\"HYUNDAI\",\"TOYOTA\",\"HYUNDAI\",\"HYUNDAI\",\"HYUNDAI\",\"HYUNDAI\",\"TOYOTA\",\"SSANGYONG\",\"HYUNDAI\",\"HYUNDAI\",\"MERCEDES-BENZ\",\"MERCEDES-BENZ\",\"OPEL\",\"TOYOTA\",\"LEXUS\",\"LEXUS\",\"TOYOTA\",\"FORD\",\"AUDI\",\"TOYOTA\",\"FORD\",\"TOYOTA\",\"MERCEDES-BENZ\",\"TOYOTA\",\"HYUNDAI\",\"HYUNDAI\",\"MERCEDES-BENZ\",\"TOYOTA\",\"MERCEDES-BENZ\",\"KIA\",\"CHEVROLET\",\"MERCEDES-BENZ\",\"HYUNDAI\",\"CHEVROLET\",\"ROVER\",\"HONDA\",\"BMW\",\"LEXUS\",\"MERCEDES-BENZ\",\"MERCEDES-BENZ\",\"FORD\",\"KIA\",\"AUDI\",\"VOLKSWAGEN\",\"DODGE\",\"TOYOTA\",\"MERCEDES-BENZ\",\"HYUNDAI\",\"HYUNDAI\",\"TOYOTA\",\"MERCEDES-BENZ\",\"TOYOTA\",\"NISSAN\",\"BMW\",\"HYUNDAI\",\"VOLKSWAGEN\",\"TOYOTA\",\"KIA\",\"FORD\",\"TOYOTA\",\"MERCEDES-BENZ\",\"MERCEDES-BENZ\",\"HYUNDAI\",\"HYUNDAI\",\"HYUNDAI\",\"TOYOTA\",\"HYUNDAI\",\"HONDA\",\"HYUNDAI\",\"TOYOTA\",\"JAGUAR\",\"MERCEDES-BENZ\",\"TOYOTA\",\"BMW\",\"VOLKSWAGEN\",\"MITSUBISHI\",\"BMW\",\"VOLVO\",\"VOLKSWAGEN\",\"HONDA\",\"HYUNDAI\",\"BMW\",\"HYUNDAI\",\"OPEL\",\"FORD\",\"TOYOTA\",\"FORD\",\"HYUNDAI\",\"HYUNDAI\",\"BMW\",\"KIA\",\"MAZDA\",\"HYUNDAI\",\"HYUNDAI\",\"OPEL\",\"FORD\",\"TOYOTA\",\"HYUNDAI\",\"HYUNDAI\",\"HYUNDAI\",\"SSANGYONG\",\"MERCEDES-BENZ\",\"HYUNDAI\",\"HYUNDAI\",\"BMW\",\"KIA\",\"VOLKSWAGEN\",\"HYUNDAI\",\"OPEL\",\"TOYOTA\",\"TOYOTA\",\"BMW\",\"HONDA\",\"HYUNDAI\",\"MERCEDES-BENZ\",\"VOLKSWAGEN\",\"FORD\",\"BMW\",\"HONDA\",\"OPEL\",\"MERCEDES-BENZ\",\"LEXUS\",\"LEXUS\",\"BMW\",\"DAEWOO\",\"LEXUS\",\"BMW\",\"TOYOTA\",\"KIA\",\"TOYOTA\",\"FORD\",\"HYUNDAI\",\"CHEVROLET\",\"DODGE\",\"SUBARU\",\"FORD\",\"SUBARU\",\"HYUNDAI\",\"NISSAN\",\"KIA\",\"DAIHATSU\",\"HYUNDAI\",\"FORD\",\"HONDA\",\"BMW\",\"MITSUBISHI\",\"VOLKSWAGEN\",\"HYUNDAI\",\"TOYOTA\",\"HYUNDAI\",\"VAZ\",\"HYUNDAI\",\"LEXUS\",\"BMW\",\"MERCEDES-BENZ\",\"TOYOTA\",\"TOYOTA\",\"MERCEDES-BENZ\",\"TOYOTA\",\"VOLKSWAGEN\",\"MERCEDES-BENZ\",\"LEXUS\",\"HYUNDAI\",\"MERCEDES-BENZ\",\"TOYOTA\",\"TOYOTA\",\"SUBARU\",\"LEXUS\",\"TOYOTA\",\"MERCEDES-BENZ\",\"UAZ\",\"MERCEDES-BENZ\",\"RENAULT\",\"TOYOTA\",\"TOYOTA\",\"MITSUBISHI\",\"HYUNDAI\",\"HYUNDAI\",\"BMW\",\"MAZDA\",\"OPEL\",\"HONDA\",\"TOYOTA\",\"KIA\",\"TOYOTA\",\"LEXUS\",\"LEXUS\",\"TOYOTA\",\"FORD\",\"FORD\",\"HYUNDAI\",\"LINCOLN\",\"MERCEDES-BENZ\",\"MERCEDES-BENZ\",\"TOYOTA\",\"TOYOTA\",\"BMW\",\"FORD\",\"HYUNDAI\",\"MERCEDES-BENZ\",\"HYUNDAI\",\"HYUNDAI\",\"HYUNDAI\",\"CHEVROLET\",\"HYUNDAI\",\"CHEVROLET\",\"HYUNDAI\",\"HONDA\",\"LEXUS\",\"MERCEDES-BENZ\",\"MERCEDES-BENZ\",\"BMW\",\"PORSCHE\",\"MERCEDES-BENZ\",\"HYUNDAI\",\"MERCEDES-BENZ\",\"BMW\",\"TOYOTA\",\"CHEVROLET\",\"HONDA\",\"TOYOTA\",\"TOYOTA\",\"MERCEDES-BENZ\",\"LEXUS\",\"HYUNDAI\",\"CHEVROLET\",\"TOYOTA\",\"SUZUKI\",\"TOYOTA\",\"KIA\",\"CHEVROLET\",\"MITSUBISHI\",\"HONDA\",\"SSANGYONG\",\"SSANGYONG\",\"VOLKSWAGEN\",\"TOYOTA\",\"NISSAN\",\"TOYOTA\",\"OPEL\",\"VOLKSWAGEN\",\"MERCEDES-BENZ\",\"TOYOTA\",\"MERCEDES-BENZ\",\"AUDI\",\"TOYOTA\",\"HONDA\",\"TOYOTA\",\"CHEVROLET\",\"HYUNDAI\",\"SUBARU\",\"MITSUBISHI\",\"FIAT\",\"HYUNDAI\",\"HYUNDAI\",\"TOYOTA\",\"SSANGYONG\",\"HYUNDAI\",\"HYUNDAI\",\"OPEL\",\"HONDA\",\"TOYOTA\",\"FORD\",\"MITSUBISHI\",\"HYUNDAI\",\"SSANGYONG\",\"TOYOTA\",\"HYUNDAI\",\"HYUNDAI\",\"MAZDA\",\"BMW\",\"NISSAN\",\"TOYOTA\",\"TOYOTA\",\"TOYOTA\",\"VOLKSWAGEN\",\"MERCEDES-BENZ\",\"TOYOTA\",\"HYUNDAI\",\"NISSAN\",\"MERCEDES-BENZ\",\"TOYOTA\",\"TOYOTA\",\"CHEVROLET\",\"TOYOTA\",\"SUZUKI\",\"HYUNDAI\",\"HYUNDAI\",\"LEXUS\",\"MINI\",\"INFINITI\",\"VOLKSWAGEN\",\"CHEVROLET\",\"CHEVROLET\",\"HONDA\",\"CADILLAC\",\"SUBARU\",\"TOYOTA\",\"HYUNDAI\",\"HONDA\",\"CHEVROLET\",\"HYUNDAI\",\"TOYOTA\",\"SSANGYONG\",\"TOYOTA\",\"SUZUKI\",\"LEXUS\",\"HYUNDAI\",\"BMW\",\"HYUNDAI\",\"BMW\",\"HYUNDAI\",\"SSANGYONG\",\"SUBARU\",\"SSANGYONG\",\"KIA\",\"GMC\",\"HYUNDAI\",\"FIAT\",\"MERCEDES-BENZ\",\"NISSAN\",\"TOYOTA\",\"HYUNDAI\",\"TOYOTA\",\"HYUNDAI\",\"MERCEDES-BENZ\",\"JEEP\",\"TOYOTA\",\"HYUNDAI\",\"TOYOTA\",\"SSANGYONG\",\"HONDA\",\"VOLKSWAGEN\",\"HYUNDAI\",\"FORD\",\"HONDA\",\"MERCEDES-BENZ\",\"KIA\",\"HYUNDAI\",\"MERCEDES-BENZ\",\"BMW\",\"MERCEDES-BENZ\",\"HYUNDAI\",\"AUDI\",\"HONDA\",\"MERCEDES-BENZ\",\"NISSAN\",\"HYUNDAI\",\"BMW\",\"MERCEDES-BENZ\",\"VOLKSWAGEN\",\"CHEVROLET\",\"HONDA\",\"MERCEDES-BENZ\",\"TOYOTA\",\"HYUNDAI\",\"HYUNDAI\",\"HYUNDAI\",\"BMW\",\"FORD\",\"CHEVROLET\",\"HYUNDAI\",\"TOYOTA\",\"FORD\",\"HYUNDAI\",\"HYUNDAI\",\"FORD\",\"HYUNDAI\",\"MERCEDES-BENZ\",\"OPEL\",\"MERCEDES-BENZ\",\"LEXUS\",\"CHEVROLET\",\"BMW\",\"MERCEDES-BENZ\",\"TOYOTA\",\"HYUNDAI\",\"HYUNDAI\",\"VAZ\",\"HONDA\",\"HONDA\",\"HONDA\",\"FORD\",\"TOYOTA\",\"LEXUS\",\"CHEVROLET\",\"HYUNDAI\",\"HYUNDAI\",\"SSANGYONG\",\"CHEVROLET\",\"TOYOTA\",\"TOYOTA\",\"AUDI\",\"FORD\",\"HYUNDAI\",\"HONDA\",\"TOYOTA\",\"LEXUS\",\"HYUNDAI\",\"MERCEDES-BENZ\",\"MERCEDES-BENZ\",\"HYUNDAI\",\"NISSAN\",\"SSANGYONG\",\"CHEVROLET\",\"MAZDA\",\"KIA\",\"HONDA\",\"CHEVROLET\",\"LEXUS\",\"BMW\",\"TOYOTA\",\"LEXUS\",\"MERCEDES-BENZ\",\"TOYOTA\",\"HYUNDAI\",\"HYUNDAI\",\"HONDA\",\"BMW\",\"FORD\",\"TOYOTA\",\"SUBARU\",\"HYUNDAI\",\"TOYOTA\",\"MERCEDES-BENZ\",\"MERCEDES-BENZ\",\"TOYOTA\",\"TOYOTA\",\"SUZUKI\",\"TOYOTA\",\"MERCEDES-BENZ\",\"FORD\",\"CHEVROLET\",\"TOYOTA\",\"FORD\",\"HONDA\",\"NISSAN\",\"HYUNDAI\",\"LEXUS\",\"MITSUBISHI\",\"HONDA\",\"HYUNDAI\",\"HYUNDAI\",\"BMW\",\"FORD\",\"JEEP\",\"HYUNDAI\",\"HYUNDAI\",\"SEAT\",\"TOYOTA\",\"MERCEDES-BENZ\",\"HYUNDAI\",\"MERCEDES-BENZ\",\"RENAULT\",\"TOYOTA\",\"HYUNDAI\",\"MAZDA\",\"HYUNDAI\",\"TOYOTA\",\"HYUNDAI\",\"KIA\",\"HONDA\",\"CHEVROLET\",\"BMW\",\"TOYOTA\",\"CHEVROLET\",\"BMW\",\"HYUNDAI\",\"VOLKSWAGEN\",\"MERCEDES-BENZ\",\"LEXUS\",\"AUDI\",\"VAZ\",\"MERCEDES-BENZ\",\"HYUNDAI\",\"MERCEDES-BENZ\",\"HYUNDAI\",\"TOYOTA\",\"TOYOTA\",\"OPEL\",\"DAEWOO\",\"OPEL\",\"FORD\",\"HYUNDAI\",\"FORD\",\"TOYOTA\",\"HONDA\",\"HONDA\",\"MERCEDES-BENZ\",\"HYUNDAI\",\"FORD\",\"INFINITI\",\"HONDA\",\"MAZDA\",\"TOYOTA\",\"FORD\",\"TOYOTA\",\"MERCEDES-BENZ\",\"BMW\",\"TOYOTA\",\"FIAT\",\"MERCEDES-BENZ\",\"TOYOTA\",\"HONDA\",\"LEXUS\",\"SUZUKI\",\"TOYOTA\",\"TOYOTA\",\"TOYOTA\",\"TOYOTA\",\"VOLKSWAGEN\",\"TOYOTA\",\"HYUNDAI\",\"LEXUS\",\"SSANGYONG\",\"HYUNDAI\",\"TOYOTA\",\"BMW\",\"HONDA\",\"MERCEDES-BENZ\",\"HYUNDAI\",\"LEXUS\",\"MAZDA\",\"TOYOTA\",\"LEXUS\",\"AUDI\",\"KIA\",\"BMW\",\"MERCEDES-BENZ\",\"LEXUS\",\"TOYOTA\",\"TOYOTA\",\"NISSAN\",\"TOYOTA\",\"BMW\",\"HYUNDAI\",\"MERCEDES-BENZ\",\"HONDA\",\"BMW\",\"HYUNDAI\",\"TOYOTA\",\"HYUNDAI\",\"MERCEDES-BENZ\",\"BMW\",\"TOYOTA\",\"CHEVROLET\",\"TOYOTA\",\"BMW\",\"CHEVROLET\",\"FIAT\",\"HYUNDAI\",\"VOLKSWAGEN\",\"FORD\",\"NISSAN\",\"HYUNDAI\",\"TOYOTA\",\"JEEP\",\"HYUNDAI\",\"SSANGYONG\",\"SUZUKI\",\"HYUNDAI\",\"MERCEDES-BENZ\",\"NISSAN\",\"HYUNDAI\",\"TOYOTA\",\"BMW\",\"MERCEDES-BENZ\",\"TOYOTA\",\"FORD\",\"MERCEDES-BENZ\",\"MERCEDES-BENZ\",\"FORD\",\"BMW\",\"MAZDA\",\"HYUNDAI\",\"MERCEDES-BENZ\",\"TOYOTA\",\"VOLKSWAGEN\",\"DODGE\",\"TOYOTA\",\"HYUNDAI\",\"FORD\",\"FORD\",\"TOYOTA\",\"VOLKSWAGEN\",\"HYUNDAI\",\"FORD\",\"TOYOTA\",\"HONDA\",\"TOYOTA\",\"HONDA\",\"VOLKSWAGEN\",\"LEXUS\",\"BMW\",\"LEXUS\",\"LEXUS\",\"HYUNDAI\",\"HYUNDAI\",\"VOLKSWAGEN\",\"BMW\",\"HYUNDAI\",\"HYUNDAI\",\"FORD\",\"SUBARU\",\"HYUNDAI\",\"BMW\",\"HONDA\",\"NISSAN\",\"TOYOTA\",\"HYUNDAI\",\"NISSAN\",\"TOYOTA\",\"MERCEDES-BENZ\",\"CHEVROLET\",\"NISSAN\",\"HYUNDAI\",\"CHEVROLET\",\"TOYOTA\",\"LEXUS\",\"MERCEDES-BENZ\",\"MERCEDES-BENZ\",\"HYUNDAI\",\"FORD\",\"MERCEDES-BENZ\",\"TOYOTA\",\"BMW\",\"OPEL\",\"LEXUS\",\"SSANGYONG\",\"HYUNDAI\",\"LEXUS\",\"HYUNDAI\",\"TOYOTA\",\"HYUNDAI\",\"MERCEDES-BENZ\",\"TOYOTA\",\"HYUNDAI\",\"LEXUS\",\"HYUNDAI\",\"BMW\",\"MITSUBISHI\",\"SSANGYONG\",\"BMW\",\"BMW\",\"TOYOTA\",\"HYUNDAI\",\"MERCEDES-BENZ\",\"FORD\",\"MERCEDES-BENZ\",\"TOYOTA\",\"TOYOTA\",\"MERCEDES-BENZ\",\"TOYOTA\",\"HYUNDAI\",\"HYUNDAI\",\"FORD\",\"SUBARU\",\"TOYOTA\",\"PORSCHE\",\"HYUNDAI\",\"HYUNDAI\",\"FORD\",\"TOYOTA\",\"MERCEDES-BENZ\",\"BMW\",\"HYUNDAI\",\"BMW\",\"HYUNDAI\",\"TOYOTA\",\"HONDA\",\"VOLKSWAGEN\",\"CHEVROLET\",\"VOLKSWAGEN\",\"TOYOTA\",\"MERCEDES-BENZ\",\"LEXUS\",\"VAZ\",\"HYUNDAI\",\"VOLKSWAGEN\",\"BMW\",\"SUBARU\",\"LEXUS\",\"HONDA\",\"HYUNDAI\",\"GAZ\",\"MERCEDES-BENZ\",\"MERCEDES-BENZ\",\"MERCEDES-BENZ\",\"FORD\",\"TOYOTA\",\"LEXUS\",\"KIA\",\"HONDA\",\"KIA\",\"PORSCHE\",\"FORD\",\"MERCEDES-BENZ\",\"LEXUS\",\"HONDA\",\"BMW\",\"MERCEDES-BENZ\",\"SSANGYONG\",\"TOYOTA\",\"OPEL\",\"TOYOTA\",\"HYUNDAI\",\"TOYOTA\",\"DAEWOO\",\"KIA\",\"LEXUS\",\"VAZ\",\"MERCEDES-BENZ\",\"TOYOTA\",\"HYUNDAI\",\"TOYOTA\",\"HYUNDAI\",\"TOYOTA\",\"CHEVROLET\",\"MERCEDES-BENZ\",\"LEXUS\",\"FORD\",\"HYUNDAI\",\"TOYOTA\",\"VOLKSWAGEN\",\"HONDA\",\"TOYOTA\",\"HONDA\",\"HYUNDAI\",\"CHEVROLET\",\"CHEVROLET\",\"FORD\",\"LEXUS\",\"HYUNDAI\",\"NISSAN\",\"TOYOTA\",\"VOLKSWAGEN\",\"LEXUS\",\"OPEL\",\"HYUNDAI\",\"MERCEDES-BENZ\",\"HYUNDAI\",\"CHEVROLET\",\"HONDA\",\"HYUNDAI\",\"OPEL\",\"TOYOTA\",\"MERCEDES-BENZ\",\"MERCEDES-BENZ\",\"HYUNDAI\",\"TOYOTA\",\"TOYOTA\",\"CHEVROLET\",\"CHRYSLER\",\"HYUNDAI\",\"FORD\",\"LEXUS\",\"NISSAN\",\"MERCEDES-BENZ\",\"HYUNDAI\",\"TOYOTA\",\"MAZDA\",\"CHEVROLET\",\"SSANGYONG\",\"HONDA\",\"TOYOTA\",\"TOYOTA\",\"HYUNDAI\",\"HYUNDAI\",\"MERCEDES-BENZ\",\"HYUNDAI\",\"HYUNDAI\",\"HYUNDAI\",\"SSANGYONG\",\"HYUNDAI\",\"TOYOTA\",\"VOLKSWAGEN\",\"HYUNDAI\",\"LEXUS\",\"TOYOTA\",\"CHEVROLET\",\"FORD\",\"MERCEDES-BENZ\",\"TOYOTA\",\"LEXUS\",\"TOYOTA\",\"HYUNDAI\",\"CHEVROLET\",\"VOLKSWAGEN\",\"SUBARU\",\"CHEVROLET\",\"HYUNDAI\",\"TOYOTA\",\"CHEVROLET\",\"MERCEDES-BENZ\",\"HYUNDAI\",\"CHEVROLET\",\"HYUNDAI\",\"TOYOTA\",\"FORD\",\"MERCEDES-BENZ\",\"SSANGYONG\",\"MERCEDES-BENZ\",\"MITSUBISHI\",\"MERCEDES-BENZ\",\"HYUNDAI\",\"KIA\",\"HYUNDAI\",\"MERCEDES-BENZ\",\"BMW\",\"HYUNDAI\",\"CHEVROLET\",\"DODGE\",\"SSANGYONG\",\"HYUNDAI\",\"NISSAN\",\"TOYOTA\",\"INFINITI\",\"BMW\",\"MITSUBISHI\",\"TOYOTA\",\"CHEVROLET\",\"HYUNDAI\",\"HYUNDAI\",\"SKODA\",\"TOYOTA\",\"LEXUS\",\"TOYOTA\",\"CHEVROLET\",\"MERCEDES-BENZ\",\"MAZDA\",\"DAEWOO\",\"TOYOTA\",\"HYUNDAI\",\"HONDA\",\"MERCEDES-BENZ\",\"HYUNDAI\",\"HYUNDAI\",\"CHEVROLET\",\"SSANGYONG\",\"FORD\",\"BMW\",\"PORSCHE\",\"HYUNDAI\",\"CHEVROLET\",\"TOYOTA\",\"SSANGYONG\",\"LEXUS\",\"NISSAN\",\"SSANGYONG\",\"SUBARU\",\"DODGE\",\"AUDI\",\"HONDA\",\"MERCEDES-BENZ\",\"FIAT\",\"TOYOTA\",\"FIAT\",\"NISSAN\",\"HYUNDAI\",\"KIA\",\"TOYOTA\",\"HYUNDAI\",\"FORD\",\"LEXUS\",\"HYUNDAI\",\"HYUNDAI\",\"TOYOTA\",\"HYUNDAI\",\"NISSAN\",\"TOYOTA\",\"TOYOTA\",\"SUZUKI\",\"MERCEDES-BENZ\",\"LEXUS\",\"KIA\",\"HYUNDAI\",\"HYUNDAI\",\"LEXUS\",\"HYUNDAI\",\"TOYOTA\",\"FORD\",\"HYUNDAI\",\"MERCEDES-BENZ\",\"FORD\",\"TOYOTA\",\"LEXUS\",\"TOYOTA\",\"MERCEDES-BENZ\",\"HYUNDAI\",\"BMW\",\"HYUNDAI\",\"TOYOTA\",\"HYUNDAI\",\"VOLKSWAGEN\",\"TOYOTA\",\"HYUNDAI\",\"HYUNDAI\",\"MERCEDES-BENZ\",\"VOLKSWAGEN\",\"HONDA\",\"HYUNDAI\",\"HONDA\",\"HONDA\",\"HYUNDAI\",\"MITSUBISHI\",\"TOYOTA\",\"TOYOTA\",\"TOYOTA\",\"TOYOTA\",\"HYUNDAI\",\"CHEVROLET\",\"HONDA\",\"FORD\",\"TOYOTA\",\"HONDA\",\"HONDA\",\"TOYOTA\",\"CHEVROLET\",\"OPEL\",\"BMW\",\"HYUNDAI\",\"CHEVROLET\",\"OPEL\",\"TOYOTA\",\"LEXUS\",\"MERCEDES-BENZ\",\"HYUNDAI\",\"HONDA\",\"NISSAN\",\"FORD\",\"TOYOTA\",\"BMW\",\"FIAT\",\"TOYOTA\",\"HYUNDAI\",\"HYUNDAI\",\"TOYOTA\",\"VAZ\",\"MERCEDES-BENZ\",\"MERCEDES-BENZ\",\"NISSAN\",\"BMW\",\"TOYOTA\",\"TOYOTA\",\"HONDA\",\"HYUNDAI\",\"MERCEDES-BENZ\",\"FORD\",\"TOYOTA\",\"OPEL\",\"AUDI\",\"LEXUS\",\"MERCEDES-BENZ\",\"TOYOTA\",\"TOYOTA\",\"HYUNDAI\",\"NISSAN\",\"FORD\",\"SSANGYONG\",\"HYUNDAI\",\"CHEVROLET\",\"LEXUS\",\"BMW\",\"MITSUBISHI\",\"HYUNDAI\",\"HYUNDAI\",\"SUBARU\",\"TOYOTA\",\"HYUNDAI\",\"LEXUS\",\"CHEVROLET\",\"TOYOTA\",\"CHEVROLET\",\"LEXUS\",\"HYUNDAI\",\"OPEL\",\"LEXUS\",\"TOYOTA\",\"HYUNDAI\",\"HYUNDAI\",\"UAZ\",\"TOYOTA\",\"CHEVROLET\",\"SUBARU\",\"TOYOTA\",\"MITSUBISHI\",\"TOYOTA\",\"TOYOTA\",\"NISSAN\",\"TOYOTA\",\"HONDA\",\"HYUNDAI\",\"FORD\",\"SUBARU\",\"TOYOTA\",\"DAEWOO\",\"FORD\",\"LEXUS\",\"CHRYSLER\",\"BMW\",\"NISSAN\",\"SUBARU\",\"MERCEDES-BENZ\",\"HYUNDAI\",\"TOYOTA\",\"FORD\",\"HYUNDAI\",\"HYUNDAI\",\"TOYOTA\",\"BMW\",\"TOYOTA\",\"NISSAN\",\"LEXUS\",\"TOYOTA\",\"SKODA\",\"CHEVROLET\",\"TOYOTA\",\"CHEVROLET\",\"TOYOTA\",\"MERCEDES-BENZ\",\"HONDA\",\"TOYOTA\",\"MERCEDES-BENZ\",\"LEXUS\",\"HYUNDAI\",\"BMW\",\"MITSUBISHI\",\"TOYOTA\",\"HYUNDAI\",\"HYUNDAI\",\"MERCEDES-BENZ\",\"FORD\",\"LEXUS\",\"MERCEDES-BENZ\",\"HYUNDAI\",\"TOYOTA\",\"HYUNDAI\",\"MERCEDES-BENZ\",\"HYUNDAI\",\"FORD\",\"SSANGYONG\",\"LEXUS\",\"HONDA\",\"SUBARU\",\"CHEVROLET\",\"FORD\",\"MERCEDES-BENZ\",\"BMW\",\"HONDA\",\"MAZDA\",\"NISSAN\",\"TOYOTA\",\"TOYOTA\",\"LEXUS\",\"OPEL\",\"TOYOTA\",\"HYUNDAI\",\"SUBARU\",\"TOYOTA\",\"TOYOTA\",\"HYUNDAI\",\"MERCEDES-BENZ\",\"TOYOTA\",\"MERCEDES-BENZ\",\"MERCEDES-BENZ\",\"CHEVROLET\",\"CHEVROLET\",\"TOYOTA\",\"TOYOTA\",\"BMW\",\"CHEVROLET\",\"TOYOTA\",\"HONDA\",\"NISSAN\",\"HYUNDAI\",\"FORD\",\"MINI\",\"HONDA\",\"NISSAN\",\"HONDA\",\"FORD\",\"FORD\",\"LEXUS\",\"VAZ\",\"FORD\",\"CHEVROLET\",\"MERCEDES-BENZ\",\"CITROEN\",\"KIA\",\"HONDA\",\"CHEVROLET\",\"HYUNDAI\",\"CHEVROLET\",\"FORD\",\"NISSAN\",\"TOYOTA\",\"TOYOTA\",\"FORD\",\"TOYOTA\",\"HYUNDAI\",\"CHEVROLET\",\"HYUNDAI\",\"NISSAN\",\"HYUNDAI\",\"MERCEDES-BENZ\",\"HYUNDAI\",\"TOYOTA\",\"TOYOTA\",\"FORD\",\"CHEVROLET\",\"MERCEDES-BENZ\",\"HYUNDAI\",\"LEXUS\",\"AUDI\",\"NISSAN\",\"TOYOTA\",\"FORD\",\"AUDI\",\"LEXUS\",\"TOYOTA\",\"LEXUS\",\"TOYOTA\",\"HYUNDAI\",\"MERCEDES-BENZ\",\"TOYOTA\",\"HYUNDAI\",\"HYUNDAI\",\"KIA\",\"HONDA\",\"HYUNDAI\",\"TOYOTA\",\"HYUNDAI\",\"HYUNDAI\",\"TOYOTA\",\"HONDA\",\"BMW\",\"TOYOTA\",\"AUDI\",\"TOYOTA\",\"NISSAN\",\"LEXUS\",\"HONDA\",\"HYUNDAI\",\"FORD\",\"TOYOTA\",\"KIA\",\"HYUNDAI\",\"BMW\",\"VOLKSWAGEN\",\"HYUNDAI\",\"BMW\",\"HYUNDAI\",\"TOYOTA\",\"SSANGYONG\",\"HYUNDAI\",\"HONDA\",\"LEXUS\",\"LEXUS\",\"MITSUBISHI\",\"HYUNDAI\",\"TOYOTA\",\"TOYOTA\",\"TOYOTA\",\"HYUNDAI\",\"LEXUS\",\"VOLKSWAGEN\",\"TOYOTA\",\"TOYOTA\",\"HYUNDAI\",\"BMW\",\"NISSAN\",\"OPEL\",\"MERCEDES-BENZ\",\"MERCEDES-BENZ\",\"TOYOTA\",\"DAEWOO\",\"DAEWOO\",\"FORD\",\"KIA\",\"TOYOTA\",\"TOYOTA\",\"TOYOTA\",\"HYUNDAI\",\"HONDA\",\"RENAULT\",\"TOYOTA\",\"TOYOTA\",\"HYUNDAI\",\"TOYOTA\",\"KIA\",\"HYUNDAI\",\"NISSAN\",\"LEXUS\",\"NISSAN\",\"TOYOTA\",\"TOYOTA\",\"MERCEDES-BENZ\",\"FORD\",\"SUBARU\",\"TOYOTA\",\"TOYOTA\",\"HYUNDAI\",\"FORD\",\"FORD\",\"CHEVROLET\",\"HYUNDAI\",\"VOLKSWAGEN\",\"CHEVROLET\",\"SSANGYONG\",\"TOYOTA\",\"HONDA\",\"NISSAN\",\"HONDA\",\"LEXUS\",\"BMW\",\"MERCEDES-BENZ\",\"HYUNDAI\",\"TOYOTA\",\"NISSAN\",\"HYUNDAI\",\"TOYOTA\",\"KIA\",\"HYUNDAI\",\"HYUNDAI\",\"VOLKSWAGEN\",\"MERCEDES-BENZ\",\"BMW\",\"OPEL\",\"HYUNDAI\",\"HYUNDAI\",\"BMW\",\"LEXUS\",\"HONDA\",\"HYUNDAI\",\"HYUNDAI\",\"LEXUS\",\"HYUNDAI\",\"HYUNDAI\",\"VOLKSWAGEN\",\"CHEVROLET\",\"OPEL\",\"HONDA\",\"MERCEDES-BENZ\",\"CHEVROLET\",\"MERCEDES-BENZ\",\"CHEVROLET\",\"TOYOTA\",\"TOYOTA\",\"SSANGYONG\",\"BMW\",\"CHEVROLET\",\"BMW\",\"HYUNDAI\",\"VOLKSWAGEN\",\"FORD\",\"HYUNDAI\",\"TOYOTA\",\"FORD\",\"SUBARU\",\"HYUNDAI\",\"MAZDA\",\"SUZUKI\",\"TOYOTA\",\"HONDA\",\"TOYOTA\",\"CHEVROLET\",\"OPEL\",\"HYUNDAI\",\"BMW\",\"AUDI\",\"CHEVROLET\",\"MAZDA\",\"SSANGYONG\",\"SSANGYONG\",\"TOYOTA\",\"GMC\",\"TOYOTA\",\"MERCEDES-BENZ\",\"HONDA\",\"TOYOTA\",\"NISSAN\",\"HYUNDAI\",\"HYUNDAI\",\"TOYOTA\",\"NISSAN\",\"HONDA\",\"TOYOTA\",\"MERCEDES-BENZ\",\"HONDA\",\"NISSAN\",\"HONDA\",\"TOYOTA\",\"VOLKSWAGEN\",\"MERCEDES-BENZ\",\"LEXUS\",\"FORD\",\"JEEP\",\"OPEL\",\"TOYOTA\",\"HYUNDAI\",\"MERCEDES-BENZ\",\"HYUNDAI\",\"KIA\",\"FORD\",\"MERCEDES-BENZ\",\"LANCIA\",\"LEXUS\",\"NISSAN\",\"HYUNDAI\",\"CHEVROLET\",\"MERCEDES-BENZ\",\"FORD\",\"TOYOTA\",\"TOYOTA\",\"HYUNDAI\",\"TOYOTA\",\"HONDA\",\"TOYOTA\",\"KIA\",\"BMW\",\"BMW\",\"OPEL\",\"MERCEDES-BENZ\",\"VOLKSWAGEN\",\"HYUNDAI\",\"TOYOTA\",\"MERCEDES-BENZ\",\"TOYOTA\",\"BMW\",\"OPEL\",\"FORD\",\"KIA\",\"BMW\",\"VOLKSWAGEN\",\"CHEVROLET\",\"JEEP\",\"HYUNDAI\",\"HYUNDAI\",\"SSANGYONG\",\"VOLKSWAGEN\",\"CHEVROLET\",\"SUBARU\",\"HYUNDAI\",\"VOLKSWAGEN\",\"TOYOTA\",\"HYUNDAI\",\"HYUNDAI\",\"MITSUBISHI\",\"JAGUAR\",\"TOYOTA\",\"HYUNDAI\",\"MERCEDES-BENZ\",\"TOYOTA\",\"HYUNDAI\",\"MERCEDES-BENZ\",\"HYUNDAI\",\"TOYOTA\",\"MERCEDES-BENZ\",\"MERCEDES-BENZ\",\"HYUNDAI\",\"LEXUS\",\"KIA\",\"NISSAN\",\"FORD\",\"TOYOTA\",\"TOYOTA\",\"LAND ROVER\",\"MITSUBISHI\",\"CHEVROLET\",\"HONDA\",\"TOYOTA\",\"LEXUS\",\"BMW\",\"MERCEDES-BENZ\",\"TOYOTA\",\"TOYOTA\",\"MERCEDES-BENZ\",\"OPEL\",\"HONDA\",\"HYUNDAI\",\"HYUNDAI\",\"HYUNDAI\",\"HYUNDAI\",\"HYUNDAI\",\"HYUNDAI\",\"SSANGYONG\",\"TOYOTA\",\"HYUNDAI\",\"MERCEDES-BENZ\",\"BMW\",\"DAEWOO\",\"FIAT\",\"MERCEDES-BENZ\",\"TOYOTA\",\"MERCEDES-BENZ\",\"MERCEDES-BENZ\",\"MERCEDES-BENZ\",\"HYUNDAI\",\"HYUNDAI\",\"TOYOTA\",\"TOYOTA\",\"HYUNDAI\",\"BMW\",\"TOYOTA\",\"MERCEDES-BENZ\",\"MERCEDES-BENZ\",\"MERCEDES-BENZ\",\"TOYOTA\",\"VOLKSWAGEN\",\"HYUNDAI\",\"MERCEDES-BENZ\",\"SSANGYONG\",\"TOYOTA\",\"HYUNDAI\",\"TOYOTA\",\"MERCEDES-BENZ\",\"HYUNDAI\",\"CHEVROLET\",\"FORD\",\"MERCEDES-BENZ\",\"CHEVROLET\",\"MERCEDES-BENZ\",\"MAZDA\",\"DAIHATSU\",\"LEXUS\",\"HYUNDAI\",\"CHEVROLET\",\"HYUNDAI\",\"MERCEDES-BENZ\",\"HONDA\",\"TOYOTA\",\"TOYOTA\",\"TOYOTA\",\"TOYOTA\",\"FORD\",\"MOSKVICH\",\"VOLKSWAGEN\",\"CHEVROLET\",\"HYUNDAI\",\"HYUNDAI\",\"LEXUS\",\"TOYOTA\",\"HONDA\",\"DAIHATSU\",\"TOYOTA\",\"TOYOTA\",\"SUBARU\",\"FIAT\",\"LEXUS\",\"HONDA\",\"LEXUS\",\"CADILLAC\",\"TOYOTA\",\"MASERATI\",\"CHEVROLET\",\"BMW\",\"TOYOTA\",\"LEXUS\",\"PORSCHE\",\"TOYOTA\",\"TOYOTA\",\"HONDA\",\"TOYOTA\",\"HYUNDAI\",\"VOLKSWAGEN\",\"HYUNDAI\",\"HONDA\",\"HYUNDAI\",\"SUZUKI\",\"TOYOTA\",\"MERCEDES-BENZ\",\"TOYOTA\",\"TOYOTA\",\"HYUNDAI\",\"MITSUBISHI\",\"FORD\",\"NISSAN\",\"VOLKSWAGEN\",\"TOYOTA\",\"LEXUS\",\"OPEL\",\"FORD\",\"TOYOTA\",\"OPEL\",\"LEXUS\",\"HONDA\",\"HONDA\",\"BMW\",\"BMW\",\"CHEVROLET\",\"BMW\",\"HYUNDAI\",\"FORD\",\"OPEL\",\"VOLKSWAGEN\",\"SSANGYONG\",\"TOYOTA\",\"LEXUS\",\"TOYOTA\",\"HYUNDAI\",\"HONDA\",\"HYUNDAI\",\"HONDA\",\"BMW\",\"HYUNDAI\",\"HYUNDAI\",\"MERCEDES-BENZ\",\"KIA\",\"HYUNDAI\",\"FORD\",\"TOYOTA\",\"TOYOTA\",\"MITSUBISHI\",\"BMW\",\"TOYOTA\",\"HYUNDAI\",\"TOYOTA\",\"NISSAN\",\"CHEVROLET\",\"HYUNDAI\",\"LEXUS\",\"TOYOTA\",\"HYUNDAI\",\"FORD\",\"HYUNDAI\",\"TOYOTA\",\"MERCEDES-BENZ\",\"HYUNDAI\",\"MERCEDES-BENZ\",\"HYUNDAI\",\"BMW\",\"TOYOTA\",\"HYUNDAI\",\"FORD\",\"HYUNDAI\",\"FORD\",\"LINCOLN\",\"HYUNDAI\",\"CHEVROLET\",\"MERCEDES-BENZ\",\"HONDA\",\"MITSUBISHI\",\"TOYOTA\",\"TOYOTA\",\"AUDI\",\"TOYOTA\",\"TOYOTA\",\"CHEVROLET\",\"HYUNDAI\",\"PORSCHE\",\"SSANGYONG\",\"HYUNDAI\",\"HYUNDAI\",\"SSANGYONG\",\"TOYOTA\",\"MERCEDES-BENZ\",\"VOLKSWAGEN\",\"FORD\",\"LEXUS\",\"TOYOTA\",\"HYUNDAI\",\"LEXUS\",\"OPEL\",\"AUDI\",\"MERCEDES-BENZ\",\"FORD\",\"MERCEDES-BENZ\",\"PORSCHE\",\"CHRYSLER\",\"BMW\",\"HONDA\",\"TOYOTA\",\"NISSAN\",\"HYUNDAI\",\"LEXUS\",\"HYUNDAI\",\"HONDA\",\"LEXUS\",\"FORD\",\"AUDI\",\"MERCEDES-BENZ\",\"HYUNDAI\",\"OPEL\",\"TOYOTA\",\"MERCEDES-BENZ\",\"TOYOTA\",\"TOYOTA\",\"VOLKSWAGEN\",\"LEXUS\",\"HONDA\",\"HYUNDAI\",\"OPEL\",\"LEXUS\",\"BMW\",\"MERCEDES-BENZ\",\"FIAT\",\"TOYOTA\",\"HYUNDAI\",\"OPEL\",\"TOYOTA\",\"HYUNDAI\",\"TOYOTA\",\"HYUNDAI\",\"SSANGYONG\",\"TOYOTA\",\"TOYOTA\",\"CHEVROLET\",\"OPEL\",\"KIA\",\"TOYOTA\",\"HONDA\",\"HYUNDAI\",\"BMW\",\"VOLKSWAGEN\",\"FORD\",\"HONDA\",\"TOYOTA\",\"CHEVROLET\",\"CHEVROLET\",\"MERCEDES-BENZ\",\"JEEP\",\"FORD\",\"HYUNDAI\",\"TOYOTA\",\"BMW\",\"TOYOTA\",\"MERCEDES-BENZ\",\"RENAULT\",\"HYUNDAI\",\"TOYOTA\",\"KIA\",\"MERCEDES-BENZ\",\"HYUNDAI\",\"FORD\",\"HYUNDAI\",\"CHEVROLET\",\"HYUNDAI\",\"HONDA\",\"KIA\",\"TOYOTA\",\"TOYOTA\",\"MERCEDES-BENZ\",\"MERCEDES-BENZ\",\"DAEWOO\",\"TOYOTA\",\"MERCEDES-BENZ\",\"HYUNDAI\",\"SSANGYONG\",\"SSANGYONG\",\"HYUNDAI\",\"KIA\",\"PEUGEOT\",\"HYUNDAI\",\"TOYOTA\",\"OPEL\",\"MERCEDES-BENZ\",\"CHEVROLET\",\"FORD\",\"HYUNDAI\",\"BMW\",\"HYUNDAI\",\"MERCEDES-BENZ\",\"HYUNDAI\",\"VAZ\",\"HYUNDAI\",\"MITSUBISHI\",\"HYUNDAI\",\"HYUNDAI\",\"BMW\",\"MERCEDES-BENZ\",\"HYUNDAI\",\"FORD\",\"SUBARU\",\"BMW\",\"SUBARU\",\"HYUNDAI\",\"HONDA\",\"FORD\",\"TOYOTA\",\"TOYOTA\",\"HONDA\",\"HYUNDAI\",\"HYUNDAI\",\"DODGE\",\"HYUNDAI\",\"HYUNDAI\",\"TOYOTA\",\"BMW\",\"KIA\",\"TOYOTA\",\"TOYOTA\",\"HONDA\",\"LEXUS\",\"VOLKSWAGEN\",\"HYUNDAI\",\"HONDA\",\"FORD\",\"TOYOTA\",\"HYUNDAI\",\"VOLKSWAGEN\",\"NISSAN\",\"HONDA\",\"MERCEDES-BENZ\",\"VOLKSWAGEN\",\"HYUNDAI\",\"LAND ROVER\",\"HYUNDAI\",\"MERCEDES-BENZ\",\"KIA\",\"MERCEDES-BENZ\",\"KIA\",\"TOYOTA\",\"JEEP\",\"HYUNDAI\",\"MERCEDES-BENZ\",\"KIA\",\"TOYOTA\",\"BMW\",\"HYUNDAI\",\"TOYOTA\",\"CHEVROLET\",\"HYUNDAI\",\"MERCEDES-BENZ\",\"HYUNDAI\",\"HYUNDAI\",\"HYUNDAI\",\"MERCEDES-BENZ\",\"FORD\",\"MERCEDES-BENZ\",\"VOLKSWAGEN\",\"HYUNDAI\",\"MERCEDES-BENZ\",\"TOYOTA\",\"CHEVROLET\",\"TOYOTA\",\"HONDA\",\"OPEL\",\"HYUNDAI\",\"TOYOTA\",\"CHEVROLET\",\"HONDA\",\"CITROEN\",\"KIA\",\"NISSAN\",\"MERCEDES-BENZ\",\"TOYOTA\",\"TOYOTA\",\"NISSAN\",\"NISSAN\",\"CHEVROLET\",\"MERCEDES-BENZ\",\"TOYOTA\",\"MERCEDES-BENZ\",\"CHEVROLET\",\"MERCEDES-BENZ\",\"CHEVROLET\",\"MERCEDES-BENZ\",\"TOYOTA\",\"NISSAN\",\"FIAT\",\"TOYOTA\",\"LEXUS\",\"HYUNDAI\",\"VOLKSWAGEN\",\"FORD\",\"BMW\",\"DODGE\",\"HYUNDAI\",\"TOYOTA\",\"RENAULT\",\"NISSAN\",\"FORD\",\"MITSUBISHI\",\"FORD\",\"TOYOTA\",\"SSANGYONG\",\"JAGUAR\",\"CHEVROLET\",\"FORD\",\"TOYOTA\",\"JAGUAR\",\"MITSUBISHI\",\"TOYOTA\",\"HONDA\",\"LEXUS\",\"CHEVROLET\",\"FORD\",\"HONDA\",\"MERCEDES-BENZ\",\"FORD\",\"NISSAN\",\"LEXUS\",\"SUBARU\",\"TOYOTA\",\"BMW\",\"HONDA\",\"VOLKSWAGEN\",\"TOYOTA\",\"HYUNDAI\",\"HONDA\",\"NISSAN\",\"HYUNDAI\",\"HYUNDAI\",\"TOYOTA\",\"SSANGYONG\",\"MERCEDES-BENZ\",\"BMW\",\"NISSAN\",\"KIA\",\"VOLKSWAGEN\",\"HYUNDAI\",\"BMW\",\"SSANGYONG\",\"TOYOTA\",\"MERCEDES-BENZ\",\"DAIHATSU\",\"MERCEDES-BENZ\",\"MERCEDES-BENZ\",\"FORD\",\"HYUNDAI\",\"MERCEDES-BENZ\",\"HONDA\",\"HYUNDAI\",\"MITSUBISHI\",\"TOYOTA\",\"MERCEDES-BENZ\",\"KIA\",\"HONDA\",\"CHEVROLET\",\"HONDA\",\"HONDA\",\"VOLKSWAGEN\",\"LEXUS\",\"TOYOTA\",\"BMW\",\"MERCEDES-BENZ\",\"CHEVROLET\",\"HYUNDAI\",\"MERCEDES-BENZ\",\"MERCEDES-BENZ\",\"AUDI\",\"TOYOTA\",\"BMW\",\"MERCEDES-BENZ\",\"TOYOTA\",\"TOYOTA\",\"LEXUS\",\"FORD\",\"FORD\",\"HYUNDAI\",\"MERCEDES-BENZ\",\"MERCEDES-BENZ\",\"MERCEDES-BENZ\",\"OPEL\",\"HYUNDAI\",\"VOLKSWAGEN\",\"OPEL\",\"HYUNDAI\",\"AUDI\",\"MERCEDES-BENZ\",\"TOYOTA\",\"JEEP\",\"BMW\",\"HYUNDAI\",\"TOYOTA\",\"TOYOTA\",\"HONDA\",\"HYUNDAI\",\"FIAT\",\"TOYOTA\",\"SUBARU\",\"HYUNDAI\",\"MITSUBISHI\",\"TOYOTA\",\"HYUNDAI\",\"HYUNDAI\",\"SUBARU\",\"VOLKSWAGEN\",\"HYUNDAI\",\"HYUNDAI\",\"HYUNDAI\",\"TOYOTA\",\"FORD\",\"DAEWOO\",\"LEXUS\",\"MERCEDES-BENZ\",\"FORD\",\"AUDI\",\"HYUNDAI\",\"TOYOTA\",\"HYUNDAI\",\"FORD\",\"OPEL\",\"TOYOTA\",\"TOYOTA\",\"HYUNDAI\",\"KIA\",\"CHEVROLET\",\"SSANGYONG\",\"MERCEDES-BENZ\",\"LEXUS\",\"CHRYSLER\",\"TOYOTA\",\"NISSAN\",\"HYUNDAI\",\"NISSAN\",\"HONDA\",\"TOYOTA\",\"BMW\",\"LEXUS\",\"TOYOTA\",\"MERCEDES-BENZ\",\"HYUNDAI\",\"CHEVROLET\",\"LEXUS\",\"FORD\",\"HYUNDAI\",\"HYUNDAI\",\"TOYOTA\",\"CHEVROLET\",\"CHEVROLET\",\"TOYOTA\",\"BMW\",\"HYUNDAI\",\"BMW\",\"MERCEDES-BENZ\",\"MERCEDES-BENZ\",\"HYUNDAI\",\"HONDA\",\"SSANGYONG\",\"HYUNDAI\",\"HONDA\",\"HYUNDAI\",\"MITSUBISHI\",\"TOYOTA\",\"MERCEDES-BENZ\",\"HONDA\",\"HYUNDAI\",\"HYUNDAI\",\"BMW\",\"HYUNDAI\",\"NISSAN\",\"MERCEDES-BENZ\",\"MERCEDES-BENZ\",\"HYUNDAI\",\"TOYOTA\",\"CHEVROLET\",\"LEXUS\",\"LEXUS\",\"KIA\",\"TOYOTA\",\"MERCEDES-BENZ\",\"MERCEDES-BENZ\",\"TOYOTA\",\"TOYOTA\",\"MERCEDES-BENZ\",\"CHEVROLET\",\"TOYOTA\",\"VOLKSWAGEN\",\"SUBARU\",\"VAZ\",\"TOYOTA\",\"TOYOTA\",\"HONDA\",\"HONDA\",\"AUDI\",\"HYUNDAI\",\"JEEP\",\"OPEL\",\"CHEVROLET\",\"OPEL\",\"TOYOTA\",\"KIA\",\"FIAT\",\"TOYOTA\",\"CHEVROLET\",\"HYUNDAI\",\"FORD\",\"HYUNDAI\",\"MINI\",\"TOYOTA\",\"HYUNDAI\",\"CHEVROLET\",\"LEXUS\",\"LEXUS\",\"NISSAN\",\"MASERATI\",\"NISSAN\",\"MERCEDES-BENZ\",\"HYUNDAI\",\"MERCEDES-BENZ\",\"GAZ\",\"HYUNDAI\",\"FORD\",\"BMW\",\"HYUNDAI\",\"HYUNDAI\",\"HYUNDAI\",\"FORD\",\"DODGE\",\"MITSUBISHI\",\"OPEL\",\"CHEVROLET\",\"LEXUS\",\"SSANGYONG\",\"MERCEDES-BENZ\",\"BMW\",\"MERCEDES-BENZ\",\"TOYOTA\",\"CHEVROLET\",\"MERCEDES-BENZ\",\"TOYOTA\",\"MERCEDES-BENZ\",\"FORD\",\"SSANGYONG\",\"TOYOTA\",\"TOYOTA\",\"TOYOTA\",\"FORD\",\"HYUNDAI\",\"LEXUS\",\"HYUNDAI\",\"HYUNDAI\",\"TOYOTA\",\"BMW\",\"HYUNDAI\",\"SUZUKI\",\"HYUNDAI\",\"MERCEDES-BENZ\",\"HYUNDAI\",\"SUBARU\",\"TOYOTA\",\"TOYOTA\",\"FORD\",\"HYUNDAI\",\"TOYOTA\",\"LEXUS\",\"LEXUS\",\"TOYOTA\",\"CHEVROLET\",\"CHEVROLET\",\"LEXUS\",\"TOYOTA\",\"TOYOTA\",\"TOYOTA\",\"HYUNDAI\",\"TOYOTA\",\"FORD\",\"MERCEDES-BENZ\",\"OPEL\",\"TOYOTA\",\"CADILLAC\",\"FORD\",\"TOYOTA\",\"TOYOTA\",\"TOYOTA\",\"KIA\",\"AUDI\",\"OPEL\",\"NISSAN\",\"HONDA\",\"PORSCHE\",\"LEXUS\",\"TOYOTA\",\"LAND ROVER\",\"MERCEDES-BENZ\",\"NISSAN\",\"TOYOTA\",\"HYUNDAI\",\"HYUNDAI\",\"KIA\",\"TOYOTA\",\"HYUNDAI\",\"HYUNDAI\",\"MERCEDES-BENZ\",\"LEXUS\",\"HYUNDAI\",\"SSANGYONG\",\"TOYOTA\",\"NISSAN\",\"BMW\",\"FORD\",\"TOYOTA\",\"HYUNDAI\",\"MERCEDES-BENZ\",\"TOYOTA\",\"TOYOTA\",\"CHEVROLET\",\"VOLKSWAGEN\",\"MERCEDES-BENZ\",\"MITSUBISHI\",\"OPEL\",\"MERCEDES-BENZ\",\"MERCEDES-BENZ\",\"BMW\",\"TOYOTA\",\"HONDA\",\"TOYOTA\",\"LEXUS\",\"OPEL\",\"KIA\",\"CHEVROLET\",\"AUDI\",\"FORD\",\"MERCEDES-BENZ\",\"TOYOTA\",\"MITSUBISHI\",\"HUMMER\",\"MAZDA\",\"SUZUKI\",\"HYUNDAI\",\"MERCEDES-BENZ\",\"HYUNDAI\",\"FORD\",\"LEXUS\",\"LEXUS\",\"TOYOTA\",\"VOLKSWAGEN\",\"HONDA\",\"HONDA\",\"FORD\",\"DODGE\",\"TOYOTA\",\"HYUNDAI\",\"MERCEDES-BENZ\",\"SSANGYONG\",\"TOYOTA\",\"HYUNDAI\",\"TOYOTA\",\"HONDA\",\"TOYOTA\",\"FORD\",\"NISSAN\",\"HONDA\",\"CHEVROLET\",\"HYUNDAI\",\"MITSUBISHI\",\"TOYOTA\",\"TOYOTA\",\"TOYOTA\",\"TOYOTA\",\"NISSAN\",\"HYUNDAI\",\"TOYOTA\",\"OPEL\",\"TOYOTA\",\"TOYOTA\",\"MAZDA\",\"TOYOTA\",\"HONDA\",\"TOYOTA\",\"HYUNDAI\",\"TOYOTA\",\"TOYOTA\",\"BMW\",\"HYUNDAI\",\"KIA\",\"MERCEDES-BENZ\",\"VOLKSWAGEN\",\"HYUNDAI\",\"HYUNDAI\",\"BMW\",\"KIA\",\"MERCEDES-BENZ\",\"HYUNDAI\",\"HYUNDAI\",\"LEXUS\",\"MERCEDES-BENZ\",\"BMW\",\"BMW\",\"TOYOTA\",\"TOYOTA\",\"TOYOTA\",\"MINI\",\"TOYOTA\",\"FORD\",\"TOYOTA\",\"TOYOTA\",\"HYUNDAI\",\"MERCEDES-BENZ\",\"HYUNDAI\",\"HYUNDAI\",\"CHEVROLET\",\"MAZDA\",\"CHEVROLET\",\"BMW\",\"MITSUBISHI\",\"HONDA\",\"TOYOTA\",\"DODGE\",\"SUBARU\",\"MAZDA\",\"HONDA\",\"MERCEDES-BENZ\",\"LEXUS\",\"AUDI\",\"TOYOTA\",\"BMW\",\"NISSAN\",\"TOYOTA\",\"HONDA\",\"TOYOTA\",\"NISSAN\",\"FORD\",\"BMW\",\"LEXUS\",\"CHEVROLET\",\"VOLKSWAGEN\",\"SSANGYONG\",\"HONDA\",\"MERCEDES-BENZ\",\"LEXUS\",\"SKODA\",\"CHEVROLET\",\"TOYOTA\",\"FORD\",\"HONDA\",\"HYUNDAI\",\"TOYOTA\",\"SUBARU\",\"HYUNDAI\",\"FORD\",\"MERCEDES-BENZ\",\"VOLKSWAGEN\",\"MERCEDES-BENZ\",\"CHEVROLET\",\"FORD\",\"OPEL\",\"MERCEDES-BENZ\",\"SSANGYONG\",\"HONDA\",\"TOYOTA\",\"AUDI\",\"TOYOTA\",\"HYUNDAI\",\"HYUNDAI\",\"TOYOTA\",\"CHEVROLET\",\"MERCEDES-BENZ\",\"HONDA\",\"VOLKSWAGEN\",\"TOYOTA\",\"TOYOTA\",\"TOYOTA\",\"AUDI\",\"MERCEDES-BENZ\",\"FORD\",\"TOYOTA\",\"NISSAN\",\"HYUNDAI\",\"CHEVROLET\",\"SUBARU\",\"HONDA\",\"SKODA\",\"KIA\",\"LEXUS\",\"TOYOTA\",\"LEXUS\",\"MERCEDES-BENZ\",\"NISSAN\",\"TOYOTA\",\"BMW\",\"VOLVO\",\"HYUNDAI\",\"TOYOTA\",\"HYUNDAI\",\"TOYOTA\",\"HONDA\",\"TOYOTA\",\"BMW\",\"TOYOTA\",\"HYUNDAI\",\"TOYOTA\",\"MAZDA\",\"TOYOTA\",\"NISSAN\",\"TOYOTA\",\"DODGE\",\"FORD\",\"MERCEDES-BENZ\",\"AUDI\",\"TOYOTA\",\"KIA\",\"BMW\",\"MERCEDES-BENZ\",\"MERCURY\",\"TOYOTA\",\"TOYOTA\",\"FORD\",\"FORD\",\"TOYOTA\",\"MERCEDES-BENZ\",\"HYUNDAI\",\"LEXUS\",\"HYUNDAI\",\"SSANGYONG\",\"VOLKSWAGEN\",\"TOYOTA\",\"HYUNDAI\",\"HYUNDAI\",\"BMW\",\"HYUNDAI\",\"FORD\",\"HONDA\",\"TOYOTA\",\"KIA\",\"SKODA\",\"HONDA\",\"TOYOTA\",\"MINI\",\"HYUNDAI\",\"DAEWOO\",\"BMW\",\"MAZDA\",\"TOYOTA\",\"TOYOTA\",\"FORD\",\"LEXUS\",\"TOYOTA\",\"LEXUS\",\"MERCEDES-BENZ\",\"MERCEDES-BENZ\",\"AUDI\",\"TOYOTA\",\"LEXUS\",\"TOYOTA\",\"CHEVROLET\",\"NISSAN\",\"SSANGYONG\",\"FORD\",\"TOYOTA\",\"MERCEDES-BENZ\",\"SUBARU\",\"FIAT\",\"MERCEDES-BENZ\",\"NISSAN\",\"TOYOTA\",\"AUDI\",\"HYUNDAI\",\"FORD\",\"BMW\",\"CHEVROLET\",\"HYUNDAI\",\"NISSAN\",\"SSANGYONG\",\"SSANGYONG\",\"VOLKSWAGEN\",\"SSANGYONG\",\"LEXUS\",\"BMW\",\"TOYOTA\",\"TOYOTA\",\"LAND ROVER\",\"HYUNDAI\",\"FORD\",\"HONDA\",\"BMW\",\"LEXUS\",\"HONDA\",\"HONDA\",\"BMW\",\"MERCEDES-BENZ\",\"HONDA\",\"AUDI\",\"HYUNDAI\",\"HONDA\",\"PEUGEOT\",\"LEXUS\",\"TOYOTA\",\"HONDA\",\"SUBARU\",\"HYUNDAI\",\"DAEWOO\",\"FIAT\",\"TOYOTA\",\"VOLKSWAGEN\",\"TOYOTA\",\"FORD\",\"TOYOTA\",\"BMW\",\"DODGE\",\"AUDI\",\"FIAT\",\"MERCEDES-BENZ\",\"OPEL\",\"HYUNDAI\",\"MITSUBISHI\",\"DAIHATSU\",\"TOYOTA\",\"FORD\",\"CITROEN\",\"SSANGYONG\",\"TOYOTA\",\"HYUNDAI\",\"VAZ\",\"BMW\",\"HONDA\",\"NISSAN\",\"HYUNDAI\",\"BMW\",\"SSANGYONG\",\"BMW\",\"HYUNDAI\",\"HYUNDAI\",\"BMW\",\"MERCEDES-BENZ\",\"LINCOLN\",\"LAND ROVER\",\"VAZ\",\"HYUNDAI\",\"HYUNDAI\",\"VOLKSWAGEN\",\"CHEVROLET\",\"MERCEDES-BENZ\",\"MERCEDES-BENZ\",\"CHEVROLET\",\"FORD\",\"NISSAN\",\"TOYOTA\",\"HYUNDAI\",\"BMW\",\"HYUNDAI\",\"CHEVROLET\",\"HYUNDAI\",\"JEEP\",\"HYUNDAI\",\"HYUNDAI\",\"CHEVROLET\",\"TOYOTA\",\"AUDI\",\"TOYOTA\",\"FORD\",\"NISSAN\",\"FORD\",\"FORD\",\"HYUNDAI\",\"LEXUS\",\"SSANGYONG\",\"HONDA\",\"TOYOTA\",\"TOYOTA\",\"HYUNDAI\",\"LEXUS\",\"HYUNDAI\",\"HYUNDAI\",\"MERCEDES-BENZ\",\"TOYOTA\",\"TOYOTA\",\"MERCEDES-BENZ\",\"TOYOTA\",\"TOYOTA\",\"HONDA\",\"HYUNDAI\",\"HYUNDAI\",\"MERCEDES-BENZ\",\"TOYOTA\",\"HONDA\",\"OPEL\",\"HYUNDAI\",\"SUBARU\",\"HYUNDAI\",\"LEXUS\",\"MERCEDES-BENZ\",\"OPEL\",\"OPEL\",\"MAZDA\",\"TOYOTA\",\"MERCEDES-BENZ\",\"LEXUS\",\"VOLKSWAGEN\",\"CHEVROLET\",\"SSANGYONG\",\"HONDA\",\"OPEL\",\"SSANGYONG\",\"FORD\",\"FORD\",\"TOYOTA\",\"AUDI\",\"VOLKSWAGEN\",\"SUBARU\",\"SUBARU\",\"HYUNDAI\",\"TOYOTA\",\"HYUNDAI\",\"MERCEDES-BENZ\",\"VOLKSWAGEN\",\"HYUNDAI\",\"BMW\",\"HYUNDAI\",\"TOYOTA\",\"HYUNDAI\",\"SAAB\",\"HYUNDAI\",\"TOYOTA\",\"FORD\",\"TOYOTA\",\"HONDA\",\"HYUNDAI\",\"FORD\",\"LEXUS\",\"HONDA\",\"CHEVROLET\",\"TOYOTA\",\"HYUNDAI\",\"MERCEDES-BENZ\",\"TOYOTA\",\"HYUNDAI\",\"MITSUBISHI\",\"HYUNDAI\",\"TOYOTA\",\"VOLKSWAGEN\",\"TOYOTA\",\"HYUNDAI\",\"TOYOTA\",\"TOYOTA\",\"TOYOTA\",\"TOYOTA\",\"NISSAN\",\"LEXUS\",\"TOYOTA\",\"SUBARU\",\"HYUNDAI\",\"HYUNDAI\",\"TOYOTA\",\"MERCEDES-BENZ\",\"GAZ\",\"MERCEDES-BENZ\",\"TOYOTA\",\"TOYOTA\",\"HYUNDAI\",\"HYUNDAI\",\"MERCEDES-BENZ\",\"AUDI\",\"HYUNDAI\",\"HYUNDAI\",\"AUDI\",\"SSANGYONG\",\"MERCEDES-BENZ\",\"HYUNDAI\",\"VOLKSWAGEN\",\"HYUNDAI\",\"HYUNDAI\",\"HYUNDAI\",\"FORD\",\"HONDA\",\"MERCEDES-BENZ\",\"TOYOTA\",\"SSANGYONG\",\"LEXUS\",\"FORD\",\"HYUNDAI\",\"HYUNDAI\",\"SKODA\",\"KIA\",\"FORD\",\"FORD\",\"HYUNDAI\",\"HYUNDAI\",\"TOYOTA\",\"HYUNDAI\",\"BMW\",\"MERCEDES-BENZ\",\"LEXUS\",\"LEXUS\",\"MERCEDES-BENZ\",\"HYUNDAI\",\"CHEVROLET\",\"LAND ROVER\",\"OPEL\",\"SUBARU\",\"MAZDA\",\"MITSUBISHI\",\"SUZUKI\",\"TOYOTA\",\"MERCEDES-BENZ\",\"FORD\",\"VOLKSWAGEN\",\"MERCEDES-BENZ\",\"MITSUBISHI\",\"CHRYSLER\",\"SSANGYONG\",\"TOYOTA\",\"VOLKSWAGEN\",\"OPEL\",\"HONDA\",\"CHEVROLET\",\"HYUNDAI\",\"MERCEDES-BENZ\",\"CHEVROLET\",\"FIAT\",\"MERCEDES-BENZ\",\"MITSUBISHI\",\"SUZUKI\",\"FORD\",\"HYUNDAI\",\"HYUNDAI\",\"FORD\",\"MERCEDES-BENZ\",\"BMW\",\"VOLKSWAGEN\",\"KIA\",\"TOYOTA\",\"HYUNDAI\",\"MITSUBISHI\",\"HYUNDAI\",\"VOLKSWAGEN\",\"FORD\",\"SUBARU\",\"TOYOTA\",\"TOYOTA\",\"HYUNDAI\",\"HONDA\",\"HYUNDAI\",\"FORD\",\"CHEVROLET\",\"CHEVROLET\",\"TOYOTA\",\"NISSAN\",\"HYUNDAI\",\"CHEVROLET\",\"MINI\",\"LEXUS\",\"CHEVROLET\",\"HYUNDAI\",\"CHEVROLET\",\"KIA\",\"TOYOTA\",\"TOYOTA\",\"LEXUS\",\"BMW\",\"TOYOTA\",\"HYUNDAI\",\"TOYOTA\",\"TOYOTA\",\"KIA\",\"BMW\",\"HYUNDAI\",\"TOYOTA\",\"TOYOTA\",\"TOYOTA\",\"MERCEDES-BENZ\",\"HYUNDAI\",\"TOYOTA\",\"BMW\",\"TOYOTA\",\"BMW\",\"BMW\",\"NISSAN\",\"MAZDA\",\"HYUNDAI\",\"NISSAN\",\"MERCEDES-BENZ\",\"CHEVROLET\",\"CHEVROLET\",\"TOYOTA\",\"AUDI\",\"MERCEDES-BENZ\",\"BMW\",\"AUDI\",\"HYUNDAI\",\"TOYOTA\",\"NISSAN\",\"HONDA\",\"HONDA\",\"HYUNDAI\",\"KIA\",\"TOYOTA\",\"TOYOTA\",\"AUDI\",\"HYUNDAI\",\"TOYOTA\",\"MERCEDES-BENZ\",\"MERCEDES-BENZ\",\"HYUNDAI\",\"FIAT\",\"HYUNDAI\",\"MERCEDES-BENZ\",\"LEXUS\",\"HYUNDAI\",\"MERCEDES-BENZ\",\"HYUNDAI\",\"MERCEDES-BENZ\",\"MITSUBISHI\",\"HYUNDAI\",\"OPEL\",\"TOYOTA\",\"MERCEDES-BENZ\",\"KIA\",\"TOYOTA\",\"TOYOTA\",\"TOYOTA\",\"HYUNDAI\",\"LEXUS\",\"LEXUS\",\"TOYOTA\",\"TOYOTA\",\"OPEL\",\"HYUNDAI\",\"TOYOTA\",\"TOYOTA\",\"HYUNDAI\",\"KIA\",\"MERCEDES-BENZ\",\"CHEVROLET\",\"MERCEDES-BENZ\",\"TOYOTA\",\"MERCEDES-BENZ\",\"MITSUBISHI\",\"HYUNDAI\",\"TOYOTA\",\"MERCEDES-BENZ\",\"LEXUS\",\"TOYOTA\",\"FORD\",\"BMW\",\"MERCEDES-BENZ\",\"BMW\",\"HYUNDAI\",\"HYUNDAI\",\"BMW\",\"HYUNDAI\",\"LEXUS\",\"VOLKSWAGEN\",\"VAZ\",\"TOYOTA\",\"HYUNDAI\",\"BMW\",\"LEXUS\",\"MERCEDES-BENZ\",\"HYUNDAI\",\"HYUNDAI\",\"MERCEDES-BENZ\",\"HYUNDAI\",\"SSANGYONG\",\"KIA\",\"NISSAN\",\"MERCEDES-BENZ\",\"SSANGYONG\",\"DODGE\",\"TOYOTA\",\"SSANGYONG\",\"NISSAN\",\"TOYOTA\",\"HYUNDAI\",\"BMW\",\"SUBARU\",\"BMW\",\"HYUNDAI\",\"TOYOTA\",\"BMW\",\"AUDI\",\"HYUNDAI\",\"NISSAN\",\"VOLKSWAGEN\",\"AUDI\",\"TOYOTA\",\"HYUNDAI\",\"TOYOTA\",\"TOYOTA\",\"HONDA\",\"HYUNDAI\",\"MERCEDES-BENZ\",\"TOYOTA\",\"LEXUS\",\"KIA\",\"MERCEDES-BENZ\",\"MITSUBISHI\",\"OPEL\",\"SSANGYONG\",\"CHEVROLET\",\"MINI\",\"HYUNDAI\",\"HYUNDAI\",\"TOYOTA\",\"HYUNDAI\",\"VOLKSWAGEN\",\"HYUNDAI\",\"HYUNDAI\",\"TOYOTA\",\"LEXUS\",\"AUDI\",\"TOYOTA\",\"HYUNDAI\",\"CHEVROLET\",\"TOYOTA\",\"TOYOTA\",\"FORD\",\"MERCEDES-BENZ\",\"OPEL\",\"MERCEDES-BENZ\",\"TOYOTA\",\"HYUNDAI\",\"HONDA\",\"KIA\",\"MERCEDES-BENZ\",\"SUBARU\",\"TOYOTA\",\"BMW\",\"FIAT\",\"PORSCHE\",\"HYUNDAI\",\"SUBARU\",\"TOYOTA\",\"LEXUS\",\"TOYOTA\",\"CHEVROLET\",\"KIA\",\"TOYOTA\",\"HONDA\",\"FORD\",\"TOYOTA\",\"MERCEDES-BENZ\",\"TOYOTA\",\"HYUNDAI\",\"CHEVROLET\",\"MERCEDES-BENZ\",\"TOYOTA\",\"TOYOTA\",\"LEXUS\",\"TOYOTA\",\"HYUNDAI\",\"HONDA\",\"MERCEDES-BENZ\",\"TOYOTA\",\"TOYOTA\",\"FORD\",\"HYUNDAI\",\"JEEP\",\"TOYOTA\",\"MERCEDES-BENZ\",\"BMW\",\"HONDA\",\"CHEVROLET\",\"HONDA\",\"HONDA\",\"LEXUS\",\"AUDI\",\"HYUNDAI\",\"HYUNDAI\",\"MERCEDES-BENZ\",\"NISSAN\",\"TOYOTA\",\"FIAT\",\"BMW\",\"TOYOTA\",\"HYUNDAI\",\"TOYOTA\",\"BMW\",\"TOYOTA\",\"TOYOTA\",\"HYUNDAI\",\"MERCEDES-BENZ\",\"MAZDA\",\"MERCEDES-BENZ\",\"SSANGYONG\",\"HYUNDAI\",\"LEXUS\",\"HYUNDAI\",\"HYUNDAI\",\"MERCEDES-BENZ\",\"MERCEDES-BENZ\",\"MERCEDES-BENZ\",\"NISSAN\",\"MERCEDES-BENZ\",\"TOYOTA\",\"TOYOTA\",\"TOYOTA\",\"KIA\",\"HYUNDAI\",\"CHEVROLET\",\"HONDA\",\"HYUNDAI\",\"MITSUBISHI\",\"TOYOTA\",\"HYUNDAI\",\"CHEVROLET\",\"HYUNDAI\",\"CHEVROLET\",\"TOYOTA\",\"MERCEDES-BENZ\",\"TOYOTA\",\"SSANGYONG\",\"HYUNDAI\",\"VOLKSWAGEN\",\"DAEWOO\",\"CHEVROLET\",\"LEXUS\",\"DAEWOO\",\"CHEVROLET\",\"VOLKSWAGEN\",\"CHEVROLET\",\"CHEVROLET\",\"MAZDA\",\"SUBARU\",\"MERCEDES-BENZ\",\"HONDA\",\"TOYOTA\",\"OPEL\",\"MERCEDES-BENZ\",\"VOLKSWAGEN\",\"TOYOTA\",\"LEXUS\",\"TOYOTA\",\"TOYOTA\",\"TOYOTA\",\"LEXUS\",\"TOYOTA\",\"OPEL\",\"HONDA\",\"CADILLAC\",\"TOYOTA\",\"HYUNDAI\",\"MERCEDES-BENZ\",\"HYUNDAI\",\"TOYOTA\",\"FORD\",\"TOYOTA\",\"NISSAN\",\"SSANGYONG\",\"HYUNDAI\",\"SSANGYONG\",\"HYUNDAI\",\"TOYOTA\",\"KIA\",\"CHEVROLET\",\"HONDA\",\"NISSAN\",\"HYUNDAI\",\"HYUNDAI\",\"AUDI\",\"TOYOTA\",\"BMW\",\"MAZDA\",\"CHEVROLET\",\"MERCEDES-BENZ\",\"BMW\",\"TOYOTA\",\"TOYOTA\",\"VOLKSWAGEN\",\"LEXUS\",\"TOYOTA\",\"HONDA\",\"TOYOTA\",\"CHEVROLET\",\"TOYOTA\",\"MERCEDES-BENZ\",\"TOYOTA\",\"SSANGYONG\",\"HONDA\",\"NISSAN\",\"MERCEDES-BENZ\",\"HYUNDAI\",\"MERCEDES-BENZ\",\"HYUNDAI\",\"HONDA\",\"TOYOTA\",\"HYUNDAI\",\"FORD\",\"TOYOTA\",\"TOYOTA\",\"TOYOTA\",\"MERCEDES-BENZ\",\"DODGE\",\"CHEVROLET\",\"OPEL\",\"MERCEDES-BENZ\",\"CHEVROLET\",\"TOYOTA\",\"SUBARU\",\"TOYOTA\",\"TOYOTA\",\"TOYOTA\",\"NISSAN\",\"LEXUS\",\"HYUNDAI\",\"MERCEDES-BENZ\",\"DAEWOO\",\"CHEVROLET\",\"HYUNDAI\",\"HYUNDAI\",\"MERCEDES-BENZ\",\"TOYOTA\",\"MERCEDES-BENZ\",\"HYUNDAI\",\"HYUNDAI\",\"HYUNDAI\",\"MERCEDES-BENZ\",\"TOYOTA\",\"MERCEDES-BENZ\",\"HYUNDAI\",\"CHEVROLET\",\"HYUNDAI\",\"HONDA\",\"MERCEDES-BENZ\",\"CHEVROLET\",\"HYUNDAI\",\"HYUNDAI\",\"HYUNDAI\",\"BMW\",\"HYUNDAI\",\"HYUNDAI\",\"MERCEDES-BENZ\",\"HYUNDAI\",\"TOYOTA\",\"HONDA\",\"HYUNDAI\",\"HONDA\",\"HYUNDAI\",\"BMW\",\"BMW\",\"BMW\",\"HYUNDAI\",\"CHEVROLET\",\"CHEVROLET\",\"VOLKSWAGEN\",\"HYUNDAI\",\"TOYOTA\",\"NISSAN\",\"BMW\",\"HONDA\",\"SSANGYONG\",\"MERCEDES-BENZ\",\"SSANGYONG\",\"MERCEDES-BENZ\",\"MERCEDES-BENZ\",\"TOYOTA\",\"HYUNDAI\",\"TOYOTA\",\"HYUNDAI\",\"HONDA\",\"MERCEDES-BENZ\",\"HYUNDAI\",\"KIA\",\"HYUNDAI\",\"BMW\",\"LEXUS\",\"MERCEDES-BENZ\",\"TOYOTA\",\"HYUNDAI\",\"HYUNDAI\",\"TOYOTA\",\"TOYOTA\",\"TOYOTA\",\"FORD\",\"HYUNDAI\",\"TOYOTA\",\"HYUNDAI\",\"TOYOTA\",\"HYUNDAI\",\"MERCEDES-BENZ\",\"HYUNDAI\",\"SSANGYONG\",\"BMW\",\"HYUNDAI\",\"NISSAN\",\"HONDA\",\"HYUNDAI\",\"HYUNDAI\",\"CHRYSLER\",\"HYUNDAI\",\"TOYOTA\",\"HONDA\",\"HYUNDAI\",\"LEXUS\",\"SUBARU\",\"TOYOTA\",\"MITSUBISHI\",\"HYUNDAI\",\"TOYOTA\",\"MERCEDES-BENZ\",\"CHEVROLET\",\"TOYOTA\",\"HYUNDAI\",\"HYUNDAI\",\"HONDA\",\"MERCEDES-BENZ\",\"MERCEDES-BENZ\",\"BMW\",\"JEEP\",\"NISSAN\",\"SUZUKI\",\"MAZDA\",\"FORD\",\"LAND ROVER\",\"TOYOTA\",\"CHEVROLET\",\"HYUNDAI\",\"OPEL\",\"FORD\",\"TOYOTA\",\"VOLKSWAGEN\",\"VOLKSWAGEN\",\"CHEVROLET\",\"FORD\",\"MITSUBISHI\",\"HYUNDAI\",\"VOLKSWAGEN\",\"NISSAN\",\"MERCEDES-BENZ\",\"HYUNDAI\",\"BMW\",\"MERCEDES-BENZ\",\"SUBARU\",\"KIA\",\"TOYOTA\",\"HYUNDAI\",\"TOYOTA\",\"AUDI\",\"DODGE\",\"HYUNDAI\",\"SUBARU\",\"MITSUBISHI\",\"FORD\",\"TOYOTA\",\"HYUNDAI\",\"LEXUS\",\"MERCEDES-BENZ\",\"TOYOTA\",\"HONDA\",\"MERCEDES-BENZ\",\"VOLKSWAGEN\",\"JAGUAR\",\"OPEL\",\"TOYOTA\",\"TOYOTA\",\"FORD\",\"MERCEDES-BENZ\",\"CHEVROLET\",\"HYUNDAI\",\"FIAT\",\"TOYOTA\",\"MITSUBISHI\",\"CHEVROLET\",\"OPEL\",\"ACURA\",\"TOYOTA\",\"HYUNDAI\",\"TOYOTA\",\"TOYOTA\",\"HYUNDAI\",\"HONDA\",\"CADILLAC\",\"TOYOTA\",\"CHEVROLET\",\"HYUNDAI\",\"KIA\",\"LEXUS\",\"HYUNDAI\",\"TOYOTA\",\"SSANGYONG\",\"ACURA\",\"NISSAN\",\"HYUNDAI\",\"HYUNDAI\",\"CHEVROLET\",\"MERCEDES-BENZ\",\"BMW\",\"SSANGYONG\",\"TOYOTA\",\"TOYOTA\",\"TOYOTA\",\"SSANGYONG\",\"MERCEDES-BENZ\",\"TOYOTA\",\"HYUNDAI\",\"SSANGYONG\",\"HONDA\",\"TOYOTA\",\"MERCEDES-BENZ\",\"MERCEDES-BENZ\",\"MINI\",\"HYUNDAI\",\"MERCEDES-BENZ\",\"BMW\",\"AUDI\",\"HYUNDAI\",\"FORD\",\"HYUNDAI\",\"HONDA\",\"OPEL\",\"MERCEDES-BENZ\",\"BMW\",\"TOYOTA\",\"HYUNDAI\",\"BMW\",\"HYUNDAI\",\"LEXUS\",\"HYUNDAI\",\"FORD\",\"HONDA\",\"BMW\",\"BMW\",\"JEEP\",\"HONDA\",\"VOLKSWAGEN\",\"TOYOTA\",\"TOYOTA\",\"LINCOLN\",\"HYUNDAI\",\"NISSAN\",\"HYUNDAI\",\"VOLKSWAGEN\",\"SSANGYONG\",\"HYUNDAI\",\"TOYOTA\",\"HYUNDAI\",\"TOYOTA\",\"CHEVROLET\",\"MAZDA\",\"MERCEDES-BENZ\",\"HYUNDAI\",\"LEXUS\",\"BMW\",\"TOYOTA\",\"MERCEDES-BENZ\",\"TOYOTA\",\"SSANGYONG\",\"LEXUS\",\"HYUNDAI\",\"TOYOTA\",\"VOLKSWAGEN\",\"AUDI\",\"LEXUS\",\"HONDA\",\"HYUNDAI\",\"TOYOTA\",\"LEXUS\",\"LEXUS\",\"NISSAN\",\"TOYOTA\",\"NISSAN\",\"BMW\",\"SSANGYONG\",\"TOYOTA\",\"HONDA\",\"SSANGYONG\",\"HYUNDAI\",\"TOYOTA\",\"MERCEDES-BENZ\",\"MERCEDES-BENZ\",\"MERCEDES-BENZ\",\"FORD\",\"NISSAN\",\"VAZ\",\"MERCEDES-BENZ\",\"BMW\",\"TOYOTA\",\"BMW\",\"NISSAN\",\"TOYOTA\",\"TOYOTA\",\"HONDA\",\"TOYOTA\",\"HONDA\",\"MERCEDES-BENZ\",\"FORD\",\"TOYOTA\",\"BMW\",\"VOLKSWAGEN\",\"FORD\",\"SUBARU\",\"HONDA\",\"VOLKSWAGEN\",\"LEXUS\",\"HYUNDAI\",\"HYUNDAI\",\"BMW\",\"OPEL\",\"HYUNDAI\",\"BMW\",\"SUBARU\",\"NISSAN\",\"LAND ROVER\",\"BMW\",\"TOYOTA\",\"KIA\",\"NISSAN\",\"CHEVROLET\",\"CHEVROLET\",\"BMW\",\"FORD\",\"MERCEDES-BENZ\",\"FORD\",\"HYUNDAI\",\"MERCEDES-BENZ\",\"VOLKSWAGEN\",\"CHEVROLET\",\"MERCEDES-BENZ\",\"HYUNDAI\",\"JAGUAR\",\"CHEVROLET\",\"FORD\",\"LAND ROVER\",\"HYUNDAI\",\"MITSUBISHI\",\"LEXUS\",\"BMW\",\"FORD\",\"TOYOTA\",\"NISSAN\",\"MITSUBISHI\",\"CHEVROLET\",\"HONDA\",\"HYUNDAI\",\"HYUNDAI\",\"TOYOTA\",\"CHEVROLET\",\"VOLVO\",\"TOYOTA\",\"FORD\",\"BMW\",\"HYUNDAI\",\"TOYOTA\",\"INFINITI\",\"TOYOTA\",\"HYUNDAI\",\"MERCEDES-BENZ\",\"SUBARU\",\"HYUNDAI\",\"NISSAN\",\"HYUNDAI\",\"HYUNDAI\",\"TOYOTA\",\"BMW\",\"LEXUS\",\"MERCEDES-BENZ\",\"HYUNDAI\",\"HYUNDAI\",\"TOYOTA\",\"SSANGYONG\",\"LEXUS\",\"CHEVROLET\",\"TOYOTA\",\"TOYOTA\",\"MERCEDES-BENZ\",\"NISSAN\",\"HYUNDAI\",\"BMW\",\"FORD\",\"HYUNDAI\",\"SUBARU\",\"OPEL\",\"TOYOTA\",\"MERCEDES-BENZ\",\"TOYOTA\",\"KIA\",\"MOSKVICH\",\"TOYOTA\",\"KIA\",\"HYUNDAI\",\"CHEVROLET\",\"TOYOTA\",\"NISSAN\",\"TOYOTA\",\"DAEWOO\",\"SUZUKI\",\"CHEVROLET\",\"TOYOTA\",\"TOYOTA\",\"TOYOTA\",\"JEEP\",\"MITSUBISHI\",\"TOYOTA\",\"HONDA\",\"MERCEDES-BENZ\",\"TOYOTA\",\"TOYOTA\",\"HYUNDAI\",\"SUBARU\",\"TOYOTA\",\"HYUNDAI\",\"AUDI\",\"VOLKSWAGEN\",\"HYUNDAI\",\"TOYOTA\",\"TOYOTA\",\"MERCEDES-BENZ\",\"HYUNDAI\",\"BMW\",\"HONDA\",\"HYUNDAI\",\"BMW\",\"OPEL\",\"BMW\",\"LEXUS\",\"TOYOTA\",\"DODGE\",\"SUBARU\",\"HONDA\",\"HONDA\",\"MERCEDES-BENZ\",\"TOYOTA\",\"BMW\",\"VAZ\",\"KIA\",\"CHEVROLET\",\"MERCEDES-BENZ\",\"SSANGYONG\",\"MERCEDES-BENZ\",\"TOYOTA\",\"VAZ\",\"FIAT\",\"HYUNDAI\",\"TOYOTA\",\"MERCEDES-BENZ\",\"CHEVROLET\",\"HYUNDAI\",\"HYUNDAI\",\"NISSAN\",\"LEXUS\",\"MERCEDES-BENZ\",\"TOYOTA\",\"CHEVROLET\",\"MERCEDES-BENZ\",\"FORD\",\"BMW\",\"OPEL\",\"TOYOTA\",\"HYUNDAI\",\"TOYOTA\",\"KIA\",\"TOYOTA\",\"VAZ\",\"HONDA\",\"TOYOTA\",\"MERCEDES-BENZ\",\"MERCEDES-BENZ\",\"HYUNDAI\",\"HONDA\",\"VOLVO\",\"TOYOTA\",\"JAGUAR\",\"BMW\",\"MERCEDES-BENZ\",\"VOLKSWAGEN\",\"MITSUBISHI\",\"TOYOTA\",\"NISSAN\",\"LEXUS\",\"LEXUS\",\"HYUNDAI\",\"MERCEDES-BENZ\",\"OPEL\",\"CHEVROLET\",\"BMW\",\"VOLKSWAGEN\",\"DODGE\",\"TOYOTA\",\"HONDA\",\"KIA\",\"HONDA\",\"MITSUBISHI\",\"MERCEDES-BENZ\",\"VOLKSWAGEN\",\"JEEP\",\"TOYOTA\",\"TOYOTA\",\"TOYOTA\",\"FORD\",\"BMW\",\"HYUNDAI\",\"HYUNDAI\",\"TOYOTA\",\"HYUNDAI\",\"MERCEDES-BENZ\",\"TOYOTA\",\"HYUNDAI\",\"MERCEDES-BENZ\",\"SUBARU\",\"HYUNDAI\",\"HYUNDAI\",\"HYUNDAI\",\"TOYOTA\",\"MITSUBISHI\",\"HYUNDAI\",\"SUBARU\",\"HYUNDAI\",\"TOYOTA\",\"SSANGYONG\",\"TOYOTA\",\"SUBARU\",\"TOYOTA\",\"HYUNDAI\",\"JEEP\",\"SSANGYONG\",\"SUBARU\",\"HYUNDAI\",\"FORD\",\"NISSAN\",\"FORD\",\"LEXUS\",\"MERCEDES-BENZ\",\"HONDA\",\"HYUNDAI\",\"HYUNDAI\",\"BMW\",\"HYUNDAI\",\"TOYOTA\",\"TOYOTA\",\"HYUNDAI\",\"FORD\",\"MERCEDES-BENZ\",\"TOYOTA\",\"TOYOTA\",\"HONDA\",\"MERCEDES-BENZ\",\"TOYOTA\",\"FORD\",\"CHEVROLET\",\"TOYOTA\",\"OPEL\",\"SSANGYONG\",\"OPEL\",\"BMW\",\"HYUNDAI\",\"MAZDA\",\"VOLKSWAGEN\",\"HONDA\",\"TOYOTA\",\"HYUNDAI\",\"SSANGYONG\",\"TOYOTA\",\"FORD\",\"MERCEDES-BENZ\",\"TOYOTA\",\"MAZDA\",\"BMW\",\"TOYOTA\",\"HYUNDAI\",\"PORSCHE\",\"HYUNDAI\",\"BMW\",\"TOYOTA\",\"BMW\",\"HYUNDAI\",\"TOYOTA\",\"HONDA\",\"MERCEDES-BENZ\",\"FORD\",\"CHEVROLET\",\"TOYOTA\",\"TOYOTA\",\"TOYOTA\",\"MERCEDES-BENZ\",\"TOYOTA\",\"HONDA\",\"HYUNDAI\",\"OPEL\",\"HONDA\",\"HYUNDAI\",\"TOYOTA\",\"SSANGYONG\",\"HYUNDAI\",\"TOYOTA\",\"KIA\",\"HYUNDAI\",\"LEXUS\",\"TOYOTA\",\"FORD\",\"HYUNDAI\",\"MERCEDES-BENZ\",\"TOYOTA\",\"HYUNDAI\",\"HYUNDAI\",\"ISUZU\",\"MERCEDES-BENZ\",\"MERCEDES-BENZ\",\"MERCEDES-BENZ\",\"TOYOTA\",\"HONDA\",\"TOYOTA\",\"FORD\",\"HYUNDAI\",\"TOYOTA\",\"DAEWOO\",\"MERCEDES-BENZ\",\"TOYOTA\",\"MERCEDES-BENZ\",\"MERCEDES-BENZ\",\"TOYOTA\",\"VOLKSWAGEN\",\"TOYOTA\",\"FORD\",\"TOYOTA\",\"NISSAN\",\"HYUNDAI\",\"FORD\",\"MERCEDES-BENZ\",\"HYUNDAI\",\"NISSAN\",\"OPEL\",\"HYUNDAI\",\"SUBARU\",\"CHEVROLET\",\"TOYOTA\",\"FORD\",\"MERCEDES-BENZ\",\"CHEVROLET\",\"MERCEDES-BENZ\",\"BMW\",\"HYUNDAI\",\"OPEL\",\"HYUNDAI\",\"KIA\",\"TOYOTA\",\"MERCEDES-BENZ\",\"HONDA\",\"HYUNDAI\",\"HYUNDAI\",\"TOYOTA\",\"TOYOTA\",\"BMW\",\"NISSAN\",\"HYUNDAI\",\"HYUNDAI\",\"SUBARU\",\"NISSAN\",\"NISSAN\",\"SSANGYONG\",\"LEXUS\",\"HONDA\",\"HYUNDAI\",\"DAEWOO\",\"SUBARU\",\"HYUNDAI\",\"JEEP\",\"SCION\",\"SUBARU\",\"LAND ROVER\",\"HYUNDAI\",\"MERCEDES-BENZ\",\"HONDA\",\"FORD\",\"TOYOTA\",\"NISSAN\",\"CHEVROLET\",\"NISSAN\",\"TOYOTA\",\"TOYOTA\",\"NISSAN\",\"BMW\",\"TOYOTA\",\"TOYOTA\",\"SUZUKI\",\"TOYOTA\",\"MERCEDES-BENZ\",\"HYUNDAI\",\"CHEVROLET\",\"HYUNDAI\",\"FORD\",\"MITSUBISHI\",\"MERCEDES-BENZ\",\"TOYOTA\",\"BMW\",\"KIA\",\"TOYOTA\",\"HYUNDAI\",\"MERCEDES-BENZ\",\"MERCEDES-BENZ\",\"HYUNDAI\",\"TOYOTA\",\"CHEVROLET\",\"TOYOTA\",\"TOYOTA\",\"MITSUBISHI\",\"OPEL\",\"VOLKSWAGEN\",\"TOYOTA\",\"TOYOTA\",\"HYUNDAI\",\"FORD\",\"TOYOTA\",\"TOYOTA\",\"MOSKVICH\",\"MERCEDES-BENZ\",\"MERCEDES-BENZ\",\"TOYOTA\",\"MERCEDES-BENZ\",\"MERCEDES-BENZ\",\"HYUNDAI\",\"TOYOTA\",\"TOYOTA\",\"FORD\",\"CHEVROLET\",\"TOYOTA\",\"HYUNDAI\",\"TOYOTA\",\"BMW\",\"TOYOTA\",\"FORD\",\"HYUNDAI\",\"MERCEDES-BENZ\",\"HYUNDAI\",\"FORD\",\"VOLKSWAGEN\",\"HONDA\",\"CHEVROLET\",\"HYUNDAI\",\"VOLKSWAGEN\",\"MITSUBISHI\",\"SUBARU\",\"HYUNDAI\",\"HYUNDAI\",\"HYUNDAI\",\"TOYOTA\",\"NISSAN\",\"LEXUS\",\"CHEVROLET\",\"KIA\",\"HYUNDAI\",\"BMW\",\"AUDI\",\"HONDA\",\"HYUNDAI\",\"TOYOTA\",\"HYUNDAI\",\"HYUNDAI\",\"HYUNDAI\",\"TOYOTA\",\"TOYOTA\",\"TOYOTA\",\"TOYOTA\",\"CHEVROLET\",\"DODGE\",\"TOYOTA\",\"LAND ROVER\",\"HONDA\",\"FORD\",\"LEXUS\",\"LEXUS\",\"HONDA\",\"TOYOTA\",\"DODGE\",\"TOYOTA\",\"HYUNDAI\",\"MERCEDES-BENZ\",\"HONDA\",\"SUBARU\",\"HYUNDAI\",\"MERCEDES-BENZ\",\"HYUNDAI\",\"VOLKSWAGEN\",\"TOYOTA\",\"HYUNDAI\",\"SUBARU\",\"MERCEDES-BENZ\",\"LEXUS\",\"MERCEDES-BENZ\",\"MERCEDES-BENZ\",\"TOYOTA\",\"MERCEDES-BENZ\",\"TOYOTA\",\"HYUNDAI\",\"NISSAN\",\"HYUNDAI\",\"MERCEDES-BENZ\",\"VOLKSWAGEN\",\"TOYOTA\",\"TOYOTA\",\"HYUNDAI\",\"HYUNDAI\",\"FERRARI\",\"HYUNDAI\",\"MERCEDES-BENZ\",\"HYUNDAI\",\"CHEVROLET\",\"TOYOTA\",\"LEXUS\",\"TOYOTA\",\"FORD\",\"FORD\",\"MERCEDES-BENZ\",\"TOYOTA\",\"BMW\",\"CHEVROLET\",\"HONDA\",\"SSANGYONG\",\"FORD\",\"KIA\",\"BMW\",\"TOYOTA\",\"HYUNDAI\",\"MERCEDES-BENZ\",\"OPEL\",\"TOYOTA\",\"VOLKSWAGEN\",\"TOYOTA\",\"NISSAN\",\"CHEVROLET\",\"MERCEDES-BENZ\",\"MERCEDES-BENZ\",\"CHEVROLET\",\"TOYOTA\",\"LEXUS\",\"HYUNDAI\",\"MERCEDES-BENZ\",\"BMW\",\"HONDA\",\"KIA\",\"HYUNDAI\",\"CHEVROLET\",\"MAZDA\",\"NISSAN\",\"CHEVROLET\",\"TOYOTA\",\"FORD\",\"HYUNDAI\",\"LEXUS\",\"CHEVROLET\",\"VOLKSWAGEN\",\"TOYOTA\",\"HONDA\",\"VOLKSWAGEN\",\"SUBARU\",\"HYUNDAI\",\"LEXUS\",\"MERCEDES-BENZ\",\"HYUNDAI\",\"MITSUBISHI\",\"FORD\",\"TOYOTA\",\"TOYOTA\",\"HYUNDAI\",\"HYUNDAI\",\"TOYOTA\",\"FORD\",\"MERCEDES-BENZ\",\"BMW\",\"HONDA\",\"MERCEDES-BENZ\",\"VOLKSWAGEN\",\"SUBARU\",\"MERCEDES-BENZ\",\"TOYOTA\",\"HONDA\",\"MERCEDES-BENZ\",\"UAZ\",\"CHEVROLET\",\"CHEVROLET\",\"MAZDA\",\"CHEVROLET\",\"HONDA\",\"VOLKSWAGEN\",\"NISSAN\",\"MERCEDES-BENZ\",\"TOYOTA\",\"AUDI\",\"FORD\",\"MERCEDES-BENZ\",\"HYUNDAI\",\"JEEP\",\"HYUNDAI\",\"HYUNDAI\",\"MITSUBISHI\",\"JEEP\",\"JEEP\",\"LEXUS\",\"CHEVROLET\",\"HYUNDAI\",\"LEXUS\",\"BMW\",\"HYUNDAI\",\"HYUNDAI\",\"HYUNDAI\",\"MERCEDES-BENZ\",\"SUBARU\",\"HYUNDAI\",\"VAZ\",\"TOYOTA\",\"CHEVROLET\",\"TOYOTA\",\"CADILLAC\",\"OPEL\",\"NISSAN\",\"CHEVROLET\",\"KIA\",\"LEXUS\",\"OPEL\",\"TOYOTA\",\"LEXUS\",\"MITSUBISHI\",\"TOYOTA\",\"BMW\",\"CHEVROLET\",\"HYUNDAI\",\"VOLKSWAGEN\",\"CHEVROLET\",\"NISSAN\",\"MAZDA\",\"MITSUBISHI\",\"HYUNDAI\",\"DODGE\",\"OPEL\",\"TOYOTA\",\"KIA\",\"FORD\",\"CHEVROLET\",\"TOYOTA\",\"TOYOTA\",\"FORD\",\"MERCEDES-BENZ\",\"HONDA\",\"TOYOTA\",\"TOYOTA\",\"SSANGYONG\",\"TOYOTA\",\"HONDA\",\"HYUNDAI\",\"MAZDA\",\"FORD\",\"OPEL\",\"TOYOTA\",\"TOYOTA\",\"MERCEDES-BENZ\",\"FORD\",\"HYUNDAI\",\"CHEVROLET\",\"HYUNDAI\",\"HONDA\",\"HYUNDAI\",\"LEXUS\",\"HYUNDAI\",\"TOYOTA\",\"NISSAN\",\"TOYOTA\",\"VOLKSWAGEN\",\"HYUNDAI\",\"NISSAN\",\"LEXUS\",\"TOYOTA\",\"OPEL\",\"HYUNDAI\",\"TOYOTA\",\"VOLKSWAGEN\",\"HYUNDAI\",\"BMW\",\"BMW\",\"TOYOTA\",\"HYUNDAI\",\"VOLKSWAGEN\",\"HYUNDAI\",\"CHEVROLET\",\"FORD\",\"HYUNDAI\",\"MITSUBISHI\",\"MERCEDES-BENZ\",\"LEXUS\",\"BMW\",\"HYUNDAI\",\"TOYOTA\",\"HYUNDAI\",\"BMW\",\"TOYOTA\",\"TOYOTA\",\"MITSUBISHI\",\"NISSAN\",\"TOYOTA\",\"TOYOTA\",\"BMW\",\"HYUNDAI\",\"MERCEDES-BENZ\",\"TOYOTA\",\"CHEVROLET\",\"HYUNDAI\",\"TOYOTA\",\"TOYOTA\",\"CHEVROLET\",\"MAZDA\",\"LEXUS\",\"SUZUKI\",\"TOYOTA\",\"TOYOTA\",\"VOLKSWAGEN\",\"HYUNDAI\",\"NISSAN\",\"LEXUS\",\"TOYOTA\",\"BMW\",\"TOYOTA\",\"HYUNDAI\",\"NISSAN\",\"HYUNDAI\",\"TOYOTA\",\"FORD\",\"DAEWOO\",\"TOYOTA\",\"HONDA\",\"FORD\",\"LEXUS\",\"HONDA\",\"LAND ROVER\",\"CHEVROLET\",\"CHEVROLET\",\"HYUNDAI\",\"TOYOTA\",\"LEXUS\",\"HYUNDAI\",\"VOLKSWAGEN\",\"HYUNDAI\",\"TOYOTA\",\"BMW\",\"MERCEDES-BENZ\",\"HYUNDAI\",\"MITSUBISHI\",\"NISSAN\",\"TOYOTA\",\"HYUNDAI\",\"CHEVROLET\",\"FORD\",\"HONDA\",\"HONDA\",\"TOYOTA\",\"HYUNDAI\",\"CHEVROLET\",\"FORD\",\"FORD\",\"VOLKSWAGEN\",\"VOLVO\",\"HYUNDAI\",\"TOYOTA\",\"FORD\",\"HYUNDAI\",\"TOYOTA\",\"HYUNDAI\",\"TOYOTA\",\"FORD\",\"HYUNDAI\",\"HYUNDAI\",\"MERCEDES-BENZ\",\"DODGE\",\"DODGE\",\"CHEVROLET\",\"TOYOTA\",\"HYUNDAI\",\"TOYOTA\",\"TOYOTA\",\"KIA\",\"TOYOTA\",\"TOYOTA\",\"NISSAN\",\"RENAULT\",\"TOYOTA\",\"KIA\",\"HYUNDAI\",\"FIAT\",\"HYUNDAI\",\"HYUNDAI\",\"TOYOTA\",\"HONDA\",\"HYUNDAI\",\"TOYOTA\",\"HYUNDAI\",\"HYUNDAI\",\"HYUNDAI\",\"VOLKSWAGEN\",\"AUDI\",\"BUICK\",\"TOYOTA\",\"HYUNDAI\",\"FORD\",\"TOYOTA\",\"HONDA\",\"HYUNDAI\",\"TOYOTA\",\"TOYOTA\",\"OPEL\",\"BMW\",\"HYUNDAI\",\"MERCEDES-BENZ\",\"OPEL\",\"HYUNDAI\",\"MERCEDES-BENZ\",\"OPEL\",\"TOYOTA\",\"TOYOTA\",\"CHEVROLET\",\"NISSAN\",\"HYUNDAI\",\"TOYOTA\",\"HYUNDAI\",\"LEXUS\",\"VOLKSWAGEN\",\"CHEVROLET\",\"CHEVROLET\",\"NISSAN\",\"CHRYSLER\",\"MERCEDES-BENZ\",\"BMW\",\"TOYOTA\",\"HYUNDAI\",\"DODGE\",\"LEXUS\",\"TOYOTA\",\"TOYOTA\",\"TOYOTA\",\"HYUNDAI\",\"NISSAN\",\"VOLKSWAGEN\",\"HYUNDAI\",\"CHEVROLET\",\"OPEL\",\"VOLKSWAGEN\",\"MERCEDES-BENZ\",\"HYUNDAI\",\"NISSAN\",\"HYUNDAI\",\"TOYOTA\",\"BMW\",\"TOYOTA\",\"TOYOTA\",\"TOYOTA\",\"TOYOTA\",\"OPEL\",\"TOYOTA\",\"HYUNDAI\",\"OPEL\",\"TOYOTA\",\"HYUNDAI\",\"SSANGYONG\",\"TOYOTA\",\"HYUNDAI\",\"MITSUBISHI\",\"CHEVROLET\",\"CHEVROLET\",\"MERCEDES-BENZ\",\"AUDI\",\"BMW\",\"HYUNDAI\",\"VOLKSWAGEN\",\"OPEL\",\"HYUNDAI\",\"LAND ROVER\",\"UAZ\",\"MAZDA\",\"RENAULT\",\"AUDI\",\"BMW\",\"HYUNDAI\",\"LEXUS\",\"MERCEDES-BENZ\",\"NISSAN\",\"KIA\",\"VOLKSWAGEN\",\"TOYOTA\",\"TOYOTA\",\"LEXUS\",\"HYUNDAI\",\"MINI\",\"TOYOTA\",\"FORD\",\"MERCEDES-BENZ\",\"TOYOTA\",\"CHEVROLET\",\"HONDA\",\"HYUNDAI\",\"CHEVROLET\",\"HYUNDAI\",\"MERCEDES-BENZ\",\"TOYOTA\",\"HYUNDAI\",\"HYUNDAI\",\"HONDA\",\"BMW\",\"TOYOTA\",\"NISSAN\",\"CHEVROLET\",\"TOYOTA\",\"NISSAN\",\"LEXUS\",\"BMW\",\"HYUNDAI\",\"TOYOTA\",\"HYUNDAI\",\"CHEVROLET\",\"TOYOTA\",\"BMW\",\"SSANGYONG\",\"LEXUS\",\"HYUNDAI\",\"UAZ\",\"SUBARU\",\"SUBARU\",\"FORD\",\"HONDA\",\"TOYOTA\",\"TOYOTA\",\"BMW\",\"HYUNDAI\",\"HYUNDAI\",\"KIA\",\"HONDA\",\"MERCEDES-BENZ\",\"HONDA\",\"BMW\",\"HYUNDAI\",\"CHEVROLET\",\"LEXUS\",\"MITSUBISHI\",\"MERCEDES-BENZ\",\"HONDA\",\"HYUNDAI\",\"LEXUS\",\"NISSAN\",\"SUBARU\",\"UAZ\",\"TOYOTA\",\"HYUNDAI\",\"CHEVROLET\",\"MERCEDES-BENZ\",\"CHEVROLET\",\"HYUNDAI\",\"MERCEDES-BENZ\",\"TOYOTA\",\"DODGE\",\"LAND ROVER\",\"LEXUS\",\"HYUNDAI\",\"LEXUS\",\"MITSUBISHI\",\"HYUNDAI\",\"TOYOTA\",\"BMW\",\"TOYOTA\",\"CHEVROLET\",\"TOYOTA\",\"LEXUS\",\"RENAULT\",\"HYUNDAI\",\"TOYOTA\",\"FORD\",\"DODGE\",\"TOYOTA\",\"HYUNDAI\",\"NISSAN\",\"TOYOTA\",\"FIAT\",\"LEXUS\",\"FORD\",\"HYUNDAI\",\"NISSAN\",\"LEXUS\",\"BMW\",\"HYUNDAI\",\"BUICK\",\"MERCEDES-BENZ\",\"SSANGYONG\",\"HYUNDAI\",\"SSANGYONG\",\"FORD\",\"HYUNDAI\",\"VOLKSWAGEN\",\"KIA\",\"MITSUBISHI\",\"KIA\",\"HYUNDAI\",\"HYUNDAI\",\"VOLKSWAGEN\",\"AUDI\",\"LEXUS\",\"DAEWOO\",\"TOYOTA\",\"TOYOTA\",\"MERCEDES-BENZ\",\"TOYOTA\",\"CHEVROLET\",\"HYUNDAI\",\"NISSAN\",\"TOYOTA\",\"HYUNDAI\",\"BMW\",\"CHEVROLET\",\"MERCEDES-BENZ\",\"NISSAN\",\"TOYOTA\",\"FORD\",\"GMC\",\"FORD\",\"CHEVROLET\",\"TOYOTA\",\"MERCEDES-BENZ\",\"HYUNDAI\",\"TOYOTA\",\"NISSAN\",\"TOYOTA\",\"CHEVROLET\",\"FORD\",\"CHEVROLET\",\"HYUNDAI\",\"TOYOTA\",\"TOYOTA\",\"MITSUBISHI\",\"HYUNDAI\",\"LEXUS\",\"FORD\",\"SSANGYONG\",\"MERCEDES-BENZ\",\"CHEVROLET\",\"BMW\",\"FORD\",\"TOYOTA\",\"MERCEDES-BENZ\",\"TOYOTA\",\"SUBARU\",\"PEUGEOT\",\"MERCEDES-BENZ\",\"FORD\",\"TOYOTA\",\"KIA\",\"LEXUS\",\"MERCEDES-BENZ\",\"MERCEDES-BENZ\",\"KIA\",\"JEEP\",\"FORD\",\"CHEVROLET\",\"HYUNDAI\",\"LEXUS\",\"MITSUBISHI\",\"TOYOTA\",\"SSANGYONG\",\"BMW\",\"CHEVROLET\",\"SSANGYONG\",\"OPEL\",\"HYUNDAI\",\"MERCEDES-BENZ\",\"HYUNDAI\",\"TOYOTA\",\"HYUNDAI\",\"TOYOTA\",\"TOYOTA\",\"DAEWOO\",\"MERCEDES-BENZ\",\"BMW\",\"VOLKSWAGEN\",\"TOYOTA\",\"BMW\",\"TOYOTA\",\"TOYOTA\",\"BMW\",\"HYUNDAI\",\"TOYOTA\",\"HYUNDAI\",\"CHEVROLET\",\"LEXUS\",\"FORD\",\"TOYOTA\",\"MERCEDES-BENZ\",\"MERCEDES-BENZ\",\"NISSAN\",\"LEXUS\",\"NISSAN\",\"OPEL\",\"FORD\",\"MERCEDES-BENZ\",\"BMW\",\"DODGE\",\"FORD\",\"MERCEDES-BENZ\",\"LEXUS\",\"HONDA\",\"VAZ\",\"TOYOTA\",\"FORD\",\"TOYOTA\",\"HYUNDAI\",\"CHEVROLET\",\"KIA\",\"HYUNDAI\",\"AUDI\",\"NISSAN\",\"TOYOTA\",\"HYUNDAI\",\"HYUNDAI\",\"NISSAN\",\"KIA\",\"MERCEDES-BENZ\",\"BMW\",\"CHEVROLET\",\"CHEVROLET\",\"TOYOTA\",\"MERCEDES-BENZ\",\"HONDA\",\"HYUNDAI\",\"HYUNDAI\",\"CHEVROLET\",\"CHEVROLET\",\"HONDA\",\"MERCEDES-BENZ\",\"VOLKSWAGEN\",\"HYUNDAI\",\"FORD\",\"BMW\",\"TOYOTA\",\"CHEVROLET\",\"BMW\",\"LEXUS\",\"HYUNDAI\",\"TOYOTA\",\"VOLKSWAGEN\",\"HYUNDAI\",\"HYUNDAI\",\"TOYOTA\",\"HONDA\",\"BMW\",\"BMW\",\"TOYOTA\",\"SSANGYONG\",\"HONDA\",\"TOYOTA\",\"FORD\",\"VOLKSWAGEN\",\"CHRYSLER\",\"SSANGYONG\",\"FORD\",\"RENAULT\",\"MAZDA\",\"TOYOTA\",\"MERCEDES-BENZ\",\"OPEL\",\"OPEL\",\"MERCEDES-BENZ\",\"MITSUBISHI\",\"FORD\",\"BMW\",\"TOYOTA\",\"BMW\",\"HYUNDAI\",\"MAZDA\",\"HONDA\",\"HYUNDAI\",\"HYUNDAI\",\"LEXUS\",\"HONDA\",\"MERCEDES-BENZ\",\"BMW\",\"HONDA\",\"TOYOTA\",\"MERCEDES-BENZ\",\"HYUNDAI\",\"TOYOTA\",\"BMW\",\"BMW\",\"HYUNDAI\",\"TOYOTA\",\"HYUNDAI\",\"NISSAN\",\"HYUNDAI\",\"VOLKSWAGEN\",\"HYUNDAI\",\"MERCEDES-BENZ\",\"TOYOTA\",\"MERCEDES-BENZ\",\"TOYOTA\",\"HYUNDAI\",\"SUBARU\",\"CHEVROLET\",\"HYUNDAI\",\"VOLKSWAGEN\",\"HYUNDAI\",\"HYUNDAI\",\"LAND ROVER\",\"FORD\",\"TOYOTA\",\"BMW\",\"SSANGYONG\",\"HYUNDAI\",\"TOYOTA\",\"SSANGYONG\",\"HONDA\",\"FORD\",\"FORD\",\"HYUNDAI\",\"NISSAN\",\"MAZDA\",\"LEXUS\",\"CHEVROLET\",\"TOYOTA\",\"HONDA\",\"TOYOTA\",\"TOYOTA\",\"FORD\",\"OPEL\",\"SUBARU\",\"MAZDA\",\"TOYOTA\",\"TOYOTA\",\"OPEL\",\"CHEVROLET\",\"BMW\",\"CHEVROLET\",\"LEXUS\",\"VOLKSWAGEN\",\"MITSUBISHI\",\"TOYOTA\",\"SUBARU\",\"CHEVROLET\",\"TOYOTA\",\"HYUNDAI\",\"NISSAN\",\"MERCEDES-BENZ\",\"HYUNDAI\",\"MERCEDES-BENZ\",\"HYUNDAI\",\"TOYOTA\",\"MERCEDES-BENZ\",\"SUBARU\",\"MERCEDES-BENZ\",\"HYUNDAI\",\"TOYOTA\",\"HYUNDAI\",\"LEXUS\",\"KIA\",\"TOYOTA\",\"MERCEDES-BENZ\",\"TOYOTA\",\"LINCOLN\",\"OPEL\",\"SSANGYONG\",\"DAEWOO\",\"KIA\",\"FORD\",\"KIA\",\"LEXUS\",\"FIAT\",\"VOLKSWAGEN\",\"SUZUKI\",\"TOYOTA\",\"FORD\",\"HONDA\",\"HYUNDAI\",\"TOYOTA\",\"TOYOTA\",\"MAZDA\",\"TOYOTA\",\"TOYOTA\",\"TOYOTA\",\"TOYOTA\",\"KIA\",\"TOYOTA\",\"MERCEDES-BENZ\",\"HYUNDAI\",\"NISSAN\",\"OPEL\",\"TOYOTA\",\"HYUNDAI\",\"LEXUS\",\"MERCEDES-BENZ\",\"HONDA\",\"HYUNDAI\",\"TOYOTA\",\"TOYOTA\",\"TOYOTA\",\"TOYOTA\",\"MERCEDES-BENZ\",\"MITSUBISHI\",\"HYUNDAI\",\"MERCEDES-BENZ\",\"MERCEDES-BENZ\",\"TOYOTA\",\"HYUNDAI\",\"HYUNDAI\",\"FORD\",\"MAZDA\",\"TOYOTA\",\"FORD\",\"TOYOTA\",\"HYUNDAI\",\"HONDA\",\"BMW\",\"NISSAN\",\"HYUNDAI\",\"TOYOTA\",\"HYUNDAI\",\"HONDA\",\"FORD\",\"HYUNDAI\",\"NISSAN\",\"CHEVROLET\",\"HYUNDAI\",\"KIA\",\"MERCEDES-BENZ\",\"VOLKSWAGEN\",\"TOYOTA\",\"TOYOTA\",\"HYUNDAI\",\"TOYOTA\",\"CHEVROLET\",\"KIA\",\"TOYOTA\",\"NISSAN\",\"MERCEDES-BENZ\",\"OPEL\",\"HYUNDAI\",\"VOLKSWAGEN\",\"DODGE\",\"MERCEDES-BENZ\",\"FORD\",\"SUBARU\",\"SUBARU\",\"MERCEDES-BENZ\",\"NISSAN\",\"MERCEDES-BENZ\",\"TOYOTA\",\"TOYOTA\",\"SUBARU\",\"FORD\",\"MITSUBISHI\",\"HYUNDAI\",\"MERCEDES-BENZ\",\"MERCEDES-BENZ\",\"SSANGYONG\",\"HYUNDAI\",\"KIA\",\"NISSAN\",\"TOYOTA\",\"HONDA\",\"VOLKSWAGEN\",\"MERCEDES-BENZ\",\"TOYOTA\",\"NISSAN\",\"MAZDA\",\"HONDA\",\"JEEP\",\"TOYOTA\",\"FORD\",\"FORD\",\"NISSAN\",\"HYUNDAI\",\"HYUNDAI\",\"FORD\",\"MERCEDES-BENZ\",\"TOYOTA\",\"MERCEDES-BENZ\",\"MERCEDES-BENZ\",\"MERCEDES-BENZ\",\"HYUNDAI\",\"MERCEDES-BENZ\",\"HYUNDAI\",\"HYUNDAI\",\"FORD\",\"CHEVROLET\",\"OPEL\",\"TOYOTA\",\"TOYOTA\",\"HYUNDAI\",\"BMW\",\"KIA\",\"MERCEDES-BENZ\",\"CHEVROLET\",\"TOYOTA\",\"TOYOTA\",\"LEXUS\",\"DODGE\",\"CHEVROLET\",\"HYUNDAI\",\"MERCEDES-BENZ\",\"MITSUBISHI\",\"HYUNDAI\",\"TOYOTA\",\"HYUNDAI\",\"SUZUKI\",\"LEXUS\",\"TOYOTA\",\"CHEVROLET\",\"LEXUS\",\"TOYOTA\",\"MAZDA\",\"BMW\",\"HYUNDAI\",\"HONDA\",\"MERCEDES-BENZ\",\"MERCEDES-BENZ\",\"HYUNDAI\",\"SKODA\",\"FORD\",\"BMW\",\"HYUNDAI\",\"DAEWOO\",\"HYUNDAI\",\"AUDI\",\"BMW\",\"LEXUS\",\"CHEVROLET\",\"HONDA\",\"MERCEDES-BENZ\",\"HYUNDAI\",\"HYUNDAI\",\"HYUNDAI\",\"MERCEDES-BENZ\",\"VOLKSWAGEN\",\"MERCEDES-BENZ\",\"GAZ\",\"HYUNDAI\",\"CHEVROLET\",\"TOYOTA\",\"HONDA\",\"HYUNDAI\",\"FORD\",\"SSANGYONG\",\"TOYOTA\",\"HYUNDAI\",\"MERCEDES-BENZ\",\"TOYOTA\",\"TOYOTA\",\"MERCEDES-BENZ\",\"LAND ROVER\",\"MITSUBISHI\",\"CHEVROLET\",\"HYUNDAI\",\"TOYOTA\",\"CHEVROLET\",\"LEXUS\",\"OPEL\",\"TOYOTA\",\"LEXUS\",\"MINI\",\"TOYOTA\",\"MERCEDES-BENZ\",\"LEXUS\",\"MERCEDES-BENZ\",\"TOYOTA\",\"LEXUS\",\"TOYOTA\",\"CHEVROLET\",\"HYUNDAI\",\"KIA\",\"HYUNDAI\",\"MITSUBISHI\",\"TOYOTA\",\"TOYOTA\",\"HYUNDAI\",\"CHEVROLET\",\"MERCEDES-BENZ\",\"MERCEDES-BENZ\",\"TOYOTA\",\"LEXUS\",\"MERCEDES-BENZ\",\"MERCEDES-BENZ\",\"TOYOTA\",\"TOYOTA\",\"JEEP\",\"HYUNDAI\",\"TOYOTA\",\"SSANGYONG\",\"MERCEDES-BENZ\",\"LEXUS\",\"HYUNDAI\",\"LEXUS\",\"KIA\",\"HONDA\",\"NISSAN\",\"DAEWOO\",\"MITSUBISHI\",\"BMW\",\"HYUNDAI\",\"HYUNDAI\",\"TOYOTA\",\"NISSAN\",\"HYUNDAI\",\"HYUNDAI\",\"MERCEDES-BENZ\",\"HYUNDAI\",\"HONDA\",\"AUDI\",\"HYUNDAI\",\"BMW\",\"FORD\",\"MINI\",\"PORSCHE\",\"MERCEDES-BENZ\",\"BMW\",\"TOYOTA\",\"TOYOTA\",\"LEXUS\",\"SSANGYONG\",\"HYUNDAI\",\"FORD\",\"TOYOTA\",\"BMW\",\"HYUNDAI\",\"FORD\",\"ACURA\",\"TOYOTA\",\"HYUNDAI\",\"HONDA\",\"TOYOTA\",\"TOYOTA\",\"HONDA\",\"HYUNDAI\",\"TOYOTA\",\"HYUNDAI\",\"AUDI\",\"TOYOTA\",\"AUDI\",\"TOYOTA\",\"OPEL\",\"SSANGYONG\",\"CHEVROLET\",\"TOYOTA\",\"BMW\",\"FORD\",\"OPEL\",\"TOYOTA\",\"LEXUS\",\"SSANGYONG\",\"AUDI\",\"MITSUBISHI\",\"NISSAN\",\"HYUNDAI\",\"NISSAN\",\"HYUNDAI\",\"AUDI\",\"MERCEDES-BENZ\",\"TOYOTA\",\"FORD\",\"SSANGYONG\",\"MITSUBISHI\",\"FORD\",\"TOYOTA\",\"KIA\",\"MERCEDES-BENZ\",\"BMW\",\"HYUNDAI\",\"MERCEDES-BENZ\",\"HYUNDAI\",\"HYUNDAI\",\"MERCEDES-BENZ\",\"FORD\",\"TOYOTA\",\"HYUNDAI\",\"MAZDA\",\"MERCEDES-BENZ\",\"HONDA\",\"TOYOTA\",\"AUDI\",\"MERCEDES-BENZ\",\"HYUNDAI\",\"SSANGYONG\",\"HYUNDAI\",\"HYUNDAI\",\"DAEWOO\",\"MERCEDES-BENZ\",\"MERCEDES-BENZ\",\"SUBARU\",\"NISSAN\",\"MERCEDES-BENZ\",\"KIA\",\"HYUNDAI\",\"TOYOTA\",\"HONDA\",\"TOYOTA\",\"TOYOTA\",\"LEXUS\",\"FORD\",\"LEXUS\",\"HYUNDAI\",\"HONDA\",\"CHEVROLET\",\"HYUNDAI\",\"MERCEDES-BENZ\",\"HYUNDAI\",\"HYUNDAI\",\"FORD\",\"CHRYSLER\",\"HYUNDAI\",\"MERCEDES-BENZ\",\"KIA\",\"AUDI\",\"HYUNDAI\",\"HYUNDAI\",\"MERCEDES-BENZ\",\"HYUNDAI\",\"TOYOTA\",\"FIAT\",\"TOYOTA\",\"AUDI\",\"LEXUS\",\"MERCEDES-BENZ\",\"HYUNDAI\",\"BMW\",\"TOYOTA\",\"TOYOTA\",\"MERCEDES-BENZ\",\"NISSAN\",\"TOYOTA\",\"BMW\",\"FORD\",\"BMW\",\"FORD\",\"HYUNDAI\",\"CHEVROLET\",\"HYUNDAI\",\"MAZDA\",\"HYUNDAI\",\"LEXUS\",\"ROLLS-ROYCE\",\"TOYOTA\",\"NISSAN\",\"TOYOTA\",\"LEXUS\",\"SUBARU\",\"MERCEDES-BENZ\",\"RENAULT\",\"MERCEDES-BENZ\",\"BMW\",\"AUDI\",\"FORD\",\"MERCEDES-BENZ\",\"INFINITI\",\"TOYOTA\",\"AUDI\",\"FORD\",\"HYUNDAI\",\"SSANGYONG\",\"KIA\",\"TOYOTA\",\"TOYOTA\",\"TOYOTA\",\"VOLVO\",\"TOYOTA\",\"MITSUBISHI\",\"TOYOTA\",\"HYUNDAI\",\"BMW\",\"MERCEDES-BENZ\",\"HYUNDAI\",\"HYUNDAI\",\"FORD\",\"KIA\",\"HYUNDAI\",\"TOYOTA\",\"TOYOTA\",\"OPEL\",\"TOYOTA\",\"HYUNDAI\",\"TOYOTA\",\"BMW\",\"FORD\",\"SSANGYONG\",\"FORD\",\"MAZDA\",\"TOYOTA\",\"FORD\",\"HYUNDAI\",\"HONDA\",\"CHEVROLET\",\"BMW\",\"FORD\",\"TOYOTA\",\"BMW\",\"MERCEDES-BENZ\",\"HONDA\",\"HYUNDAI\",\"CHEVROLET\",\"TOYOTA\",\"MERCEDES-BENZ\",\"MERCEDES-BENZ\",\"MAZDA\",\"HYUNDAI\",\"TOYOTA\",\"TOYOTA\",\"BMW\",\"TOYOTA\",\"MERCEDES-BENZ\",\"HYUNDAI\",\"LEXUS\",\"SUBARU\",\"MITSUBISHI\",\"MERCEDES-BENZ\",\"PORSCHE\",\"NISSAN\",\"MITSUBISHI\",\"HYUNDAI\",\"FIAT\",\"VOLKSWAGEN\",\"BMW\",\"MERCEDES-BENZ\",\"HYUNDAI\",\"HYUNDAI\",\"MERCEDES-BENZ\",\"FORD\",\"JEEP\",\"BMW\",\"HYUNDAI\",\"CHRYSLER\",\"BMW\",\"TOYOTA\",\"NISSAN\",\"TOYOTA\",\"LEXUS\",\"ALFA ROMEO\",\"MERCEDES-BENZ\",\"TOYOTA\",\"MITSUBISHI\",\"TOYOTA\",\"FORD\",\"FORD\",\"HYUNDAI\",\"TOYOTA\",\"CHEVROLET\",\"BMW\",\"FORD\",\"CHEVROLET\",\"TOYOTA\",\"TOYOTA\",\"TOYOTA\",\"TOYOTA\",\"CHEVROLET\",\"HYUNDAI\",\"MERCEDES-BENZ\",\"SSANGYONG\",\"HYUNDAI\",\"HYUNDAI\",\"TOYOTA\",\"OPEL\",\"NISSAN\",\"FORD\",\"OPEL\",\"HYUNDAI\",\"MERCEDES-BENZ\",\"MERCEDES-BENZ\",\"BMW\",\"BMW\",\"MERCEDES-BENZ\",\"HONDA\",\"HYUNDAI\",\"TOYOTA\",\"HYUNDAI\",\"TOYOTA\",\"LEXUS\",\"LEXUS\",\"CHEVROLET\",\"MERCEDES-BENZ\",\"TOYOTA\",\"HYUNDAI\",\"OPEL\",\"BMW\",\"TOYOTA\",\"SSANGYONG\",\"TOYOTA\",\"TOYOTA\",\"MERCEDES-BENZ\",\"SEAT\",\"HYUNDAI\",\"BMW\",\"MERCEDES-BENZ\",\"VOLKSWAGEN\",\"HYUNDAI\",\"DAEWOO\",\"TOYOTA\",\"NISSAN\",\"SSANGYONG\",\"HYUNDAI\",\"LEXUS\",\"HYUNDAI\",\"HYUNDAI\",\"TOYOTA\",\"VOLKSWAGEN\",\"INFINITI\",\"NISSAN\",\"FORD\",\"MERCEDES-BENZ\",\"OPEL\",\"DAEWOO\",\"TOYOTA\",\"HYUNDAI\",\"BMW\",\"TOYOTA\",\"LEXUS\",\"FORD\",\"TOYOTA\",\"TOYOTA\",\"HYUNDAI\",\"BMW\",\"VOLKSWAGEN\",\"CHEVROLET\",\"MITSUBISHI\",\"SSANGYONG\",\"MERCEDES-BENZ\",\"OPEL\",\"HYUNDAI\",\"HYUNDAI\",\"MITSUBISHI\",\"HYUNDAI\",\"HYUNDAI\",\"HYUNDAI\",\"VOLKSWAGEN\",\"TOYOTA\",\"HONDA\",\"TOYOTA\",\"HYUNDAI\",\"MERCEDES-BENZ\",\"DODGE\",\"HYUNDAI\",\"BMW\",\"LAND ROVER\",\"MERCEDES-BENZ\",\"HYUNDAI\",\"SSANGYONG\",\"FORD\",\"MERCEDES-BENZ\",\"HYUNDAI\",\"AUDI\",\"HONDA\",\"NISSAN\",\"FORD\",\"KIA\",\"HYUNDAI\",\"HYUNDAI\",\"HYUNDAI\",\"TOYOTA\",\"CHEVROLET\",\"MERCEDES-BENZ\",\"HYUNDAI\",\"TOYOTA\",\"HYUNDAI\",\"SUBARU\",\"HYUNDAI\",\"HYUNDAI\",\"AUDI\",\"CHEVROLET\",\"VOLKSWAGEN\",\"LEXUS\",\"HYUNDAI\",\"TOYOTA\",\"TOYOTA\",\"SKODA\",\"HYUNDAI\",\"MERCEDES-BENZ\",\"TOYOTA\",\"MITSUBISHI\",\"MERCEDES-BENZ\",\"FORD\",\"TOYOTA\",\"TOYOTA\",\"LEXUS\",\"LEXUS\",\"TOYOTA\",\"AUDI\",\"HYUNDAI\",\"LEXUS\",\"JEEP\",\"HYUNDAI\",\"MERCEDES-BENZ\",\"MERCEDES-BENZ\",\"BMW\",\"VOLKSWAGEN\",\"LEXUS\",\"HYUNDAI\",\"HYUNDAI\",\"CHEVROLET\",\"AUDI\",\"OPEL\",\"HYUNDAI\",\"VOLKSWAGEN\",\"BMW\",\"BMW\",\"HYUNDAI\",\"CHEVROLET\",\"TOYOTA\",\"MERCEDES-BENZ\",\"FORD\",\"TOYOTA\",\"HONDA\",\"SUBARU\",\"TOYOTA\",\"SSANGYONG\",\"VOLKSWAGEN\",\"NISSAN\",\"NISSAN\",\"SUBARU\",\"HYUNDAI\",\"TOYOTA\",\"HYUNDAI\",\"LEXUS\",\"BMW\",\"INFINITI\",\"TOYOTA\",\"LEXUS\",\"HONDA\",\"HYUNDAI\",\"KIA\",\"SUBARU\",\"MAZDA\",\"BMW\",\"BMW\",\"MITSUBISHI\",\"HONDA\",\"HYUNDAI\",\"MERCEDES-BENZ\",\"HYUNDAI\",\"HYUNDAI\",\"SSANGYONG\",\"TOYOTA\",\"FORD\",\"MERCEDES-BENZ\",\"TOYOTA\",\"TOYOTA\",\"MERCEDES-BENZ\",\"TOYOTA\",\"MERCEDES-BENZ\",\"LINCOLN\",\"MERCEDES-BENZ\",\"FORD\",\"HONDA\",\"TOYOTA\",\"TOYOTA\",\"SSANGYONG\",\"TOYOTA\",\"BMW\",\"FORD\",\"HYUNDAI\",\"TOYOTA\",\"TOYOTA\",\"HYUNDAI\",\"TOYOTA\",\"HYUNDAI\",\"HYUNDAI\",\"TOYOTA\",\"VOLVO\",\"HYUNDAI\",\"MERCEDES-BENZ\",\"MERCEDES-BENZ\",\"VOLKSWAGEN\",\"MERCEDES-BENZ\",\"MERCEDES-BENZ\",\"HYUNDAI\",\"HONDA\",\"TOYOTA\",\"MERCEDES-BENZ\",\"BMW\",\"CHEVROLET\",\"TOYOTA\",\"VOLKSWAGEN\",\"SUBARU\",\"TOYOTA\",\"FORD\",\"HONDA\",\"KIA\",\"HYUNDAI\",\"BMW\",\"JEEP\",\"BMW\",\"CHEVROLET\",\"FORD\",\"LEXUS\",\"TOYOTA\",\"LEXUS\",\"JEEP\",\"HONDA\",\"CHEVROLET\",\"CHEVROLET\",\"SUBARU\",\"CHEVROLET\",\"BMW\",\"FORD\",\"TOYOTA\",\"NISSAN\",\"SSANGYONG\",\"HYUNDAI\",\"HYUNDAI\",\"LEXUS\",\"OPEL\",\"SUBARU\",\"KIA\",\"TOYOTA\",\"HYUNDAI\",\"HYUNDAI\",\"HYUNDAI\",\"HYUNDAI\",\"HONDA\",\"HYUNDAI\",\"HYUNDAI\",\"HYUNDAI\",\"NISSAN\",\"HYUNDAI\",\"LEXUS\",\"MERCEDES-BENZ\",\"HYUNDAI\",\"HONDA\",\"MERCEDES-BENZ\",\"HYUNDAI\",\"NISSAN\",\"SSANGYONG\",\"MERCEDES-BENZ\",\"FORD\",\"CHEVROLET\",\"HYUNDAI\",\"NISSAN\",\"MERCEDES-BENZ\",\"VOLKSWAGEN\",\"NISSAN\",\"CHEVROLET\",\"HYUNDAI\",\"TOYOTA\",\"HYUNDAI\",\"BMW\",\"FORD\",\"NISSAN\",\"HYUNDAI\",\"FIAT\",\"HYUNDAI\",\"LEXUS\",\"HYUNDAI\",\"HYUNDAI\",\"HYUNDAI\",\"MERCEDES-BENZ\",\"AUDI\",\"KIA\",\"NISSAN\",\"KIA\",\"MITSUBISHI\",\"SSANGYONG\",\"BMW\",\"KIA\",\"MERCEDES-BENZ\",\"FORD\",\"TOYOTA\",\"AUDI\",\"HYUNDAI\",\"LEXUS\",\"CHEVROLET\",\"SUBARU\",\"LEXUS\",\"LEXUS\",\"LEXUS\",\"HYUNDAI\",\"TOYOTA\",\"HYUNDAI\",\"CHEVROLET\",\"VOLKSWAGEN\",\"HYUNDAI\",\"TOYOTA\",\"TOYOTA\",\"TOYOTA\",\"HYUNDAI\",\"MAZDA\",\"LEXUS\",\"CHEVROLET\",\"HYUNDAI\",\"HYUNDAI\",\"HYUNDAI\",\"MAZDA\",\"HYUNDAI\",\"MERCEDES-BENZ\",\"KIA\",\"MERCEDES-BENZ\",\"MERCEDES-BENZ\",\"SSANGYONG\",\"TOYOTA\",\"MERCEDES-BENZ\",\"CHEVROLET\",\"LEXUS\",\"HYUNDAI\",\"HYUNDAI\",\"HYUNDAI\",\"MERCEDES-BENZ\",\"MITSUBISHI\",\"HYUNDAI\",\"TOYOTA\",\"OPEL\",\"TOYOTA\",\"TOYOTA\",\"CHEVROLET\",\"CHEVROLET\",\"SUBARU\",\"MERCEDES-BENZ\",\"CHEVROLET\",\"HONDA\",\"LEXUS\",\"FORD\",\"MERCEDES-BENZ\",\"HONDA\",\"SUBARU\",\"TOYOTA\",\"HYUNDAI\",\"CITROEN\",\"HONDA\",\"NISSAN\",\"TOYOTA\",\"HYUNDAI\",\"HYUNDAI\",\"TOYOTA\",\"VOLKSWAGEN\",\"BMW\",\"FORD\",\"MERCEDES-BENZ\",\"OPEL\",\"TOYOTA\",\"LEXUS\",\"NISSAN\",\"HONDA\",\"HYUNDAI\",\"HYUNDAI\",\"JEEP\",\"TOYOTA\",\"HONDA\",\"HYUNDAI\",\"HYUNDAI\",\"TOYOTA\",\"BMW\",\"TOYOTA\",\"HONDA\",\"HYUNDAI\",\"TOYOTA\",\"HYUNDAI\",\"DODGE\",\"TOYOTA\",\"HYUNDAI\",\"MERCEDES-BENZ\",\"HYUNDAI\",\"VOLKSWAGEN\",\"HYUNDAI\",\"HYUNDAI\",\"BMW\",\"MERCEDES-BENZ\",\"VOLKSWAGEN\",\"BMW\",\"FORD\",\"HYUNDAI\",\"MAZDA\",\"CHEVROLET\",\"CHEVROLET\",\"FORD\",\"ALFA ROMEO\",\"CHEVROLET\",\"OPEL\",\"MERCEDES-BENZ\",\"BMW\",\"TOYOTA\",\"HYUNDAI\",\"MERCEDES-BENZ\",\"SSANGYONG\",\"HYUNDAI\",\"LEXUS\",\"NISSAN\",\"HONDA\",\"OPEL\",\"FORD\",\"VAZ\",\"HONDA\",\"HYUNDAI\",\"BMW\",\"TOYOTA\",\"CHEVROLET\",\"MERCEDES-BENZ\",\"TOYOTA\",\"NISSAN\",\"MERCEDES-BENZ\",\"SSANGYONG\",\"OPEL\",\"MERCEDES-BENZ\",\"HYUNDAI\",\"HONDA\",\"TOYOTA\",\"CHEVROLET\",\"LEXUS\",\"LEXUS\",\"MAZDA\",\"VOLKSWAGEN\",\"HYUNDAI\",\"TOYOTA\",\"NISSAN\",\"HONDA\",\"NISSAN\",\"HYUNDAI\",\"HONDA\",\"HYUNDAI\",\"HONDA\",\"CHEVROLET\",\"HYUNDAI\",\"HYUNDAI\",\"HYUNDAI\",\"HONDA\",\"BMW\",\"SSANGYONG\",\"TOYOTA\",\"TOYOTA\",\"MERCEDES-BENZ\",\"MERCEDES-BENZ\",\"SSANGYONG\",\"SSANGYONG\",\"LEXUS\",\"MERCEDES-BENZ\",\"CHEVROLET\",\"TOYOTA\",\"TOYOTA\",\"MAZDA\",\"HYUNDAI\",\"TOYOTA\",\"FORD\",\"MERCEDES-BENZ\",\"MERCEDES-BENZ\",\"MAZDA\",\"FORD\",\"KIA\",\"HYUNDAI\",\"TOYOTA\",\"HONDA\",\"AUDI\",\"HONDA\",\"BMW\",\"MERCEDES-BENZ\",\"TOYOTA\",\"HYUNDAI\",\"NISSAN\",\"SSANGYONG\",\"CHEVROLET\",\"CHEVROLET\",\"VOLKSWAGEN\",\"VOLKSWAGEN\",\"HONDA\",\"HYUNDAI\",\"TOYOTA\",\"TOYOTA\",\"CHEVROLET\",\"KIA\",\"SSANGYONG\",\"HYUNDAI\",\"KIA\",\"TOYOTA\",\"JEEP\",\"MERCEDES-BENZ\",\"VOLKSWAGEN\",\"TOYOTA\",\"CHEVROLET\",\"HYUNDAI\",\"NISSAN\",\"TOYOTA\",\"BMW\",\"FORD\",\"HONDA\",\"FORD\",\"TOYOTA\",\"TOYOTA\",\"AUDI\",\"FORD\",\"HYUNDAI\",\"SSANGYONG\",\"HONDA\",\"MINI\",\"HONDA\",\"CHEVROLET\",\"DODGE\",\"HONDA\",\"MERCEDES-BENZ\",\"TOYOTA\",\"TOYOTA\",\"TOYOTA\",\"HONDA\",\"CHEVROLET\",\"MERCEDES-BENZ\",\"MERCEDES-BENZ\",\"LEXUS\",\"MERCEDES-BENZ\",\"TOYOTA\",\"MERCEDES-BENZ\",\"TOYOTA\",\"HYUNDAI\",\"NISSAN\",\"FORD\",\"HYUNDAI\",\"HYUNDAI\",\"CHEVROLET\",\"HYUNDAI\",\"MITSUBISHI\",\"MERCEDES-BENZ\",\"MERCEDES-BENZ\",\"FORD\",\"FORD\",\"MERCEDES-BENZ\",\"OPEL\",\"LEXUS\",\"HYUNDAI\",\"TOYOTA\",\"DAEWOO\",\"BMW\",\"BMW\",\"LEXUS\",\"SSANGYONG\",\"HYUNDAI\",\"TOYOTA\",\"MITSUBISHI\",\"TOYOTA\",\"ROVER\",\"HYUNDAI\",\"TOYOTA\",\"TOYOTA\",\"TOYOTA\",\"SSANGYONG\",\"CHEVROLET\",\"PORSCHE\",\"LEXUS\",\"NISSAN\",\"HYUNDAI\",\"BMW\",\"TOYOTA\",\"VOLKSWAGEN\",\"TOYOTA\",\"JEEP\",\"TOYOTA\",\"TOYOTA\",\"MERCEDES-BENZ\",\"HYUNDAI\",\"TOYOTA\",\"FORD\",\"BMW\",\"MITSUBISHI\",\"SSANGYONG\",\"MERCEDES-BENZ\",\"HYUNDAI\",\"HYUNDAI\",\"FORD\",\"HONDA\",\"BMW\",\"TOYOTA\",\"TOYOTA\",\"ROVER\",\"FORD\",\"KIA\",\"CHEVROLET\",\"FORD\",\"MITSUBISHI\",\"MERCEDES-BENZ\",\"HYUNDAI\",\"LAND ROVER\",\"CHEVROLET\",\"SSANGYONG\",\"DAIHATSU\",\"HONDA\",\"HYUNDAI\",\"BMW\",\"DAEWOO\",\"DODGE\",\"CHEVROLET\",\"MITSUBISHI\",\"TOYOTA\",\"TOYOTA\",\"TOYOTA\",\"MAZDA\",\"TOYOTA\",\"VOLKSWAGEN\",\"HYUNDAI\",\"BMW\",\"TOYOTA\",\"HYUNDAI\",\"TOYOTA\",\"HYUNDAI\",\"TOYOTA\",\"HONDA\",\"KIA\",\"TOYOTA\",\"TOYOTA\",\"HONDA\",\"MERCEDES-BENZ\",\"LEXUS\",\"HYUNDAI\",\"TOYOTA\",\"LEXUS\",\"BMW\",\"LEXUS\",\"MERCEDES-BENZ\",\"HYUNDAI\",\"LEXUS\",\"MERCEDES-BENZ\",\"FORD\",\"KIA\",\"HYUNDAI\",\"TOYOTA\",\"HYUNDAI\",\"TOYOTA\",\"SSANGYONG\",\"KIA\",\"MERCEDES-BENZ\",\"HYUNDAI\",\"NISSAN\",\"FORD\",\"BMW\",\"VOLKSWAGEN\",\"MERCEDES-BENZ\",\"FORD\",\"HONDA\",\"LAND ROVER\",\"MERCEDES-BENZ\",\"HYUNDAI\",\"MERCEDES-BENZ\",\"MERCEDES-BENZ\",\"TOYOTA\",\"JAGUAR\",\"MERCEDES-BENZ\",\"FORD\",\"CHEVROLET\",\"SSANGYONG\",\"TOYOTA\",\"TOYOTA\",\"LEXUS\",\"MERCEDES-BENZ\",\"SSANGYONG\",\"TOYOTA\",\"TOYOTA\",\"CHEVROLET\",\"NISSAN\",\"HYUNDAI\",\"HONDA\",\"TOYOTA\",\"MERCEDES-BENZ\",\"HYUNDAI\",\"TOYOTA\",\"HONDA\",\"AUDI\",\"HYUNDAI\",\"TOYOTA\",\"FORD\",\"TOYOTA\",\"TOYOTA\",\"SSANGYONG\",\"CHEVROLET\",\"BMW\",\"LEXUS\",\"BMW\",\"HYUNDAI\",\"HYUNDAI\",\"UAZ\",\"HYUNDAI\",\"OPEL\",\"BMW\",\"VOLKSWAGEN\",\"HYUNDAI\",\"TOYOTA\",\"BMW\",\"HYUNDAI\",\"LEXUS\",\"FORD\",\"HYUNDAI\",\"BMW\",\"LEXUS\",\"MERCEDES-BENZ\",\"HYUNDAI\",\"TOYOTA\",\"HYUNDAI\",\"BMW\",\"MERCEDES-BENZ\",\"MERCEDES-BENZ\",\"HYUNDAI\",\"CITROEN\",\"VOLVO\",\"TOYOTA\",\"CHEVROLET\",\"FORD\",\"HONDA\",\"CHEVROLET\",\"HYUNDAI\",\"BMW\",\"MERCEDES-BENZ\",\"LEXUS\",\"MERCEDES-BENZ\",\"LEXUS\",\"TOYOTA\",\"LEXUS\",\"MAZDA\",\"MERCEDES-BENZ\",\"VOLKSWAGEN\",\"HYUNDAI\",\"VOLKSWAGEN\",\"MERCEDES-BENZ\",\"HYUNDAI\",\"TOYOTA\",\"VOLKSWAGEN\",\"HYUNDAI\",\"TOYOTA\",\"BMW\",\"TOYOTA\",\"MERCEDES-BENZ\",\"HYUNDAI\",\"TOYOTA\",\"TOYOTA\",\"MERCEDES-BENZ\",\"CHEVROLET\",\"TOYOTA\",\"BMW\",\"NISSAN\",\"MITSUBISHI\",\"LEXUS\",\"OPEL\",\"HYUNDAI\",\"BMW\",\"LEXUS\",\"LEXUS\",\"TOYOTA\",\"VOLKSWAGEN\",\"SUBARU\",\"CHEVROLET\",\"HYUNDAI\",\"VOLKSWAGEN\",\"HYUNDAI\",\"AUDI\",\"HYUNDAI\",\"NISSAN\",\"HUMMER\",\"MERCEDES-BENZ\",\"TOYOTA\",\"TOYOTA\",\"LEXUS\",\"NISSAN\",\"FORD\",\"MERCEDES-BENZ\",\"MERCEDES-BENZ\",\"FORD\",\"MERCEDES-BENZ\",\"MERCEDES-BENZ\",\"LEXUS\",\"SUZUKI\",\"HYUNDAI\",\"HYUNDAI\",\"TOYOTA\",\"OPEL\",\"BMW\",\"TOYOTA\",\"HYUNDAI\",\"FORD\",\"MERCEDES-BENZ\",\"VOLKSWAGEN\",\"TOYOTA\",\"MERCEDES-BENZ\",\"BMW\",\"HONDA\",\"MERCEDES-BENZ\",\"LEXUS\",\"TOYOTA\",\"HONDA\",\"LEXUS\",\"TOYOTA\",\"HONDA\",\"HYUNDAI\",\"FORD\",\"CHEVROLET\",\"VOLKSWAGEN\",\"TOYOTA\",\"SSANGYONG\",\"MERCEDES-BENZ\",\"FORD\",\"HYUNDAI\",\"TOYOTA\",\"TOYOTA\",\"BMW\",\"TOYOTA\",\"TOYOTA\",\"FIAT\",\"LEXUS\",\"VOLKSWAGEN\",\"TOYOTA\",\"HYUNDAI\",\"SSANGYONG\",\"CHRYSLER\",\"RENAULT\",\"HYUNDAI\",\"JEEP\",\"MERCEDES-BENZ\",\"CHEVROLET\",\"SUBARU\",\"TOYOTA\",\"HONDA\",\"MERCEDES-BENZ\",\"KIA\",\"SUBARU\",\"SSANGYONG\",\"CHEVROLET\",\"MAZDA\",\"HYUNDAI\",\"TOYOTA\",\"BMW\",\"HYUNDAI\",\"TOYOTA\",\"HYUNDAI\",\"TOYOTA\",\"CADILLAC\",\"SUBARU\",\"HONDA\",\"TOYOTA\",\"CHEVROLET\",\"VOLKSWAGEN\",\"BMW\",\"OPEL\",\"HYUNDAI\",\"MERCEDES-BENZ\",\"FORD\",\"NISSAN\",\"HYUNDAI\",\"HYUNDAI\",\"MERCEDES-BENZ\",\"HONDA\",\"HYUNDAI\",\"HYUNDAI\",\"MERCEDES-BENZ\",\"FORD\",\"VOLKSWAGEN\",\"MERCEDES-BENZ\",\"BMW\",\"NISSAN\",\"MERCEDES-BENZ\",\"VOLKSWAGEN\",\"TOYOTA\",\"TOYOTA\",\"SSANGYONG\",\"TOYOTA\",\"HYUNDAI\",\"VOLKSWAGEN\",\"TOYOTA\",\"HONDA\",\"AUDI\",\"HYUNDAI\",\"AUDI\",\"MERCEDES-BENZ\",\"BMW\",\"MERCEDES-BENZ\",\"TOYOTA\",\"DODGE\",\"FORD\",\"FORD\",\"HYUNDAI\",\"MERCEDES-BENZ\",\"KIA\",\"HYUNDAI\",\"MITSUBISHI\",\"TOYOTA\",\"CHEVROLET\",\"KIA\",\"BMW\",\"FORD\",\"HYUNDAI\",\"TOYOTA\",\"NISSAN\",\"VOLKSWAGEN\",\"HONDA\",\"LEXUS\",\"BMW\",\"HONDA\",\"HYUNDAI\",\"TOYOTA\",\"CHEVROLET\",\"HYUNDAI\",\"HYUNDAI\",\"PEUGEOT\",\"VOLKSWAGEN\",\"HYUNDAI\",\"TOYOTA\",\"HYUNDAI\",\"HYUNDAI\",\"TOYOTA\",\"NISSAN\",\"FORD\",\"HONDA\",\"VOLKSWAGEN\",\"HYUNDAI\",\"HYUNDAI\",\"OPEL\",\"CHEVROLET\",\"HYUNDAI\",\"CHEVROLET\",\"HONDA\",\"LEXUS\",\"HYUNDAI\",\"HYUNDAI\",\"FORD\",\"HYUNDAI\",\"BMW\",\"TOYOTA\",\"FIAT\",\"MERCEDES-BENZ\",\"TOYOTA\",\"MERCEDES-BENZ\",\"TOYOTA\",\"TOYOTA\",\"HYUNDAI\",\"TOYOTA\",\"HYUNDAI\",\"LEXUS\",\"HYUNDAI\",\"VOLKSWAGEN\",\"HYUNDAI\",\"HYUNDAI\",\"SSANGYONG\",\"KIA\",\"SUZUKI\",\"VOLKSWAGEN\",\"SSANGYONG\",\"HYUNDAI\",\"CHEVROLET\",\"DAEWOO\",\"FORD\",\"HYUNDAI\",\"TOYOTA\",\"VOLKSWAGEN\",\"MERCEDES-BENZ\",\"FIAT\",\"TOYOTA\",\"MERCEDES-BENZ\",\"TOYOTA\",\"HYUNDAI\",\"BMW\",\"CHEVROLET\",\"TOYOTA\",\"FORD\",\"KIA\",\"TOYOTA\",\"TOYOTA\",\"MERCEDES-BENZ\",\"HYUNDAI\",\"HYUNDAI\",\"TOYOTA\",\"KIA\",\"VOLKSWAGEN\",\"HYUNDAI\",\"MERCEDES-BENZ\",\"NISSAN\",\"BMW\",\"MITSUBISHI\",\"HYUNDAI\",\"SUBARU\",\"CHEVROLET\",\"HYUNDAI\",\"CHEVROLET\",\"TOYOTA\",\"SSANGYONG\",\"HONDA\",\"HYUNDAI\",\"MERCEDES-BENZ\",\"CHEVROLET\",\"SSANGYONG\",\"HONDA\",\"HYUNDAI\",\"KIA\",\"INFINITI\",\"MERCEDES-BENZ\",\"SUBARU\",\"OPEL\",\"MITSUBISHI\",\"MERCEDES-BENZ\",\"HYUNDAI\",\"HYUNDAI\",\"FIAT\",\"HONDA\",\"SUBARU\",\"MERCEDES-BENZ\",\"VOLKSWAGEN\",\"VOLKSWAGEN\",\"MERCEDES-BENZ\",\"NISSAN\",\"BMW\",\"MAZDA\",\"HYUNDAI\",\"TOYOTA\",\"MERCEDES-BENZ\",\"TOYOTA\",\"BMW\",\"MERCEDES-BENZ\",\"MERCEDES-BENZ\",\"MERCEDES-BENZ\",\"MERCEDES-BENZ\",\"MERCEDES-BENZ\",\"KIA\",\"SUBARU\",\"CHEVROLET\",\"HYUNDAI\",\"HYUNDAI\",\"TOYOTA\",\"MERCEDES-BENZ\",\"VOLVO\",\"BMW\",\"TOYOTA\",\"HYUNDAI\",\"MINI\",\"HYUNDAI\",\"FORD\",\"NISSAN\",\"BUICK\",\"TOYOTA\",\"DODGE\",\"TOYOTA\",\"HONDA\",\"TOYOTA\",\"TOYOTA\",\"HYUNDAI\",\"MERCEDES-BENZ\",\"TOYOTA\",\"TOYOTA\",\"TOYOTA\",\"TOYOTA\",\"CHEVROLET\",\"LEXUS\",\"TOYOTA\",\"SUZUKI\",\"HYUNDAI\",\"TOYOTA\",\"HYUNDAI\",\"HYUNDAI\",\"HYUNDAI\",\"TOYOTA\",\"HONDA\",\"TOYOTA\",\"MERCEDES-BENZ\",\"HYUNDAI\",\"VOLKSWAGEN\",\"MERCEDES-BENZ\",\"SKODA\",\"HYUNDAI\",\"VOLKSWAGEN\",\"LEXUS\",\"HYUNDAI\",\"MERCEDES-BENZ\",\"HYUNDAI\",\"MITSUBISHI\",\"HYUNDAI\",\"TOYOTA\",\"MERCEDES-BENZ\",\"LEXUS\",\"VOLKSWAGEN\",\"FORD\",\"TOYOTA\",\"JEEP\",\"TOYOTA\",\"FORD\",\"HONDA\",\"SSANGYONG\",\"HYUNDAI\",\"HYUNDAI\",\"NISSAN\",\"CHEVROLET\",\"MERCEDES-BENZ\",\"HYUNDAI\",\"BMW\",\"NISSAN\",\"HYUNDAI\",\"JAGUAR\",\"SSANGYONG\",\"TOYOTA\",\"BMW\",\"MITSUBISHI\",\"BMW\",\"TOYOTA\",\"HYUNDAI\",\"MITSUBISHI\",\"HYUNDAI\",\"CITROEN\",\"LEXUS\",\"HONDA\",\"TOYOTA\",\"HYUNDAI\",\"TOYOTA\",\"VOLKSWAGEN\",\"CHEVROLET\",\"TOYOTA\",\"HYUNDAI\",\"CHEVROLET\",\"MAZDA\",\"HYUNDAI\",\"HYUNDAI\",\"HYUNDAI\",\"RENAULT\",\"HYUNDAI\",\"HYUNDAI\",\"HYUNDAI\",\"TOYOTA\",\"BMW\",\"TOYOTA\",\"MERCEDES-BENZ\",\"CHEVROLET\",\"TOYOTA\",\"TOYOTA\",\"NISSAN\",\"MERCEDES-BENZ\",\"HYUNDAI\",\"NISSAN\",\"TOYOTA\",\"BMW\",\"TOYOTA\",\"HYUNDAI\",\"HONDA\",\"TOYOTA\",\"CHEVROLET\",\"LEXUS\",\"FORD\",\"HYUNDAI\",\"MERCEDES-BENZ\",\"OPEL\",\"FORD\",\"MERCEDES-BENZ\",\"CHEVROLET\",\"HYUNDAI\",\"TOYOTA\",\"HYUNDAI\",\"OPEL\",\"MAZDA\",\"NISSAN\",\"NISSAN\",\"INFINITI\",\"MERCEDES-BENZ\",\"FORD\",\"TOYOTA\",\"VOLKSWAGEN\",\"HYUNDAI\",\"CHEVROLET\",\"TOYOTA\",\"FORD\",\"MERCEDES-BENZ\",\"TOYOTA\",\"HYUNDAI\",\"TOYOTA\",\"HYUNDAI\",\"TOYOTA\",\"MAZDA\",\"LEXUS\",\"TOYOTA\",\"TOYOTA\",\"TOYOTA\",\"HONDA\",\"MERCEDES-BENZ\",\"TOYOTA\",\"AUDI\",\"VOLKSWAGEN\",\"MERCEDES-BENZ\",\"CHEVROLET\",\"CHEVROLET\",\"FORD\",\"KIA\",\"TOYOTA\",\"MERCEDES-BENZ\",\"FORD\",\"HYUNDAI\",\"HYUNDAI\",\"TOYOTA\",\"MITSUBISHI\",\"FORD\",\"TOYOTA\",\"HYUNDAI\",\"MERCEDES-BENZ\",\"TOYOTA\",\"TOYOTA\",\"HONDA\",\"LEXUS\",\"CHEVROLET\",\"HYUNDAI\",\"HYUNDAI\",\"HYUNDAI\",\"TOYOTA\",\"HYUNDAI\",\"BMW\",\"CHEVROLET\",\"MERCEDES-BENZ\",\"TOYOTA\",\"TOYOTA\",\"TOYOTA\",\"MERCEDES-BENZ\",\"MERCEDES-BENZ\",\"NISSAN\",\"KIA\",\"TOYOTA\",\"HONDA\",\"MERCEDES-BENZ\",\"BMW\",\"HYUNDAI\",\"MINI\",\"NISSAN\",\"MITSUBISHI\",\"HONDA\",\"VOLKSWAGEN\",\"LEXUS\",\"HYUNDAI\",\"CHEVROLET\",\"TOYOTA\",\"TOYOTA\",\"BMW\",\"HONDA\",\"LEXUS\",\"FORD\",\"TOYOTA\",\"TOYOTA\",\"MERCEDES-BENZ\",\"OPEL\",\"MITSUBISHI\",\"HYUNDAI\",\"FORD\",\"HYUNDAI\",\"TOYOTA\",\"LEXUS\",\"HYUNDAI\",\"HONDA\",\"HYUNDAI\",\"CHEVROLET\",\"HYUNDAI\",\"HONDA\",\"NISSAN\",\"NISSAN\",\"HYUNDAI\",\"OPEL\",\"KIA\",\"TOYOTA\",\"TOYOTA\",\"BMW\",\"HYUNDAI\",\"OPEL\",\"FORD\",\"NISSAN\",\"FORD\",\"MERCEDES-BENZ\",\"MAZDA\",\"TOYOTA\",\"LEXUS\",\"SSANGYONG\",\"TOYOTA\",\"FORD\",\"MERCEDES-BENZ\",\"MAZDA\",\"MERCEDES-BENZ\",\"AUDI\",\"NISSAN\",\"HYUNDAI\",\"DAEWOO\",\"HYUNDAI\",\"HYUNDAI\",\"FORD\",\"SSANGYONG\",\"HYUNDAI\",\"TOYOTA\",\"HYUNDAI\",\"TOYOTA\",\"HYUNDAI\",\"CHEVROLET\",\"HYUNDAI\",\"CHEVROLET\",\"HYUNDAI\",\"MERCEDES-BENZ\",\"BMW\",\"SUBARU\",\"MERCEDES-BENZ\",\"FORD\",\"TOYOTA\",\"BMW\",\"DODGE\",\"LEXUS\",\"JEEP\",\"CHEVROLET\",\"SUBARU\",\"HONDA\",\"CHEVROLET\",\"TOYOTA\",\"LEXUS\",\"HYUNDAI\",\"TOYOTA\",\"SSANGYONG\",\"FORD\",\"LEXUS\",\"HYUNDAI\",\"TOYOTA\",\"BMW\",\"HYUNDAI\",\"HYUNDAI\",\"FORD\",\"MERCEDES-BENZ\",\"BMW\",\"TOYOTA\",\"MERCEDES-BENZ\",\"LEXUS\",\"HYUNDAI\",\"HYUNDAI\",\"BMW\",\"VOLKSWAGEN\",\"PORSCHE\",\"HONDA\",\"HYUNDAI\",\"VOLKSWAGEN\",\"SSANGYONG\",\"CHEVROLET\",\"HYUNDAI\",\"LEXUS\",\"SSANGYONG\",\"MERCEDES-BENZ\",\"OPEL\",\"FORD\",\"CHEVROLET\",\"MITSUBISHI\",\"MERCEDES-BENZ\",\"MERCEDES-BENZ\",\"FORD\",\"AUDI\",\"BMW\",\"CHEVROLET\",\"CHEVROLET\",\"BMW\",\"MERCEDES-BENZ\",\"HYUNDAI\",\"SUZUKI\",\"SUBARU\",\"TOYOTA\",\"FORD\",\"MERCEDES-BENZ\",\"FORD\",\"LEXUS\",\"TOYOTA\",\"LEXUS\",\"NISSAN\",\"HYUNDAI\",\"SUBARU\",\"CHEVROLET\",\"FORD\",\"TOYOTA\",\"MERCEDES-BENZ\",\"FORD\",\"FORD\",\"TOYOTA\",\"MERCEDES-BENZ\",\"AUDI\",\"TOYOTA\",\"BMW\",\"HYUNDAI\",\"BMW\",\"BMW\",\"TOYOTA\",\"LEXUS\",\"OPEL\",\"TOYOTA\",\"MERCEDES-BENZ\",\"HYUNDAI\",\"FORD\",\"HYUNDAI\",\"HONDA\",\"SSANGYONG\",\"FORD\",\"HYUNDAI\",\"JEEP\",\"MERCEDES-BENZ\",\"OPEL\",\"TOYOTA\",\"LEXUS\",\"HYUNDAI\",\"HYUNDAI\",\"HYUNDAI\",\"SUBARU\",\"HYUNDAI\",\"CHEVROLET\",\"FORD\",\"MITSUBISHI\",\"HYUNDAI\",\"CHEVROLET\",\"PORSCHE\",\"TOYOTA\",\"TOYOTA\",\"MERCEDES-BENZ\",\"FORD\",\"MERCEDES-BENZ\",\"TOYOTA\",\"FIAT\",\"HYUNDAI\",\"TOYOTA\",\"BMW\",\"KIA\",\"TOYOTA\",\"NISSAN\",\"HONDA\",\"TOYOTA\",\"CHEVROLET\",\"DODGE\",\"TOYOTA\",\"TOYOTA\",\"HYUNDAI\",\"CHEVROLET\",\"CHEVROLET\",\"TOYOTA\",\"HYUNDAI\",\"FIAT\",\"HYUNDAI\",\"CHEVROLET\",\"CHEVROLET\",\"NISSAN\",\"MERCEDES-BENZ\",\"HYUNDAI\",\"FORD\",\"MERCEDES-BENZ\",\"DAEWOO\",\"SSANGYONG\",\"HYUNDAI\",\"HONDA\",\"HYUNDAI\",\"HONDA\",\"NISSAN\",\"HONDA\",\"HYUNDAI\",\"MERCEDES-BENZ\",\"CHEVROLET\",\"TOYOTA\",\"CHEVROLET\",\"MAZDA\",\"BMW\",\"SUBARU\",\"VOLKSWAGEN\",\"LEXUS\",\"HYUNDAI\",\"CHEVROLET\",\"HONDA\",\"HYUNDAI\",\"FORD\",\"HYUNDAI\",\"CHEVROLET\",\"HYUNDAI\",\"CHEVROLET\",\"TOYOTA\",\"LEXUS\",\"NISSAN\",\"FORD\",\"TOYOTA\",\"OPEL\",\"HYUNDAI\",\"TOYOTA\",\"HYUNDAI\",\"MERCEDES-BENZ\",\"TOYOTA\",\"TOYOTA\",\"SUBARU\",\"TOYOTA\",\"HYUNDAI\",\"TOYOTA\",\"HYUNDAI\",\"TOYOTA\",\"MERCEDES-BENZ\",\"HYUNDAI\",\"JEEP\",\"HYUNDAI\",\"MERCEDES-BENZ\",\"MINI\",\"LEXUS\",\"CHEVROLET\",\"HYUNDAI\",\"TOYOTA\",\"LEXUS\",\"HYUNDAI\",\"HYUNDAI\",\"FORD\",\"MITSUBISHI\",\"HONDA\",\"KIA\",\"CHEVROLET\",\"HYUNDAI\",\"GAZ\",\"HYUNDAI\",\"MERCEDES-BENZ\",\"HYUNDAI\",\"HYUNDAI\",\"BMW\",\"HYUNDAI\",\"TOYOTA\",\"MAZDA\",\"TOYOTA\",\"HYUNDAI\",\"HYUNDAI\",\"TOYOTA\",\"MITSUBISHI\",\"HONDA\",\"MERCEDES-BENZ\",\"TOYOTA\",\"HONDA\",\"TOYOTA\",\"HYUNDAI\",\"MERCEDES-BENZ\",\"VOLKSWAGEN\",\"MINI\",\"HYUNDAI\",\"BMW\",\"TOYOTA\",\"TOYOTA\",\"HYUNDAI\",\"HYUNDAI\",\"NISSAN\",\"CHEVROLET\",\"LEXUS\",\"MITSUBISHI\",\"HYUNDAI\",\"HYUNDAI\",\"HYUNDAI\",\"TOYOTA\",\"TOYOTA\",\"HONDA\",\"HYUNDAI\",\"MERCEDES-BENZ\",\"NISSAN\",\"SUZUKI\",\"TOYOTA\",\"HYUNDAI\",\"TOYOTA\",\"CHEVROLET\",\"MERCEDES-BENZ\",\"MERCEDES-BENZ\",\"HYUNDAI\",\"HYUNDAI\",\"BMW\",\"HYUNDAI\",\"HYUNDAI\",\"MERCEDES-BENZ\",\"FIAT\",\"HYUNDAI\",\"TOYOTA\",\"CHEVROLET\",\"HYUNDAI\",\"TOYOTA\",\"OPEL\",\"MERCEDES-BENZ\",\"SSANGYONG\",\"HYUNDAI\",\"HYUNDAI\",\"JEEP\",\"HYUNDAI\",\"MERCEDES-BENZ\",\"DODGE\",\"CHEVROLET\",\"HYUNDAI\",\"BMW\",\"JEEP\",\"HONDA\",\"OPEL\",\"BMW\",\"HONDA\",\"DODGE\",\"TOYOTA\",\"SSANGYONG\",\"SSANGYONG\",\"NISSAN\",\"FORD\",\"TOYOTA\",\"TOYOTA\",\"OPEL\",\"FORD\",\"HONDA\",\"TOYOTA\",\"TOYOTA\",\"NISSAN\",\"TOYOTA\",\"FORD\",\"VOLKSWAGEN\",\"CHEVROLET\",\"FORD\",\"TOYOTA\",\"CHEVROLET\",\"JEEP\",\"LEXUS\",\"HYUNDAI\",\"JEEP\",\"LEXUS\",\"FORD\",\"HYUNDAI\",\"LEXUS\",\"LEXUS\",\"TOYOTA\",\"MAZDA\",\"TOYOTA\",\"TOYOTA\",\"DODGE\",\"OPEL\",\"SUZUKI\",\"LEXUS\",\"TOYOTA\",\"FORD\",\"TOYOTA\",\"BMW\",\"TOYOTA\",\"TOYOTA\",\"HYUNDAI\",\"CHEVROLET\",\"HYUNDAI\",\"TOYOTA\",\"NISSAN\",\"CHEVROLET\",\"TOYOTA\",\"SUBARU\",\"LEXUS\",\"SUZUKI\",\"VOLKSWAGEN\",\"TOYOTA\",\"HYUNDAI\",\"TOYOTA\",\"VOLKSWAGEN\",\"MERCEDES-BENZ\",\"HYUNDAI\",\"AUDI\",\"MAZDA\",\"NISSAN\",\"TOYOTA\",\"MAZDA\",\"CHEVROLET\",\"GMC\",\"TOYOTA\",\"MERCEDES-BENZ\",\"KIA\",\"SSANGYONG\",\"TOYOTA\",\"CHEVROLET\",\"OPEL\",\"BMW\",\"TOYOTA\",\"TOYOTA\",\"TOYOTA\",\"DODGE\",\"MERCEDES-BENZ\",\"HYUNDAI\",\"NISSAN\",\"HYUNDAI\",\"TOYOTA\",\"MITSUBISHI\",\"HYUNDAI\",\"NISSAN\",\"SUBARU\",\"HYUNDAI\",\"HYUNDAI\",\"MERCEDES-BENZ\",\"HONDA\",\"TOYOTA\",\"HYUNDAI\",\"HYUNDAI\",\"MERCEDES-BENZ\",\"HYUNDAI\",\"BMW\",\"MERCEDES-BENZ\",\"TOYOTA\",\"BMW\",\"VOLKSWAGEN\",\"TOYOTA\",\"NISSAN\",\"HYUNDAI\",\"VOLKSWAGEN\",\"HYUNDAI\",\"HYUNDAI\",\"NISSAN\",\"LEXUS\",\"KIA\",\"CHEVROLET\",\"TOYOTA\",\"TOYOTA\",\"HYUNDAI\",\"HYUNDAI\",\"TOYOTA\",\"BMW\",\"SSANGYONG\",\"FORD\",\"HYUNDAI\",\"OPEL\",\"HYUNDAI\",\"HYUNDAI\",\"HYUNDAI\",\"HYUNDAI\",\"HYUNDAI\",\"TOYOTA\",\"VOLKSWAGEN\",\"SSANGYONG\",\"MERCEDES-BENZ\",\"HONDA\",\"FORD\",\"LEXUS\",\"MERCEDES-BENZ\",\"SSANGYONG\",\"SUBARU\",\"HYUNDAI\",\"HONDA\",\"MERCEDES-BENZ\",\"HYUNDAI\",\"TOYOTA\",\"HYUNDAI\",\"VOLKSWAGEN\",\"TOYOTA\",\"BMW\",\"HYUNDAI\",\"TOYOTA\",\"BMW\",\"CHEVROLET\",\"SUBARU\",\"TOYOTA\",\"HYUNDAI\",\"MERCEDES-BENZ\",\"VOLKSWAGEN\",\"HONDA\",\"MITSUBISHI\",\"SSANGYONG\",\"OPEL\",\"VOLKSWAGEN\",\"HYUNDAI\",\"HYUNDAI\",\"TOYOTA\",\"HYUNDAI\",\"KIA\",\"TOYOTA\",\"MERCEDES-BENZ\",\"MERCEDES-BENZ\",\"HONDA\",\"NISSAN\",\"HONDA\",\"HYUNDAI\",\"HYUNDAI\",\"BMW\",\"PONTIAC\",\"MERCEDES-BENZ\",\"KIA\",\"VOLKSWAGEN\",\"DODGE\",\"HYUNDAI\",\"TOYOTA\",\"NISSAN\",\"LEXUS\",\"MERCEDES-BENZ\",\"KIA\",\"SUBARU\",\"MERCEDES-BENZ\",\"BMW\",\"HYUNDAI\",\"LAND ROVER\",\"HYUNDAI\",\"HYUNDAI\",\"FORD\",\"TOYOTA\",\"SSANGYONG\",\"HYUNDAI\",\"LEXUS\",\"FORD\",\"BMW\",\"HYUNDAI\",\"FORD\",\"MITSUBISHI\",\"FORD\",\"TOYOTA\",\"HONDA\",\"HONDA\",\"TOYOTA\",\"HYUNDAI\",\"BMW\",\"HYUNDAI\",\"FORD\",\"TOYOTA\",\"OPEL\",\"CHEVROLET\",\"MERCEDES-BENZ\",\"MERCURY\",\"LEXUS\",\"FORD\",\"MERCEDES-BENZ\",\"NISSAN\",\"HONDA\",\"NISSAN\",\"FORD\",\"OPEL\",\"GAZ\",\"OPEL\",\"MERCEDES-BENZ\",\"AUDI\",\"NISSAN\",\"MERCEDES-BENZ\",\"OPEL\",\"HYUNDAI\",\"TOYOTA\",\"HYUNDAI\",\"MERCEDES-BENZ\",\"TOYOTA\",\"MERCEDES-BENZ\",\"AUDI\",\"TOYOTA\",\"TOYOTA\",\"TOYOTA\",\"NISSAN\",\"HONDA\",\"TOYOTA\",\"JAGUAR\",\"BMW\",\"TOYOTA\",\"HONDA\",\"TOYOTA\",\"TOYOTA\",\"MERCEDES-BENZ\",\"BMW\",\"MERCEDES-BENZ\",\"HYUNDAI\",\"RENAULT\",\"SSANGYONG\",\"SUBARU\",\"HYUNDAI\",\"LEXUS\",\"VOLKSWAGEN\",\"MERCEDES-BENZ\",\"CHEVROLET\",\"CHEVROLET\",\"HYUNDAI\",\"LEXUS\",\"TOYOTA\",\"HYUNDAI\",\"HYUNDAI\",\"LEXUS\",\"TOYOTA\",\"VOLKSWAGEN\",\"LINCOLN\",\"TOYOTA\",\"HYUNDAI\",\"MERCEDES-BENZ\",\"TOYOTA\",\"LEXUS\",\"TOYOTA\",\"HYUNDAI\",\"MERCEDES-BENZ\",\"FORD\",\"VOLKSWAGEN\",\"VOLKSWAGEN\",\"MERCEDES-BENZ\",\"LEXUS\",\"TOYOTA\",\"HYUNDAI\",\"TOYOTA\",\"HYUNDAI\",\"CHEVROLET\",\"OPEL\",\"FORD\",\"MERCEDES-BENZ\",\"TOYOTA\",\"HYUNDAI\",\"TOYOTA\",\"HYUNDAI\",\"HYUNDAI\",\"VOLKSWAGEN\",\"CHEVROLET\",\"TOYOTA\",\"HYUNDAI\",\"LEXUS\",\"BMW\",\"HYUNDAI\",\"CHEVROLET\",\"HONDA\",\"VOLKSWAGEN\",\"KIA\",\"HYUNDAI\",\"LEXUS\",\"BMW\",\"TOYOTA\",\"HYUNDAI\",\"VOLKSWAGEN\",\"CHEVROLET\",\"TOYOTA\",\"TOYOTA\",\"HYUNDAI\",\"KIA\",\"MERCEDES-BENZ\",\"TOYOTA\",\"JEEP\",\"HYUNDAI\",\"MERCEDES-BENZ\",\"MERCEDES-BENZ\",\"MERCEDES-BENZ\",\"SATURN\",\"HYUNDAI\",\"LEXUS\",\"HYUNDAI\",\"MERCEDES-BENZ\",\"BMW\",\"BMW\",\"LEXUS\",\"MERCEDES-BENZ\",\"TOYOTA\",\"MERCEDES-BENZ\",\"CHEVROLET\",\"TOYOTA\",\"HYUNDAI\",\"CHEVROLET\",\"SUBARU\",\"MERCEDES-BENZ\",\"FORD\",\"HYUNDAI\",\"HYUNDAI\",\"MERCEDES-BENZ\",\"FORD\",\"TOYOTA\",\"CHEVROLET\",\"MERCEDES-BENZ\",\"VOLKSWAGEN\",\"LEXUS\",\"DAEWOO\",\"HYUNDAI\",\"MITSUBISHI\",\"CHEVROLET\",\"HONDA\",\"MERCEDES-BENZ\",\"MERCEDES-BENZ\",\"TOYOTA\",\"HYUNDAI\",\"OPEL\",\"HONDA\",\"HYUNDAI\",\"FORD\",\"HYUNDAI\",\"HONDA\",\"FORD\",\"OPEL\",\"HYUNDAI\",\"MITSUBISHI\",\"SUBARU\",\"TOYOTA\",\"FORD\",\"HYUNDAI\",\"HYUNDAI\",\"MERCEDES-BENZ\",\"HYUNDAI\",\"MAZDA\",\"TOYOTA\",\"SSANGYONG\",\"TOYOTA\",\"HYUNDAI\",\"MERCEDES-BENZ\",\"MERCEDES-BENZ\",\"TOYOTA\",\"BMW\",\"DAEWOO\",\"LEXUS\",\"HONDA\",\"MERCEDES-BENZ\",\"LEXUS\",\"SUBARU\",\"FORD\",\"AUDI\",\"TOYOTA\",\"HYUNDAI\",\"MERCEDES-BENZ\",\"MITSUBISHI\",\"FORD\",\"VOLKSWAGEN\",\"TOYOTA\",\"TOYOTA\",\"TOYOTA\",\"NISSAN\",\"TOYOTA\",\"TOYOTA\",\"LEXUS\",\"SSANGYONG\",\"NISSAN\",\"TOYOTA\",\"HYUNDAI\",\"VOLKSWAGEN\",\"LEXUS\",\"LEXUS\",\"CHEVROLET\",\"HYUNDAI\",\"VOLKSWAGEN\",\"HONDA\",\"VOLKSWAGEN\",\"TOYOTA\",\"OPEL\",\"HYUNDAI\",\"KIA\",\"MERCEDES-BENZ\",\"TOYOTA\",\"MERCEDES-BENZ\",\"TOYOTA\",\"TOYOTA\",\"OPEL\",\"KIA\",\"HYUNDAI\",\"MERCEDES-BENZ\",\"TOYOTA\",\"HYUNDAI\",\"NISSAN\",\"HYUNDAI\",\"BMW\",\"TOYOTA\",\"NISSAN\",\"HYUNDAI\",\"TOYOTA\",\"HYUNDAI\",\"HYUNDAI\",\"VOLKSWAGEN\",\"CHEVROLET\",\"HYUNDAI\",\"HYUNDAI\",\"TOYOTA\",\"LEXUS\",\"HYUNDAI\",\"LEXUS\",\"HONDA\",\"HONDA\",\"MERCEDES-BENZ\",\"HONDA\",\"MERCEDES-BENZ\",\"INFINITI\",\"TOYOTA\",\"HYUNDAI\",\"VOLKSWAGEN\",\"CHEVROLET\",\"KIA\",\"HYUNDAI\",\"HYUNDAI\",\"MAZDA\",\"KIA\",\"TOYOTA\",\"HYUNDAI\",\"SSANGYONG\",\"TOYOTA\",\"BMW\",\"HYUNDAI\",\"HYUNDAI\",\"HONDA\",\"HYUNDAI\",\"TOYOTA\",\"HYUNDAI\",\"VAZ\",\"HONDA\",\"TOYOTA\",\"HYUNDAI\",\"VOLKSWAGEN\",\"HYUNDAI\",\"CHEVROLET\",\"HYUNDAI\",\"FORD\",\"TOYOTA\",\"BMW\",\"KIA\",\"CHEVROLET\",\"FORD\",\"CHEVROLET\",\"TOYOTA\",\"BMW\",\"TOYOTA\",\"OPEL\",\"TOYOTA\",\"HYUNDAI\",\"AUDI\",\"TOYOTA\",\"FORD\",\"DODGE\",\"AUDI\",\"HYUNDAI\",\"SSANGYONG\",\"TOYOTA\",\"NISSAN\",\"HYUNDAI\",\"PEUGEOT\",\"NISSAN\",\"BMW\",\"TOYOTA\",\"HONDA\",\"HYUNDAI\",\"CHEVROLET\",\"TOYOTA\",\"MERCEDES-BENZ\",\"TOYOTA\",\"SUBARU\",\"HYUNDAI\",\"SAAB\",\"TOYOTA\",\"TOYOTA\",\"HYUNDAI\",\"MERCEDES-BENZ\",\"JEEP\",\"HYUNDAI\",\"HYUNDAI\",\"HYUNDAI\",\"NISSAN\",\"TOYOTA\",\"TOYOTA\",\"MERCEDES-BENZ\",\"CHEVROLET\",\"HONDA\",\"HYUNDAI\",\"BMW\",\"HYUNDAI\",\"HYUNDAI\",\"MASERATI\",\"KIA\",\"LEXUS\",\"LEXUS\",\"HYUNDAI\",\"FIAT\",\"HYUNDAI\",\"HONDA\",\"LEXUS\",\"HYUNDAI\",\"SSANGYONG\",\"FORD\",\"AUDI\",\"CHEVROLET\",\"TOYOTA\",\"TOYOTA\",\"NISSAN\",\"SSANGYONG\",\"FORD\",\"MERCEDES-BENZ\",\"TOYOTA\",\"HYUNDAI\",\"FORD\",\"SSANGYONG\",\"CHEVROLET\",\"BMW\",\"CHEVROLET\",\"OPEL\",\"CHEVROLET\",\"VAZ\",\"CADILLAC\",\"TOYOTA\",\"OPEL\",\"TOYOTA\",\"JEEP\",\"MERCEDES-BENZ\",\"OPEL\",\"HYUNDAI\",\"MERCEDES-BENZ\",\"MERCEDES-BENZ\",\"MERCEDES-BENZ\",\"NISSAN\",\"HONDA\",\"CHEVROLET\",\"MERCEDES-BENZ\",\"MERCEDES-BENZ\",\"HYUNDAI\",\"HYUNDAI\",\"HYUNDAI\",\"TOYOTA\",\"MERCEDES-BENZ\",\"LEXUS\",\"TOYOTA\",\"LEXUS\",\"HYUNDAI\",\"TOYOTA\",\"MERCEDES-BENZ\",\"SUBARU\",\"TOYOTA\",\"HYUNDAI\",\"MERCEDES-BENZ\",\"BMW\",\"HYUNDAI\",\"HONDA\",\"CHEVROLET\",\"TOYOTA\",\"HONDA\",\"SSANGYONG\",\"TOYOTA\",\"LEXUS\",\"HYUNDAI\",\"FORD\",\"FIAT\",\"JEEP\",\"HYUNDAI\",\"SKODA\",\"HYUNDAI\",\"HONDA\",\"JEEP\",\"HYUNDAI\",\"HONDA\",\"HYUNDAI\",\"TOYOTA\",\"LEXUS\",\"MERCEDES-BENZ\",\"HONDA\",\"FORD\",\"CHEVROLET\",\"CHEVROLET\",\"HYUNDAI\",\"HONDA\",\"CHEVROLET\",\"MERCEDES-BENZ\",\"HYUNDAI\",\"HYUNDAI\",\"TOYOTA\",\"HYUNDAI\",\"NISSAN\",\"HONDA\",\"VOLKSWAGEN\",\"MERCEDES-BENZ\",\"HYUNDAI\",\"MERCEDES-BENZ\",\"TOYOTA\",\"LEXUS\",\"HYUNDAI\",\"NISSAN\",\"LEXUS\",\"AUDI\",\"HONDA\",\"LEXUS\",\"FORD\",\"SSANGYONG\",\"MITSUBISHI\",\"LEXUS\",\"BMW\",\"TOYOTA\",\"FORD\",\"VOLKSWAGEN\",\"BUICK\",\"CHEVROLET\",\"HYUNDAI\",\"HYUNDAI\",\"MERCEDES-BENZ\",\"SSANGYONG\",\"BMW\",\"TOYOTA\",\"TOYOTA\",\"HYUNDAI\",\"HYUNDAI\",\"CHEVROLET\",\"MERCEDES-BENZ\",\"AUDI\",\"AUDI\",\"FORD\",\"TOYOTA\",\"BMW\",\"HYUNDAI\",\"TOYOTA\",\"TOYOTA\",\"NISSAN\",\"NISSAN\",\"MERCEDES-BENZ\",\"HONDA\",\"TOYOTA\",\"HYUNDAI\",\"JAGUAR\",\"HYUNDAI\",\"TOYOTA\",\"CHRYSLER\",\"TOYOTA\",\"FORD\",\"CHEVROLET\",\"HYUNDAI\",\"CHEVROLET\",\"HYUNDAI\",\"TOYOTA\",\"HYUNDAI\",\"NISSAN\",\"BMW\",\"SSANGYONG\",\"AUDI\",\"HYUNDAI\",\"BMW\",\"MERCEDES-BENZ\",\"VOLKSWAGEN\",\"NISSAN\",\"HONDA\",\"TOYOTA\",\"HYUNDAI\",\"TOYOTA\",\"MITSUBISHI\",\"MERCEDES-BENZ\",\"HYUNDAI\",\"FIAT\",\"CHEVROLET\",\"TOYOTA\",\"HYUNDAI\",\"UAZ\",\"TOYOTA\",\"NISSAN\",\"HYUNDAI\",\"MERCEDES-BENZ\",\"SUBARU\",\"MAZDA\",\"HYUNDAI\",\"TOYOTA\",\"VOLKSWAGEN\",\"TOYOTA\",\"TOYOTA\",\"SUZUKI\",\"TOYOTA\",\"BMW\",\"TOYOTA\",\"VOLKSWAGEN\",\"LEXUS\",\"MERCEDES-BENZ\",\"BMW\",\"LEXUS\",\"TOYOTA\",\"HYUNDAI\",\"MERCEDES-BENZ\",\"HYUNDAI\",\"TOYOTA\",\"BMW\",\"TOYOTA\",\"HYUNDAI\",\"MITSUBISHI\",\"DODGE\",\"TOYOTA\",\"MERCEDES-BENZ\",\"MERCEDES-BENZ\",\"CHEVROLET\",\"TOYOTA\",\"MERCEDES-BENZ\",\"CHEVROLET\",\"TOYOTA\",\"BMW\",\"MERCEDES-BENZ\",\"HYUNDAI\",\"TOYOTA\",\"HYUNDAI\",\"TOYOTA\",\"HYUNDAI\",\"KIA\",\"VOLKSWAGEN\",\"FORD\",\"MERCEDES-BENZ\",\"NISSAN\",\"OPEL\",\"NISSAN\",\"CHEVROLET\",\"SSANGYONG\",\"HYUNDAI\",\"HYUNDAI\",\"BMW\",\"FORD\",\"FORD\",\"LEXUS\",\"CHEVROLET\",\"HYUNDAI\",\"HYUNDAI\",\"HYUNDAI\",\"PEUGEOT\",\"SUBARU\",\"NISSAN\",\"TOYOTA\",\"TOYOTA\",\"HYUNDAI\",\"HYUNDAI\",\"CHEVROLET\",\"VOLKSWAGEN\",\"NISSAN\",\"VOLKSWAGEN\",\"HYUNDAI\",\"TOYOTA\",\"BMW\",\"SUBARU\",\"AUDI\",\"HONDA\",\"CHEVROLET\",\"HONDA\",\"FORD\",\"HYUNDAI\",\"FORD\",\"TOYOTA\",\"HYUNDAI\",\"NISSAN\",\"MERCEDES-BENZ\",\"MERCEDES-BENZ\",\"SCION\",\"MERCEDES-BENZ\",\"HYUNDAI\",\"MERCEDES-BENZ\",\"LEXUS\",\"TOYOTA\",\"CHEVROLET\",\"HYUNDAI\",\"OPEL\",\"NISSAN\",\"INFINITI\",\"BMW\",\"DODGE\",\"FORD\",\"FORD\",\"TOYOTA\",\"HYUNDAI\",\"BMW\",\"LEXUS\",\"HYUNDAI\",\"TOYOTA\",\"PORSCHE\",\"BMW\",\"VOLKSWAGEN\",\"TOYOTA\",\"MERCEDES-BENZ\",\"KIA\",\"MERCEDES-BENZ\",\"VOLKSWAGEN\",\"INFINITI\",\"MERCEDES-BENZ\",\"LEXUS\",\"MERCEDES-BENZ\",\"MERCEDES-BENZ\",\"TOYOTA\",\"FIAT\",\"HONDA\",\"VOLKSWAGEN\",\"HYUNDAI\",\"KIA\",\"MERCEDES-BENZ\",\"MERCEDES-BENZ\",\"SSANGYONG\",\"HYUNDAI\",\"NISSAN\",\"FORD\",\"TOYOTA\",\"MITSUBISHI\",\"HYUNDAI\",\"FORD\",\"TOYOTA\",\"MERCEDES-BENZ\",\"FORD\",\"TOYOTA\",\"TOYOTA\",\"TOYOTA\",\"TOYOTA\",\"SSANGYONG\",\"MERCEDES-BENZ\",\"CHEVROLET\",\"HYUNDAI\",\"VOLKSWAGEN\",\"HYUNDAI\",\"MERCEDES-BENZ\",\"FORD\",\"SUBARU\",\"HYUNDAI\",\"FORD\",\"LEXUS\",\"HYUNDAI\",\"MERCEDES-BENZ\",\"FORD\",\"TOYOTA\",\"HYUNDAI\",\"KIA\",\"FORD\",\"TOYOTA\",\"VOLKSWAGEN\",\"BMW\",\"HONDA\",\"TOYOTA\",\"FORD\",\"TOYOTA\",\"HYUNDAI\",\"MAZDA\",\"FORD\",\"LEXUS\",\"MERCEDES-BENZ\",\"NISSAN\",\"TOYOTA\",\"MERCEDES-BENZ\",\"TOYOTA\",\"MERCEDES-BENZ\",\"FORD\",\"OPEL\",\"HYUNDAI\",\"HYUNDAI\",\"LEXUS\",\"KIA\",\"MERCEDES-BENZ\",\"VOLKSWAGEN\",\"MERCEDES-BENZ\",\"SUZUKI\",\"TOYOTA\",\"OPEL\",\"MERCEDES-BENZ\",\"HYUNDAI\",\"NISSAN\",\"FORD\",\"HYUNDAI\",\"TOYOTA\",\"SUBARU\",\"TOYOTA\",\"HYUNDAI\",\"FORD\",\"HYUNDAI\",\"HONDA\",\"MERCEDES-BENZ\",\"MERCEDES-BENZ\",\"MERCEDES-BENZ\",\"TOYOTA\",\"CHEVROLET\",\"HYUNDAI\",\"TOYOTA\",\"TOYOTA\",\"OPEL\",\"KIA\",\"HYUNDAI\",\"FORD\",\"VOLKSWAGEN\",\"SSANGYONG\",\"SSANGYONG\",\"FORD\",\"HYUNDAI\",\"NISSAN\",\"TOYOTA\",\"HYUNDAI\",\"MERCEDES-BENZ\",\"HYUNDAI\",\"CHEVROLET\",\"MERCEDES-BENZ\",\"HONDA\",\"TOYOTA\",\"LEXUS\",\"TOYOTA\",\"TOYOTA\",\"MERCEDES-BENZ\",\"AUDI\",\"HYUNDAI\",\"NISSAN\",\"NISSAN\",\"FORD\",\"TOYOTA\",\"MERCEDES-BENZ\",\"MERCEDES-BENZ\",\"LEXUS\",\"HYUNDAI\",\"TOYOTA\",\"HYUNDAI\",\"TOYOTA\",\"SUBARU\",\"MERCEDES-BENZ\",\"NISSAN\",\"TOYOTA\",\"VOLKSWAGEN\",\"HYUNDAI\",\"HYUNDAI\",\"CHEVROLET\",\"HYUNDAI\",\"HYUNDAI\",\"HYUNDAI\",\"HYUNDAI\",\"MERCEDES-BENZ\",\"BMW\",\"MERCEDES-BENZ\",\"TOYOTA\",\"DODGE\",\"NISSAN\",\"CHEVROLET\",\"HYUNDAI\",\"SSANGYONG\",\"FORD\",\"NISSAN\",\"NISSAN\",\"BMW\",\"JAGUAR\",\"HYUNDAI\",\"TOYOTA\",\"HYUNDAI\",\"VOLKSWAGEN\",\"MERCEDES-BENZ\",\"CHEVROLET\",\"TOYOTA\",\"HYUNDAI\",\"HYUNDAI\",\"MINI\",\"HYUNDAI\",\"SSANGYONG\",\"HYUNDAI\",\"KIA\",\"KIA\",\"NISSAN\",\"TOYOTA\",\"HYUNDAI\",\"MERCEDES-BENZ\",\"MERCEDES-BENZ\",\"OPEL\",\"TOYOTA\",\"AUDI\",\"LEXUS\",\"HYUNDAI\",\"HYUNDAI\",\"TOYOTA\",\"HYUNDAI\",\"MERCEDES-BENZ\",\"FORD\",\"MERCEDES-BENZ\",\"MERCEDES-BENZ\",\"HYUNDAI\",\"HONDA\",\"FORD\",\"OPEL\",\"NISSAN\",\"BMW\",\"TOYOTA\",\"VOLKSWAGEN\",\"CHEVROLET\",\"MERCEDES-BENZ\",\"LEXUS\",\"HONDA\",\"HYUNDAI\",\"HYUNDAI\",\"LAND ROVER\",\"HYUNDAI\",\"TOYOTA\",\"SSANGYONG\",\"TOYOTA\",\"TOYOTA\",\"MERCEDES-BENZ\",\"CHEVROLET\",\"TOYOTA\",\"CHEVROLET\",\"HYUNDAI\",\"BMW\",\"MERCEDES-BENZ\",\"TOYOTA\",\"CHEVROLET\",\"VOLKSWAGEN\",\"BMW\",\"BMW\",\"FORD\",\"MERCEDES-BENZ\",\"LEXUS\",\"TOYOTA\",\"HYUNDAI\",\"HYUNDAI\",\"HYUNDAI\",\"KIA\",\"CHEVROLET\",\"HYUNDAI\",\"BMW\",\"CHEVROLET\",\"NISSAN\",\"BMW\",\"HYUNDAI\",\"MITSUBISHI\",\"OPEL\",\"HYUNDAI\",\"TOYOTA\",\"TOYOTA\",\"MERCEDES-BENZ\",\"FORD\",\"TOYOTA\",\"JAGUAR\",\"HONDA\",\"LEXUS\",\"HYUNDAI\",\"VAZ\",\"TOYOTA\",\"TOYOTA\",\"BMW\",\"BMW\",\"HONDA\",\"MERCEDES-BENZ\",\"HYUNDAI\",\"OPEL\",\"VOLKSWAGEN\",\"HONDA\",\"HYUNDAI\",\"MERCEDES-BENZ\",\"BMW\",\"BMW\",\"AUDI\",\"MITSUBISHI\",\"FORD\",\"CHEVROLET\",\"HYUNDAI\",\"HONDA\",\"MERCEDES-BENZ\",\"TOYOTA\",\"KIA\",\"TOYOTA\",\"TOYOTA\",\"SSANGYONG\",\"CHEVROLET\",\"HONDA\",\"VOLKSWAGEN\",\"BMW\",\"LEXUS\",\"HONDA\",\"MERCEDES-BENZ\",\"HONDA\",\"MERCEDES-BENZ\",\"HYUNDAI\",\"SKODA\",\"TOYOTA\",\"BMW\",\"MITSUBISHI\",\"TOYOTA\",\"HYUNDAI\",\"VOLKSWAGEN\",\"MITSUBISHI\",\"FORD\",\"HYUNDAI\",\"VOLKSWAGEN\",\"CHEVROLET\",\"LEXUS\",\"HYUNDAI\",\"NISSAN\",\"MITSUBISHI\",\"MERCEDES-BENZ\",\"MITSUBISHI\",\"TOYOTA\",\"TOYOTA\",\"MERCEDES-BENZ\",\"SSANGYONG\",\"LEXUS\",\"HONDA\",\"KIA\",\"HYUNDAI\",\"BMW\",\"FORD\",\"HYUNDAI\",\"TOYOTA\",\"HYUNDAI\",\"HYUNDAI\",\"HYUNDAI\",\"NISSAN\",\"CHRYSLER\",\"LEXUS\",\"HYUNDAI\",\"KIA\",\"NISSAN\",\"HYUNDAI\",\"HYUNDAI\",\"TOYOTA\",\"INFINITI\",\"HYUNDAI\",\"VOLKSWAGEN\",\"HYUNDAI\",\"UAZ\",\"HYUNDAI\",\"LEXUS\",\"AUDI\",\"HONDA\",\"MERCEDES-BENZ\",\"HONDA\",\"MERCEDES-BENZ\",\"HYUNDAI\",\"TOYOTA\",\"VOLKSWAGEN\",\"HYUNDAI\",\"FORD\",\"HYUNDAI\",\"HYUNDAI\",\"HYUNDAI\",\"LEXUS\",\"SUZUKI\",\"BMW\",\"OPEL\",\"HONDA\",\"FORD\",\"TOYOTA\",\"HYUNDAI\",\"AUDI\",\"MERCEDES-BENZ\",\"FORD\",\"CHEVROLET\",\"TOYOTA\",\"HYUNDAI\",\"HYUNDAI\",\"HYUNDAI\",\"TOYOTA\",\"TOYOTA\",\"CHEVROLET\",\"TOYOTA\",\"HONDA\",\"HYUNDAI\",\"DODGE\",\"TOYOTA\",\"TOYOTA\",\"TOYOTA\",\"FORD\",\"SSANGYONG\",\"NISSAN\",\"HYUNDAI\",\"TOYOTA\",\"TOYOTA\",\"HONDA\",\"MERCEDES-BENZ\",\"TOYOTA\",\"TOYOTA\",\"HYUNDAI\",\"CHEVROLET\",\"TOYOTA\",\"NISSAN\",\"TOYOTA\",\"SSANGYONG\",\"FORD\",\"HYUNDAI\",\"HYUNDAI\",\"HYUNDAI\",\"TOYOTA\",\"HYUNDAI\",\"MERCEDES-BENZ\",\"MERCEDES-BENZ\",\"HYUNDAI\",\"HYUNDAI\",\"HYUNDAI\",\"HONDA\",\"NISSAN\",\"NISSAN\",\"HONDA\",\"HYUNDAI\",\"MERCEDES-BENZ\",\"HYUNDAI\",\"TOYOTA\",\"VOLKSWAGEN\",\"HYUNDAI\",\"HYUNDAI\",\"TOYOTA\",\"CHEVROLET\",\"CHEVROLET\",\"HYUNDAI\",\"HYUNDAI\",\"FORD\",\"HYUNDAI\",\"LAND ROVER\",\"MERCEDES-BENZ\",\"LEXUS\",\"MERCEDES-BENZ\",\"HONDA\",\"HONDA\",\"FORD\",\"TOYOTA\",\"TOYOTA\",\"HYUNDAI\",\"CHEVROLET\",\"TOYOTA\",\"BMW\",\"MERCEDES-BENZ\",\"FORD\",\"TOYOTA\",\"FORD\",\"HYUNDAI\",\"HONDA\",\"HYUNDAI\",\"CHEVROLET\",\"FORD\",\"BMW\",\"NISSAN\",\"OPEL\",\"BMW\",\"VOLKSWAGEN\",\"MERCEDES-BENZ\",\"HYUNDAI\",\"LEXUS\",\"FORD\",\"TOYOTA\",\"OPEL\",\"CHEVROLET\",\"HONDA\",\"CHEVROLET\",\"DAEWOO\",\"MERCEDES-BENZ\",\"HYUNDAI\",\"HONDA\",\"CHEVROLET\",\"LEXUS\",\"LEXUS\",\"HONDA\",\"BMW\",\"MAZDA\",\"MERCEDES-BENZ\",\"ASTON MARTIN\",\"HYUNDAI\",\"TOYOTA\",\"TOYOTA\",\"FORD\",\"TOYOTA\",\"HONDA\",\"HYUNDAI\",\"HONDA\",\"LEXUS\",\"SUZUKI\",\"MERCEDES-BENZ\",\"HONDA\",\"HONDA\",\"HYUNDAI\",\"HONDA\",\"TOYOTA\",\"KIA\",\"SUZUKI\",\"HONDA\",\"HYUNDAI\",\"HYUNDAI\",\"CHEVROLET\",\"MERCEDES-BENZ\",\"HYUNDAI\",\"LEXUS\",\"KIA\",\"DAEWOO\",\"JEEP\",\"HYUNDAI\",\"TOYOTA\",\"CHEVROLET\",\"NISSAN\",\"MERCEDES-BENZ\",\"MERCEDES-BENZ\",\"JAGUAR\",\"HYUNDAI\",\"SSANGYONG\",\"HONDA\",\"TOYOTA\",\"TOYOTA\",\"HYUNDAI\",\"CHEVROLET\",\"BMW\",\"TOYOTA\",\"HYUNDAI\",\"TOYOTA\",\"KIA\",\"HYUNDAI\",\"TOYOTA\",\"CITROEN\",\"AUDI\",\"TOYOTA\",\"BMW\",\"FORD\",\"FORD\",\"OPEL\",\"MERCEDES-BENZ\",\"HYUNDAI\",\"CHEVROLET\",\"BMW\",\"JEEP\",\"HYUNDAI\",\"SSANGYONG\",\"SSANGYONG\",\"LEXUS\",\"TOYOTA\",\"FORD\",\"HYUNDAI\",\"CHEVROLET\",\"FORD\",\"HYUNDAI\",\"HONDA\",\"MERCEDES-BENZ\",\"HONDA\",\"NISSAN\",\"SUBARU\",\"OPEL\",\"MERCEDES-BENZ\",\"HYUNDAI\",\"VOLKSWAGEN\",\"HYUNDAI\",\"MERCEDES-BENZ\",\"HYUNDAI\",\"OPEL\",\"LEXUS\",\"MAZDA\",\"TOYOTA\",\"FORD\",\"NISSAN\",\"OPEL\",\"TOYOTA\",\"HYUNDAI\",\"PEUGEOT\",\"HYUNDAI\",\"CHEVROLET\",\"HONDA\",\"HYUNDAI\",\"AUDI\",\"TOYOTA\",\"SSANGYONG\",\"CHEVROLET\",\"SSANGYONG\",\"VAZ\",\"TOYOTA\",\"NISSAN\",\"VAZ\",\"AUDI\",\"HYUNDAI\",\"TOYOTA\",\"TOYOTA\",\"TOYOTA\",\"FORD\",\"TOYOTA\",\"DODGE\",\"SUBARU\",\"HYUNDAI\",\"SUBARU\",\"MERCEDES-BENZ\",\"HYUNDAI\",\"MERCEDES-BENZ\",\"OPEL\",\"CHEVROLET\",\"BMW\",\"KIA\",\"TOYOTA\",\"TOYOTA\",\"FORD\",\"HYUNDAI\",\"HYUNDAI\",\"TOYOTA\",\"NISSAN\",\"TOYOTA\",\"KIA\",\"HYUNDAI\",\"HYUNDAI\",\"TOYOTA\",\"BMW\",\"TOYOTA\",\"MERCEDES-BENZ\",\"MERCEDES-BENZ\",\"LEXUS\",\"KIA\",\"MERCEDES-BENZ\",\"HYUNDAI\",\"SSANGYONG\",\"HYUNDAI\",\"NISSAN\",\"MERCEDES-BENZ\",\"BMW\",\"SSANGYONG\",\"HYUNDAI\",\"HYUNDAI\",\"HYUNDAI\",\"CHEVROLET\",\"SUBARU\",\"MERCEDES-BENZ\",\"AUDI\",\"HYUNDAI\",\"FORD\",\"HYUNDAI\",\"FORD\",\"VOLKSWAGEN\",\"HYUNDAI\",\"OPEL\",\"HYUNDAI\",\"MINI\",\"CHEVROLET\",\"FIAT\",\"BMW\",\"LEXUS\",\"NISSAN\",\"TOYOTA\",\"OPEL\",\"HYUNDAI\",\"MERCEDES-BENZ\",\"TOYOTA\",\"TOYOTA\",\"HYUNDAI\",\"MERCEDES-BENZ\",\"SSANGYONG\",\"SUZUKI\",\"NISSAN\",\"TOYOTA\",\"HYUNDAI\",\"NISSAN\",\"LAND ROVER\",\"TOYOTA\",\"TOYOTA\",\"MERCEDES-BENZ\",\"MERCEDES-BENZ\",\"MERCEDES-BENZ\",\"BMW\",\"VOLKSWAGEN\",\"HYUNDAI\",\"KIA\",\"MAZDA\",\"FORD\",\"CHEVROLET\",\"MERCEDES-BENZ\",\"MERCEDES-BENZ\",\"TOYOTA\",\"HYUNDAI\",\"CHEVROLET\",\"MERCEDES-BENZ\",\"HYUNDAI\",\"LEXUS\",\"FORD\",\"NISSAN\",\"BMW\",\"CHEVROLET\",\"HYUNDAI\",\"HYUNDAI\",\"SUZUKI\",\"HYUNDAI\",\"BMW\",\"KIA\",\"FORD\",\"FORD\",\"BMW\",\"HYUNDAI\",\"TOYOTA\",\"NISSAN\",\"HYUNDAI\",\"TOYOTA\",\"TOYOTA\",\"HYUNDAI\",\"LEXUS\",\"MERCEDES-BENZ\",\"HONDA\",\"TOYOTA\",\"SSANGYONG\",\"CHEVROLET\",\"HONDA\",\"DODGE\",\"HYUNDAI\",\"TOYOTA\",\"HYUNDAI\",\"LEXUS\",\"BMW\",\"NISSAN\",\"RENAULT\",\"HYUNDAI\",\"TOYOTA\",\"FORD\",\"ALFA ROMEO\",\"CHRYSLER\",\"HYUNDAI\",\"JEEP\",\"TOYOTA\",\"FORD\",\"TOYOTA\",\"MERCEDES-BENZ\",\"HONDA\",\"HYUNDAI\",\"HYUNDAI\",\"HYUNDAI\",\"TOYOTA\",\"MERCEDES-BENZ\",\"LEXUS\",\"CHEVROLET\",\"TOYOTA\",\"MERCEDES-BENZ\",\"TOYOTA\",\"MERCEDES-BENZ\",\"MERCEDES-BENZ\",\"NISSAN\",\"MITSUBISHI\",\"TOYOTA\",\"HYUNDAI\",\"CHEVROLET\",\"TOYOTA\",\"MERCEDES-BENZ\",\"CHEVROLET\",\"VOLKSWAGEN\",\"SSANGYONG\",\"CHEVROLET\",\"PEUGEOT\",\"NISSAN\",\"FORD\",\"TOYOTA\",\"MERCEDES-BENZ\",\"FORD\",\"OPEL\",\"MERCEDES-BENZ\",\"TOYOTA\",\"TOYOTA\",\"TOYOTA\",\"HONDA\",\"JEEP\",\"TOYOTA\",\"JEEP\",\"TOYOTA\",\"CHEVROLET\",\"HYUNDAI\",\"MERCEDES-BENZ\",\"SUBARU\",\"MERCEDES-BENZ\",\"HYUNDAI\",\"OPEL\",\"HYUNDAI\",\"HYUNDAI\",\"LEXUS\",\"TOYOTA\",\"TOYOTA\",\"KIA\",\"CHEVROLET\",\"HYUNDAI\",\"HONDA\",\"INFINITI\",\"FIAT\",\"TOYOTA\",\"HONDA\",\"LEXUS\",\"HONDA\",\"JEEP\",\"NISSAN\",\"HYUNDAI\",\"TOYOTA\",\"MERCEDES-BENZ\",\"HYUNDAI\",\"MITSUBISHI\",\"CHEVROLET\",\"CHEVROLET\",\"LEXUS\",\"MERCEDES-BENZ\",\"TOYOTA\",\"SUZUKI\",\"MERCEDES-BENZ\",\"BMW\",\"BUICK\",\"HYUNDAI\",\"FORD\",\"HYUNDAI\",\"JEEP\",\"TOYOTA\",\"TOYOTA\",\"VOLKSWAGEN\",\"CHEVROLET\",\"FORD\",\"MERCEDES-BENZ\",\"MERCEDES-BENZ\",\"HYUNDAI\",\"SUBARU\",\"TOYOTA\",\"MAZDA\",\"HONDA\",\"NISSAN\",\"HYUNDAI\",\"HONDA\",\"TOYOTA\",\"SSANGYONG\",\"MITSUBISHI\",\"HYUNDAI\",\"FORD\",\"HONDA\",\"HYUNDAI\",\"HYUNDAI\",\"LEXUS\",\"HYUNDAI\",\"GMC\",\"HYUNDAI\",\"KIA\",\"MERCEDES-BENZ\",\"FORD\",\"MERCEDES-BENZ\",\"TOYOTA\",\"HYUNDAI\",\"FORD\",\"HYUNDAI\",\"MITSUBISHI\",\"TOYOTA\",\"HYUNDAI\",\"LEXUS\",\"KIA\",\"FORD\",\"TOYOTA\",\"NISSAN\",\"TOYOTA\",\"MERCEDES-BENZ\",\"HYUNDAI\",\"NISSAN\",\"TOYOTA\",\"MERCEDES-BENZ\",\"FORD\",\"HONDA\",\"TOYOTA\",\"TOYOTA\",\"TOYOTA\",\"AUDI\",\"HYUNDAI\",\"HYUNDAI\",\"NISSAN\",\"TOYOTA\",\"BMW\",\"BMW\",\"VOLKSWAGEN\",\"HYUNDAI\",\"VOLKSWAGEN\",\"TOYOTA\",\"NISSAN\",\"MERCEDES-BENZ\",\"HONDA\",\"HYUNDAI\",\"HYUNDAI\",\"MERCEDES-BENZ\",\"KIA\",\"BMW\",\"FORD\",\"TOYOTA\",\"TOYOTA\",\"TOYOTA\",\"NISSAN\",\"VOLKSWAGEN\",\"CHEVROLET\",\"TOYOTA\",\"MERCEDES-BENZ\",\"HYUNDAI\",\"NISSAN\",\"BMW\",\"DAEWOO\",\"LAND ROVER\",\"BMW\",\"SSANGYONG\",\"TOYOTA\",\"HYUNDAI\",\"MERCEDES-BENZ\",\"HYUNDAI\",\"FORD\",\"MERCEDES-BENZ\",\"HYUNDAI\",\"HYUNDAI\",\"TOYOTA\",\"TOYOTA\",\"MAZDA\",\"LEXUS\",\"SUBARU\",\"TOYOTA\",\"OPEL\",\"CHEVROLET\",\"AUDI\",\"HYUNDAI\",\"LEXUS\",\"SUZUKI\",\"TOYOTA\",\"TOYOTA\",\"TOYOTA\",\"BMW\",\"BMW\",\"VOLKSWAGEN\",\"MITSUBISHI\",\"HYUNDAI\",\"FORD\",\"TOYOTA\",\"BMW\",\"TOYOTA\",\"ACURA\",\"TOYOTA\",\"KIA\",\"INFINITI\",\"HYUNDAI\",\"HYUNDAI\",\"HONDA\",\"HYUNDAI\",\"HYUNDAI\",\"NISSAN\",\"MERCEDES-BENZ\",\"MAZDA\",\"KIA\",\"LEXUS\",\"FORD\",\"TOYOTA\",\"SSANGYONG\",\"TOYOTA\",\"SUZUKI\",\"NISSAN\",\"TOYOTA\",\"TOYOTA\",\"HYUNDAI\",\"HYUNDAI\",\"TOYOTA\",\"HONDA\",\"HONDA\",\"MERCEDES-BENZ\",\"HONDA\",\"HYUNDAI\",\"HONDA\",\"TOYOTA\",\"HYUNDAI\",\"TOYOTA\",\"VOLKSWAGEN\",\"TOYOTA\",\"NISSAN\",\"MERCEDES-BENZ\",\"TOYOTA\",\"SSANGYONG\",\"KIA\",\"LEXUS\",\"CHEVROLET\",\"JEEP\",\"BMW\",\"TOYOTA\",\"OPEL\",\"HYUNDAI\",\"OPEL\",\"HYUNDAI\",\"SUZUKI\",\"MERCEDES-BENZ\",\"LEXUS\",\"MITSUBISHI\",\"FORD\",\"LEXUS\",\"MERCEDES-BENZ\",\"TOYOTA\",\"TOYOTA\",\"HYUNDAI\",\"LAND ROVER\",\"LEXUS\",\"TOYOTA\",\"TOYOTA\",\"MERCEDES-BENZ\",\"VOLKSWAGEN\",\"HONDA\",\"MERCEDES-BENZ\",\"HONDA\",\"LEXUS\",\"HYUNDAI\",\"HYUNDAI\",\"HYUNDAI\",\"BMW\",\"AUDI\",\"LEXUS\",\"HONDA\",\"AUDI\",\"NISSAN\",\"MERCEDES-BENZ\",\"BMW\",\"HYUNDAI\",\"LEXUS\",\"HYUNDAI\",\"TOYOTA\",\"FIAT\",\"TOYOTA\",\"LEXUS\",\"FORD\",\"VOLKSWAGEN\",\"AUDI\",\"HYUNDAI\",\"HONDA\",\"HYUNDAI\",\"TOYOTA\",\"LEXUS\",\"HYUNDAI\",\"HYUNDAI\",\"CHEVROLET\",\"HYUNDAI\",\"BMW\",\"TOYOTA\",\"LEXUS\",\"HYUNDAI\",\"PEUGEOT\",\"HYUNDAI\",\"TOYOTA\",\"TOYOTA\",\"TOYOTA\",\"CHEVROLET\",\"MERCEDES-BENZ\",\"HONDA\",\"HONDA\",\"TOYOTA\",\"MERCEDES-BENZ\",\"HYUNDAI\",\"KIA\",\"OPEL\",\"TOYOTA\",\"MERCEDES-BENZ\",\"HONDA\",\"MERCEDES-BENZ\",\"TOYOTA\",\"TOYOTA\",\"HYUNDAI\",\"BMW\",\"BMW\",\"BMW\",\"FORD\",\"KIA\",\"MAZDA\",\"TOYOTA\",\"HYUNDAI\",\"MERCEDES-BENZ\",\"HONDA\",\"MERCEDES-BENZ\",\"MERCEDES-BENZ\",\"HYUNDAI\",\"MAZDA\",\"HONDA\",\"SKODA\",\"SKODA\",\"NISSAN\",\"JEEP\",\"HYUNDAI\",\"BMW\",\"BMW\",\"CHEVROLET\",\"HYUNDAI\",\"HONDA\",\"MERCEDES-BENZ\",\"TOYOTA\",\"VOLKSWAGEN\",\"FORD\",\"PORSCHE\",\"TOYOTA\",\"HYUNDAI\",\"HYUNDAI\",\"HYUNDAI\",\"LEXUS\",\"AUDI\",\"TOYOTA\",\"VOLKSWAGEN\",\"HONDA\",\"BMW\",\"SSANGYONG\",\"VOLKSWAGEN\",\"MERCEDES-BENZ\",\"OPEL\",\"TOYOTA\",\"CHEVROLET\",\"AUDI\",\"AUDI\",\"TOYOTA\",\"TOYOTA\",\"MERCEDES-BENZ\",\"HONDA\",\"NISSAN\",\"VOLKSWAGEN\",\"NISSAN\",\"HYUNDAI\",\"CHEVROLET\",\"MERCEDES-BENZ\",\"MAZDA\",\"BMW\",\"FORD\",\"FIAT\",\"TOYOTA\",\"TOYOTA\",\"TOYOTA\",\"CHEVROLET\",\"MERCEDES-BENZ\",\"HYUNDAI\",\"TOYOTA\",\"HONDA\",\"LEXUS\",\"TOYOTA\",\"CHEVROLET\",\"CHEVROLET\",\"MERCEDES-BENZ\",\"FORD\",\"TOYOTA\",\"CHEVROLET\",\"TOYOTA\",\"HYUNDAI\",\"MERCEDES-BENZ\",\"MITSUBISHI\",\"MERCEDES-BENZ\",\"TOYOTA\",\"BMW\",\"TOYOTA\",\"MERCEDES-BENZ\",\"HYUNDAI\",\"HONDA\",\"CHEVROLET\",\"TOYOTA\",\"VOLKSWAGEN\",\"RENAULT\",\"HYUNDAI\",\"TOYOTA\",\"NISSAN\",\"FORD\",\"HYUNDAI\",\"LEXUS\",\"KIA\",\"MERCEDES-BENZ\",\"TOYOTA\",\"SSANGYONG\",\"MERCEDES-BENZ\",\"HYUNDAI\",\"MERCEDES-BENZ\",\"TOYOTA\",\"DAEWOO\",\"HONDA\",\"FORD\",\"KIA\",\"MERCEDES-BENZ\",\"MERCEDES-BENZ\",\"HYUNDAI\",\"BMW\",\"HYUNDAI\",\"HYUNDAI\",\"MERCEDES-BENZ\",\"HYUNDAI\",\"TOYOTA\",\"MAZDA\",\"LEXUS\",\"TOYOTA\",\"HONDA\",\"HONDA\",\"TOYOTA\",\"HYUNDAI\",\"HYUNDAI\",\"HYUNDAI\",\"NISSAN\",\"MERCEDES-BENZ\",\"MERCEDES-BENZ\",\"HYUNDAI\",\"VOLKSWAGEN\",\"CHEVROLET\",\"HYUNDAI\",\"CHEVROLET\",\"HONDA\",\"SSANGYONG\",\"CHEVROLET\",\"KIA\",\"MERCEDES-BENZ\",\"LEXUS\",\"TOYOTA\",\"OPEL\",\"MAZDA\",\"MERCEDES-BENZ\",\"TOYOTA\",\"HYUNDAI\",\"TOYOTA\",\"TOYOTA\",\"VOLKSWAGEN\",\"TOYOTA\",\"BUICK\",\"VOLKSWAGEN\",\"HYUNDAI\",\"MERCEDES-BENZ\",\"LEXUS\",\"LEXUS\",\"AUDI\",\"TOYOTA\",\"FORD\",\"TOYOTA\",\"MERCEDES-BENZ\",\"HYUNDAI\",\"DAEWOO\",\"TOYOTA\",\"HYUNDAI\",\"HYUNDAI\",\"TOYOTA\",\"TOYOTA\",\"HYUNDAI\",\"MERCEDES-BENZ\",\"KIA\",\"HONDA\",\"HYUNDAI\",\"TOYOTA\",\"OPEL\",\"FIAT\",\"FIAT\",\"MITSUBISHI\",\"BMW\",\"LEXUS\",\"HYUNDAI\",\"CHEVROLET\",\"HYUNDAI\",\"SUBARU\",\"MERCEDES-BENZ\",\"HYUNDAI\",\"MERCEDES-BENZ\",\"TOYOTA\",\"VAZ\",\"OPEL\",\"HONDA\",\"MERCEDES-BENZ\",\"TOYOTA\",\"SSANGYONG\",\"TOYOTA\",\"HYUNDAI\",\"HYUNDAI\",\"HYUNDAI\",\"FORD\",\"NISSAN\",\"TOYOTA\",\"VAZ\",\"HYUNDAI\",\"HYUNDAI\",\"TOYOTA\",\"DAEWOO\",\"TOYOTA\",\"KIA\",\"CHEVROLET\",\"SUBARU\",\"HYUNDAI\",\"MERCEDES-BENZ\",\"AUDI\",\"KIA\",\"BMW\",\"BMW\",\"HYUNDAI\",\"FORD\",\"TOYOTA\",\"VOLKSWAGEN\",\"TOYOTA\",\"HYUNDAI\",\"CHEVROLET\",\"HYUNDAI\",\"HYUNDAI\",\"MERCEDES-BENZ\",\"MERCEDES-BENZ\",\"TOYOTA\",\"NISSAN\",\"HYUNDAI\",\"CHEVROLET\",\"HONDA\",\"TOYOTA\",\"TOYOTA\",\"MITSUBISHI\",\"TOYOTA\",\"HYUNDAI\",\"CHEVROLET\",\"JEEP\",\"SSANGYONG\",\"OPEL\",\"TOYOTA\",\"FORD\",\"MERCEDES-BENZ\",\"KIA\",\"VOLKSWAGEN\",\"BMW\",\"SUZUKI\",\"HYUNDAI\",\"CHEVROLET\",\"CHEVROLET\",\"HYUNDAI\",\"LEXUS\",\"HONDA\",\"BMW\",\"HYUNDAI\",\"MERCEDES-BENZ\",\"TOYOTA\",\"JEEP\",\"TOYOTA\",\"MERCEDES-BENZ\",\"TOYOTA\",\"SSANGYONG\",\"MERCEDES-BENZ\",\"VOLKSWAGEN\",\"FORD\",\"TOYOTA\",\"OPEL\",\"CHEVROLET\",\"HYUNDAI\",\"LEXUS\",\"HYUNDAI\",\"MERCEDES-BENZ\",\"HYUNDAI\",\"SSANGYONG\",\"TOYOTA\",\"HONDA\",\"TOYOTA\",\"BMW\",\"HYUNDAI\",\"FORD\",\"MERCEDES-BENZ\",\"BMW\",\"NISSAN\",\"AUDI\",\"FORD\",\"HYUNDAI\",\"TOYOTA\",\"TOYOTA\",\"MERCEDES-BENZ\",\"HYUNDAI\",\"HYUNDAI\",\"HYUNDAI\",\"CHEVROLET\",\"TOYOTA\",\"HYUNDAI\",\"HYUNDAI\",\"TOYOTA\",\"OPEL\",\"OPEL\",\"BMW\",\"FORD\",\"HYUNDAI\",\"TOYOTA\",\"HYUNDAI\",\"BMW\",\"HYUNDAI\",\"KIA\",\"TOYOTA\",\"CITROEN\",\"HONDA\",\"AUDI\",\"CHEVROLET\",\"FORD\",\"TOYOTA\",\"PORSCHE\",\"JEEP\",\"TOYOTA\",\"SSANGYONG\",\"MERCEDES-BENZ\",\"TOYOTA\",\"VOLKSWAGEN\",\"HYUNDAI\",\"HONDA\",\"CHEVROLET\",\"BMW\",\"VOLKSWAGEN\",\"VOLKSWAGEN\",\"HYUNDAI\",\"HYUNDAI\",\"HYUNDAI\",\"TOYOTA\",\"BMW\",\"DAEWOO\",\"TOYOTA\",\"FORD\",\"HYUNDAI\",\"TOYOTA\",\"TOYOTA\",\"HYUNDAI\",\"TOYOTA\",\"HYUNDAI\",\"SUBARU\",\"HONDA\",\"MERCEDES-BENZ\",\"MITSUBISHI\",\"MERCEDES-BENZ\",\"LINCOLN\",\"AUDI\",\"JAGUAR\",\"HYUNDAI\",\"BMW\",\"HYUNDAI\",\"HYUNDAI\",\"HYUNDAI\",\"TOYOTA\",\"HYUNDAI\",\"HYUNDAI\",\"TOYOTA\",\"FORD\",\"FORD\",\"HONDA\",\"TOYOTA\",\"TOYOTA\",\"HYUNDAI\",\"BMW\",\"VAZ\",\"CHEVROLET\",\"TOYOTA\",\"BMW\",\"BMW\",\"KIA\",\"TOYOTA\",\"FORD\",\"TOYOTA\",\"SUZUKI\",\"OPEL\",\"OPEL\",\"VOLKSWAGEN\",\"LEXUS\",\"CHEVROLET\",\"MERCEDES-BENZ\",\"MAZDA\",\"MERCEDES-BENZ\",\"MERCEDES-BENZ\",\"MERCEDES-BENZ\",\"MERCEDES-BENZ\",\"TOYOTA\",\"BMW\",\"HYUNDAI\",\"MERCEDES-BENZ\",\"HONDA\",\"KIA\",\"HYUNDAI\",\"HONDA\",\"BMW\",\"LEXUS\",\"TOYOTA\",\"BMW\",\"LEXUS\",\"MERCEDES-BENZ\",\"HYUNDAI\",\"HYUNDAI\",\"LEXUS\",\"TOYOTA\",\"MERCEDES-BENZ\",\"VOLKSWAGEN\",\"HYUNDAI\",\"CHEVROLET\",\"MERCEDES-BENZ\",\"HYUNDAI\",\"HYUNDAI\",\"CHEVROLET\",\"HYUNDAI\",\"FORD\",\"TOYOTA\",\"BMW\",\"HYUNDAI\",\"NISSAN\",\"VOLKSWAGEN\",\"NISSAN\",\"LEXUS\",\"OPEL\",\"TOYOTA\",\"TOYOTA\",\"BMW\",\"LEXUS\",\"HYUNDAI\",\"TOYOTA\",\"LEXUS\",\"LEXUS\",\"HYUNDAI\",\"CHEVROLET\",\"MAZDA\",\"LEXUS\",\"INFINITI\",\"JEEP\",\"HYUNDAI\",\"MERCEDES-BENZ\",\"HYUNDAI\",\"MERCEDES-BENZ\",\"TOYOTA\",\"FORD\",\"HYUNDAI\",\"OPEL\",\"AUDI\",\"HONDA\",\"BMW\",\"MERCEDES-BENZ\",\"AUDI\",\"MERCEDES-BENZ\",\"HONDA\",\"HYUNDAI\",\"HYUNDAI\",\"DODGE\",\"TOYOTA\",\"TOYOTA\",\"NISSAN\",\"KIA\",\"MERCEDES-BENZ\",\"BMW\",\"TOYOTA\",\"HYUNDAI\",\"FORD\",\"HYUNDAI\",\"HYUNDAI\",\"AUDI\",\"TOYOTA\",\"TOYOTA\",\"HYUNDAI\",\"BMW\",\"JEEP\",\"FORD\",\"BMW\",\"KIA\",\"HYUNDAI\",\"HONDA\",\"MERCEDES-BENZ\",\"TOYOTA\",\"LEXUS\",\"MERCEDES-BENZ\",\"MERCEDES-BENZ\",\"HONDA\",\"FORD\",\"TOYOTA\",\"HYUNDAI\",\"SSANGYONG\",\"TOYOTA\",\"TOYOTA\",\"HYUNDAI\",\"NISSAN\",\"TOYOTA\",\"TOYOTA\",\"TOYOTA\",\"NISSAN\",\"VOLKSWAGEN\",\"HONDA\",\"VOLKSWAGEN\",\"VOLKSWAGEN\",\"HYUNDAI\",\"TOYOTA\",\"MINI\",\"FORD\",\"TOYOTA\",\"HONDA\",\"SSANGYONG\",\"TOYOTA\",\"HYUNDAI\",\"TOYOTA\",\"LEXUS\",\"LEXUS\",\"TOYOTA\",\"FORD\",\"JAGUAR\",\"HYUNDAI\",\"HONDA\",\"HYUNDAI\",\"MERCEDES-BENZ\",\"DODGE\",\"HYUNDAI\",\"MERCEDES-BENZ\",\"MERCEDES-BENZ\",\"FORD\",\"NISSAN\",\"SUBARU\",\"HYUNDAI\",\"NISSAN\",\"HYUNDAI\",\"TOYOTA\",\"OPEL\",\"HYUNDAI\",\"HONDA\",\"MERCEDES-BENZ\",\"TOYOTA\",\"VOLKSWAGEN\",\"OPEL\",\"HYUNDAI\",\"NISSAN\",\"MERCEDES-BENZ\",\"SUBARU\",\"HYUNDAI\",\"KIA\",\"FORD\",\"FORD\",\"HYUNDAI\",\"SSANGYONG\",\"HYUNDAI\",\"MITSUBISHI\",\"LEXUS\",\"HONDA\",\"HYUNDAI\",\"TOYOTA\",\"SUBARU\",\"TOYOTA\",\"TOYOTA\",\"HYUNDAI\",\"SSANGYONG\",\"FORD\",\"TOYOTA\",\"VOLKSWAGEN\",\"CHEVROLET\",\"NISSAN\",\"TOYOTA\",\"FIAT\",\"MERCEDES-BENZ\",\"DODGE\",\"HYUNDAI\",\"TOYOTA\",\"VOLKSWAGEN\",\"KIA\",\"HYUNDAI\",\"TOYOTA\",\"AUDI\",\"MERCEDES-BENZ\",\"TOYOTA\",\"MERCEDES-BENZ\",\"SSANGYONG\",\"DAEWOO\",\"VOLKSWAGEN\",\"TOYOTA\",\"NISSAN\",\"LEXUS\",\"MERCEDES-BENZ\",\"FORD\",\"HONDA\",\"TOYOTA\",\"TOYOTA\",\"FORD\",\"TOYOTA\",\"MERCEDES-BENZ\",\"VOLKSWAGEN\",\"HYUNDAI\",\"OPEL\",\"KIA\",\"PORSCHE\",\"MERCEDES-BENZ\",\"TOYOTA\",\"BMW\",\"AUDI\",\"MAZDA\",\"NISSAN\",\"TOYOTA\",\"MITSUBISHI\",\"HYUNDAI\",\"TOYOTA\",\"TOYOTA\",\"CHEVROLET\",\"BMW\",\"CHEVROLET\",\"CHEVROLET\",\"VOLKSWAGEN\",\"HYUNDAI\",\"HYUNDAI\",\"SSANGYONG\",\"HYUNDAI\",\"HYUNDAI\",\"MERCEDES-BENZ\",\"SSANGYONG\",\"TOYOTA\",\"TOYOTA\",\"TOYOTA\",\"LEXUS\",\"VOLKSWAGEN\",\"VOLKSWAGEN\",\"MERCEDES-BENZ\",\"HONDA\",\"SSANGYONG\",\"ACURA\",\"HYUNDAI\",\"CHEVROLET\",\"VOLKSWAGEN\",\"HYUNDAI\",\"CHEVROLET\",\"FORD\",\"SSANGYONG\",\"TOYOTA\",\"MERCEDES-BENZ\",\"AUDI\",\"HYUNDAI\",\"BMW\",\"TOYOTA\",\"NISSAN\",\"TOYOTA\",\"CHEVROLET\",\"NISSAN\",\"MERCEDES-BENZ\",\"CHEVROLET\",\"TOYOTA\",\"TOYOTA\",\"MERCEDES-BENZ\",\"HYUNDAI\",\"TOYOTA\",\"BMW\",\"HONDA\",\"MERCEDES-BENZ\",\"HONDA\",\"MERCEDES-BENZ\",\"TOYOTA\",\"HYUNDAI\",\"HYUNDAI\",\"SSANGYONG\",\"JEEP\",\"HYUNDAI\",\"HYUNDAI\",\"HYUNDAI\",\"NISSAN\",\"FORD\",\"HONDA\",\"TOYOTA\",\"MERCEDES-BENZ\",\"MERCEDES-BENZ\",\"SUBARU\",\"TOYOTA\",\"MERCEDES-BENZ\",\"KIA\",\"TOYOTA\",\"TOYOTA\",\"VOLKSWAGEN\",\"BMW\",\"SUBARU\",\"HYUNDAI\",\"VOLKSWAGEN\",\"MERCEDES-BENZ\",\"TOYOTA\",\"HYUNDAI\",\"LEXUS\",\"TOYOTA\",\"TOYOTA\",\"HYUNDAI\",\"MITSUBISHI\",\"TOYOTA\",\"MERCEDES-BENZ\",\"TOYOTA\",\"VAZ\",\"FORD\",\"CHEVROLET\",\"MERCEDES-BENZ\",\"MITSUBISHI\",\"BMW\",\"BMW\",\"MERCEDES-BENZ\",\"TOYOTA\",\"TOYOTA\",\"CHEVROLET\",\"OPEL\",\"TOYOTA\",\"OPEL\",\"HONDA\",\"HYUNDAI\",\"HYUNDAI\",\"HYUNDAI\",\"HYUNDAI\",\"TOYOTA\",\"FORD\",\"KIA\",\"HONDA\",\"SUBARU\",\"PORSCHE\",\"HYUNDAI\",\"JAGUAR\",\"AUDI\",\"NISSAN\",\"LEXUS\",\"TOYOTA\",\"INFINITI\",\"FORD\",\"LEXUS\",\"HYUNDAI\",\"HYUNDAI\",\"FORD\",\"VOLKSWAGEN\",\"LEXUS\",\"HYUNDAI\",\"TOYOTA\",\"TOYOTA\",\"TOYOTA\",\"HYUNDAI\",\"LEXUS\",\"TOYOTA\",\"BMW\",\"SUBARU\",\"SSANGYONG\",\"SSANGYONG\",\"MERCEDES-BENZ\",\"CHEVROLET\",\"CHEVROLET\",\"NISSAN\",\"VOLKSWAGEN\",\"TOYOTA\",\"FORD\",\"MERCEDES-BENZ\",\"MERCEDES-BENZ\",\"TOYOTA\",\"MERCEDES-BENZ\",\"ACURA\",\"MERCEDES-BENZ\",\"CHEVROLET\",\"LEXUS\",\"TOYOTA\",\"BMW\",\"VOLKSWAGEN\",\"HONDA\",\"FORD\",\"FORD\",\"MERCEDES-BENZ\",\"LEXUS\",\"HYUNDAI\",\"FORD\",\"MERCEDES-BENZ\",\"MAZDA\",\"MERCEDES-BENZ\",\"MAZDA\",\"HYUNDAI\",\"BMW\",\"MERCEDES-BENZ\",\"HYUNDAI\",\"HYUNDAI\",\"OPEL\",\"TOYOTA\",\"TOYOTA\",\"TOYOTA\",\"HYUNDAI\",\"TOYOTA\",\"MERCEDES-BENZ\",\"MERCEDES-BENZ\",\"LEXUS\",\"AUDI\",\"TOYOTA\",\"HYUNDAI\",\"HYUNDAI\",\"NISSAN\",\"MERCEDES-BENZ\",\"ACURA\",\"HYUNDAI\",\"LEXUS\",\"CHEVROLET\",\"BMW\",\"NISSAN\",\"SSANGYONG\",\"TOYOTA\",\"LEXUS\",\"JEEP\",\"LEXUS\",\"CHEVROLET\",\"BMW\",\"HYUNDAI\",\"LEXUS\",\"BMW\",\"TOYOTA\",\"SSANGYONG\",\"TOYOTA\",\"TOYOTA\",\"HYUNDAI\",\"TOYOTA\",\"BMW\",\"HYUNDAI\",\"TOYOTA\",\"TOYOTA\",\"FORD\",\"NISSAN\",\"MERCEDES-BENZ\",\"AUDI\",\"HYUNDAI\",\"TOYOTA\",\"TOYOTA\",\"HONDA\",\"MERCEDES-BENZ\",\"MERCEDES-BENZ\",\"KIA\",\"HYUNDAI\",\"TOYOTA\",\"LEXUS\",\"NISSAN\",\"BMW\",\"TOYOTA\",\"TOYOTA\",\"CHEVROLET\",\"HYUNDAI\",\"CHEVROLET\",\"MERCEDES-BENZ\",\"BMW\",\"LEXUS\",\"NISSAN\",\"HONDA\",\"KIA\",\"HYUNDAI\",\"HYUNDAI\",\"FORD\",\"MINI\",\"TOYOTA\",\"HYUNDAI\",\"CHEVROLET\",\"HONDA\",\"HYUNDAI\",\"HONDA\",\"LEXUS\",\"HONDA\",\"VOLKSWAGEN\",\"LEXUS\",\"INFINITI\",\"HYUNDAI\",\"BMW\",\"HYUNDAI\",\"TOYOTA\",\"TOYOTA\",\"TOYOTA\",\"HONDA\",\"MERCEDES-BENZ\",\"TOYOTA\",\"HYUNDAI\",\"MERCEDES-BENZ\",\"HONDA\",\"MERCEDES-BENZ\",\"HYUNDAI\",\"MERCEDES-BENZ\",\"LEXUS\",\"SUBARU\",\"MAZDA\",\"HYUNDAI\",\"CHEVROLET\",\"TOYOTA\",\"NISSAN\",\"FORD\",\"HYUNDAI\",\"MERCEDES-BENZ\",\"VOLKSWAGEN\",\"HYUNDAI\",\"TOYOTA\",\"HYUNDAI\",\"TOYOTA\",\"BMW\",\"BMW\",\"HYUNDAI\",\"HYUNDAI\",\"HYUNDAI\",\"HYUNDAI\",\"HONDA\",\"OPEL\",\"TOYOTA\",\"HYUNDAI\",\"HYUNDAI\",\"MERCEDES-BENZ\",\"HYUNDAI\",\"DAEWOO\",\"CHEVROLET\",\"HYUNDAI\",\"BMW\",\"SSANGYONG\",\"FORD\",\"TOYOTA\",\"MERCEDES-BENZ\",\"BMW\",\"TOYOTA\",\"TOYOTA\",\"VOLKSWAGEN\",\"TOYOTA\",\"HYUNDAI\",\"HYUNDAI\",\"MERCEDES-BENZ\",\"HONDA\",\"TOYOTA\",\"HYUNDAI\",\"NISSAN\",\"NISSAN\",\"HYUNDAI\",\"CHEVROLET\",\"NISSAN\",\"HYUNDAI\",\"VOLKSWAGEN\",\"HYUNDAI\",\"MERCEDES-BENZ\",\"MERCEDES-BENZ\",\"NISSAN\",\"HONDA\",\"LEXUS\",\"MITSUBISHI\",\"FORD\",\"MERCEDES-BENZ\",\"KIA\",\"TOYOTA\",\"NISSAN\",\"MITSUBISHI\",\"MERCEDES-BENZ\",\"SSANGYONG\",\"LEXUS\",\"GMC\",\"LEXUS\",\"MERCEDES-BENZ\",\"TOYOTA\",\"LEXUS\",\"MERCEDES-BENZ\",\"TOYOTA\",\"LEXUS\",\"TOYOTA\",\"LEXUS\",\"SKODA\",\"TOYOTA\",\"OPEL\",\"DODGE\",\"SUBARU\",\"HYUNDAI\",\"HYUNDAI\",\"HYUNDAI\",\"VOLKSWAGEN\",\"MERCURY\",\"MERCEDES-BENZ\",\"TOYOTA\",\"MITSUBISHI\",\"TOYOTA\",\"BMW\",\"TOYOTA\",\"LEXUS\",\"NISSAN\",\"FORD\",\"FORD\",\"RENAULT\",\"HONDA\",\"HYUNDAI\",\"VOLKSWAGEN\",\"HYUNDAI\",\"TOYOTA\",\"HYUNDAI\",\"OPEL\",\"TOYOTA\",\"VOLKSWAGEN\",\"FORD\",\"LEXUS\",\"HYUNDAI\",\"MERCEDES-BENZ\",\"AUDI\",\"HYUNDAI\",\"HYUNDAI\",\"FORD\",\"TOYOTA\",\"SSANGYONG\",\"TOYOTA\",\"MERCEDES-BENZ\",\"TOYOTA\",\"HYUNDAI\",\"TOYOTA\",\"LEXUS\",\"HONDA\",\"CHEVROLET\",\"HYUNDAI\",\"TOYOTA\",\"TOYOTA\",\"TOYOTA\",\"HYUNDAI\",\"CHEVROLET\",\"MITSUBISHI\",\"HYUNDAI\",\"HONDA\",\"HYUNDAI\",\"HYUNDAI\",\"HYUNDAI\",\"HONDA\",\"TOYOTA\",\"TOYOTA\",\"CHEVROLET\",\"BMW\",\"OPEL\",\"TOYOTA\",\"TOYOTA\",\"TOYOTA\",\"TOYOTA\",\"TOYOTA\",\"SSANGYONG\",\"SUBARU\",\"TOYOTA\",\"HYUNDAI\",\"HYUNDAI\",\"HYUNDAI\",\"TOYOTA\",\"CHEVROLET\",\"KIA\",\"KIA\",\"AUDI\",\"HONDA\",\"LEXUS\",\"TOYOTA\",\"LEXUS\",\"LEXUS\",\"HONDA\",\"HYUNDAI\",\"HYUNDAI\",\"NISSAN\",\"FORD\",\"LEXUS\",\"KIA\",\"HYUNDAI\",\"HYUNDAI\",\"BMW\",\"TOYOTA\",\"HYUNDAI\",\"TOYOTA\",\"TOYOTA\",\"BMW\",\"LEXUS\",\"MAZDA\",\"FORD\",\"JEEP\",\"FORD\",\"ZAZ\",\"MERCEDES-BENZ\",\"HYUNDAI\",\"BUICK\",\"TOYOTA\",\"AUDI\",\"LEXUS\",\"OPEL\",\"CHEVROLET\",\"SSANGYONG\",\"MERCEDES-BENZ\",\"NISSAN\",\"TOYOTA\",\"TOYOTA\",\"HYUNDAI\",\"MERCEDES-BENZ\",\"INFINITI\",\"FORD\",\"HONDA\",\"NISSAN\",\"OPEL\",\"OPEL\",\"NISSAN\",\"NISSAN\",\"FORD\",\"FORD\",\"TOYOTA\",\"HYUNDAI\",\"HYUNDAI\",\"NISSAN\",\"HYUNDAI\",\"SSANGYONG\",\"NISSAN\",\"MERCEDES-BENZ\",\"KIA\",\"CHEVROLET\",\"NISSAN\",\"HYUNDAI\",\"MERCEDES-BENZ\",\"CHEVROLET\",\"TOYOTA\",\"OPEL\",\"HYUNDAI\",\"MERCEDES-BENZ\",\"BMW\",\"HYUNDAI\",\"PORSCHE\",\"MERCEDES-BENZ\",\"HYUNDAI\",\"BMW\",\"TOYOTA\",\"TOYOTA\",\"HYUNDAI\",\"TOYOTA\",\"CHEVROLET\",\"HYUNDAI\",\"CHEVROLET\",\"BMW\",\"BMW\",\"BMW\",\"MAZDA\",\"HYUNDAI\",\"HYUNDAI\",\"HONDA\",\"TOYOTA\",\"HYUNDAI\",\"CHEVROLET\",\"MERCEDES-BENZ\",\"HYUNDAI\",\"CHEVROLET\",\"CHEVROLET\",\"MERCEDES-BENZ\",\"HYUNDAI\",\"MERCEDES-BENZ\",\"HYUNDAI\",\"FORD\",\"HYUNDAI\",\"NISSAN\",\"ISUZU\",\"FORD\",\"MERCEDES-BENZ\",\"FORD\",\"FORD\",\"CHEVROLET\",\"MERCEDES-BENZ\",\"LEXUS\",\"TOYOTA\",\"HYUNDAI\",\"MERCEDES-BENZ\",\"OPEL\",\"CHEVROLET\",\"LEXUS\",\"HYUNDAI\",\"BMW\",\"OPEL\",\"MERCEDES-BENZ\",\"TOYOTA\",\"VOLKSWAGEN\",\"MINI\",\"HONDA\",\"FORD\",\"HONDA\",\"HYUNDAI\",\"MERCEDES-BENZ\",\"BMW\",\"BMW\",\"TOYOTA\",\"JEEP\",\"TOYOTA\",\"TOYOTA\",\"TOYOTA\",\"TOYOTA\",\"HYUNDAI\",\"TOYOTA\",\"TOYOTA\",\"BMW\",\"TOYOTA\",\"HYUNDAI\",\"TOYOTA\",\"TOYOTA\",\"MERCEDES-BENZ\",\"TOYOTA\",\"MERCEDES-BENZ\",\"BMW\",\"MITSUBISHI\",\"MERCEDES-BENZ\",\"MERCEDES-BENZ\",\"HONDA\",\"BMW\",\"CHEVROLET\",\"HYUNDAI\",\"HYUNDAI\",\"MERCEDES-BENZ\",\"MITSUBISHI\",\"HYUNDAI\",\"HYUNDAI\",\"CHRYSLER\",\"TOYOTA\",\"MERCEDES-BENZ\",\"MERCEDES-BENZ\",\"MERCEDES-BENZ\",\"HYUNDAI\",\"HONDA\",\"LEXUS\",\"DAIHATSU\",\"KIA\",\"FORD\",\"VOLKSWAGEN\",\"OPEL\",\"FORD\",\"TOYOTA\",\"SCION\",\"HYUNDAI\",\"FORD\",\"TOYOTA\",\"FORD\",\"HYUNDAI\",\"TOYOTA\",\"TOYOTA\",\"NISSAN\",\"HYUNDAI\",\"BMW\",\"JEEP\",\"HYUNDAI\",\"NISSAN\",\"TOYOTA\",\"LEXUS\",\"FORD\",\"HYUNDAI\",\"SSANGYONG\",\"FORD\",\"NISSAN\",\"SUBARU\",\"TOYOTA\",\"HYUNDAI\",\"VOLKSWAGEN\",\"HYUNDAI\",\"HYUNDAI\",\"HONDA\",\"CHEVROLET\",\"BMW\",\"TOYOTA\",\"MERCEDES-BENZ\",\"TOYOTA\",\"TOYOTA\",\"HYUNDAI\",\"MERCEDES-BENZ\",\"SSANGYONG\",\"CHEVROLET\",\"CHEVROLET\",\"HONDA\",\"NISSAN\",\"MITSUBISHI\",\"TOYOTA\",\"BMW\",\"TOYOTA\",\"HYUNDAI\",\"TOYOTA\",\"TOYOTA\",\"HYUNDAI\",\"MERCEDES-BENZ\",\"NISSAN\",\"BMW\",\"LEXUS\",\"SUBARU\",\"KIA\",\"HYUNDAI\",\"MERCEDES-BENZ\",\"MERCEDES-BENZ\",\"CHEVROLET\",\"HYUNDAI\",\"HYUNDAI\",\"HYUNDAI\",\"DAEWOO\",\"HYUNDAI\",\"FIAT\",\"NISSAN\",\"TOYOTA\",\"HYUNDAI\",\"TOYOTA\",\"BMW\",\"BMW\",\"NISSAN\",\"MERCEDES-BENZ\",\"HYUNDAI\",\"LAND ROVER\",\"KIA\",\"TOYOTA\",\"FORD\",\"CHEVROLET\",\"TOYOTA\",\"HYUNDAI\",\"BMW\",\"HYUNDAI\",\"BMW\",\"HYUNDAI\",\"MERCEDES-BENZ\",\"FORD\",\"HYUNDAI\",\"TOYOTA\",\"VOLKSWAGEN\",\"MERCEDES-BENZ\",\"MERCEDES-BENZ\",\"HYUNDAI\",\"TOYOTA\",\"MERCEDES-BENZ\",\"FORD\",\"TOYOTA\",\"MERCEDES-BENZ\",\"TOYOTA\",\"TOYOTA\",\"FORD\",\"DAEWOO\",\"HYUNDAI\",\"SUBARU\",\"CHEVROLET\",\"TOYOTA\",\"HYUNDAI\",\"HYUNDAI\",\"TOYOTA\",\"TOYOTA\",\"MERCEDES-BENZ\",\"TOYOTA\",\"SSANGYONG\",\"HYUNDAI\",\"HYUNDAI\",\"JEEP\",\"CHEVROLET\",\"TOYOTA\",\"NISSAN\",\"SUBARU\",\"CHEVROLET\",\"HYUNDAI\",\"MITSUBISHI\",\"HYUNDAI\",\"DAEWOO\",\"HYUNDAI\",\"LEXUS\",\"KIA\",\"LEXUS\",\"FORD\",\"DODGE\",\"HYUNDAI\",\"TOYOTA\",\"TOYOTA\",\"HONDA\",\"RENAULT\",\"HONDA\",\"NISSAN\",\"BMW\",\"HYUNDAI\",\"FORD\",\"LAND ROVER\",\"TOYOTA\",\"AUDI\",\"TOYOTA\",\"NISSAN\",\"TOYOTA\",\"HYUNDAI\",\"HYUNDAI\",\"HONDA\",\"NISSAN\",\"HYUNDAI\",\"MITSUBISHI\",\"MITSUBISHI\",\"LEXUS\",\"NISSAN\",\"LEXUS\",\"HONDA\",\"SSANGYONG\",\"BMW\",\"MERCEDES-BENZ\",\"FORD\",\"KIA\",\"MAZDA\",\"FORD\",\"BMW\",\"MAZDA\",\"BMW\",\"HYUNDAI\",\"FORD\",\"SUBARU\",\"HYUNDAI\",\"TOYOTA\",\"MERCEDES-BENZ\",\"SSANGYONG\",\"AUDI\",\"BMW\",\"HONDA\",\"NISSAN\",\"TOYOTA\",\"HYUNDAI\",\"TOYOTA\",\"TOYOTA\",\"INFINITI\",\"TOYOTA\",\"DODGE\",\"KIA\",\"FORD\",\"TOYOTA\",\"PEUGEOT\",\"HONDA\",\"HYUNDAI\",\"HONDA\",\"TOYOTA\",\"MERCEDES-BENZ\",\"TOYOTA\",\"MERCEDES-BENZ\",\"VOLKSWAGEN\",\"MITSUBISHI\",\"SUBARU\",\"BMW\",\"FORD\",\"BMW\",\"HYUNDAI\",\"MERCEDES-BENZ\",\"MERCEDES-BENZ\",\"NISSAN\",\"MERCEDES-BENZ\",\"TOYOTA\",\"MINI\",\"BMW\",\"LEXUS\",\"PORSCHE\",\"HONDA\",\"MERCEDES-BENZ\",\"MERCEDES-BENZ\",\"LEXUS\",\"OPEL\",\"HYUNDAI\",\"TOYOTA\",\"HYUNDAI\",\"KIA\",\"MERCEDES-BENZ\",\"LEXUS\",\"HYUNDAI\",\"FORD\",\"CHEVROLET\",\"CHEVROLET\",\"BMW\",\"HONDA\",\"HYUNDAI\",\"HONDA\",\"NISSAN\",\"TOYOTA\",\"HYUNDAI\",\"HYUNDAI\",\"TOYOTA\",\"HYUNDAI\",\"HONDA\",\"HYUNDAI\",\"CHEVROLET\",\"VAZ\",\"FORD\",\"HYUNDAI\",\"HYUNDAI\",\"TOYOTA\",\"VOLKSWAGEN\",\"TOYOTA\",\"FORD\",\"HYUNDAI\",\"BMW\",\"OPEL\",\"HYUNDAI\",\"TOYOTA\",\"HYUNDAI\",\"FORD\",\"TOYOTA\",\"MERCEDES-BENZ\",\"MERCEDES-BENZ\",\"FORD\",\"CHEVROLET\",\"OPEL\",\"FORD\",\"NISSAN\",\"BMW\",\"CHEVROLET\",\"HYUNDAI\",\"SSANGYONG\",\"HYUNDAI\",\"HYUNDAI\",\"CHEVROLET\",\"MERCEDES-BENZ\",\"FORD\",\"KIA\",\"CHEVROLET\",\"FORD\",\"TOYOTA\",\"HYUNDAI\",\"TOYOTA\",\"KIA\",\"CHEVROLET\",\"MERCEDES-BENZ\",\"TOYOTA\",\"HYUNDAI\",\"BMW\",\"SSANGYONG\",\"HONDA\",\"MERCEDES-BENZ\",\"FORD\",\"HYUNDAI\",\"LEXUS\",\"MAZDA\",\"CHEVROLET\",\"NISSAN\",\"LEXUS\",\"TOYOTA\",\"NISSAN\",\"HONDA\",\"LEXUS\",\"HYUNDAI\",\"HYUNDAI\",\"MERCEDES-BENZ\",\"FORD\",\"NISSAN\",\"KIA\",\"HYUNDAI\",\"CHEVROLET\",\"FORD\",\"LEXUS\",\"CHEVROLET\",\"FORD\",\"TOYOTA\",\"TOYOTA\",\"JEEP\",\"TOYOTA\",\"VOLKSWAGEN\",\"MERCEDES-BENZ\",\"HYUNDAI\",\"LEXUS\",\"HONDA\",\"HYUNDAI\",\"BMW\",\"HONDA\",\"SUBARU\",\"HYUNDAI\",\"KIA\",\"MITSUBISHI\",\"KIA\",\"CHEVROLET\",\"TOYOTA\",\"HONDA\",\"JEEP\",\"PORSCHE\",\"TOYOTA\",\"LEXUS\",\"MERCEDES-BENZ\",\"HYUNDAI\",\"HYUNDAI\",\"SUBARU\",\"HYUNDAI\",\"HYUNDAI\",\"LEXUS\",\"MITSUBISHI\",\"HYUNDAI\",\"TOYOTA\",\"NISSAN\",\"CHEVROLET\",\"HONDA\",\"HONDA\",\"HYUNDAI\",\"NISSAN\",\"AUDI\",\"BMW\",\"CHEVROLET\",\"MERCEDES-BENZ\",\"FORD\",\"NISSAN\",\"TOYOTA\",\"MERCEDES-BENZ\",\"CHRYSLER\",\"HYUNDAI\",\"BMW\",\"LEXUS\",\"TOYOTA\",\"TOYOTA\",\"TOYOTA\",\"HYUNDAI\",\"BMW\",\"BMW\",\"HYUNDAI\",\"KIA\",\"BMW\",\"HYUNDAI\",\"MERCEDES-BENZ\",\"FORD\",\"BMW\",\"HONDA\",\"MAZDA\",\"HYUNDAI\",\"NISSAN\",\"TOYOTA\",\"TOYOTA\",\"MERCEDES-BENZ\",\"HYUNDAI\",\"BMW\",\"HONDA\",\"DAEWOO\",\"SUZUKI\",\"TOYOTA\",\"BMW\",\"CHEVROLET\",\"HYUNDAI\",\"BMW\",\"CHEVROLET\",\"HONDA\",\"KIA\",\"OPEL\",\"HYUNDAI\",\"TOYOTA\",\"MERCEDES-BENZ\",\"TOYOTA\",\"SUBARU\",\"CHEVROLET\",\"CHEVROLET\",\"HYUNDAI\",\"KIA\",\"TOYOTA\",\"HYUNDAI\",\"HYUNDAI\",\"KIA\",\"HYUNDAI\",\"FORD\",\"TOYOTA\",\"MERCEDES-BENZ\",\"SSANGYONG\",\"TOYOTA\",\"HYUNDAI\",\"JEEP\",\"PEUGEOT\",\"TOYOTA\",\"TOYOTA\",\"TOYOTA\",\"SUBARU\",\"BMW\",\"MERCEDES-BENZ\",\"NISSAN\",\"LEXUS\",\"MERCEDES-BENZ\",\"MERCEDES-BENZ\",\"FORD\",\"TOYOTA\",\"BMW\",\"FORD\",\"TOYOTA\",\"HYUNDAI\",\"TOYOTA\",\"TOYOTA\",\"TOYOTA\",\"HYUNDAI\",\"MERCEDES-BENZ\",\"HYUNDAI\",\"TOYOTA\",\"CHEVROLET\",\"HONDA\",\"VOLKSWAGEN\",\"HYUNDAI\",\"VAZ\",\"TOYOTA\",\"HYUNDAI\",\"VOLKSWAGEN\",\"NISSAN\",\"TOYOTA\",\"VOLKSWAGEN\",\"HYUNDAI\",\"NISSAN\",\"JEEP\",\"HYUNDAI\",\"MERCEDES-BENZ\",\"TOYOTA\",\"FORD\",\"HYUNDAI\",\"ROLLS-ROYCE\",\"KIA\",\"FORD\",\"MERCEDES-BENZ\",\"MAZDA\",\"HONDA\",\"HYUNDAI\",\"BMW\",\"HYUNDAI\",\"TOYOTA\",\"LEXUS\",\"HYUNDAI\",\"NISSAN\",\"MERCEDES-BENZ\",\"TOYOTA\",\"HONDA\",\"JAGUAR\",\"LEXUS\",\"BMW\",\"SSANGYONG\",\"VOLKSWAGEN\",\"HONDA\",\"OPEL\",\"NISSAN\",\"VOLKSWAGEN\",\"VOLKSWAGEN\",\"LEXUS\",\"SSANGYONG\",\"TOYOTA\",\"HONDA\",\"MERCEDES-BENZ\",\"TOYOTA\",\"MERCEDES-BENZ\",\"FORD\",\"LEXUS\",\"SSANGYONG\",\"MERCEDES-BENZ\",\"VOLKSWAGEN\",\"TOYOTA\",\"KIA\",\"TOYOTA\",\"LEXUS\",\"BMW\",\"KIA\",\"TOYOTA\",\"HONDA\",\"MERCEDES-BENZ\",\"CHEVROLET\",\"MERCEDES-BENZ\",\"SUBARU\",\"TOYOTA\",\"MERCEDES-BENZ\",\"DODGE\",\"LEXUS\",\"HONDA\",\"HYUNDAI\",\"TOYOTA\",\"HYUNDAI\",\"FORD\",\"MERCEDES-BENZ\",\"FORD\",\"AUDI\",\"BMW\",\"TOYOTA\",\"MERCEDES-BENZ\",\"HYUNDAI\",\"MITSUBISHI\",\"CHEVROLET\",\"TOYOTA\",\"HONDA\",\"JAGUAR\",\"HYUNDAI\",\"BMW\",\"TOYOTA\",\"MITSUBISHI\",\"BMW\",\"FORD\",\"BMW\",\"HYUNDAI\",\"HYUNDAI\",\"TOYOTA\",\"TOYOTA\",\"FORD\",\"VOLKSWAGEN\",\"HYUNDAI\",\"TOYOTA\",\"FORD\",\"TOYOTA\",\"KIA\",\"FORD\",\"HYUNDAI\",\"TOYOTA\",\"SUBARU\",\"TOYOTA\",\"TOYOTA\",\"TOYOTA\",\"TOYOTA\",\"TOYOTA\",\"MERCEDES-BENZ\",\"CHEVROLET\",\"KIA\",\"SSANGYONG\",\"MERCEDES-BENZ\",\"MERCEDES-BENZ\",\"MERCEDES-BENZ\",\"HONDA\",\"HYUNDAI\",\"HYUNDAI\",\"HONDA\",\"CHEVROLET\",\"VOLKSWAGEN\",\"TOYOTA\",\"NISSAN\",\"MERCEDES-BENZ\",\"MERCEDES-BENZ\",\"HYUNDAI\",\"HONDA\",\"JEEP\",\"HYUNDAI\",\"HYUNDAI\",\"FORD\",\"BMW\",\"TOYOTA\",\"HYUNDAI\",\"FORD\",\"TOYOTA\",\"MERCEDES-BENZ\",\"HYUNDAI\",\"MERCEDES-BENZ\",\"TOYOTA\",\"HYUNDAI\",\"HYUNDAI\",\"OPEL\",\"HYUNDAI\",\"HYUNDAI\",\"TOYOTA\",\"TOYOTA\",\"AUDI\",\"TOYOTA\",\"OPEL\",\"HYUNDAI\",\"MERCEDES-BENZ\",\"RENAULT\",\"VOLKSWAGEN\",\"TOYOTA\",\"LEXUS\",\"TOYOTA\",\"JAGUAR\",\"TOYOTA\",\"TOYOTA\",\"TOYOTA\",\"LEXUS\",\"HYUNDAI\",\"TOYOTA\",\"VOLKSWAGEN\",\"HYUNDAI\",\"MERCEDES-BENZ\",\"HONDA\",\"TOYOTA\",\"TOYOTA\",\"MERCEDES-BENZ\",\"OPEL\",\"HYUNDAI\",\"HYUNDAI\",\"FORD\",\"TOYOTA\",\"AUDI\",\"CHEVROLET\",\"BMW\",\"KIA\",\"HYUNDAI\",\"CHEVROLET\",\"LEXUS\",\"MAZDA\",\"TOYOTA\",\"FORD\",\"TOYOTA\",\"HONDA\",\"HYUNDAI\",\"TOYOTA\",\"TOYOTA\",\"FORD\",\"MERCEDES-BENZ\",\"SUBARU\",\"HYUNDAI\",\"HYUNDAI\",\"TOYOTA\",\"CHEVROLET\",\"FORD\",\"HONDA\",\"NISSAN\",\"TOYOTA\",\"TOYOTA\",\"BMW\",\"NISSAN\",\"FORD\",\"CHEVROLET\",\"HYUNDAI\",\"TOYOTA\",\"OPEL\",\"HYUNDAI\",\"HONDA\",\"HYUNDAI\",\"TOYOTA\",\"JAGUAR\",\"CHEVROLET\",\"MAZDA\",\"SSANGYONG\",\"TOYOTA\",\"HYUNDAI\",\"HYUNDAI\",\"NISSAN\",\"CHEVROLET\",\"MERCEDES-BENZ\",\"TOYOTA\",\"HYUNDAI\",\"LEXUS\",\"FORD\",\"CHEVROLET\",\"HYUNDAI\",\"FORD\",\"TOYOTA\",\"HYUNDAI\",\"SSANGYONG\",\"TOYOTA\",\"SUBARU\",\"MERCEDES-BENZ\",\"CHEVROLET\",\"TOYOTA\",\"VOLKSWAGEN\",\"HONDA\",\"KIA\",\"MERCEDES-BENZ\",\"HONDA\",\"TOYOTA\",\"BMW\",\"MERCEDES-BENZ\",\"HYUNDAI\",\"HONDA\",\"HYUNDAI\",\"TOYOTA\",\"NISSAN\",\"TOYOTA\",\"SUBARU\",\"LEXUS\",\"HONDA\",\"HYUNDAI\",\"HONDA\",\"SUBARU\",\"TOYOTA\",\"VOLKSWAGEN\",\"TOYOTA\",\"MITSUBISHI\",\"TOYOTA\",\"MAZDA\",\"NISSAN\",\"KIA\",\"HYUNDAI\",\"HYUNDAI\",\"CHEVROLET\",\"SSANGYONG\",\"TOYOTA\",\"SUBARU\",\"CHEVROLET\",\"FORD\",\"INFINITI\",\"MERCEDES-BENZ\",\"TOYOTA\",\"VOLKSWAGEN\",\"TOYOTA\",\"BUICK\",\"HYUNDAI\",\"VOLKSWAGEN\",\"MERCEDES-BENZ\",\"TOYOTA\",\"TOYOTA\",\"TOYOTA\",\"MERCEDES-BENZ\",\"HYUNDAI\",\"KIA\",\"KIA\",\"OPEL\",\"TOYOTA\",\"TOYOTA\",\"HYUNDAI\",\"VOLKSWAGEN\",\"MERCEDES-BENZ\",\"CHEVROLET\",\"BMW\",\"LEXUS\",\"CHEVROLET\",\"MERCEDES-BENZ\",\"NISSAN\",\"TOYOTA\",\"SSANGYONG\",\"TOYOTA\",\"LEXUS\",\"HYUNDAI\",\"SSANGYONG\",\"HYUNDAI\",\"HYUNDAI\",\"NISSAN\",\"NISSAN\",\"NISSAN\",\"SSANGYONG\",\"MERCEDES-BENZ\",\"TOYOTA\",\"TOYOTA\",\"LEXUS\",\"MERCEDES-BENZ\",\"KIA\",\"TOYOTA\",\"HONDA\",\"MERCEDES-BENZ\",\"MINI\",\"HYUNDAI\",\"TOYOTA\",\"FORD\",\"NISSAN\",\"OPEL\",\"VOLVO\",\"TOYOTA\",\"TOYOTA\",\"NISSAN\",\"KIA\",\"HONDA\",\"TOYOTA\",\"HYUNDAI\",\"MAZDA\",\"LEXUS\",\"MERCEDES-BENZ\",\"TOYOTA\",\"HONDA\",\"SSANGYONG\",\"MERCEDES-BENZ\",\"MERCEDES-BENZ\",\"CHEVROLET\",\"HYUNDAI\",\"OPEL\",\"AUDI\",\"HONDA\",\"LEXUS\",\"HYUNDAI\",\"FORD\",\"AUDI\",\"FORD\",\"AUDI\",\"FORD\",\"FORD\",\"DAEWOO\",\"HYUNDAI\",\"MERCEDES-BENZ\",\"MERCEDES-BENZ\",\"CHEVROLET\",\"MERCEDES-BENZ\",\"NISSAN\",\"FORD\",\"HYUNDAI\",\"LEXUS\",\"TOYOTA\",\"HYUNDAI\",\"FORD\",\"LEXUS\",\"SUZUKI\",\"MERCEDES-BENZ\",\"MAZDA\",\"TOYOTA\",\"CHEVROLET\",\"HYUNDAI\",\"TOYOTA\",\"VOLKSWAGEN\",\"HYUNDAI\",\"TOYOTA\",\"MERCEDES-BENZ\",\"CHRYSLER\",\"HYUNDAI\",\"HYUNDAI\",\"BMW\",\"LEXUS\",\"CHEVROLET\",\"LEXUS\",\"TOYOTA\",\"OPEL\",\"HYUNDAI\",\"MERCEDES-BENZ\",\"BMW\",\"HYUNDAI\",\"LEXUS\",\"SSANGYONG\",\"MITSUBISHI\",\"HYUNDAI\",\"MINI\",\"TOYOTA\",\"MERCEDES-BENZ\",\"BMW\",\"TOYOTA\",\"DAEWOO\",\"INFINITI\",\"MERCEDES-BENZ\",\"FORD\",\"FORD\",\"BMW\",\"SSANGYONG\",\"DODGE\",\"HONDA\",\"HONDA\",\"BMW\",\"FORD\",\"FORD\",\"JAGUAR\",\"KIA\",\"TOYOTA\",\"TOYOTA\",\"MERCEDES-BENZ\",\"TOYOTA\",\"AUDI\",\"TOYOTA\",\"CHEVROLET\",\"HYUNDAI\",\"MITSUBISHI\",\"VAZ\",\"CHEVROLET\",\"HYUNDAI\",\"BMW\",\"BMW\",\"TOYOTA\",\"MERCEDES-BENZ\",\"MERCEDES-BENZ\",\"TOYOTA\",\"TOYOTA\",\"JEEP\",\"HYUNDAI\",\"HYUNDAI\",\"VOLKSWAGEN\",\"TOYOTA\",\"MINI\",\"DODGE\",\"NISSAN\",\"HYUNDAI\",\"TOYOTA\",\"BMW\",\"HONDA\",\"TOYOTA\",\"GMC\",\"HYUNDAI\",\"SUBARU\",\"TOYOTA\",\"MERCEDES-BENZ\",\"VOLKSWAGEN\",\"HYUNDAI\",\"FORD\",\"HYUNDAI\",\"KIA\",\"HYUNDAI\",\"FORD\",\"TOYOTA\",\"LEXUS\",\"VOLKSWAGEN\",\"HYUNDAI\",\"KIA\",\"HONDA\",\"CHEVROLET\",\"HYUNDAI\",\"HYUNDAI\",\"FORD\",\"FORD\",\"FORD\",\"MERCEDES-BENZ\",\"HYUNDAI\",\"HYUNDAI\",\"CHEVROLET\",\"VOLKSWAGEN\",\"AUDI\",\"FORD\",\"CHEVROLET\",\"TOYOTA\",\"OPEL\",\"BUICK\",\"HYUNDAI\",\"OPEL\",\"BMW\",\"TOYOTA\",\"NISSAN\",\"LEXUS\",\"HYUNDAI\",\"MITSUBISHI\",\"LEXUS\",\"DODGE\",\"CHEVROLET\",\"SSANGYONG\",\"LEXUS\",\"HYUNDAI\",\"NISSAN\",\"TOYOTA\",\"OPEL\",\"HONDA\",\"TOYOTA\",\"LEXUS\",\"SSANGYONG\",\"CHEVROLET\",\"CHEVROLET\",\"FORD\",\"GMC\",\"MERCEDES-BENZ\",\"HYUNDAI\",\"MITSUBISHI\",\"VOLVO\",\"DAEWOO\",\"HYUNDAI\",\"AUDI\",\"TOYOTA\",\"FORD\",\"AUDI\",\"HYUNDAI\",\"HYUNDAI\",\"HYUNDAI\",\"FORD\",\"HYUNDAI\",\"OPEL\",\"MERCEDES-BENZ\",\"DODGE\",\"CHEVROLET\",\"HONDA\",\"MERCEDES-BENZ\",\"TOYOTA\",\"FORD\",\"MERCEDES-BENZ\",\"HYUNDAI\",\"CHEVROLET\",\"HYUNDAI\",\"HYUNDAI\",\"TOYOTA\",\"MERCEDES-BENZ\",\"HONDA\",\"HYUNDAI\",\"FORD\",\"SSANGYONG\",\"TOYOTA\",\"HONDA\",\"HYUNDAI\",\"TOYOTA\",\"OPEL\",\"NISSAN\",\"BMW\",\"HYUNDAI\",\"MERCEDES-BENZ\",\"HYUNDAI\",\"HYUNDAI\",\"CHEVROLET\",\"HONDA\",\"HYUNDAI\",\"KIA\",\"MERCEDES-BENZ\",\"TOYOTA\",\"TOYOTA\",\"CHEVROLET\",\"NISSAN\",\"MERCEDES-BENZ\",\"HYUNDAI\",\"CHEVROLET\",\"MERCEDES-BENZ\",\"HONDA\",\"KIA\",\"OPEL\",\"HYUNDAI\",\"HYUNDAI\",\"KIA\",\"HYUNDAI\",\"BMW\",\"SSANGYONG\",\"SUBARU\",\"HYUNDAI\",\"TOYOTA\",\"TOYOTA\",\"TOYOTA\",\"MERCEDES-BENZ\",\"BMW\",\"HYUNDAI\",\"HYUNDAI\",\"HYUNDAI\",\"VOLKSWAGEN\",\"MERCEDES-BENZ\",\"VOLKSWAGEN\",\"HYUNDAI\",\"BMW\",\"TOYOTA\",\"TOYOTA\",\"MERCEDES-BENZ\",\"KIA\",\"HYUNDAI\",\"HONDA\",\"TOYOTA\",\"HYUNDAI\",\"FORD\",\"CHEVROLET\",\"VOLKSWAGEN\",\"HONDA\",\"HYUNDAI\",\"HYUNDAI\",\"HONDA\",\"HYUNDAI\",\"HYUNDAI\",\"VOLKSWAGEN\",\"HYUNDAI\",\"KIA\",\"MAZDA\",\"FORD\",\"TOYOTA\",\"TOYOTA\",\"HYUNDAI\",\"FORD\",\"HONDA\",\"HONDA\",\"FORD\",\"AUDI\",\"LEXUS\",\"MERCEDES-BENZ\",\"NISSAN\",\"HONDA\",\"SSANGYONG\",\"HONDA\",\"SUBARU\",\"TOYOTA\",\"AUDI\",\"MERCEDES-BENZ\",\"SSANGYONG\",\"TOYOTA\",\"HONDA\",\"HONDA\",\"FORD\",\"MERCEDES-BENZ\",\"TOYOTA\",\"TOYOTA\",\"HYUNDAI\",\"VOLKSWAGEN\",\"HYUNDAI\",\"HONDA\",\"TOYOTA\",\"TOYOTA\",\"MERCEDES-BENZ\",\"AUDI\",\"FORD\",\"TOYOTA\",\"TOYOTA\",\"HYUNDAI\",\"DODGE\",\"CHEVROLET\",\"HYUNDAI\",\"BMW\",\"PORSCHE\",\"NISSAN\",\"LEXUS\",\"MAZDA\",\"HYUNDAI\",\"BMW\",\"HONDA\",\"HYUNDAI\",\"LEXUS\",\"TOYOTA\",\"TOYOTA\",\"HYUNDAI\",\"TOYOTA\",\"LEXUS\",\"HYUNDAI\",\"TOYOTA\",\"CHEVROLET\",\"CHEVROLET\",\"TOYOTA\",\"HYUNDAI\",\"HYUNDAI\",\"BMW\",\"MERCEDES-BENZ\",\"AUDI\",\"HYUNDAI\",\"LEXUS\",\"NISSAN\",\"NISSAN\",\"BMW\",\"HYUNDAI\",\"NISSAN\",\"TOYOTA\",\"KIA\",\"TOYOTA\",\"MERCEDES-BENZ\",\"HONDA\",\"FORD\",\"NISSAN\",\"MERCEDES-BENZ\",\"HYUNDAI\",\"TOYOTA\",\"HYUNDAI\",\"TOYOTA\",\"PORSCHE\",\"HYUNDAI\",\"FORD\",\"TOYOTA\",\"VOLKSWAGEN\",\"MERCEDES-BENZ\",\"PEUGEOT\",\"FORD\",\"SSANGYONG\",\"LEXUS\",\"LEXUS\",\"VOLKSWAGEN\",\"LEXUS\",\"AUDI\",\"OPEL\",\"TOYOTA\",\"MERCEDES-BENZ\",\"BMW\",\"TOYOTA\",\"CHEVROLET\",\"FORD\",\"BMW\",\"HYUNDAI\",\"LEXUS\",\"HYUNDAI\",\"CHEVROLET\",\"KIA\",\"BMW\",\"DODGE\",\"FORD\",\"TOYOTA\",\"AUDI\",\"TOYOTA\",\"HONDA\",\"MERCEDES-BENZ\",\"TOYOTA\",\"VOLVO\",\"HYUNDAI\",\"HYUNDAI\",\"HYUNDAI\",\"TOYOTA\",\"HYUNDAI\",\"FORD\",\"CHEVROLET\",\"MERCEDES-BENZ\",\"MERCEDES-BENZ\",\"SSANGYONG\",\"BMW\",\"TOYOTA\",\"MITSUBISHI\",\"TOYOTA\",\"TOYOTA\",\"KIA\",\"SUBARU\",\"TOYOTA\",\"TOYOTA\",\"TOYOTA\",\"VOLKSWAGEN\",\"DODGE\",\"HYUNDAI\",\"TOYOTA\",\"CHEVROLET\",\"MERCEDES-BENZ\",\"NISSAN\",\"FIAT\",\"CHEVROLET\",\"HONDA\",\"KIA\",\"SKODA\",\"LEXUS\",\"HYUNDAI\",\"SSANGYONG\",\"HYUNDAI\",\"HONDA\",\"HYUNDAI\",\"MERCEDES-BENZ\",\"HYUNDAI\",\"HYUNDAI\",\"MERCEDES-BENZ\",\"MERCEDES-BENZ\",\"TOYOTA\",\"VOLKSWAGEN\",\"NISSAN\",\"HONDA\",\"HYUNDAI\",\"VOLKSWAGEN\",\"LEXUS\",\"HYUNDAI\",\"MERCEDES-BENZ\",\"FORD\",\"VOLKSWAGEN\",\"TOYOTA\",\"HYUNDAI\",\"CHEVROLET\",\"BMW\",\"HYUNDAI\",\"TOYOTA\",\"OPEL\",\"HYUNDAI\",\"OPEL\",\"TOYOTA\",\"DODGE\",\"HONDA\",\"HYUNDAI\",\"HYUNDAI\",\"TOYOTA\",\"BMW\",\"VOLKSWAGEN\",\"TOYOTA\",\"FORD\",\"CADILLAC\",\"KIA\",\"TOYOTA\",\"BMW\",\"MITSUBISHI\",\"LEXUS\",\"CHEVROLET\",\"OPEL\",\"MERCEDES-BENZ\",\"CHEVROLET\",\"VOLKSWAGEN\",\"HONDA\",\"MERCEDES-BENZ\",\"LEXUS\",\"MERCEDES-BENZ\",\"FORD\",\"FORD\",\"JEEP\",\"KIA\",\"BMW\",\"HYUNDAI\",\"MITSUBISHI\",\"CHEVROLET\",\"SSANGYONG\",\"KIA\",\"MERCEDES-BENZ\",\"HONDA\",\"TOYOTA\",\"LEXUS\",\"HONDA\",\"HYUNDAI\",\"TOYOTA\",\"FORD\",\"TOYOTA\",\"HYUNDAI\",\"MERCEDES-BENZ\",\"MERCEDES-BENZ\",\"NISSAN\",\"HYUNDAI\",\"HYUNDAI\",\"CHEVROLET\",\"TOYOTA\",\"CHEVROLET\",\"SSANGYONG\",\"MERCEDES-BENZ\",\"MERCEDES-BENZ\",\"HYUNDAI\",\"TOYOTA\",\"KIA\",\"SSANGYONG\",\"LEXUS\",\"TOYOTA\",\"SUBARU\",\"HONDA\",\"MERCEDES-BENZ\",\"CHEVROLET\",\"FORD\",\"HYUNDAI\",\"CHEVROLET\",\"MERCEDES-BENZ\",\"SUBARU\",\"HYUNDAI\",\"FORD\",\"MERCEDES-BENZ\",\"LEXUS\",\"SSANGYONG\",\"CHEVROLET\",\"OPEL\",\"TOYOTA\",\"HYUNDAI\",\"HYUNDAI\",\"HYUNDAI\",\"HONDA\",\"NISSAN\",\"KIA\",\"AUDI\",\"CADILLAC\",\"BMW\",\"HYUNDAI\",\"BMW\",\"NISSAN\",\"LEXUS\",\"MERCEDES-BENZ\",\"HYUNDAI\",\"FORD\",\"SUBARU\",\"TOYOTA\",\"SUBARU\",\"TOYOTA\",\"HYUNDAI\",\"TOYOTA\",\"BMW\",\"NISSAN\",\"KIA\",\"NISSAN\",\"HYUNDAI\",\"NISSAN\",\"JEEP\",\"HYUNDAI\",\"MERCEDES-BENZ\",\"HYUNDAI\",\"SSANGYONG\",\"TOYOTA\",\"FORD\",\"VOLKSWAGEN\",\"TOYOTA\",\"MERCEDES-BENZ\",\"MAZDA\",\"MAZDA\",\"CHEVROLET\",\"HYUNDAI\",\"HYUNDAI\",\"PORSCHE\",\"NISSAN\",\"TOYOTA\",\"NISSAN\",\"MERCEDES-BENZ\",\"HONDA\",\"TOYOTA\",\"HONDA\",\"HONDA\",\"TOYOTA\",\"FORD\",\"LEXUS\",\"TOYOTA\",\"TOYOTA\",\"HONDA\",\"MERCEDES-BENZ\",\"HYUNDAI\",\"TOYOTA\",\"TOYOTA\",\"VOLKSWAGEN\",\"HONDA\",\"HYUNDAI\",\"FORD\",\"HONDA\",\"TOYOTA\",\"LEXUS\",\"FORD\",\"BMW\",\"TOYOTA\",\"TOYOTA\",\"HYUNDAI\",\"HYUNDAI\",\"BMW\",\"HYUNDAI\",\"HYUNDAI\",\"HYUNDAI\",\"MERCEDES-BENZ\",\"TOYOTA\",\"SSANGYONG\",\"TOYOTA\",\"HONDA\",\"TOYOTA\",\"BMW\",\"HYUNDAI\",\"NISSAN\",\"MERCEDES-BENZ\",\"MITSUBISHI\",\"CHEVROLET\",\"HONDA\",\"MERCEDES-BENZ\",\"FORD\",\"BMW\",\"FORD\",\"KIA\",\"CHEVROLET\",\"TOYOTA\",\"HYUNDAI\",\"CHEVROLET\",\"HONDA\",\"HYUNDAI\",\"FORD\",\"HYUNDAI\",\"TOYOTA\",\"NISSAN\",\"SSANGYONG\",\"LEXUS\",\"AUDI\",\"FORD\",\"MERCEDES-BENZ\",\"TOYOTA\",\"TOYOTA\",\"HYUNDAI\",\"CHEVROLET\",\"VOLKSWAGEN\",\"MERCEDES-BENZ\",\"TOYOTA\",\"FIAT\",\"BMW\",\"VOLKSWAGEN\",\"SSANGYONG\",\"BUICK\",\"KIA\",\"TOYOTA\",\"MERCEDES-BENZ\",\"LEXUS\",\"FORD\",\"HONDA\",\"LEXUS\",\"TOYOTA\",\"LEXUS\",\"HYUNDAI\",\"HYUNDAI\",\"MERCEDES-BENZ\",\"HYUNDAI\",\"MERCEDES-BENZ\",\"MERCEDES-BENZ\",\"FORD\",\"MERCEDES-BENZ\",\"MERCEDES-BENZ\",\"HYUNDAI\",\"CHEVROLET\",\"AUDI\",\"VOLKSWAGEN\",\"NISSAN\",\"TOYOTA\",\"AUDI\",\"FORD\",\"FORD\",\"MERCEDES-BENZ\",\"CHEVROLET\",\"OPEL\",\"MERCEDES-BENZ\",\"KIA\",\"TOYOTA\",\"TOYOTA\",\"SUBARU\",\"SUBARU\",\"NISSAN\",\"HYUNDAI\",\"FORD\",\"TOYOTA\",\"MAZDA\",\"TOYOTA\",\"CHEVROLET\",\"TOYOTA\",\"FORD\",\"MERCEDES-BENZ\",\"CHEVROLET\",\"FORD\",\"MERCEDES-BENZ\",\"TOYOTA\",\"VOLKSWAGEN\",\"TOYOTA\",\"LEXUS\",\"HONDA\",\"NISSAN\",\"CHEVROLET\",\"MERCEDES-BENZ\",\"VOLKSWAGEN\",\"JEEP\",\"BMW\",\"TOYOTA\",\"TOYOTA\",\"MERCEDES-BENZ\",\"HYUNDAI\",\"CHEVROLET\",\"HYUNDAI\",\"FORD\",\"HYUNDAI\",\"HYUNDAI\",\"LEXUS\",\"HYUNDAI\",\"VOLKSWAGEN\",\"MERCEDES-BENZ\",\"TOYOTA\",\"TOYOTA\",\"BMW\",\"TOYOTA\",\"OPEL\",\"HYUNDAI\",\"TOYOTA\",\"CHEVROLET\",\"HONDA\",\"BMW\",\"FORD\",\"TOYOTA\",\"HYUNDAI\",\"CHRYSLER\",\"KIA\",\"HONDA\",\"CHEVROLET\",\"HONDA\",\"SSANGYONG\",\"HYUNDAI\",\"TOYOTA\",\"AUDI\",\"MERCEDES-BENZ\",\"HYUNDAI\",\"NISSAN\",\"TOYOTA\",\"LEXUS\",\"CHEVROLET\",\"HYUNDAI\",\"TOYOTA\",\"VOLKSWAGEN\",\"CHEVROLET\",\"MERCEDES-BENZ\",\"HONDA\",\"FORD\",\"AUDI\",\"AUDI\",\"CHEVROLET\",\"BMW\",\"LEXUS\",\"MERCEDES-BENZ\",\"HYUNDAI\",\"LEXUS\",\"SSANGYONG\",\"BMW\",\"CHEVROLET\",\"LEXUS\",\"LEXUS\",\"HONDA\",\"HYUNDAI\",\"HYUNDAI\",\"SUBARU\",\"NISSAN\",\"CHEVROLET\",\"NISSAN\",\"FORD\",\"LEXUS\",\"HYUNDAI\",\"HYUNDAI\",\"HYUNDAI\",\"MERCEDES-BENZ\",\"TOYOTA\",\"SUBARU\",\"JEEP\",\"MERCEDES-BENZ\",\"MERCEDES-BENZ\",\"HYUNDAI\",\"TOYOTA\",\"OPEL\",\"LEXUS\",\"TOYOTA\",\"SUBARU\",\"HYUNDAI\",\"HYUNDAI\",\"CHEVROLET\",\"BMW\",\"HYUNDAI\",\"HYUNDAI\",\"KIA\",\"HYUNDAI\",\"TOYOTA\",\"HYUNDAI\",\"KIA\",\"MERCEDES-BENZ\",\"MERCEDES-BENZ\",\"HONDA\",\"CHEVROLET\",\"HYUNDAI\",\"HYUNDAI\",\"HYUNDAI\",\"FORD\",\"NISSAN\",\"VOLKSWAGEN\",\"SSANGYONG\",\"MERCEDES-BENZ\",\"HYUNDAI\",\"NISSAN\",\"PEUGEOT\",\"MINI\",\"HYUNDAI\",\"TOYOTA\",\"HYUNDAI\",\"HYUNDAI\",\"BMW\",\"AUDI\",\"TOYOTA\",\"MERCEDES-BENZ\",\"LEXUS\",\"HYUNDAI\",\"MERCEDES-BENZ\",\"FORD\",\"TOYOTA\",\"TOYOTA\",\"CHEVROLET\",\"CHEVROLET\",\"KIA\",\"AUDI\",\"SUBARU\",\"HYUNDAI\",\"BMW\",\"CHEVROLET\",\"MAZDA\",\"MERCEDES-BENZ\",\"FORD\",\"HONDA\",\"NISSAN\",\"MERCEDES-BENZ\",\"BMW\",\"HONDA\",\"AUDI\",\"FORD\",\"FORD\",\"MAZDA\",\"TOYOTA\",\"OPEL\",\"VOLKSWAGEN\",\"FORD\",\"HYUNDAI\",\"TOYOTA\",\"MERCEDES-BENZ\",\"FORD\",\"TOYOTA\",\"OPEL\",\"HONDA\",\"FORD\",\"HYUNDAI\",\"HYUNDAI\",\"FORD\",\"TOYOTA\",\"MERCEDES-BENZ\",\"HYUNDAI\",\"HYUNDAI\",\"MERCEDES-BENZ\",\"JEEP\",\"TOYOTA\",\"AUDI\",\"HYUNDAI\",\"CHEVROLET\",\"HONDA\",\"LAND ROVER\",\"MERCEDES-BENZ\",\"AUDI\",\"BMW\",\"FORD\",\"TOYOTA\",\"KIA\",\"HYUNDAI\",\"HYUNDAI\",\"HYUNDAI\",\"HONDA\",\"FORD\",\"TOYOTA\",\"TOYOTA\",\"HYUNDAI\",\"CHEVROLET\",\"DAEWOO\",\"HYUNDAI\",\"KIA\",\"BMW\",\"FORD\",\"KIA\",\"HONDA\",\"MERCEDES-BENZ\",\"TOYOTA\",\"HYUNDAI\",\"MERCEDES-BENZ\",\"LEXUS\",\"MERCEDES-BENZ\",\"TOYOTA\",\"HYUNDAI\",\"FORD\",\"DODGE\",\"NISSAN\",\"FORD\",\"HONDA\",\"BMW\",\"MERCEDES-BENZ\",\"TOYOTA\",\"NISSAN\",\"HYUNDAI\",\"HYUNDAI\",\"MERCEDES-BENZ\",\"HYUNDAI\",\"JEEP\",\"HYUNDAI\",\"TOYOTA\",\"LEXUS\",\"SSANGYONG\",\"TOYOTA\",\"BMW\",\"CHEVROLET\",\"TOYOTA\",\"TOYOTA\",\"LEXUS\",\"BMW\",\"SSANGYONG\",\"MERCEDES-BENZ\",\"HYUNDAI\",\"FIAT\",\"AUDI\",\"MERCEDES-BENZ\",\"SSANGYONG\",\"NISSAN\",\"HONDA\",\"FORD\",\"NISSAN\",\"SSANGYONG\",\"MERCEDES-BENZ\",\"CHEVROLET\",\"TOYOTA\",\"HYUNDAI\",\"MERCEDES-BENZ\",\"LEXUS\",\"TOYOTA\",\"BMW\",\"HYUNDAI\",\"MERCEDES-BENZ\",\"OPEL\",\"HYUNDAI\",\"KIA\",\"HYUNDAI\",\"AUDI\",\"LEXUS\",\"MERCEDES-BENZ\",\"HYUNDAI\",\"LEXUS\",\"HYUNDAI\",\"HYUNDAI\",\"MERCEDES-BENZ\",\"BMW\",\"TOYOTA\",\"HYUNDAI\",\"BMW\",\"HYUNDAI\",\"TOYOTA\",\"HYUNDAI\",\"TOYOTA\",\"BMW\",\"HYUNDAI\",\"TOYOTA\",\"FORD\",\"NISSAN\",\"SKODA\",\"MAZDA\",\"TOYOTA\",\"SSANGYONG\",\"HONDA\",\"MERCEDES-BENZ\",\"HYUNDAI\",\"BMW\",\"VOLKSWAGEN\",\"FORD\",\"SUBARU\",\"HYUNDAI\",\"HYUNDAI\",\"VOLKSWAGEN\",\"HONDA\",\"NISSAN\",\"MERCEDES-BENZ\",\"HYUNDAI\",\"HYUNDAI\",\"HONDA\",\"VOLKSWAGEN\",\"CHEVROLET\",\"MERCEDES-BENZ\",\"LEXUS\",\"SSANGYONG\",\"HYUNDAI\",\"FIAT\",\"CHEVROLET\",\"MITSUBISHI\",\"SSANGYONG\",\"SUBARU\",\"TOYOTA\",\"TOYOTA\",\"TOYOTA\",\"LEXUS\",\"CHEVROLET\",\"SSANGYONG\",\"TOYOTA\",\"TOYOTA\",\"LEXUS\",\"HONDA\",\"JEEP\",\"FORD\",\"HYUNDAI\",\"FORD\",\"HONDA\",\"BMW\",\"TOYOTA\",\"LEXUS\",\"TOYOTA\",\"NISSAN\",\"LEXUS\",\"FORD\",\"TOYOTA\",\"HONDA\",\"TOYOTA\",\"TOYOTA\",\"LEXUS\",\"TOYOTA\",\"MERCEDES-BENZ\",\"TOYOTA\",\"MERCEDES-BENZ\",\"HYUNDAI\",\"MERCEDES-BENZ\",\"SUZUKI\",\"CHEVROLET\",\"HYUNDAI\",\"FORD\",\"HYUNDAI\",\"SSANGYONG\",\"LEXUS\",\"TOYOTA\",\"MERCEDES-BENZ\",\"MITSUBISHI\",\"TOYOTA\",\"LEXUS\",\"TOYOTA\",\"TOYOTA\",\"HONDA\",\"CHEVROLET\",\"FORD\",\"HYUNDAI\",\"HONDA\",\"BMW\",\"TOYOTA\",\"HYUNDAI\",\"TOYOTA\",\"MERCEDES-BENZ\",\"BMW\",\"TOYOTA\",\"FORD\",\"OPEL\",\"MERCEDES-BENZ\",\"SSANGYONG\",\"LEXUS\",\"TOYOTA\",\"MERCEDES-BENZ\",\"BMW\",\"TOYOTA\",\"CHEVROLET\",\"TOYOTA\",\"HONDA\",\"TOYOTA\",\"HONDA\",\"NISSAN\",\"HYUNDAI\",\"BMW\",\"HONDA\",\"BMW\",\"HYUNDAI\",\"CHEVROLET\",\"NISSAN\",\"CHEVROLET\",\"HYUNDAI\",\"MOSKVICH\",\"BMW\",\"BMW\",\"MERCEDES-BENZ\",\"KIA\",\"BMW\",\"CHEVROLET\",\"FORD\",\"FORD\",\"TOYOTA\",\"LEXUS\",\"KIA\",\"VOLKSWAGEN\",\"HYUNDAI\",\"HONDA\",\"CHEVROLET\",\"CHEVROLET\",\"TOYOTA\",\"BMW\",\"MERCEDES-BENZ\",\"TOYOTA\",\"TOYOTA\",\"LEXUS\",\"HYUNDAI\",\"HYUNDAI\",\"HONDA\",\"NISSAN\",\"TOYOTA\",\"MERCEDES-BENZ\",\"FORD\",\"OPEL\",\"HYUNDAI\",\"HYUNDAI\",\"LEXUS\",\"MERCEDES-BENZ\",\"VOLKSWAGEN\",\"TOYOTA\",\"TOYOTA\",\"CHEVROLET\",\"LEXUS\",\"HYUNDAI\",\"TOYOTA\",\"MERCEDES-BENZ\",\"TOYOTA\",\"MERCEDES-BENZ\",\"MITSUBISHI\",\"NISSAN\",\"HONDA\",\"MERCEDES-BENZ\",\"SUBARU\",\"HYUNDAI\",\"TOYOTA\",\"TOYOTA\",\"TOYOTA\",\"FORD\",\"NISSAN\",\"HYUNDAI\",\"HYUNDAI\",\"TOYOTA\",\"MERCEDES-BENZ\",\"TOYOTA\",\"LEXUS\",\"MERCEDES-BENZ\",\"LEXUS\",\"BMW\",\"HONDA\",\"TOYOTA\",\"TOYOTA\",\"HYUNDAI\",\"TOYOTA\",\"CHEVROLET\",\"TOYOTA\",\"HYUNDAI\",\"TOYOTA\",\"HONDA\",\"BMW\",\"TOYOTA\",\"UAZ\",\"LEXUS\",\"HONDA\",\"BMW\",\"HYUNDAI\",\"TOYOTA\",\"HYUNDAI\",\"TOYOTA\",\"MERCEDES-BENZ\",\"TOYOTA\",\"BMW\",\"MERCEDES-BENZ\",\"TOYOTA\",\"TOYOTA\",\"HYUNDAI\",\"TOYOTA\",\"MERCEDES-BENZ\",\"MERCEDES-BENZ\",\"CHEVROLET\",\"MERCEDES-BENZ\",\"HONDA\",\"TOYOTA\",\"MERCEDES-BENZ\",\"TOYOTA\",\"MERCEDES-BENZ\",\"TOYOTA\",\"TOYOTA\",\"MERCEDES-BENZ\",\"HONDA\",\"HYUNDAI\",\"TOYOTA\",\"HYUNDAI\",\"KIA\",\"MITSUBISHI\",\"TOYOTA\",\"MERCEDES-BENZ\",\"TOYOTA\",\"TOYOTA\",\"MERCEDES-BENZ\",\"HYUNDAI\",\"FORD\",\"HYUNDAI\",\"BMW\",\"LEXUS\",\"BMW\",\"FORD\",\"SUBARU\",\"HYUNDAI\",\"TOYOTA\",\"FIAT\",\"HYUNDAI\",\"HYUNDAI\",\"MERCEDES-BENZ\",\"FORD\",\"TOYOTA\",\"TOYOTA\",\"FORD\",\"BMW\",\"MERCEDES-BENZ\",\"MAZDA\",\"LEXUS\",\"VOLKSWAGEN\",\"HYUNDAI\",\"MERCEDES-BENZ\",\"MERCEDES-BENZ\",\"FORD\",\"HYUNDAI\",\"TOYOTA\",\"HYUNDAI\",\"TOYOTA\",\"HONDA\",\"FORD\",\"BMW\",\"TOYOTA\",\"TOYOTA\",\"TOYOTA\",\"KIA\",\"BMW\",\"AUDI\",\"MERCEDES-BENZ\",\"HYUNDAI\",\"TOYOTA\",\"TOYOTA\",\"HYUNDAI\",\"NISSAN\",\"TOYOTA\",\"CHEVROLET\",\"MERCEDES-BENZ\",\"SKODA\",\"CHEVROLET\",\"CHEVROLET\",\"BMW\",\"HONDA\",\"TOYOTA\",\"TOYOTA\",\"FORD\",\"HYUNDAI\",\"MERCEDES-BENZ\",\"KIA\",\"VOLKSWAGEN\",\"HYUNDAI\",\"TOYOTA\",\"HYUNDAI\",\"AUDI\",\"HYUNDAI\",\"TOYOTA\",\"MERCEDES-BENZ\",\"VOLKSWAGEN\",\"MERCEDES-BENZ\",\"HONDA\",\"TOYOTA\",\"HYUNDAI\",\"FORD\",\"MITSUBISHI\",\"MERCEDES-BENZ\",\"TOYOTA\",\"KIA\",\"MITSUBISHI\",\"HYUNDAI\",\"SSANGYONG\",\"HYUNDAI\",\"MERCEDES-BENZ\",\"JEEP\",\"MERCEDES-BENZ\",\"HYUNDAI\",\"HYUNDAI\",\"MERCEDES-BENZ\",\"FORD\",\"HYUNDAI\",\"DAEWOO\",\"VAZ\",\"TOYOTA\",\"TOYOTA\",\"MERCEDES-BENZ\",\"MAZDA\",\"HYUNDAI\",\"LEXUS\",\"JEEP\",\"MERCEDES-BENZ\",\"HYUNDAI\",\"TOYOTA\",\"BMW\",\"MERCEDES-BENZ\",\"LEXUS\",\"LEXUS\",\"BMW\",\"BMW\",\"FORD\",\"BMW\",\"TOYOTA\",\"MERCEDES-BENZ\",\"HONDA\",\"TOYOTA\",\"TOYOTA\",\"HONDA\",\"SUZUKI\",\"LEXUS\",\"HYUNDAI\",\"MAZDA\",\"TOYOTA\",\"HYUNDAI\",\"VOLKSWAGEN\",\"VOLKSWAGEN\",\"DAEWOO\",\"HYUNDAI\",\"VOLKSWAGEN\",\"LEXUS\",\"BMW\",\"TOYOTA\",\"TOYOTA\",\"MERCEDES-BENZ\",\"VOLKSWAGEN\",\"NISSAN\",\"SSANGYONG\",\"NISSAN\",\"VOLKSWAGEN\",\"MERCEDES-BENZ\",\"LEXUS\",\"NISSAN\",\"CHEVROLET\",\"OPEL\",\"SUBARU\",\"AUDI\",\"HONDA\",\"CHEVROLET\",\"NISSAN\",\"TOYOTA\",\"BMW\",\"MERCEDES-BENZ\",\"HYUNDAI\",\"MERCEDES-BENZ\",\"BMW\",\"HYUNDAI\",\"TOYOTA\",\"LEXUS\",\"TOYOTA\",\"BMW\",\"FORD\",\"MERCEDES-BENZ\",\"SUZUKI\",\"HYUNDAI\",\"HYUNDAI\",\"MERCEDES-BENZ\",\"TOYOTA\",\"HYUNDAI\",\"CHEVROLET\",\"HYUNDAI\",\"NISSAN\",\"HYUNDAI\",\"HYUNDAI\",\"BMW\",\"KIA\",\"MERCEDES-BENZ\",\"HYUNDAI\",\"KIA\",\"HYUNDAI\",\"NISSAN\",\"BMW\",\"KIA\",\"MERCEDES-BENZ\",\"MERCEDES-BENZ\",\"HYUNDAI\",\"MITSUBISHI\",\"SSANGYONG\",\"MERCEDES-BENZ\",\"TOYOTA\",\"BMW\",\"MITSUBISHI\",\"MERCEDES-BENZ\",\"KIA\",\"VOLKSWAGEN\",\"OPEL\",\"VOLVO\",\"NISSAN\",\"BMW\",\"MINI\",\"KIA\",\"OPEL\",\"HONDA\",\"FORD\",\"HONDA\",\"NISSAN\",\"MERCEDES-BENZ\",\"HYUNDAI\",\"TOYOTA\",\"MERCEDES-BENZ\",\"HONDA\",\"MERCEDES-BENZ\",\"CHEVROLET\",\"VOLKSWAGEN\",\"NISSAN\",\"VOLKSWAGEN\",\"TOYOTA\",\"HONDA\",\"BMW\",\"TOYOTA\",\"TOYOTA\",\"FORD\",\"NISSAN\",\"MERCEDES-BENZ\",\"HYUNDAI\",\"HYUNDAI\",\"MERCEDES-BENZ\",\"DODGE\",\"TOYOTA\",\"FORD\",\"HYUNDAI\",\"MERCEDES-BENZ\",\"TOYOTA\",\"MERCEDES-BENZ\",\"FORD\",\"TOYOTA\",\"VOLKSWAGEN\",\"KIA\",\"CHEVROLET\",\"HONDA\",\"MERCEDES-BENZ\",\"MAZDA\",\"TOYOTA\",\"HYUNDAI\",\"FORD\",\"VOLKSWAGEN\",\"HYUNDAI\",\"LEXUS\",\"MERCEDES-BENZ\",\"MERCEDES-BENZ\",\"MERCEDES-BENZ\",\"TOYOTA\",\"LEXUS\",\"HYUNDAI\",\"KIA\",\"MAZDA\",\"MERCEDES-BENZ\",\"MERCEDES-BENZ\",\"MERCEDES-BENZ\",\"VOLKSWAGEN\",\"CHEVROLET\",\"CHEVROLET\",\"TOYOTA\",\"HONDA\",\"TOYOTA\",\"FORD\",\"BMW\",\"TOYOTA\",\"HONDA\",\"SSANGYONG\",\"HYUNDAI\",\"MAZDA\",\"KIA\",\"FORD\",\"TOYOTA\",\"OPEL\",\"GMC\",\"JAGUAR\",\"CHEVROLET\",\"FIAT\",\"MERCEDES-BENZ\",\"TOYOTA\",\"FORD\",\"FORD\",\"MERCEDES-BENZ\",\"TOYOTA\",\"VOLKSWAGEN\",\"TOYOTA\",\"HYUNDAI\",\"MERCEDES-BENZ\",\"MERCEDES-BENZ\",\"OPEL\",\"HONDA\",\"TOYOTA\",\"HYUNDAI\",\"HYUNDAI\",\"SUBARU\",\"MERCEDES-BENZ\",\"LEXUS\",\"HYUNDAI\",\"LEXUS\",\"MERCEDES-BENZ\",\"MERCEDES-BENZ\",\"FORD\",\"HYUNDAI\",\"VOLKSWAGEN\",\"HYUNDAI\",\"TOYOTA\",\"HONDA\",\"FORD\",\"FORD\",\"BMW\",\"SSANGYONG\",\"FORD\",\"HYUNDAI\",\"AUDI\",\"LEXUS\",\"TOYOTA\",\"BMW\",\"HYUNDAI\",\"CHEVROLET\",\"HYUNDAI\",\"MERCEDES-BENZ\",\"HYUNDAI\",\"MERCEDES-BENZ\",\"MERCEDES-BENZ\",\"MERCEDES-BENZ\",\"KIA\",\"MERCEDES-BENZ\",\"BMW\",\"HYUNDAI\",\"SSANGYONG\",\"KIA\",\"HYUNDAI\",\"NISSAN\",\"OPEL\",\"LEXUS\",\"TOYOTA\",\"HYUNDAI\",\"VOLKSWAGEN\",\"HONDA\",\"SUBARU\",\"HONDA\",\"HYUNDAI\",\"BMW\",\"LEXUS\",\"CHEVROLET\",\"TOYOTA\",\"MITSUBISHI\",\"MITSUBISHI\",\"HYUNDAI\",\"NISSAN\",\"HYUNDAI\",\"TOYOTA\",\"FORD\",\"MAZDA\",\"HYUNDAI\",\"SUBARU\",\"MAZDA\",\"TOYOTA\",\"FORD\",\"CHEVROLET\",\"NISSAN\",\"BMW\",\"MERCEDES-BENZ\",\"LEXUS\",\"HYUNDAI\",\"HONDA\",\"CHEVROLET\",\"BMW\",\"KIA\",\"HYUNDAI\",\"HYUNDAI\",\"TOYOTA\",\"FORD\",\"JEEP\",\"TOYOTA\",\"HYUNDAI\",\"JAGUAR\",\"KIA\",\"CHEVROLET\",\"CHEVROLET\",\"FORD\",\"TOYOTA\",\"LEXUS\",\"SUBARU\",\"HYUNDAI\",\"TOYOTA\",\"HYUNDAI\",\"OPEL\",\"MERCEDES-BENZ\",\"TOYOTA\",\"MERCEDES-BENZ\",\"JEEP\",\"TOYOTA\",\"TOYOTA\",\"MERCEDES-BENZ\",\"MINI\",\"HYUNDAI\",\"HYUNDAI\",\"HYUNDAI\",\"HYUNDAI\",\"HYUNDAI\",\"CHEVROLET\",\"CHEVROLET\",\"VOLKSWAGEN\",\"HYUNDAI\",\"KIA\",\"KIA\",\"BMW\",\"MERCEDES-BENZ\",\"FORD\",\"BMW\",\"TOYOTA\",\"DAEWOO\",\"HYUNDAI\",\"KIA\",\"MINI\",\"TOYOTA\",\"FORD\",\"VOLKSWAGEN\",\"LEXUS\",\"KIA\",\"BMW\",\"HONDA\",\"TOYOTA\",\"TOYOTA\",\"MERCEDES-BENZ\",\"MERCEDES-BENZ\",\"TOYOTA\",\"HYUNDAI\",\"AUDI\",\"VOLKSWAGEN\",\"HONDA\",\"TOYOTA\",\"TOYOTA\",\"OPEL\",\"VOLKSWAGEN\",\"HYUNDAI\",\"VOLKSWAGEN\",\"TOYOTA\",\"HYUNDAI\",\"MITSUBISHI\",\"TOYOTA\",\"CHEVROLET\",\"MERCEDES-BENZ\",\"KIA\",\"TOYOTA\",\"HYUNDAI\",\"FORD\",\"HONDA\",\"HYUNDAI\",\"MINI\",\"LEXUS\",\"CHEVROLET\",\"HYUNDAI\",\"HYUNDAI\",\"VAZ\",\"MITSUBISHI\",\"CHEVROLET\",\"MERCEDES-BENZ\",\"KIA\",\"NISSAN\",\"LINCOLN\",\"HONDA\",\"HYUNDAI\",\"FORD\",\"HYUNDAI\",\"FORD\",\"LEXUS\",\"MERCEDES-BENZ\",\"MERCEDES-BENZ\",\"MERCEDES-BENZ\",\"NISSAN\",\"TOYOTA\",\"TOYOTA\",\"TOYOTA\",\"CHEVROLET\",\"DAIHATSU\",\"CHEVROLET\",\"TOYOTA\",\"HYUNDAI\",\"MITSUBISHI\",\"OPEL\",\"TOYOTA\",\"SSANGYONG\",\"VAZ\",\"BMW\",\"HYUNDAI\",\"FORD\",\"MERCEDES-BENZ\",\"AUDI\",\"HYUNDAI\",\"HYUNDAI\",\"TOYOTA\",\"HYUNDAI\",\"BMW\",\"BMW\",\"TOYOTA\",\"AUDI\",\"FORD\",\"TOYOTA\",\"BMW\",\"MITSUBISHI\",\"HYUNDAI\",\"TOYOTA\",\"CHEVROLET\",\"HYUNDAI\",\"TOYOTA\",\"KIA\",\"HYUNDAI\",\"HYUNDAI\",\"TOYOTA\",\"TOYOTA\",\"TOYOTA\",\"MERCEDES-BENZ\",\"BMW\",\"OPEL\",\"VAZ\",\"TOYOTA\",\"HYUNDAI\",\"TOYOTA\",\"TOYOTA\",\"LEXUS\",\"TOYOTA\",\"SUZUKI\",\"TOYOTA\",\"CHEVROLET\",\"BMW\",\"HYUNDAI\",\"LEXUS\",\"LEXUS\",\"VOLKSWAGEN\",\"HYUNDAI\",\"TOYOTA\",\"TOYOTA\",\"HYUNDAI\",\"HYUNDAI\",\"LEXUS\",\"HYUNDAI\",\"FORD\",\"HYUNDAI\",\"MERCEDES-BENZ\",\"HYUNDAI\",\"HYUNDAI\",\"HYUNDAI\",\"HYUNDAI\",\"BMW\",\"HYUNDAI\",\"CHEVROLET\",\"TOYOTA\",\"HONDA\",\"CHEVROLET\",\"HONDA\",\"CHEVROLET\",\"BMW\",\"SUBARU\",\"TOYOTA\",\"TOYOTA\",\"BMW\",\"TOYOTA\",\"HONDA\",\"TOYOTA\",\"HYUNDAI\",\"TOYOTA\",\"FORD\",\"NISSAN\",\"MITSUBISHI\",\"BMW\",\"TOYOTA\",\"TOYOTA\",\"FORD\",\"HYUNDAI\",\"MERCEDES-BENZ\",\"MITSUBISHI\",\"VOLKSWAGEN\",\"TOYOTA\",\"LEXUS\",\"HONDA\",\"HONDA\",\"MERCEDES-BENZ\",\"HYUNDAI\",\"VOLKSWAGEN\",\"TOYOTA\",\"HYUNDAI\",\"LEXUS\",\"MERCEDES-BENZ\",\"FORD\",\"HYUNDAI\",\"HYUNDAI\",\"HONDA\",\"CHEVROLET\",\"MERCEDES-BENZ\",\"TOYOTA\",\"HYUNDAI\",\"TOYOTA\",\"CHEVROLET\",\"MERCEDES-BENZ\",\"TOYOTA\",\"LEXUS\",\"TOYOTA\",\"HYUNDAI\",\"DAIHATSU\",\"MITSUBISHI\",\"HYUNDAI\",\"MERCEDES-BENZ\",\"SSANGYONG\",\"OPEL\",\"FORD\",\"CHEVROLET\",\"TOYOTA\",\"TOYOTA\",\"MASERATI\",\"HYUNDAI\",\"HYUNDAI\",\"TOYOTA\",\"HYUNDAI\",\"OPEL\",\"TOYOTA\",\"RENAULT\",\"HYUNDAI\",\"NISSAN\",\"HONDA\",\"TOYOTA\",\"HONDA\",\"BMW\",\"CHEVROLET\",\"CHEVROLET\",\"NISSAN\",\"HYUNDAI\",\"TOYOTA\",\"MERCEDES-BENZ\",\"HYUNDAI\",\"HYUNDAI\",\"KIA\",\"FORD\",\"NISSAN\",\"LEXUS\",\"KIA\",\"MAZDA\",\"MERCEDES-BENZ\",\"LEXUS\",\"MERCEDES-BENZ\",\"HYUNDAI\",\"BMW\",\"TOYOTA\",\"VOLKSWAGEN\",\"HONDA\",\"HYUNDAI\",\"LEXUS\",\"TOYOTA\",\"CHEVROLET\",\"MERCEDES-BENZ\",\"BMW\",\"TOYOTA\",\"LEXUS\",\"HONDA\",\"HONDA\",\"FORD\",\"SSANGYONG\",\"VOLKSWAGEN\",\"VOLKSWAGEN\",\"LEXUS\",\"SUBARU\",\"TOYOTA\",\"TOYOTA\",\"HYUNDAI\",\"HONDA\",\"FORD\",\"CHEVROLET\",\"HYUNDAI\",\"HONDA\",\"TOYOTA\",\"LEXUS\",\"HYUNDAI\",\"BUICK\",\"LEXUS\",\"FORD\",\"HYUNDAI\",\"MERCEDES-BENZ\",\"TOYOTA\",\"HONDA\",\"MERCEDES-BENZ\",\"BMW\",\"HYUNDAI\",\"KIA\",\"AUDI\",\"TOYOTA\",\"TOYOTA\",\"TOYOTA\",\"TOYOTA\",\"MERCEDES-BENZ\",\"OPEL\",\"TOYOTA\",\"HYUNDAI\",\"SUBARU\",\"HYUNDAI\",\"HYUNDAI\",\"TOYOTA\",\"FORD\",\"HYUNDAI\",\"KIA\",\"FORD\",\"HYUNDAI\",\"TOYOTA\",\"MAZDA\",\"TOYOTA\",\"BMW\",\"MERCEDES-BENZ\",\"AUDI\",\"LEXUS\",\"OPEL\",\"CHEVROLET\",\"SSANGYONG\",\"KIA\",\"MERCEDES-BENZ\",\"HYUNDAI\",\"AUDI\",\"CHEVROLET\",\"SUZUKI\",\"PORSCHE\",\"HONDA\",\"HONDA\",\"MAZDA\",\"TOYOTA\",\"NISSAN\",\"HYUNDAI\",\"HYUNDAI\",\"HYUNDAI\",\"TOYOTA\",\"OPEL\",\"LEXUS\",\"TOYOTA\",\"HYUNDAI\",\"CHEVROLET\",\"HONDA\",\"LEXUS\",\"TOYOTA\",\"HYUNDAI\",\"OPEL\",\"VOLKSWAGEN\",\"MERCEDES-BENZ\",\"MERCEDES-BENZ\",\"HYUNDAI\",\"BMW\",\"FORD\",\"TOYOTA\",\"FORD\",\"OPEL\",\"AUDI\",\"TOYOTA\",\"HYUNDAI\",\"KIA\",\"LEXUS\",\"MERCEDES-BENZ\",\"OPEL\",\"HYUNDAI\",\"HYUNDAI\",\"HYUNDAI\",\"TOYOTA\",\"SUBARU\",\"LEXUS\",\"TOYOTA\",\"HYUNDAI\",\"HYUNDAI\",\"OPEL\",\"CHEVROLET\",\"HYUNDAI\",\"TOYOTA\",\"TOYOTA\",\"CHEVROLET\",\"HYUNDAI\",\"FORD\",\"TOYOTA\",\"VOLKSWAGEN\",\"JEEP\",\"TOYOTA\",\"HYUNDAI\",\"TOYOTA\",\"LEXUS\",\"TOYOTA\",\"LEXUS\",\"KIA\",\"NISSAN\",\"HYUNDAI\",\"FIAT\",\"TOYOTA\",\"KIA\",\"HYUNDAI\",\"FIAT\",\"TOYOTA\",\"NISSAN\",\"TOYOTA\",\"CHEVROLET\",\"HYUNDAI\",\"MERCEDES-BENZ\",\"HYUNDAI\",\"HYUNDAI\",\"MERCEDES-BENZ\",\"FORD\",\"HYUNDAI\",\"AUDI\",\"TOYOTA\",\"BMW\",\"FORD\",\"HYUNDAI\",\"MERCEDES-BENZ\",\"VOLVO\",\"MERCEDES-BENZ\",\"TOYOTA\",\"MERCEDES-BENZ\",\"HYUNDAI\",\"MERCEDES-BENZ\",\"TOYOTA\",\"HYUNDAI\",\"HONDA\",\"TOYOTA\",\"HONDA\",\"MERCEDES-BENZ\",\"BMW\",\"TOYOTA\",\"HYUNDAI\",\"HYUNDAI\",\"MERCEDES-BENZ\",\"MAZDA\",\"HONDA\",\"HYUNDAI\",\"FIAT\",\"TOYOTA\",\"MERCEDES-BENZ\",\"TOYOTA\",\"VOLKSWAGEN\",\"TOYOTA\",\"CHEVROLET\",\"HYUNDAI\",\"TOYOTA\",\"GAZ\",\"HYUNDAI\",\"BMW\",\"TOYOTA\",\"HYUNDAI\",\"LEXUS\",\"CHEVROLET\",\"TOYOTA\",\"LEXUS\",\"MITSUBISHI\",\"HYUNDAI\",\"HYUNDAI\",\"FORD\",\"CHEVROLET\",\"MERCEDES-BENZ\",\"KIA\",\"MERCEDES-BENZ\",\"BMW\",\"SSANGYONG\",\"TOYOTA\",\"TOYOTA\",\"HYUNDAI\",\"BMW\",\"SSANGYONG\",\"HYUNDAI\",\"FORD\",\"BMW\",\"TOYOTA\",\"HYUNDAI\",\"HYUNDAI\",\"MERCEDES-BENZ\",\"HYUNDAI\",\"SSANGYONG\",\"HYUNDAI\",\"CHEVROLET\",\"BMW\",\"FORD\",\"TOYOTA\",\"HONDA\",\"TOYOTA\",\"HYUNDAI\",\"JEEP\",\"HYUNDAI\",\"DAEWOO\",\"TOYOTA\",\"VOLKSWAGEN\",\"OPEL\",\"BMW\",\"BMW\",\"CHEVROLET\",\"HYUNDAI\",\"NISSAN\",\"MERCEDES-BENZ\",\"OPEL\",\"KIA\",\"HYUNDAI\",\"HYUNDAI\",\"HYUNDAI\",\"SSANGYONG\",\"HYUNDAI\",\"FORD\",\"BMW\",\"TOYOTA\",\"HYUNDAI\",\"FORD\",\"NISSAN\",\"HONDA\",\"MERCEDES-BENZ\",\"HYUNDAI\",\"NISSAN\",\"HYUNDAI\",\"MITSUBISHI\",\"MERCEDES-BENZ\",\"LEXUS\",\"MERCEDES-BENZ\",\"LEXUS\",\"CHEVROLET\",\"VOLKSWAGEN\",\"MERCEDES-BENZ\",\"SUBARU\",\"MERCEDES-BENZ\",\"MERCEDES-BENZ\",\"HYUNDAI\",\"CHEVROLET\",\"HYUNDAI\",\"HYUNDAI\",\"LEXUS\",\"MERCEDES-BENZ\",\"BMW\",\"HYUNDAI\",\"KIA\",\"RENAULT\",\"VOLKSWAGEN\",\"CHEVROLET\",\"TOYOTA\",\"CHEVROLET\",\"KIA\",\"HONDA\",\"FORD\",\"TOYOTA\",\"VOLKSWAGEN\",\"HYUNDAI\",\"LEXUS\",\"TOYOTA\",\"BMW\",\"TOYOTA\",\"NISSAN\",\"SUBARU\",\"BMW\",\"RENAULT\",\"BMW\",\"SUBARU\",\"MERCEDES-BENZ\",\"LEXUS\",\"HYUNDAI\",\"TOYOTA\",\"HYUNDAI\",\"MERCEDES-BENZ\",\"HYUNDAI\",\"TOYOTA\",\"HYUNDAI\",\"HYUNDAI\",\"CHEVROLET\",\"MERCEDES-BENZ\",\"HYUNDAI\",\"TOYOTA\",\"NISSAN\",\"FORD\",\"VOLKSWAGEN\",\"TOYOTA\",\"CHEVROLET\",\"FORD\",\"HYUNDAI\",\"LEXUS\",\"TOYOTA\",\"BMW\",\"VOLKSWAGEN\",\"HYUNDAI\",\"HYUNDAI\",\"HYUNDAI\",\"TOYOTA\",\"FORD\",\"MERCEDES-BENZ\",\"MERCEDES-BENZ\",\"HYUNDAI\",\"MERCEDES-BENZ\",\"NISSAN\",\"TOYOTA\",\"TOYOTA\",\"TOYOTA\",\"HYUNDAI\",\"TOYOTA\",\"LEXUS\",\"MERCEDES-BENZ\",\"MERCEDES-BENZ\",\"MERCEDES-BENZ\",\"MERCEDES-BENZ\",\"CHEVROLET\",\"CHEVROLET\",\"HYUNDAI\",\"BMW\",\"MERCEDES-BENZ\",\"HYUNDAI\",\"MERCEDES-BENZ\",\"MERCEDES-BENZ\",\"MERCEDES-BENZ\",\"MERCEDES-BENZ\",\"SCION\",\"NISSAN\",\"AUDI\",\"CHEVROLET\",\"TOYOTA\",\"VOLKSWAGEN\",\"MERCEDES-BENZ\",\"HYUNDAI\",\"HYUNDAI\",\"TOYOTA\",\"MITSUBISHI\",\"NISSAN\",\"TOYOTA\",\"BMW\",\"VOLKSWAGEN\",\"VOLKSWAGEN\",\"BMW\",\"SSANGYONG\",\"LEXUS\",\"HYUNDAI\",\"HYUNDAI\",\"OPEL\",\"KIA\",\"BMW\",\"HYUNDAI\",\"TOYOTA\",\"HYUNDAI\",\"LEXUS\",\"HYUNDAI\",\"MERCEDES-BENZ\",\"TOYOTA\",\"MERCEDES-BENZ\",\"HYUNDAI\",\"CHEVROLET\",\"VOLKSWAGEN\",\"TOYOTA\",\"TOYOTA\",\"NISSAN\",\"HYUNDAI\",\"LEXUS\",\"FORD\",\"VOLKSWAGEN\",\"HYUNDAI\",\"HYUNDAI\",\"MERCEDES-BENZ\",\"FORD\",\"CHEVROLET\",\"DODGE\",\"HONDA\",\"HYUNDAI\",\"MERCEDES-BENZ\",\"TOYOTA\",\"TOYOTA\",\"TOYOTA\",\"FORD\",\"TOYOTA\",\"MERCEDES-BENZ\",\"AUDI\",\"TOYOTA\",\"HYUNDAI\",\"VOLKSWAGEN\",\"MERCEDES-BENZ\",\"TOYOTA\",\"TOYOTA\",\"TOYOTA\",\"MERCEDES-BENZ\",\"MERCEDES-BENZ\",\"HYUNDAI\",\"CHEVROLET\",\"LEXUS\",\"LEXUS\",\"AUDI\",\"MERCEDES-BENZ\",\"FORD\",\"BMW\",\"MERCEDES-BENZ\",\"TOYOTA\",\"NISSAN\",\"SUBARU\",\"CHEVROLET\",\"LEXUS\",\"AUDI\",\"HYUNDAI\",\"OPEL\",\"UAZ\",\"MERCEDES-BENZ\",\"KIA\",\"TOYOTA\",\"LEXUS\",\"FORD\",\"HYUNDAI\",\"HYUNDAI\",\"BMW\",\"TOYOTA\",\"MERCEDES-BENZ\",\"HYUNDAI\",\"MERCEDES-BENZ\",\"HYUNDAI\",\"KIA\",\"TOYOTA\",\"TOYOTA\",\"HONDA\",\"LEXUS\",\"FIAT\",\"MAZDA\",\"TOYOTA\",\"BMW\",\"BMW\",\"MERCEDES-BENZ\",\"MERCEDES-BENZ\",\"TOYOTA\",\"HYUNDAI\",\"BMW\",\"TOYOTA\",\"TOYOTA\",\"KIA\",\"SUBARU\",\"MERCEDES-BENZ\",\"KIA\",\"KIA\",\"BMW\",\"SUBARU\",\"NISSAN\",\"MITSUBISHI\",\"HYUNDAI\",\"VOLKSWAGEN\",\"HYUNDAI\",\"SSANGYONG\",\"MINI\",\"HYUNDAI\",\"HONDA\",\"TOYOTA\",\"CHEVROLET\",\"HYUNDAI\",\"KIA\",\"HYUNDAI\",\"HYUNDAI\",\"MERCEDES-BENZ\",\"MERCEDES-BENZ\",\"OPEL\",\"BMW\",\"BMW\",\"MERCEDES-BENZ\",\"TOYOTA\",\"TOYOTA\",\"HYUNDAI\",\"HYUNDAI\",\"AUDI\",\"LEXUS\",\"TOYOTA\",\"LEXUS\",\"TOYOTA\",\"HYUNDAI\",\"CHRYSLER\",\"MAZDA\",\"TOYOTA\",\"HYUNDAI\",\"MERCEDES-BENZ\",\"OPEL\",\"LEXUS\",\"FIAT\",\"NISSAN\",\"FORD\",\"HYUNDAI\",\"HONDA\",\"KIA\",\"MITSUBISHI\",\"TOYOTA\",\"NISSAN\",\"MERCEDES-BENZ\",\"BMW\",\"MERCEDES-BENZ\",\"LEXUS\",\"HONDA\",\"HONDA\",\"MERCEDES-BENZ\",\"HYUNDAI\",\"MITSUBISHI\",\"CHEVROLET\",\"TOYOTA\",\"HONDA\",\"HYUNDAI\",\"SSANGYONG\",\"MITSUBISHI\",\"HYUNDAI\",\"MITSUBISHI\",\"KIA\",\"BMW\",\"TOYOTA\",\"SSANGYONG\",\"KIA\",\"MERCEDES-BENZ\",\"MERCEDES-BENZ\",\"HYUNDAI\",\"TOYOTA\",\"TOYOTA\",\"TOYOTA\",\"TOYOTA\",\"TOYOTA\",\"MERCEDES-BENZ\",\"TOYOTA\",\"MERCEDES-BENZ\",\"FORD\",\"TOYOTA\",\"HYUNDAI\",\"AUDI\",\"VOLKSWAGEN\",\"VOLKSWAGEN\",\"HYUNDAI\",\"MERCEDES-BENZ\",\"NISSAN\",\"MITSUBISHI\",\"AUDI\",\"TOYOTA\",\"CHEVROLET\",\"FORD\",\"MITSUBISHI\",\"HYUNDAI\",\"HYUNDAI\",\"HYUNDAI\",\"HYUNDAI\",\"BMW\",\"TOYOTA\",\"TOYOTA\",\"KIA\",\"NISSAN\",\"SUBARU\",\"BMW\",\"KIA\",\"HYUNDAI\",\"TOYOTA\",\"OPEL\",\"HYUNDAI\",\"HYUNDAI\",\"HYUNDAI\",\"MITSUBISHI\",\"TOYOTA\",\"TOYOTA\",\"FORD\",\"VOLKSWAGEN\",\"HYUNDAI\",\"HONDA\",\"HYUNDAI\",\"CHEVROLET\",\"JAGUAR\",\"HYUNDAI\",\"HYUNDAI\",\"HYUNDAI\",\"JEEP\",\"CHEVROLET\",\"KIA\",\"TOYOTA\",\"TOYOTA\",\"AUDI\",\"VOLKSWAGEN\",\"CHEVROLET\",\"CHEVROLET\",\"CHEVROLET\",\"HYUNDAI\",\"CHEVROLET\",\"NISSAN\",\"TOYOTA\",\"SSANGYONG\",\"HYUNDAI\",\"TOYOTA\",\"MERCEDES-BENZ\",\"HYUNDAI\",\"TOYOTA\",\"HONDA\",\"CHEVROLET\",\"CHEVROLET\",\"HYUNDAI\",\"MITSUBISHI\",\"TOYOTA\",\"MERCEDES-BENZ\",\"CHEVROLET\",\"FORD\",\"CHEVROLET\",\"CHEVROLET\",\"HYUNDAI\",\"LEXUS\",\"BMW\",\"KIA\",\"HONDA\",\"OPEL\",\"KIA\",\"JEEP\",\"HYUNDAI\",\"TOYOTA\",\"TOYOTA\",\"HYUNDAI\",\"LEXUS\",\"CHEVROLET\",\"TOYOTA\",\"SSANGYONG\",\"HYUNDAI\",\"OPEL\",\"VOLKSWAGEN\",\"MERCEDES-BENZ\",\"HYUNDAI\",\"CHEVROLET\",\"LEXUS\",\"OPEL\",\"BMW\",\"LEXUS\",\"TOYOTA\",\"HYUNDAI\",\"MITSUBISHI\",\"HONDA\",\"CHEVROLET\",\"KIA\",\"TOYOTA\",\"OPEL\",\"VOLKSWAGEN\",\"MERCEDES-BENZ\",\"NISSAN\",\"BMW\",\"HYUNDAI\",\"TOYOTA\",\"TOYOTA\",\"HONDA\",\"MITSUBISHI\",\"TOYOTA\",\"BMW\",\"MERCEDES-BENZ\",\"MERCEDES-BENZ\",\"BMW\",\"OPEL\",\"LEXUS\",\"MERCEDES-BENZ\",\"HYUNDAI\",\"TOYOTA\",\"KIA\",\"FORD\",\"FORD\",\"HYUNDAI\",\"HYUNDAI\",\"TOYOTA\",\"SUBARU\",\"TOYOTA\",\"MERCEDES-BENZ\",\"DAEWOO\",\"TOYOTA\",\"HONDA\",\"TOYOTA\",\"CHEVROLET\",\"TOYOTA\",\"VOLKSWAGEN\",\"HYUNDAI\",\"MERCEDES-BENZ\",\"TOYOTA\",\"NISSAN\",\"FORD\",\"VOLKSWAGEN\",\"CHEVROLET\",\"LEXUS\",\"MERCEDES-BENZ\",\"VOLVO\",\"TOYOTA\",\"CHEVROLET\",\"LEXUS\",\"LEXUS\",\"HYUNDAI\",\"FORD\",\"HYUNDAI\",\"MERCEDES-BENZ\",\"LEXUS\",\"TOYOTA\",\"MERCEDES-BENZ\",\"HYUNDAI\",\"BMW\",\"TOYOTA\",\"MERCEDES-BENZ\",\"HYUNDAI\",\"TOYOTA\",\"TOYOTA\",\"JEEP\",\"HYUNDAI\",\"OPEL\",\"HYUNDAI\",\"CHEVROLET\",\"TOYOTA\",\"JEEP\",\"HYUNDAI\",\"MERCEDES-BENZ\",\"HYUNDAI\",\"BMW\",\"FORD\",\"HONDA\",\"VOLKSWAGEN\",\"HYUNDAI\",\"HYUNDAI\",\"BMW\",\"HYUNDAI\",\"HYUNDAI\",\"BMW\",\"BMW\",\"HYUNDAI\",\"HONDA\",\"TOYOTA\",\"TOYOTA\",\"TOYOTA\",\"CHEVROLET\",\"SSANGYONG\",\"AUDI\",\"LEXUS\",\"FORD\",\"LEXUS\",\"HYUNDAI\",\"TOYOTA\",\"TOYOTA\",\"JEEP\",\"FORD\",\"HYUNDAI\",\"HONDA\",\"VOLKSWAGEN\",\"HYUNDAI\",\"LEXUS\",\"TOYOTA\",\"SSANGYONG\",\"SSANGYONG\",\"CHEVROLET\",\"TOYOTA\",\"HUMMER\",\"MERCEDES-BENZ\",\"TOYOTA\",\"TOYOTA\",\"HYUNDAI\",\"CHEVROLET\",\"BMW\",\"LEXUS\",\"MERCEDES-BENZ\",\"HONDA\",\"TOYOTA\",\"MERCEDES-BENZ\",\"FORD\",\"CHEVROLET\",\"TOYOTA\",\"HYUNDAI\",\"HYUNDAI\",\"HYUNDAI\",\"TOYOTA\",\"HYUNDAI\",\"MERCEDES-BENZ\",\"NISSAN\",\"OPEL\",\"TOYOTA\",\"TOYOTA\",\"MERCEDES-BENZ\",\"HYUNDAI\",\"TOYOTA\",\"HYUNDAI\",\"VOLKSWAGEN\",\"HYUNDAI\",\"TOYOTA\",\"JEEP\",\"MERCEDES-BENZ\",\"TOYOTA\",\"MITSUBISHI\",\"TOYOTA\",\"FORD\",\"VOLKSWAGEN\",\"DAEWOO\",\"TOYOTA\",\"HYUNDAI\",\"HYUNDAI\",\"HONDA\",\"LEXUS\",\"VOLKSWAGEN\",\"HONDA\",\"VOLKSWAGEN\",\"TOYOTA\",\"HYUNDAI\",\"BMW\",\"BMW\",\"MERCEDES-BENZ\",\"TOYOTA\",\"HYUNDAI\",\"HYUNDAI\",\"PEUGEOT\",\"HYUNDAI\",\"FORD\",\"HONDA\",\"LEXUS\",\"OPEL\",\"NISSAN\",\"MERCEDES-BENZ\",\"LEXUS\",\"MERCEDES-BENZ\",\"HONDA\",\"MERCEDES-BENZ\",\"DAEWOO\",\"LEXUS\",\"SSANGYONG\",\"TOYOTA\",\"VOLKSWAGEN\",\"LEXUS\",\"TOYOTA\",\"TOYOTA\",\"MERCEDES-BENZ\",\"OPEL\",\"HONDA\",\"HYUNDAI\",\"LEXUS\",\"HYUNDAI\",\"MERCEDES-BENZ\",\"MERCEDES-BENZ\",\"BMW\",\"SUBARU\",\"KIA\",\"HONDA\",\"TOYOTA\",\"TOYOTA\",\"HYUNDAI\",\"TOYOTA\",\"BMW\",\"MAZDA\",\"CHEVROLET\",\"LEXUS\",\"MITSUBISHI\",\"MERCEDES-BENZ\",\"NISSAN\",\"LEXUS\",\"CHEVROLET\",\"TOYOTA\",\"CHEVROLET\",\"HYUNDAI\",\"TOYOTA\",\"SUBARU\",\"HYUNDAI\",\"HYUNDAI\",\"HYUNDAI\",\"MAZDA\",\"MITSUBISHI\",\"VOLKSWAGEN\",\"HYUNDAI\",\"LEXUS\",\"BMW\",\"TOYOTA\",\"TOYOTA\",\"AUDI\",\"JAGUAR\",\"TOYOTA\",\"HYUNDAI\",\"BMW\",\"LEXUS\",\"CHEVROLET\",\"HYUNDAI\",\"VOLKSWAGEN\",\"CHEVROLET\",\"MERCEDES-BENZ\",\"BMW\",\"VOLKSWAGEN\",\"FORD\",\"SSANGYONG\",\"DODGE\",\"CHEVROLET\",\"TOYOTA\",\"FORD\",\"HYUNDAI\",\"TOYOTA\",\"BMW\",\"TOYOTA\",\"MERCEDES-BENZ\",\"DODGE\",\"HYUNDAI\",\"CHEVROLET\",\"HYUNDAI\",\"BMW\",\"MITSUBISHI\",\"HYUNDAI\",\"HYUNDAI\",\"MERCEDES-BENZ\",\"TOYOTA\",\"BMW\",\"HYUNDAI\",\"GREATWALL\",\"HONDA\",\"TOYOTA\",\"TOYOTA\",\"TOYOTA\",\"SUBARU\",\"HYUNDAI\",\"MERCEDES-BENZ\",\"TOYOTA\",\"MITSUBISHI\",\"JEEP\",\"MERCEDES-BENZ\",\"LEXUS\",\"HYUNDAI\",\"TOYOTA\",\"TOYOTA\",\"HYUNDAI\",\"LEXUS\",\"OPEL\",\"MERCEDES-BENZ\",\"BMW\",\"HYUNDAI\",\"MERCEDES-BENZ\",\"HYUNDAI\",\"FORD\",\"FORD\",\"HYUNDAI\",\"OPEL\",\"FORD\",\"MITSUBISHI\",\"VOLKSWAGEN\",\"SSANGYONG\",\"NISSAN\",\"TOYOTA\",\"LEXUS\",\"HYUNDAI\",\"HYUNDAI\",\"MERCEDES-BENZ\",\"MERCEDES-BENZ\",\"OPEL\",\"HYUNDAI\",\"HONDA\",\"HONDA\",\"HYUNDAI\",\"VOLKSWAGEN\",\"TOYOTA\",\"KIA\",\"HYUNDAI\",\"MERCEDES-BENZ\",\"HYUNDAI\",\"HYUNDAI\",\"SSANGYONG\",\"MERCEDES-BENZ\",\"DAIHATSU\",\"DAEWOO\",\"MERCEDES-BENZ\",\"MERCEDES-BENZ\",\"HYUNDAI\",\"CHEVROLET\",\"HYUNDAI\",\"SUBARU\",\"SUBARU\",\"KIA\",\"MERCEDES-BENZ\",\"TOYOTA\",\"MERCEDES-BENZ\",\"TOYOTA\",\"HYUNDAI\",\"SSANGYONG\",\"VOLKSWAGEN\",\"HYUNDAI\",\"TOYOTA\",\"LEXUS\",\"FORD\",\"LEXUS\",\"AUDI\",\"CHEVROLET\",\"MERCEDES-BENZ\",\"HONDA\",\"VOLVO\",\"HYUNDAI\",\"HYUNDAI\",\"BMW\",\"VAZ\",\"HYUNDAI\",\"DAEWOO\",\"VOLKSWAGEN\",\"HYUNDAI\",\"TOYOTA\",\"TOYOTA\",\"HYUNDAI\",\"MERCEDES-BENZ\",\"VOLKSWAGEN\",\"LEXUS\",\"MERCEDES-BENZ\",\"LEXUS\",\"LEXUS\",\"CHEVROLET\",\"MERCEDES-BENZ\",\"OPEL\",\"TOYOTA\",\"MERCEDES-BENZ\",\"LEXUS\",\"HYUNDAI\",\"HYUNDAI\",\"TOYOTA\",\"LEXUS\",\"BMW\",\"HONDA\",\"MERCEDES-BENZ\",\"TOYOTA\",\"MERCEDES-BENZ\",\"HYUNDAI\",\"TOYOTA\",\"VOLKSWAGEN\",\"HYUNDAI\",\"TOYOTA\",\"TOYOTA\",\"TOYOTA\",\"HONDA\",\"VOLKSWAGEN\",\"TOYOTA\",\"TOYOTA\",\"JAGUAR\",\"BMW\",\"PORSCHE\",\"BMW\",\"MERCEDES-BENZ\",\"MERCEDES-BENZ\",\"MERCEDES-BENZ\",\"HONDA\",\"NISSAN\",\"HYUNDAI\",\"HYUNDAI\",\"VOLKSWAGEN\",\"MERCEDES-BENZ\",\"LEXUS\",\"HYUNDAI\",\"MERCEDES-BENZ\",\"FORD\",\"HYUNDAI\",\"LEXUS\",\"AUDI\",\"AUDI\",\"HYUNDAI\",\"MERCEDES-BENZ\",\"TOYOTA\",\"VOLKSWAGEN\",\"SUBARU\",\"VAZ\",\"FIAT\",\"MERCEDES-BENZ\",\"MERCEDES-BENZ\",\"NISSAN\",\"TOYOTA\",\"HONDA\",\"BMW\",\"HYUNDAI\",\"HYUNDAI\",\"HYUNDAI\",\"SSANGYONG\",\"TOYOTA\",\"BMW\",\"VOLKSWAGEN\",\"OPEL\",\"AUDI\",\"VOLKSWAGEN\",\"MAZDA\",\"KIA\",\"TOYOTA\",\"MINI\",\"MERCEDES-BENZ\",\"CHEVROLET\",\"MERCEDES-BENZ\",\"TOYOTA\",\"MITSUBISHI\",\"CHEVROLET\",\"BMW\",\"HONDA\",\"HUMMER\",\"NISSAN\",\"CHEVROLET\",\"LEXUS\",\"CHEVROLET\",\"TOYOTA\",\"SUBARU\",\"TOYOTA\",\"HYUNDAI\",\"TOYOTA\",\"HYUNDAI\",\"LEXUS\",\"HYUNDAI\",\"HYUNDAI\",\"LEXUS\",\"VOLKSWAGEN\",\"HYUNDAI\",\"TOYOTA\",\"OPEL\",\"HYUNDAI\",\"HYUNDAI\",\"MERCEDES-BENZ\",\"HYUNDAI\",\"TOYOTA\",\"MERCEDES-BENZ\",\"MERCEDES-BENZ\",\"FORD\",\"HYUNDAI\",\"MERCEDES-BENZ\",\"TOYOTA\",\"LEXUS\",\"HYUNDAI\",\"TOYOTA\",\"MERCEDES-BENZ\",\"TOYOTA\",\"SSANGYONG\",\"KIA\",\"LEXUS\",\"MERCEDES-BENZ\",\"TOYOTA\",\"TOYOTA\",\"HYUNDAI\",\"DAEWOO\",\"FORD\",\"NISSAN\",\"TOYOTA\",\"FORD\",\"CHEVROLET\",\"TOYOTA\",\"SUZUKI\",\"LEXUS\",\"HYUNDAI\",\"FORD\",\"HONDA\",\"HYUNDAI\",\"LEXUS\",\"HYUNDAI\",\"LEXUS\",\"HYUNDAI\",\"BMW\",\"HONDA\",\"HYUNDAI\",\"HONDA\",\"KIA\",\"LEXUS\",\"TOYOTA\",\"HYUNDAI\",\"BMW\",\"SUZUKI\",\"CHEVROLET\",\"TOYOTA\",\"HYUNDAI\",\"BMW\",\"CHEVROLET\",\"TOYOTA\",\"MERCEDES-BENZ\",\"HONDA\",\"OPEL\",\"GAZ\",\"HYUNDAI\",\"BMW\",\"FORD\",\"TOYOTA\",\"TOYOTA\",\"TOYOTA\",\"MERCEDES-BENZ\",\"HYUNDAI\",\"SUBARU\",\"CHEVROLET\",\"MINI\",\"HONDA\",\"HYUNDAI\",\"TOYOTA\",\"HYUNDAI\",\"HYUNDAI\",\"INFINITI\",\"FORD\",\"HYUNDAI\",\"BMW\",\"TOYOTA\",\"TOYOTA\",\"BMW\",\"TOYOTA\",\"MERCEDES-BENZ\",\"OPEL\",\"HYUNDAI\",\"HYUNDAI\",\"DAEWOO\",\"TOYOTA\",\"AUDI\",\"LEXUS\",\"FORD\",\"SSANGYONG\",\"HYUNDAI\",\"HYUNDAI\",\"MERCEDES-BENZ\",\"LEXUS\",\"HYUNDAI\",\"MERCEDES-BENZ\",\"CHEVROLET\",\"TOYOTA\",\"BMW\",\"HYUNDAI\",\"HYUNDAI\",\"PEUGEOT\",\"HONDA\",\"MAZDA\",\"TOYOTA\",\"MERCEDES-BENZ\",\"TOYOTA\",\"FORD\",\"TOYOTA\",\"BMW\",\"LAND ROVER\",\"HYUNDAI\",\"AUDI\",\"TOYOTA\",\"OPEL\",\"HYUNDAI\",\"NISSAN\",\"KIA\",\"HYUNDAI\",\"SUBARU\",\"MERCEDES-BENZ\",\"HYUNDAI\",\"LEXUS\",\"CHEVROLET\",\"MINI\",\"HYUNDAI\",\"TOYOTA\",\"TOYOTA\",\"BMW\",\"LEXUS\",\"NISSAN\",\"TOYOTA\",\"MERCEDES-BENZ\",\"SUBARU\",\"CHEVROLET\",\"NISSAN\",\"HYUNDAI\",\"SSANGYONG\",\"HYUNDAI\",\"CHEVROLET\",\"SUBARU\",\"HONDA\",\"MERCEDES-BENZ\",\"HYUNDAI\",\"OPEL\",\"TOYOTA\",\"HYUNDAI\",\"LEXUS\",\"HYUNDAI\",\"CHEVROLET\",\"CHEVROLET\",\"HYUNDAI\",\"HYUNDAI\",\"DAEWOO\",\"NISSAN\",\"TOYOTA\",\"HYUNDAI\",\"LEXUS\",\"CHEVROLET\",\"VOLKSWAGEN\",\"HONDA\",\"NISSAN\",\"HYUNDAI\",\"FORD\",\"HYUNDAI\",\"FORD\",\"SUBARU\",\"HONDA\",\"FIAT\",\"KIA\",\"BMW\",\"MERCEDES-BENZ\",\"TOYOTA\",\"LEXUS\",\"HONDA\",\"TOYOTA\",\"TOYOTA\",\"HYUNDAI\",\"FORD\",\"FORD\",\"TOYOTA\",\"FIAT\",\"MERCEDES-BENZ\",\"HYUNDAI\",\"TOYOTA\",\"BMW\",\"MERCEDES-BENZ\",\"JEEP\",\"HYUNDAI\",\"HONDA\",\"VOLKSWAGEN\",\"HYUNDAI\",\"HYUNDAI\",\"BMW\",\"TOYOTA\",\"TOYOTA\",\"TOYOTA\",\"BMW\",\"CHEVROLET\",\"BMW\",\"TOYOTA\",\"TOYOTA\",\"BMW\",\"LEXUS\",\"SCION\",\"MITSUBISHI\",\"FORD\",\"HONDA\",\"HYUNDAI\",\"TOYOTA\",\"TOYOTA\",\"MERCEDES-BENZ\",\"MERCEDES-BENZ\",\"LEXUS\",\"KIA\",\"TOYOTA\",\"HYUNDAI\",\"TOYOTA\",\"TOYOTA\",\"TOYOTA\",\"TOYOTA\",\"HYUNDAI\",\"HYUNDAI\",\"HYUNDAI\",\"DAEWOO\",\"TOYOTA\",\"TOYOTA\",\"HYUNDAI\",\"TOYOTA\",\"LEXUS\",\"NISSAN\",\"TOYOTA\",\"MITSUBISHI\",\"VOLKSWAGEN\",\"HYUNDAI\",\"DODGE\",\"KIA\",\"OPEL\",\"NISSAN\",\"MERCEDES-BENZ\",\"MERCEDES-BENZ\",\"TOYOTA\",\"TOYOTA\",\"MERCEDES-BENZ\",\"MERCEDES-BENZ\",\"HYUNDAI\",\"HYUNDAI\",\"CHEVROLET\",\"HYUNDAI\"],\"xaxis\":\"x\",\"y\":[1,1,1,1,1,1,1,1,1,1,1,1,1,1,1,1,1,1,1,1,1,1,1,1,1,1,1,1,1,1,1,1,1,1,1,1,1,1,1,1,1,1,1,1,1,1,1,1,1,1,1,1,1,1,1,1,1,1,1,1,1,1,1,1,1,1,1,1,1,1,1,1,1,1,1,1,1,1,1,1,1,1,1,1,1,1,1,1,1,1,1,1,1,1,1,1,1,1,1,1,1,1,1,1,1,1,1,1,1,1,1,1,1,1,1,1,1,1,1,1,1,1,1,1,1,1,1,1,1,1,1,1,1,1,1,1,1,1,1,1,1,1,1,1,1,1,1,1,1,1,1,1,1,1,1,1,1,1,1,1,1,1,1,1,1,1,1,1,1,1,1,1,1,1,1,1,1,1,1,1,1,1,1,1,1,1,1,1,1,1,1,1,1,1,1,1,1,1,1,1,1,1,1,1,1,1,1,1,1,1,1,1,1,1,1,1,1,1,1,1,1,1,1,1,1,1,1,1,1,1,1,1,1,1,1,1,1,1,1,1,1,1,1,1,1,1,1,1,1,1,1,1,1,1,1,1,1,1,1,1,1,1,1,1,1,1,1,1,1,1,1,1,1,1,1,1,1,1,1,1,1,1,1,1,1,1,1,1,1,1,1,1,1,1,1,1,1,1,1,1,1,1,1,1,1,1,1,1,1,1,1,1,1,1,1,1,1,1,1,1,1,1,1,1,1,1,1,1,1,1,1,1,1,1,1,1,1,1,1,1,1,1,1,1,1,1,1,1,1,1,1,1,1,1,1,1,1,1,1,1,1,1,1,1,1,1,1,1,1,1,1,1,1,1,1,1,1,1,1,1,1,1,1,1,1,1,1,1,1,1,1,1,1,1,1,1,1,1,1,1,1,1,1,1,1,1,1,1,1,1,1,1,1,1,1,1,1,1,1,1,1,1,1,1,1,1,1,1,1,1,1,1,1,1,1,1,1,1,1,1,1,1,1,1,1,1,1,1,1,1,1,1,1,1,1,1,1,1,1,1,1,1,1,1,1,1,1,1,1,1,1,1,1,1,1,1,1,1,1,1,1,1,1,1,1,1,1,1,1,1,1,1,1,1,1,1,1,1,1,1,1,1,1,1,1,1,1,1,1,1,1,1,1,1,1,1,1,1,1,1,1,1,1,1,1,1,1,1,1,1,1,1,1,1,1,1,1,1,1,1,1,1,1,1,1,1,1,1,1,1,1,1,1,1,1,1,1,1,1,1,1,1,1,1,1,1,1,1,1,1,1,1,1,1,1,1,1,1,1,1,1,1,1,1,1,1,1,1,1,1,1,1,1,1,1,1,1,1,1,1,1,1,1,1,1,1,1,1,1,1,1,1,1,1,1,1,1,1,1,1,1,1,1,1,1,1,1,1,1,1,1,1,1,1,1,1,1,1,1,1,1,1,1,1,1,1,1,1,1,1,1,1,1,1,1,1,1,1,1,1,1,1,1,1,1,1,1,1,1,1,1,1,1,1,1,1,1,1,1,1,1,1,1,1,1,1,1,1,1,1,1,1,1,1,1,1,1,1,1,1,1,1,1,1,1,1,1,1,1,1,1,1,1,1,1,1,1,1,1,1,1,1,1,1,1,1,1,1,1,1,1,1,1,1,1,1,1,1,1,1,1,1,1,1,1,1,1,1,1,1,1,1,1,1,1,1,1,1,1,1,1,1,1,1,1,1,1,1,1,1,1,1,1,1,1,1,1,1,1,1,1,1,1,1,1,1,1,1,1,1,1,1,1,1,1,1,1,1,1,1,1,1,1,1,1,1,1,1,1,1,1,1,1,1,1,1,1,1,1,1,1,1,1,1,1,1,1,1,1,1,1,1,1,1,1,1,1,1,1,1,1,1,1,1,1,1,1,1,1,1,1,1,1,1,1,1,1,1,1,1,1,1,1,1,1,1,1,1,1,1,1,1,1,1,1,1,1,1,1,1,1,1,1,1,1,1,1,1,1,1,1,1,1,1,1,1,1,1,1,1,1,1,1,1,1,1,1,1,1,1,1,1,1,1,1,1,1,1,1,1,1,1,1,1,1,1,1,1,1,1,1,1,1,1,1,1,1,1,1,1,1,1,1,1,1,1,1,1,1,1,1,1,1,1,1,1,1,1,1,1,1,1,1,1,1,1,1,1,1,1,1,1,1,1,1,1,1,1,1,1,1,1,1,1,1,1,1,1,1,1,1,1,1,1,1,1,1,1,1,1,1,1,1,1,1,1,1,1,1,1,1,1,1,1,1,1,1,1,1,1,1,1,1,1,1,1,1,1,1,1,1,1,1,1,1,1,1,1,1,1,1,1,1,1,1,1,1,1,1,1,1,1,1,1,1,1,1,1,1,1,1,1,1,1,1,1,1,1,1,1,1,1,1,1,1,1,1,1,1,1,1,1,1,1,1,1,1,1,1,1,1,1,1,1,1,1,1,1,1,1,1,1,1,1,1,1,1,1,1,1,1,1,1,1,1,1,1,1,1,1,1,1,1,1,1,1,1,1,1,1,1,1,1,1,1,1,1,1,1,1,1,1,1,1,1,1,1,1,1,1,1,1,1,1,1,1,1,1,1,1,1,1,1,1,1,1,1,1,1,1,1,1,1,1,1,1,1,1,1,1,1,1,1,1,1,1,1,1,1,1,1,1,1,1,1,1,1,1,1,1,1,1,1,1,1,1,1,1,1,1,1,1,1,1,1,1,1,1,1,1,1,1,1,1,1,1,1,1,1,1,1,1,1,1,1,1,1,1,1,1,1,1,1,1,1,1,1,1,1,1,1,1,1,1,1,1,1,1,1,1,1,1,1,1,1,1,1,1,1,1,1,1,1,1,1,1,1,1,1,1,1,1,1,1,1,1,1,1,1,1,1,1,1,1,1,1,1,1,1,1,1,1,1,1,1,1,1,1,1,1,1,1,1,1,1,1,1,1,1,1,1,1,1,1,1,1,1,1,1,1,1,1,1,1,1,1,1,1,1,1,1,1,1,1,1,1,1,1,1,1,1,1,1,1,1,1,1,1,1,1,1,1,1,1,1,1,1,1,1,1,1,1,1,1,1,1,1,1,1,1,1,1,1,1,1,1,1,1,1,1,1,1,1,1,1,1,1,1,1,1,1,1,1,1,1,1,1,1,1,1,1,1,1,1,1,1,1,1,1,1,1,1,1,1,1,1,1,1,1,1,1,1,1,1,1,1,1,1,1,1,1,1,1,1,1,1,1,1,1,1,1,1,1,1,1,1,1,1,1,1,1,1,1,1,1,1,1,1,1,1,1,1,1,1,1,1,1,1,1,1,1,1,1,1,1,1,1,1,1,1,1,1,1,1,1,1,1,1,1,1,1,1,1,1,1,1,1,1,1,1,1,1,1,1,1,1,1,1,1,1,1,1,1,1,1,1,1,1,1,1,1,1,1,1,1,1,1,1,1,1,1,1,1,1,1,1,1,1,1,1,1,1,1,1,1,1,1,1,1,1,1,1,1,1,1,1,1,1,1,1,1,1,1,1,1,1,1,1,1,1,1,1,1,1,1,1,1,1,1,1,1,1,1,1,1,1,1,1,1,1,1,1,1,1,1,1,1,1,1,1,1,1,1,1,1,1,1,1,1,1,1,1,1,1,1,1,1,1,1,1,1,1,1,1,1,1,1,1,1,1,1,1,1,1,1,1,1,1,1,1,1,1,1,1,1,1,1,1,1,1,1,1,1,1,1,1,1,1,1,1,1,1,1,1,1,1,1,1,1,1,1,1,1,1,1,1,1,1,1,1,1,1,1,1,1,1,1,1,1,1,1,1,1,1,1,1,1,1,1,1,1,1,1,1,1,1,1,1,1,1,1,1,1,1,1,1,1,1,1,1,1,1,1,1,1,1,1,1,1,1,1,1,1,1,1,1,1,1,1,1,1,1,1,1,1,1,1,1,1,1,1,1,1,1,1,1,1,1,1,1,1,1,1,1,1,1,1,1,1,1,1,1,1,1,1,1,1,1,1,1,1,1,1,1,1,1,1,1,1,1,1,1,1,1,1,1,1,1,1,1,1,1,1,1,1,1,1,1,1,1,1,1,1,1,1,1,1,1,1,1,1,1,1,1,1,1,1,1,1,1,1,1,1,1,1,1,1,1,1,1,1,1,1,1,1,1,1,1,1,1,1,1,1,1,1,1,1,1,1,1,1,1,1,1,1,1,1,1,1,1,1,1,1,1,1,1,1,1,1,1,1,1,1,1,1,1,1,1,1,1,1,1,1,1,1,1,1,1,1,1,1,1,1,1,1,1,1,1,1,1,1,1,1,1,1,1,1,1,1,1,1,1,1,1,1,1,1,1,1,1,1,1,1,1,1,1,1,1,1,1,1,1,1,1,1,1,1,1,1,1,1,1,1,1,1,1,1,1,1,1,1,1,1,1,1,1,1,1,1,1,1,1,1,1,1,1,1,1,1,1,1,1,1,1,1,1,1,1,1,1,1,1,1,1,1,1,1,1,1,1,1,1,1,1,1,1,1,1,1,1,1,1,1,1,1,1,1,1,1,1,1,1,1,1,1,1,1,1,1,1,1,1,1,1,1,1,1,1,1,1,1,1,1,1,1,1,1,1,1,1,1,1,1,1,1,1,1,1,1,1,1,1,1,1,1,1,1,1,1,1,1,1,1,1,1,1,1,1,1,1,1,1,1,1,1,1,1,1,1,1,1,1,1,1,1,1,1,1,1,1,1,1,1,1,1,1,1,1,1,1,1,1,1,1,1,1,1,1,1,1,1,1,1,1,1,1,1,1,1,1,1,1,1,1,1,1,1,1,1,1,1,1,1,1,1,1,1,1,1,1,1,1,1,1,1,1,1,1,1,1,1,1,1,1,1,1,1,1,1,1,1,1,1,1,1,1,1,1,1,1,1,1,1,1,1,1,1,1,1,1,1,1,1,1,1,1,1,1,1,1,1,1,1,1,1,1,1,1,1,1,1,1,1,1,1,1,1,1,1,1,1,1,1,1,1,1,1,1,1,1,1,1,1,1,1,1,1,1,1,1,1,1,1,1,1,1,1,1,1,1,1,1,1,1,1,1,1,1,1,1,1,1,1,1,1,1,1,1,1,1,1,1,1,1,1,1,1,1,1,1,1,1,1,1,1,1,1,1,1,1,1,1,1,1,1,1,1,1,1,1,1,1,1,1,1,1,1,1,1,1,1,1,1,1,1,1,1,1,1,1,1,1,1,1,1,1,1,1,1,1,1,1,1,1,1,1,1,1,1,1,1,1,1,1,1,1,1,1,1,1,1,1,1,1,1,1,1,1,1,1,1,1,1,1,1,1,1,1,1,1,1,1,1,1,1,1,1,1,1,1,1,1,1,1,1,1,1,1,1,1,1,1,1,1,1,1,1,1,1,1,1,1,1,1,1,1,1,1,1,1,1,1,1,1,1,1,1,1,1,1,1,1,1,1,1,1,1,1,1,1,1,1,1,1,1,1,1,1,1,1,1,1,1,1,1,1,1,1,1,1,1,1,1,1,1,1,1,1,1,1,1,1,1,1,1,1,1,1,1,1,1,1,1,1,1,1,1,1,1,1,1,1,1,1,1,1,1,1,1,1,1,1,1,1,1,1,1,1,1,1,1,1,1,1,1,1,1,1,1,1,1,1,1,1,1,1,1,1,1,1,1,1,1,1,1,1,1,1,1,1,1,1,1,1,1,1,1,1,1,1,1,1,1,1,1,1,1,1,1,1,1,1,1,1,1,1,1,1,1,1,1,1,1,1,1,1,1,1,1,1,1,1,1,1,1,1,1,1,1,1,1,1,1,1,1,1,1,1,1,1,1,1,1,1,1,1,1,1,1,1,1,1,1,1,1,1,1,1,1,1,1,1,1,1,1,1,1,1,1,1,1,1,1,1,1,1,1,1,1,1,1,1,1,1,1,1,1,1,1,1,1,1,1,1,1,1,1,1,1,1,1,1,1,1,1,1,1,1,1,1,1,1,1,1,1,1,1,1,1,1,1,1,1,1,1,1,1,1,1,1,1,1,1,1,1,1,1,1,1,1,1,1,1,1,1,1,1,1,1,1,1,1,1,1,1,1,1,1,1,1,1,1,1,1,1,1,1,1,1,1,1,1,1,1,1,1,1,1,1,1,1,1,1,1,1,1,1,1,1,1,1,1,1,1,1,1,1,1,1,1,1,1,1,1,1,1,1,1,1,1,1,1,1,1,1,1,1,1,1,1,1,1,1,1,1,1,1,1,1,1,1,1,1,1,1,1,1,1,1,1,1,1,1,1,1,1,1,1,1,1,1,1,1,1,1,1,1,1,1,1,1,1,1,1,1,1,1,1,1,1,1,1,1,1,1,1,1,1,1,1,1,1,1,1,1,1,1,1,1,1,1,1,1,1,1,1,1,1,1,1,1,1,1,1,1,1,1,1,1,1,1,1,1,1,1,1,1,1,1,1,1,1,1,1,1,1,1,1,1,1,1,1,1,1,1,1,1,1,1,1,1,1,1,1,1,1,1,1,1,1,1,1,1,1,1,1,1,1,1,1,1,1,1,1,1,1,1,1,1,1,1,1,1,1,1,1,1,1,1,1,1,1,1,1,1,1,1,1,1,1,1,1,1,1,1,1,1,1,1,1,1,1,1,1,1,1,1,1,1,1,1,1,1,1,1,1,1,1,1,1,1,1,1,1,1,1,1,1,1,1,1,1,1,1,1,1,1,1,1,1,1,1,1,1,1,1,1,1,1,1,1,1,1,1,1,1,1,1,1,1,1,1,1,1,1,1,1,1,1,1,1,1,1,1,1,1,1,1,1,1,1,1,1,1,1,1,1,1,1,1,1,1,1,1,1,1,1,1,1,1,1,1,1,1,1,1,1,1,1,1,1,1,1,1,1,1,1,1,1,1,1,1,1,1,1,1,1,1,1,1,1,1,1,1,1,1,1,1,1,1,1,1,1,1,1,1,1,1,1,1,1,1,1,1,1,1,1,1,1,1,1,1,1,1,1,1,1,1,1,1,1,1,1,1,1,1,1,1,1,1,1,1,1,1,1,1,1,1,1,1,1,1,1,1,1,1,1,1,1,1,1,1,1,1,1,1,1,1,1,1,1,1,1,1,1,1,1,1,1,1,1,1,1,1,1,1,1,1,1,1,1,1,1,1,1,1,1,1,1,1,1,1,1,1,1,1,1,1,1,1,1,1,1,1,1,1,1,1,1,1,1,1,1,1,1,1,1,1,1,1,1,1,1,1,1,1,1,1,1,1,1,1,1,1,1,1,1,1,1,1,1,1,1,1,1,1,1,1,1,1,1,1,1,1,1,1,1,1,1,1,1,1,1,1,1,1,1,1,1,1,1,1,1,1,1,1,1,1,1,1,1,1,1,1,1,1,1,1,1,1,1,1,1,1,1,1,1,1,1,1,1,1,1,1,1,1,1,1,1,1,1,1,1,1,1,1,1,1,1,1,1,1,1,1,1,1,1,1,1,1,1,1,1,1,1,1,1,1,1,1,1,1,1,1,1,1,1,1,1,1,1,1,1,1,1,1,1,1,1,1,1,1,1,1,1,1,1,1,1,1,1,1,1,1,1,1,1,1,1,1,1,1,1,1,1,1,1,1,1,1,1,1,1,1,1,1,1,1,1,1,1,1,1,1,1,1,1,1,1,1,1,1,1,1,1,1,1,1,1,1,1,1,1,1,1,1,1,1,1,1,1,1,1,1,1,1,1,1,1,1,1,1,1,1,1,1,1,1,1,1,1,1,1,1,1,1,1,1,1,1,1,1,1,1,1,1,1,1,1,1,1,1,1,1,1,1,1,1,1,1,1,1,1,1,1,1,1,1,1,1,1,1,1,1,1,1,1,1,1,1,1,1,1,1,1,1,1,1,1,1,1,1,1,1,1,1,1,1,1,1,1,1,1,1,1,1,1,1,1,1,1,1,1,1,1,1,1,1,1,1,1,1,1,1,1,1,1,1,1,1,1,1,1,1,1,1,1,1,1,1,1,1,1,1,1,1,1,1,1,1,1,1,1,1,1,1,1,1,1,1,1,1,1,1,1,1,1,1,1,1,1,1,1,1,1,1,1,1,1,1,1,1,1,1,1,1,1,1,1,1,1,1,1,1,1,1,1,1,1,1,1,1,1,1,1,1,1,1,1,1,1,1,1,1,1,1,1,1,1,1,1,1,1,1,1,1,1,1,1,1,1,1,1,1,1,1,1,1,1,1,1,1,1,1,1,1,1,1,1,1,1,1,1,1,1,1,1,1,1,1,1,1,1,1,1,1,1,1,1,1,1,1,1,1,1,1,1,1,1,1,1,1,1,1,1,1,1,1,1,1,1,1,1,1,1,1,1,1,1,1,1,1,1,1,1,1,1,1,1,1,1,1,1,1,1,1,1,1,1,1,1,1,1,1,1,1,1,1,1,1,1,1,1,1,1,1,1,1,1,1,1,1,1,1,1,1,1,1,1,1,1,1,1,1,1,1,1,1,1,1,1,1,1,1,1,1,1,1,1,1,1,1,1,1,1,1,1,1,1,1,1,1,1,1,1,1,1,1,1,1,1,1,1,1,1,1,1,1,1,1,1,1,1,1,1,1,1,1,1,1,1,1,1,1,1,1,1,1,1,1,1,1,1,1,1,1,1,1,1,1,1,1,1,1,1,1,1,1,1,1,1,1,1,1,1,1,1,1,1,1,1,1,1,1,1,1,1,1,1,1,1,1,1,1,1,1,1,1,1,1,1,1,1,1,1,1,1,1,1,1,1,1,1,1,1,1,1,1,1,1,1,1,1,1,1,1,1,1,1,1,1,1,1,1,1,1,1,1,1,1,1,1,1,1,1,1,1,1,1,1,1,1,1,1,1,1,1,1,1,1,1,1,1,1,1,1,1,1,1,1,1,1,1,1,1,1,1,1,1,1,1,1,1,1,1,1,1,1,1,1,1,1,1,1,1,1,1,1,1,1,1,1,1,1,1,1,1,1,1,1,1,1,1,1,1,1,1,1,1,1,1,1,1,1,1,1,1,1,1,1,1,1,1,1,1,1,1,1,1,1,1,1,1,1,1,1,1,1,1,1,1,1,1,1,1,1,1,1,1,1,1,1,1,1,1,1,1,1,1,1,1,1,1,1,1,1,1,1,1,1,1,1,1,1,1,1,1,1,1,1,1,1,1,1,1,1,1,1,1,1,1,1,1,1,1,1,1,1,1,1,1,1,1,1,1,1,1,1,1,1,1,1,1,1,1,1,1,1,1,1,1,1,1,1,1,1,1,1,1,1,1,1,1,1,1,1,1,1,1,1,1,1,1,1,1,1,1,1,1,1,1,1,1,1,1,1,1,1,1,1,1,1,1,1,1,1,1,1,1,1,1,1,1,1,1,1,1,1,1,1,1,1,1,1,1,1,1,1,1,1,1,1,1,1,1,1,1,1,1,1,1,1,1,1,1,1,1,1,1,1,1,1,1,1,1,1,1,1,1,1,1,1,1,1,1,1,1,1,1,1,1,1,1,1,1,1,1,1,1,1,1,1,1,1,1,1,1,1,1,1,1,1,1,1,1,1,1,1,1,1,1,1,1,1,1,1,1,1,1,1,1,1,1,1,1,1,1,1,1,1,1,1,1,1,1,1,1,1,1,1,1,1,1,1,1,1,1,1,1,1,1,1,1,1,1,1,1,1,1,1,1,1,1,1,1,1,1,1,1,1,1,1,1,1,1,1,1,1,1,1,1,1,1,1,1,1,1,1,1,1,1,1,1,1,1,1,1,1,1,1,1,1,1,1,1,1,1,1,1,1,1,1,1,1,1,1,1,1,1,1,1,1,1,1,1,1,1,1,1,1,1,1,1,1,1,1,1,1,1,1,1,1,1,1,1,1,1,1,1,1,1,1,1,1,1,1,1,1,1,1,1,1,1,1,1,1,1,1,1,1,1,1,1,1,1,1,1,1,1,1,1,1,1,1,1,1,1,1,1,1,1,1,1,1,1,1,1,1,1,1,1,1,1,1,1,1,1,1,1,1,1,1,1,1,1,1,1,1,1,1,1,1,1,1,1,1,1,1,1,1,1,1,1,1,1,1,1,1,1,1,1,1,1,1,1,1,1,1,1,1,1,1,1,1,1,1,1,1,1,1,1,1,1,1,1,1,1,1,1,1,1,1,1,1,1,1,1,1,1,1,1,1,1,1,1,1,1,1,1,1,1,1,1,1,1,1,1,1,1,1,1,1,1,1,1,1,1,1,1,1,1,1,1,1,1,1,1,1,1,1,1,1,1,1,1,1,1,1,1,1,1,1,1,1,1,1,1,1,1,1,1,1,1,1,1,1,1,1,1,1,1,1,1,1,1,1,1,1,1,1,1,1,1,1,1,1,1,1,1,1,1,1,1,1,1,1,1,1,1,1,1,1,1,1,1,1,1,1,1,1,1,1,1,1,1,1,1,1,1,1,1,1,1,1,1,1,1,1,1,1,1,1,1,1,1,1,1,1,1,1,1,1,1,1,1,1,1,1,1,1,1,1,1,1,1,1,1,1,1,1,1,1,1,1,1,1,1,1,1,1,1,1,1,1,1,1,1,1,1,1,1,1,1,1,1,1,1,1,1,1,1,1,1,1,1,1,1,1,1,1,1,1,1,1,1,1,1,1,1,1,1,1,1,1,1,1,1,1,1,1,1,1,1,1,1,1,1,1,1,1,1,1,1,1,1,1,1,1,1,1,1,1,1,1,1,1,1,1,1,1,1,1,1,1,1,1,1,1,1,1,1,1,1,1,1,1,1,1,1,1,1,1,1,1,1,1,1,1,1,1,1,1,1,1,1,1,1,1,1,1,1,1,1,1,1,1,1,1,1,1,1,1,1,1,1,1,1,1,1,1,1,1,1,1,1,1,1,1,1,1,1,1,1,1,1,1,1,1,1,1,1,1,1,1,1,1,1,1,1,1,1,1,1,1,1,1,1,1,1,1,1,1,1,1,1,1,1,1,1,1,1,1,1,1,1,1,1,1,1,1,1,1,1,1,1,1,1,1,1,1,1,1,1,1,1,1,1,1,1,1,1,1,1,1,1,1,1,1,1,1,1,1,1,1,1,1,1,1,1,1,1,1,1,1,1,1,1,1,1,1,1,1,1,1,1,1,1,1,1,1,1,1,1,1,1,1,1,1,1,1,1,1,1,1,1,1,1,1,1,1,1,1,1,1,1,1,1,1,1,1,1,1,1,1,1,1,1,1,1,1,1,1,1,1,1,1,1,1,1,1,1,1,1,1,1,1,1,1,1,1,1,1,1,1,1,1,1,1,1,1,1,1,1,1,1,1,1,1,1,1,1,1,1,1,1,1,1,1,1,1,1,1,1,1,1,1,1,1,1,1,1,1,1,1,1,1,1,1,1,1,1,1,1,1,1,1,1,1,1,1,1,1,1,1,1,1,1,1,1,1,1,1,1,1,1,1,1,1,1,1,1,1,1,1,1,1,1,1,1,1,1,1,1,1,1,1,1,1,1,1,1,1,1,1,1,1,1,1,1,1,1,1,1,1,1,1,1,1,1,1,1,1,1,1,1,1,1,1,1,1,1,1,1,1,1,1,1,1,1,1,1,1,1,1,1,1,1,1,1,1,1,1,1,1,1,1,1,1,1,1,1,1,1,1,1,1,1,1,1,1,1,1,1,1,1,1,1,1,1,1,1,1,1,1,1,1,1,1,1,1,1,1,1,1,1,1,1,1,1,1,1,1,1,1,1,1,1,1,1,1,1,1,1,1,1,1,1,1,1,1,1,1,1,1,1,1,1,1,1,1,1,1,1,1,1,1,1,1,1,1,1,1,1,1,1,1,1,1,1,1,1,1,1,1,1,1,1,1,1,1,1,1,1,1,1,1,1,1,1,1,1,1,1,1,1,1,1,1,1,1,1,1,1,1,1,1,1,1,1,1,1,1,1,1,1,1,1,1,1,1,1,1,1,1,1,1,1,1,1,1,1,1,1,1,1,1,1,1,1,1,1,1,1,1,1,1,1,1,1,1,1,1,1,1,1,1,1,1,1,1,1,1,1,1,1,1,1,1,1,1,1,1,1,1,1,1,1,1,1,1,1,1,1,1,1,1,1,1,1,1,1,1,1,1,1,1,1,1,1,1,1,1,1,1,1,1,1,1,1,1,1,1,1,1,1,1,1,1,1,1,1,1,1,1,1,1,1,1,1,1,1,1,1,1,1,1,1,1,1,1,1,1,1,1,1,1,1,1,1,1,1,1,1,1,1,1,1,1,1,1,1,1,1,1,1,1,1,1,1,1,1,1,1,1,1,1,1,1,1,1,1,1,1,1,1,1,1,1,1,1,1,1,1,1,1,1,1,1,1,1,1,1,1,1,1,1,1,1,1,1,1,1,1,1,1,1,1,1,1,1,1,1,1,1,1,1,1,1,1,1,1,1,1,1,1,1,1,1,1,1,1,1,1,1,1,1,1,1,1,1,1,1,1,1,1,1,1,1,1,1,1,1,1,1,1,1,1,1,1,1,1,1,1,1,1,1,1,1,1,1,1,1,1,1,1,1,1,1,1,1,1,1,1,1,1,1,1,1,1,1,1,1,1,1,1,1,1,1,1,1,1,1,1,1,1,1,1,1,1,1,1,1,1,1,1,1,1,1,1,1,1,1,1,1,1,1,1,1,1,1,1,1,1,1,1,1,1,1,1,1,1,1,1,1,1,1,1,1,1,1,1,1,1,1,1,1,1,1,1,1,1,1,1,1,1,1,1,1,1,1,1,1,1,1,1,1,1,1,1,1,1,1,1,1,1,1,1,1,1,1,1,1,1,1,1,1,1,1,1,1,1,1,1,1,1,1,1,1,1,1,1,1,1,1,1,1,1,1,1,1,1,1,1,1,1,1,1,1,1,1,1,1,1,1,1,1,1,1,1,1,1,1,1,1,1,1,1,1,1,1,1,1,1,1,1,1,1,1,1,1,1,1,1,1,1,1,1,1,1,1,1,1,1,1,1,1,1,1,1,1,1,1,1,1,1,1,1,1,1,1,1,1,1,1,1,1,1,1,1,1,1,1,1,1,1,1,1,1,1,1,1,1,1,1,1,1,1,1,1,1,1,1,1,1,1,1,1,1,1,1,1,1,1,1,1,1,1,1,1,1,1,1,1,1,1,1,1,1,1,1,1,1,1,1,1,1,1,1,1,1,1,1,1,1,1,1,1,1,1,1,1,1,1,1,1,1,1,1,1,1,1,1,1,1,1,1,1,1,1,1,1,1,1,1,1,1,1,1,1,1,1,1,1,1,1,1,1,1,1,1,1,1,1,1,1,1,1,1,1,1,1,1,1,1,1,1,1,1,1,1,1,1,1,1,1,1,1,1,1,1,1,1,1,1,1,1,1,1,1,1,1,1,1,1,1,1,1,1,1,1,1,1,1,1,1,1,1,1,1,1,1,1,1,1,1,1,1,1,1,1,1,1,1,1,1,1,1,1,1,1,1,1,1,1,1,1,1,1,1,1,1,1,1,1,1,1,1,1,1,1,1,1,1,1,1,1,1,1,1,1,1,1,1,1,1,1,1,1,1,1,1,1,1,1,1,1,1,1,1,1,1,1,1,1,1,1,1,1,1,1,1,1,1,1,1,1,1,1,1,1,1,1,1,1,1,1,1,1,1,1,1,1,1,1,1,1,1,1,1,1,1,1,1,1,1,1,1,1,1,1,1,1,1,1,1,1,1,1,1,1,1,1,1,1,1,1,1,1,1,1,1,1,1,1,1,1,1,1,1,1,1,1,1,1,1,1,1,1,1,1,1,1,1,1,1,1,1,1,1,1,1,1,1,1,1,1,1,1,1,1,1,1,1,1,1,1,1,1,1,1,1,1,1,1,1,1,1,1,1,1,1,1,1,1,1,1,1,1,1,1,1,1,1,1,1,1,1,1,1,1,1,1,1,1,1,1,1,1,1,1,1,1,1,1,1,1,1,1,1,1,1,1,1,1,1,1,1,1,1,1,1,1,1,1,1,1,1,1,1,1,1,1,1,1,1,1,1,1,1,1,1,1,1,1,1,1,1,1,1,1,1,1,1,1,1,1,1,1,1,1,1,1,1,1,1,1,1,1,1,1,1,1,1,1,1,1,1,1,1,1,1,1,1,1,1,1,1,1,1,1,1,1,1,1,1,1,1,1,1,1,1,1,1,1,1,1,1,1,1,1,1,1,1,1,1,1,1,1,1,1,1,1,1,1,1,1,1,1,1,1,1,1,1,1,1,1,1,1,1,1,1,1,1,1,1,1,1,1,1,1,1,1,1,1,1,1,1,1,1,1,1,1,1,1,1,1,1,1,1,1,1,1,1,1,1,1,1,1,1,1,1,1,1,1,1,1,1,1,1,1,1,1,1,1,1,1,1,1,1,1,1,1,1,1,1,1,1,1,1,1,1,1,1,1,1,1,1,1,1,1,1,1,1,1,1,1,1,1,1,1,1,1,1,1,1,1,1,1,1,1,1,1,1,1,1,1,1,1,1,1,1,1,1,1,1,1,1,1,1,1,1,1,1,1,1,1,1,1,1,1,1,1,1,1,1,1,1,1,1,1,1,1,1,1,1,1,1,1,1,1,1,1,1,1,1,1,1,1,1,1,1,1,1,1,1,1,1,1,1,1,1,1,1,1,1,1,1,1,1,1,1,1,1,1,1,1,1,1,1,1,1,1,1,1,1,1,1,1,1,1,1,1,1,1,1,1,1,1,1,1,1,1,1,1,1,1,1,1,1,1,1,1,1,1,1,1,1,1,1,1,1,1,1,1,1,1,1,1,1,1,1,1,1,1,1,1,1,1,1,1,1,1,1,1,1,1,1,1,1,1,1,1,1,1,1,1,1,1,1,1,1,1,1,1,1,1,1,1,1,1,1,1,1,1,1,1,1,1,1,1,1,1,1,1,1,1,1,1,1,1,1,1,1,1,1,1,1,1,1,1,1,1,1,1,1,1,1,1,1,1,1,1,1,1,1,1,1,1,1,1,1,1,1,1,1,1,1,1,1,1,1,1,1,1,1,1,1,1,1,1,1,1,1,1,1,1,1,1,1,1,1,1,1,1,1,1,1,1,1,1,1,1,1,1,1,1,1,1,1,1,1,1,1,1,1,1,1,1,1,1,1,1,1,1,1,1,1,1,1,1,1,1,1,1,1,1,1,1,1,1,1,1,1,1,1,1,1,1,1,1,1,1,1,1,1,1,1,1,1,1,1,1,1,1,1,1,1,1,1,1,1,1,1,1,1,1,1,1,1,1,1,1,1,1,1,1,1,1,1,1,1,1,1,1,1,1,1,1,1,1,1,1,1,1,1,1,1,1,1,1,1,1,1,1,1,1,1,1,1,1,1,1,1,1,1,1,1,1,1,1,1,1,1,1,1,1,1,1,1,1,1,1,1,1,1,1,1,1,1,1,1,1,1,1,1,1,1,1,1,1,1,1,1,1,1,1,1,1,1,1,1,1,1,1,1,1,1,1,1,1,1,1,1,1,1,1,1,1,1,1,1,1,1,1,1,1,1,1,1,1,1,1,1,1,1,1,1,1,1,1,1,1,1,1,1,1,1,1,1,1,1,1,1,1,1,1,1,1,1,1,1,1,1,1,1,1,1,1,1,1,1,1,1,1,1,1,1,1,1,1,1,1,1,1,1,1,1,1,1,1,1,1,1,1,1,1,1,1,1,1,1,1,1,1,1,1,1,1,1,1,1,1,1,1,1,1,1,1,1,1,1,1,1,1,1,1,1,1,1,1,1,1,1,1,1,1,1,1,1,1,1,1,1,1,1,1,1,1,1,1,1,1,1,1,1,1,1,1,1,1,1,1,1,1,1,1,1,1,1,1,1,1,1,1,1,1,1,1,1,1,1,1,1,1,1,1,1,1,1,1,1,1,1,1,1,1,1,1,1,1,1,1,1,1,1,1,1,1,1,1,1,1,1,1,1,1,1,1,1,1,1,1,1,1,1,1,1,1,1,1,1,1,1,1,1,1,1,1,1,1,1,1,1,1,1,1,1,1,1,1,1,1,1,1,1,1,1,1,1,1,1,1,1,1,1,1,1,1,1,1,1,1,1,1,1,1,1,1,1,1,1,1,1,1,1,1,1,1,1,1,1,1,1,1,1,1,1,1,1,1,1,1,1,1,1,1,1,1,1,1,1,1,1,1,1,1,1,1,1,1,1,1,1,1,1,1,1,1,1,1,1,1,1,1,1,1,1,1,1,1,1,1,1,1,1,1,1,1,1,1,1,1,1,1,1,1,1,1,1,1,1,1,1,1,1,1,1,1,1,1,1,1,1,1,1,1,1,1,1,1,1,1,1,1,1,1,1,1,1,1,1,1,1,1,1,1,1,1,1,1,1,1,1,1,1,1,1,1,1,1,1,1,1,1,1,1,1,1,1,1,1,1,1,1,1,1,1,1,1,1,1,1,1,1,1,1,1,1,1,1,1,1,1,1,1,1,1,1,1,1,1,1,1,1,1,1,1,1,1,1,1,1,1,1,1,1,1,1,1,1,1,1,1,1,1,1,1,1,1,1,1,1,1,1,1,1,1,1,1,1,1,1,1,1,1,1,1,1,1,1,1,1,1,1,1,1,1,1,1,1,1,1,1,1,1,1,1,1,1,1,1,1,1,1,1,1,1,1,1,1,1,1,1,1,1,1,1,1,1,1,1,1,1,1,1,1,1,1,1,1,1,1,1,1,1,1,1,1,1,1,1,1,1,1,1,1,1,1,1,1,1,1,1,1,1,1,1,1,1,1,1,1,1,1,1,1,1,1,1,1,1,1,1,1,1,1,1,1,1,1,1,1,1,1,1,1,1,1,1,1,1,1,1,1,1,1,1,1,1,1,1,1,1,1,1,1,1,1,1,1,1,1,1,1,1,1,1,1,1,1,1,1,1,1,1,1,1,1,1,1,1,1,1,1,1,1,1,1,1,1,1,1,1,1,1,1,1,1,1,1,1,1,1,1,1,1,1,1,1,1,1,1,1,1,1,1,1,1,1,1,1,1,1,1,1,1,1,1,1,1,1,1,1,1,1,1,1,1,1,1,1,1,1,1,1,1,1,1,1,1,1,1,1,1,1,1,1,1,1,1,1,1,1,1,1,1,1,1,1,1,1,1,1,1,1,1,1,1,1,1,1,1,1,1,1,1,1,1,1,1,1,1,1,1,1,1,1,1,1,1,1,1,1,1,1,1,1,1,1,1,1,1,1,1,1,1,1,1,1,1,1,1,1,1,1,1,1,1,1,1,1,1,1,1,1,1,1,1,1,1,1,1,1,1,1,1,1,1,1,1,1,1,1,1,1,1,1,1,1,1,1,1,1,1,1,1,1,1,1,1,1,1,1,1,1,1,1,1,1,1,1,1,1,1,1,1,1,1,1,1,1,1,1,1,1,1,1,1,1,1,1,1,1,1,1,1,1,1,1,1,1,1,1,1,1,1,1,1,1,1,1,1,1,1,1,1,1,1,1,1,1,1,1,1,1,1,1,1,1,1,1,1,1,1,1,1,1,1,1,1,1,1,1,1,1,1,1,1,1,1,1,1,1,1,1,1,1,1,1,1,1,1,1,1,1,1,1,1,1,1,1,1,1,1,1,1,1,1,1,1,1,1,1,1,1,1,1,1,1,1,1,1,1,1,1,1,1,1,1,1,1,1,1,1,1,1,1,1,1,1,1,1,1,1,1,1,1,1,1,1,1,1,1,1,1,1,1,1,1,1,1,1,1,1,1,1,1,1,1,1,1,1,1,1,1,1,1,1,1,1,1,1,1,1,1,1,1,1,1,1,1,1,1,1,1,1,1,1,1,1,1,1,1,1,1,1,1,1,1,1,1,1,1,1,1,1,1,1,1,1,1,1,1,1,1,1,1,1,1,1,1,1,1,1,1,1,1,1,1,1,1,1,1,1,1,1,1,1,1,1,1,1,1,1,1,1,1,1,1,1,1,1,1,1,1,1,1,1,1,1,1,1,1,1,1,1,1,1,1,1,1,1,1,1,1,1,1,1,1,1,1,1,1,1,1,1,1,1,1,1,1,1,1,1,1,1,1,1,1,1,1,1,1,1,1,1,1,1,1,1,1,1,1,1,1,1,1,1,1,1,1,1,1,1,1,1,1,1,1,1,1,1,1,1,1,1,1,1,1,1,1,1,1,1,1,1,1,1,1,1,1,1,1,1,1,1,1,1,1,1,1,1,1,1,1,1,1,1,1,1,1,1,1,1,1,1,1,1,1,1,1,1,1,1,1,1,1,1,1,1,1,1,1,1,1,1,1,1,1,1,1,1,1,1,1,1,1,1,1,1,1,1,1,1,1,1,1,1,1,1,1,1,1,1,1,1,1,1,1,1,1,1,1,1,1,1,1,1,1,1,1,1,1,1,1,1,1,1,1,1,1,1,1,1,1,1,1,1,1,1,1,1,1,1,1,1,1,1,1,1,1,1,1,1,1,1,1,1,1,1,1,1,1,1,1,1,1,1,1,1,1,1,1,1,1,1,1,1,1,1,1,1,1,1,1,1,1,1,1,1,1,1,1,1,1,1,1,1,1,1,1,1,1,1,1,1,1,1,1,1,1,1,1,1,1,1,1,1,1,1,1,1,1,1,1,1,1,1,1,1,1,1,1,1,1,1,1,1,1,1,1,1,1,1,1,1,1,1,1,1,1,1,1,1,1,1,1,1,1,1,1,1,1,1,1,1,1,1,1,1,1,1,1,1,1,1,1,1,1,1,1,1,1,1,1,1,1,1,1,1,1,1,1,1,1,1,1,1,1,1,1,1,1,1,1,1,1,1,1,1,1,1,1,1,1,1,1,1,1,1,1,1,1,1,1,1,1,1,1,1,1,1,1,1,1,1,1,1,1,1,1,1,1,1,1,1,1,1,1,1,1,1,1,1,1,1,1,1,1,1,1,1,1,1,1,1,1,1,1,1,1,1,1,1,1,1,1,1,1,1,1,1,1,1,1,1,1,1,1,1,1,1,1,1,1,1,1,1,1,1,1,1,1,1,1,1,1,1,1,1,1,1,1,1,1,1,1,1,1,1,1,1,1,1,1,1,1,1,1,1,1,1,1,1,1,1,1,1,1,1,1,1,1,1,1,1,1,1,1,1,1,1,1,1,1,1,1,1,1,1,1,1,1,1,1,1,1,1,1,1,1,1,1,1,1,1,1,1,1,1,1,1,1,1,1,1,1,1,1,1,1,1,1,1,1,1,1,1,1,1,1,1,1,1,1,1,1,1,1,1,1,1,1,1,1,1,1,1,1,1,1,1,1,1,1,1,1,1,1,1,1,1,1,1,1,1,1,1,1,1,1,1,1,1,1,1,1,1,1,1,1,1,1,1,1,1,1,1,1,1,1,1,1,1,1,1,1,1,1,1,1,1,1,1,1,1,1,1,1,1,1,1,1,1,1,1,1,1,1,1,1,1,1,1,1,1,1,1,1,1,1,1,1,1,1,1,1,1,1,1,1,1,1,1,1,1,1,1,1,1,1,1,1,1,1,1,1,1,1,1,1,1,1,1,1,1,1,1,1,1,1,1,1,1,1,1,1,1,1,1,1,1,1,1,1,1,1,1,1,1,1,1,1,1,1,1,1,1,1,1,1,1,1,1,1,1,1,1,1,1,1,1,1,1,1,1,1,1,1,1,1,1,1,1,1,1,1,1,1,1,1,1,1,1,1,1,1,1,1,1,1,1,1,1,1,1,1,1,1,1,1,1,1,1,1,1,1,1,1,1,1,1,1,1,1,1,1,1,1,1,1,1,1,1,1,1,1,1,1,1,1,1,1,1,1,1,1,1,1,1,1,1,1,1,1,1,1,1,1,1,1,1,1,1,1,1,1,1,1,1,1,1,1,1,1,1,1,1,1,1,1,1,1,1,1,1,1,1,1,1,1,1,1,1,1,1,1,1,1,1,1,1,1,1,1,1,1,1,1,1,1,1,1,1,1,1,1,1,1,1,1,1,1,1,1,1,1,1,1,1,1,1,1,1,1,1,1,1,1,1,1,1,1,1,1,1,1,1,1,1,1,1,1,1,1,1,1,1,1,1,1,1,1,1,1,1,1,1,1,1,1,1,1,1,1,1,1,1,1,1,1,1,1,1,1,1,1,1,1,1,1,1,1,1,1,1,1,1,1,1,1,1,1,1,1,1,1,1,1,1,1,1,1,1,1,1,1,1,1,1,1,1,1,1,1,1,1,1,1,1,1,1,1,1,1,1,1,1,1,1,1,1,1,1,1,1,1,1,1,1,1,1,1,1,1,1,1,1,1,1,1,1,1,1,1,1,1,1,1,1,1,1,1,1,1,1,1,1,1,1,1,1,1,1,1,1,1,1,1,1,1,1,1,1,1,1,1,1,1,1,1,1,1,1,1,1,1,1,1,1,1,1,1,1,1,1,1,1,1,1,1,1,1,1,1,1,1,1,1,1,1,1,1,1,1,1,1,1,1,1,1,1,1,1,1,1,1,1,1,1,1,1,1,1,1,1,1,1,1,1,1,1,1,1,1,1,1,1,1,1,1,1,1,1,1,1,1,1,1,1,1,1,1,1,1,1,1,1,1,1,1,1,1,1,1,1,1,1,1,1,1,1,1,1,1,1,1,1,1,1,1,1,1,1,1,1,1,1,1,1,1,1,1,1,1,1,1,1,1,1,1,1,1,1,1,1,1,1,1,1,1,1,1,1,1,1,1,1,1,1,1,1,1,1,1,1,1,1,1,1,1,1,1,1,1,1,1,1,1,1,1,1,1,1,1,1,1,1,1,1,1,1,1,1,1,1,1,1,1,1,1,1,1,1,1,1,1,1,1,1,1,1,1,1,1,1,1,1,1,1,1,1,1,1,1,1,1,1,1,1,1,1,1,1,1,1,1,1,1,1,1,1,1,1,1,1,1,1,1,1,1,1,1,1,1,1,1,1,1,1,1,1,1,1,1,1,1,1,1,1,1,1,1,1,1,1,1,1,1,1,1,1,1,1,1,1,1,1,1,1,1,1,1,1,1,1,1,1,1,1,1,1,1,1,1,1,1,1,1,1,1,1,1,1,1,1,1,1,1,1,1,1,1,1,1,1,1,1,1,1,1,1,1,1,1,1,1,1,1,1,1,1,1,1,1,1,1,1,1,1,1,1,1,1,1,1,1,1,1,1,1,1,1,1,1,1,1,1,1,1,1,1,1,1,1,1,1,1,1,1,1,1,1,1,1,1,1,1,1,1,1,1,1,1,1,1,1,1,1,1,1,1,1,1,1,1,1,1,1,1,1,1,1,1,1,1,1,1,1,1,1,1,1,1,1,1,1,1,1,1,1,1,1,1,1,1,1,1,1,1,1,1,1,1,1,1,1,1,1,1,1,1,1,1,1,1,1,1,1,1,1,1,1,1,1,1,1,1,1,1,1,1,1,1,1,1,1,1,1,1,1,1,1,1,1,1,1,1,1,1,1,1,1,1,1,1,1,1,1,1,1,1,1,1,1,1,1,1,1,1,1,1,1,1,1,1,1,1,1,1,1,1,1,1,1,1,1,1,1,1,1,1,1,1,1,1,1,1,1,1,1,1,1,1,1,1,1,1,1,1,1,1,1,1,1,1,1,1,1,1,1,1,1,1,1,1,1,1,1,1,1,1,1,1,1,1,1,1,1,1,1,1,1,1,1,1,1,1,1,1,1,1,1,1,1,1,1,1,1,1,1,1,1,1,1,1,1,1,1,1,1,1,1,1,1,1,1,1,1,1,1,1,1,1,1,1,1,1,1,1,1,1,1,1,1,1,1,1,1,1,1,1,1,1,1,1,1,1,1,1,1,1,1,1,1,1,1,1,1,1,1,1,1,1,1,1,1,1,1,1,1,1,1,1,1,1,1,1,1,1,1,1,1,1,1,1,1,1,1,1,1,1,1,1,1,1,1,1,1,1,1,1,1,1,1,1,1,1,1,1,1,1,1,1,1,1,1,1,1,1,1,1,1,1,1,1,1,1,1,1,1,1,1,1,1,1,1,1,1,1,1,1,1,1,1,1,1,1,1,1,1,1,1,1,1,1,1,1,1,1,1,1,1,1,1,1,1,1,1,1,1,1,1,1,1,1,1,1,1,1,1,1,1,1,1,1,1,1,1,1,1,1,1,1,1,1,1,1,1,1,1,1,1,1,1,1,1,1,1,1,1,1,1,1,1,1,1,1,1,1,1,1,1,1,1,1,1,1,1,1,1,1,1,1,1,1,1,1,1,1,1,1,1,1,1,1,1,1,1,1,1,1,1,1,1,1,1,1,1,1,1,1,1,1,1,1,1,1,1,1,1,1,1,1,1,1,1,1,1,1,1,1,1,1,1,1,1,1,1,1,1,1,1,1,1,1,1,1,1,1,1,1,1,1,1,1,1,1,1,1,1,1,1,1,1,1,1,1,1,1,1,1,1,1,1,1,1,1,1,1,1,1,1,1,1,1,1,1,1,1,1,1,1,1,1,1,1,1,1,1,1,1,1,1,1,1,1,1,1,1,1,1,1,1,1,1,1,1,1,1,1,1,1,1,1,1,1,1,1,1,1,1,1,1,1,1,1,1,1,1,1,1,1,1,1,1,1,1,1,1,1,1,1,1,1,1,1,1,1,1,1,1,1,1,1,1,1,1,1,1,1,1,1,1,1,1,1,1,1,1,1,1,1,1,1,1,1,1,1,1,1,1,1,1,1,1,1,1,1,1,1,1,1,1,1,1,1,1,1,1,1,1,1,1,1,1,1,1,1,1,1,1,1,1,1,1,1,1,1,1,1,1,1,1,1,1,1,1,1,1,1,1,1,1,1,1,1,1,1,1,1,1,1,1,1,1,1,1,1,1,1,1,1,1,1,1,1,1,1,1,1,1,1,1,1,1,1,1,1,1,1,1,1,1,1,1,1,1,1,1,1,1,1,1,1,1,1,1,1,1,1,1,1,1,1,1,1,1,1,1,1,1,1,1,1,1,1,1,1,1,1,1,1,1,1,1,1,1,1,1,1,1,1,1,1,1,1,1,1,1,1,1,1,1,1,1,1,1,1,1,1,1,1,1,1,1,1,1,1,1,1,1,1,1,1,1,1,1,1,1,1,1,1,1,1,1,1,1,1,1,1,1,1,1,1,1,1,1,1,1,1,1,1,1,1,1,1,1,1,1,1,1,1,1,1,1,1,1,1,1,1,1,1,1,1,1,1,1,1,1,1,1,1,1,1,1,1,1,1,1,1,1,1,1,1,1,1,1,1,1,1,1,1,1,1,1,1,1,1,1,1,1,1,1,1,1,1,1,1,1,1,1,1,1,1,1,1,1,1,1,1,1,1,1,1,1,1,1,1,1,1,1,1,1,1,1,1,1,1,1,1,1,1,1,1,1,1,1,1,1,1,1,1,1,1,1,1,1,1,1,1,1,1,1,1,1,1,1,1,1,1,1,1,1,1,1,1,1,1,1,1,1,1,1,1,1,1,1,1,1,1,1,1,1,1,1,1,1,1,1,1,1,1,1,1,1,1,1,1,1,1,1,1,1,1,1,1,1,1,1,1,1,1,1,1,1,1,1,1,1,1,1,1,1,1,1,1,1,1,1,1,1,1,1,1,1,1,1,1,1,1,1,1,1,1,1,1,1,1,1,1,1,1,1,1,1,1,1,1,1,1,1,1,1,1,1,1,1,1,1,1,1,1,1,1,1,1,1,1,1,1,1,1,1,1,1,1,1,1,1,1,1,1,1,1,1,1,1,1,1,1,1,1,1,1,1,1,1,1,1,1,1,1,1,1,1,1,1,1,1,1,1,1,1,1,1,1,1,1,1,1,1,1,1,1,1,1,1,1,1,1,1,1,1,1,1,1,1,1,1,1,1,1,1,1,1,1,1,1,1,1,1,1,1,1,1,1,1,1,1,1,1,1,1,1,1,1,1,1,1,1,1,1,1,1,1,1,1,1,1,1,1,1,1,1,1,1,1,1,1,1,1,1,1,1,1,1,1,1,1,1,1,1,1,1,1,1,1,1,1,1,1,1,1,1,1,1,1,1,1,1,1,1,1,1,1,1,1,1,1,1,1,1,1,1,1,1,1,1,1,1,1,1,1,1,1,1,1,1,1,1,1,1,1,1,1,1,1,1,1,1,1,1,1,1,1,1,1,1,1,1,1,1,1,1,1,1,1,1,1,1,1,1,1,1,1,1,1,1,1,1,1,1,1,1,1,1,1,1,1,1,1,1,1,1,1,1,1,1,1,1,1,1,1,1,1,1,1,1,1,1,1,1,1,1,1,1,1,1,1,1,1,1,1,1,1,1,1,1,1,1,1,1,1,1,1,1,1,1,1,1,1,1,1,1,1,1,1,1,1,1,1,1,1,1,1,1,1,1,1,1,1,1,1,1,1,1,1,1,1,1,1,1,1,1,1,1,1,1,1,1,1,1,1,1,1,1,1,1,1,1,1,1,1,1,1,1,1,1,1,1,1,1,1,1,1,1,1,1,1,1,1,1,1,1,1,1,1,1,1,1,1,1,1,1,1,1,1,1,1,1,1,1,1,1,1,1,1,1,1,1,1,1,1,1,1,1,1,1,1,1,1,1,1,1,1,1,1,1,1,1,1,1,1,1,1,1,1,1,1,1,1,1,1,1,1,1,1,1,1,1,1,1,1,1,1,1,1,1,1,1,1,1,1,1,1,1,1,1,1,1,1,1,1,1,1,1,1,1,1,1,1,1,1,1,1,1,1,1,1,1,1,1,1,1,1,1,1,1,1,1,1,1,1,1,1,1,1,1,1,1,1,1,1,1,1,1,1,1,1,1,1,1,1,1,1,1,1,1,1,1,1,1,1,1,1,1,1,1,1,1,1,1,1,1,1,1,1,1,1,1,1,1,1,1,1,1,1,1,1,1,1,1,1,1,1,1,1,1,1,1,1,1,1,1,1,1,1,1,1,1,1,1,1,1,1,1,1,1,1,1,1,1,1,1,1,1,1,1,1,1,1,1,1,1,1,1,1,1,1,1,1,1,1,1,1,1,1,1,1,1,1,1,1,1,1,1,1,1,1,1,1,1,1,1,1,1,1,1,1,1,1,1,1,1,1,1,1,1,1,1,1,1,1,1,1,1,1,1,1,1,1,1,1,1,1,1,1,1,1,1,1,1,1,1,1,1,1,1,1,1,1,1,1,1,1,1,1,1,1,1,1,1,1,1,1,1,1,1,1,1,1,1,1,1,1,1,1,1,1,1,1,1,1,1,1,1,1,1,1,1,1,1,1,1,1,1,1,1,1,1,1,1,1,1,1,1,1,1,1,1,1,1,1,1,1,1,1,1,1,1,1,1,1,1,1,1,1,1,1,1,1,1,1,1,1,1,1,1,1,1,1,1,1,1,1,1,1,1,1,1,1,1,1,1,1,1,1,1,1,1,1,1,1,1,1,1,1,1,1,1,1,1,1,1,1,1,1,1,1,1,1,1,1,1,1,1,1,1,1,1,1,1,1,1,1,1,1,1,1,1,1,1,1,1,1,1,1,1,1,1,1,1,1,1,1,1,1,1,1,1,1,1,1,1,1,1,1,1,1,1,1,1,1,1,1,1,1,1,1,1,1,1,1,1,1,1,1,1,1,1,1,1,1,1,1,1,1,1,1,1,1,1,1,1,1,1,1,1,1,1,1,1,1,1,1,1,1,1,1,1,1,1,1,1,1,1,1,1,1,1,1,1,1,1,1,1,1,1,1,1,1,1,1,1,1,1,1,1,1,1,1,1,1,1,1,1,1,1,1,1,1,1,1,1,1,1,1,1,1,1,1,1,1,1,1,1,1,1,1,1,1,1,1,1,1,1,1,1,1,1,1,1,1,1,1,1,1,1,1,1,1,1,1,1,1,1,1,1,1,1,1,1,1,1,1,1,1,1,1,1,1,1,1,1,1,1,1,1,1,1,1,1,1,1,1,1,1,1,1,1,1,1,1,1,1,1,1,1,1,1,1,1,1,1,1,1,1,1,1,1,1,1,1,1,1,1,1,1,1,1,1,1,1,1,1,1,1,1,1,1,1,1,1,1,1,1,1,1,1,1,1,1,1,1,1,1,1,1,1,1,1,1,1,1,1,1,1,1,1,1,1,1,1,1,1,1,1,1,1,1,1,1,1,1,1,1,1,1,1,1,1,1,1,1,1,1,1,1,1,1,1,1,1,1,1,1,1,1,1,1,1,1,1,1,1,1,1,1,1,1,1,1,1,1,1,1,1,1,1,1,1,1,1,1,1,1,1,1,1,1,1,1,1,1,1,1,1,1,1,1,1,1,1,1,1,1,1,1,1,1,1,1,1,1,1,1,1,1,1,1,1,1,1,1,1,1,1,1,1,1,1,1,1,1,1,1,1,1,1,1,1,1,1,1,1,1,1,1,1,1,1,1,1,1,1,1,1,1,1,1,1,1,1,1,1,1,1,1,1,1,1,1,1,1,1,1,1,1,1,1,1,1,1,1,1,1,1,1,1,1,1,1,1,1,1,1,1,1,1,1,1,1,1,1,1,1,1,1,1,1,1,1,1,1,1,1,1,1,1,1,1,1,1,1,1,1,1,1,1,1,1,1,1,1,1,1,1,1,1,1,1,1,1,1,1,1,1,1,1,1,1,1,1,1,1,1,1,1,1,1,1,1,1,1,1,1,1,1,1,1,1,1,1,1,1,1,1,1,1,1,1,1,1,1,1,1,1,1,1,1,1,1,1,1,1,1,1,1,1,1,1,1,1,1,1,1,1,1,1,1,1,1,1,1,1,1,1,1,1,1,1,1,1,1,1,1,1,1,1,1,1,1,1,1,1,1,1,1,1,1,1,1,1,1,1,1,1,1,1,1,1,1,1,1,1,1,1,1,1,1,1,1,1,1,1,1,1,1,1,1,1,1,1,1,1,1,1,1,1,1,1,1,1,1,1,1,1,1,1,1,1,1,1,1,1,1,1,1,1,1,1,1,1,1,1,1,1,1,1,1,1,1,1,1,1,1,1,1,1,1,1,1,1,1,1,1,1,1,1,1,1,1,1,1,1,1,1,1,1,1,1,1,1,1,1,1,1,1,1,1,1,1,1,1,1,1,1,1,1,1,1,1,1,1,1,1,1,1,1,1,1,1,1,1,1,1,1,1,1,1,1,1,1,1,1,1,1,1,1,1,1,1,1,1,1,1,1,1,1,1,1,1,1,1,1,1,1,1,1,1,1,1,1,1,1,1,1,1,1,1,1,1,1,1,1,1,1,1,1,1,1,1,1,1,1,1,1,1,1,1,1,1,1,1,1,1,1,1,1,1,1,1,1,1,1,1,1,1,1,1,1,1,1,1,1,1,1,1,1,1,1,1,1,1,1,1,1,1,1,1,1,1,1,1,1,1,1,1,1,1,1,1,1,1,1,1,1,1,1,1,1,1,1,1,1,1,1,1,1,1,1,1,1,1,1,1,1,1,1,1,1,1,1,1,1,1,1,1,1,1,1,1,1,1,1,1,1,1,1,1,1,1,1,1,1,1,1,1,1,1,1,1,1,1,1,1,1,1,1,1,1,1,1,1,1,1,1,1,1,1,1,1,1,1,1,1,1,1,1,1,1,1,1,1,1,1,1,1,1,1,1,1,1,1,1,1,1,1,1,1,1,1,1,1,1,1,1,1,1,1,1,1,1,1,1,1,1,1,1,1,1,1,1,1,1,1,1,1,1,1,1,1,1,1,1,1,1,1,1,1,1,1,1,1,1,1,1,1,1,1,1,1,1,1,1,1,1,1,1,1,1,1,1,1,1,1,1,1,1,1,1,1,1,1,1,1,1,1,1,1,1,1,1,1,1,1,1,1,1,1,1,1,1,1,1,1,1,1,1,1,1,1,1,1,1,1,1,1,1,1,1,1,1,1,1,1,1,1,1,1,1,1,1,1,1,1,1,1,1,1,1,1,1,1,1,1,1,1,1,1,1,1,1,1,1,1,1,1,1,1,1,1,1,1,1,1,1,1,1,1,1,1,1,1,1,1,1,1,1,1,1,1,1,1,1,1,1,1,1,1,1,1,1,1,1,1,1,1,1,1,1,1,1,1,1,1,1,1,1,1,1,1,1,1,1,1,1,1,1,1,1,1,1,1,1,1,1,1,1,1,1,1,1,1,1,1,1,1,1,1,1,1,1,1,1,1,1,1,1,1,1,1,1,1,1,1,1,1,1,1,1,1,1,1,1,1,1,1,1,1,1,1,1,1,1,1,1,1,1,1,1,1,1,1,1,1,1,1,1,1,1,1,1,1,1,1,1,1,1,1,1,1,1,1,1,1,1,1,1,1,1,1,1,1,1,1,1,1,1,1,1,1,1,1,1,1,1,1,1,1,1,1,1,1,1,1,1,1,1,1,1,1,1,1,1,1,1,1,1,1,1,1,1,1,1,1,1,1,1,1,1,1,1,1,1,1,1,1,1,1,1,1,1,1,1,1,1,1,1,1,1,1,1,1,1,1,1,1,1,1,1,1,1,1,1,1,1,1,1,1,1,1,1,1,1,1,1,1,1,1,1,1,1,1,1,1,1,1,1,1,1,1,1,1,1,1,1,1,1,1,1,1,1,1,1,1,1,1,1,1,1,1,1,1,1,1,1,1,1,1,1,1,1,1,1,1,1,1,1,1,1,1,1,1,1,1,1,1,1,1,1,1,1,1,1,1,1,1,1,1,1,1,1,1,1,1,1,1,1,1,1,1,1,1,1,1,1,1,1,1,1,1,1,1,1,1,1,1,1,1,1,1,1,1,1,1,1,1,1,1,1,1,1,1,1,1,1,1,1,1,1,1,1,1,1,1,1,1,1,1,1,1,1,1,1,1,1,1,1,1,1,1,1,1,1,1,1,1,1,1,1,1,1,1,1,1,1,1,1,1,1,1,1,1,1,1,1,1,1,1,1,1,1,1,1,1,1,1,1,1,1,1,1,1,1,1,1,1,1,1,1,1,1,1,1,1,1,1,1,1,1,1,1,1,1,1,1,1,1,1,1,1,1,1,1,1,1,1,1,1,1,1,1,1,1,1,1,1,1,1,1,1,1,1,1,1,1,1,1,1,1,1,1,1,1,1,1,1,1,1,1,1,1,1,1,1,1,1,1,1,1,1,1,1,1,1,1,1,1,1,1,1,1,1,1,1,1,1,1,1,1,1,1,1,1,1,1,1,1,1,1,1,1,1,1,1,1,1,1,1,1,1,1,1,1,1,1,1,1,1,1,1,1,1,1,1,1,1,1,1,1,1,1,1,1,1,1,1,1,1,1,1,1,1,1,1,1,1,1,1,1,1,1,1,1,1,1,1,1,1,1,1,1,1,1,1,1,1,1,1,1,1,1,1,1,1,1,1,1,1,1,1,1,1,1,1,1,1,1,1,1,1,1,1,1,1,1,1,1,1,1,1,1,1,1,1,1,1,1,1,1,1,1,1,1,1,1,1,1,1,1,1,1,1,1,1,1,1,1,1,1,1,1,1,1,1,1,1,1,1,1,1,1,1,1,1,1,1,1,1,1,1,1,1,1,1,1,1,1,1,1,1,1,1,1,1,1,1,1,1,1,1,1,1,1,1,1,1,1,1,1,1,1,1,1,1,1,1,1,1,1,1,1,1,1,1,1,1,1,1,1,1,1,1,1,1,1,1,1,1,1,1,1,1,1,1,1,1,1,1,1,1,1,1,1,1,1,1,1,1,1,1,1,1,1,1,1,1,1,1,1,1,1,1,1,1,1,1,1,1,1,1,1,1,1,1,1,1,1,1,1,1,1,1,1,1,1,1,1,1,1,1,1,1,1,1,1,1,1,1,1,1,1,1,1,1,1,1,1,1,1,1,1,1,1,1,1,1,1,1,1,1,1,1,1,1,1,1,1,1,1,1,1,1,1,1,1,1,1,1,1,1,1,1,1,1,1,1,1,1,1,1,1,1,1,1,1,1,1,1,1,1,1,1,1,1,1,1,1,1,1,1,1,1,1,1,1,1,1,1,1,1,1,1,1,1,1,1,1,1,1,1,1,1,1,1,1,1,1,1,1,1,1,1,1,1,1,1,1,1,1,1,1,1,1,1,1,1,1,1,1,1,1,1,1,1,1,1,1,1,1,1,1,1,1,1,1,1,1,1,1,1,1,1,1,1,1,1,1,1,1,1,1,1,1,1,1,1,1,1,1,1,1,1,1,1,1,1,1,1,1,1,1,1,1,1,1,1,1,1,1,1,1,1,1,1,1,1,1,1,1,1,1,1,1,1,1,1,1,1,1,1,1,1,1,1,1,1,1,1,1,1,1,1,1,1,1,1,1,1,1,1,1,1,1,1,1,1,1,1,1,1,1,1,1,1,1,1,1,1,1,1,1,1,1,1,1,1,1,1,1,1,1,1,1,1,1,1,1,1,1,1,1,1,1,1,1,1,1,1,1,1,1,1,1,1,1,1,1,1,1,1,1,1,1,1,1,1,1,1,1,1,1,1,1,1,1,1,1,1,1,1,1,1,1,1,1,1,1,1,1,1,1,1,1,1,1,1,1,1,1,1,1,1,1,1,1,1,1,1,1,1,1,1,1,1,1,1,1,1,1,1,1,1,1,1,1,1,1,1,1,1,1,1,1,1,1,1,1,1,1,1,1,1,1,1,1,1,1,1,1,1,1,1,1,1,1,1,1,1,1,1,1,1,1,1,1,1,1,1,1,1,1,1,1,1,1,1,1,1,1,1,1,1,1,1,1,1,1,1,1,1,1,1,1,1,1,1,1,1,1,1,1,1,1,1,1,1,1,1,1,1,1,1,1,1,1,1,1,1,1,1,1,1,1,1,1,1,1,1,1,1,1,1,1,1,1,1,1,1,1,1,1,1,1,1,1,1,1,1,1,1,1,1,1,1,1,1,1,1,1,1,1,1,1,1,1,1,1,1,1,1,1,1,1,1,1,1,1,1,1,1,1,1,1,1,1,1,1,1,1,1,1,1,1,1,1,1,1,1,1,1,1,1,1,1,1,1,1,1,1,1,1,1,1,1,1,1,1,1,1,1,1,1,1,1,1,1,1,1,1,1,1,1,1,1,1,1,1,1,1,1,1,1,1,1,1,1,1,1,1,1,1,1,1,1,1,1,1,1,1,1,1,1,1,1,1,1,1,1,1,1,1,1,1,1,1,1,1,1,1,1,1,1,1,1,1,1,1,1,1,1,1,1,1,1,1,1,1,1,1,1,1,1,1,1,1,1,1,1,1,1,1,1,1,1,1,1,1,1,1,1,1,1,1,1,1,1,1,1,1,1,1,1,1,1,1,1,1,1,1,1,1,1,1,1,1,1,1,1,1,1,1,1,1,1,1,1,1,1,1,1,1,1,1,1,1,1,1,1,1,1,1,1,1,1,1,1,1,1,1,1,1,1,1,1,1,1,1,1,1,1,1,1,1,1,1,1,1,1,1,1,1,1,1,1,1,1,1,1,1,1,1,1,1,1,1,1,1,1,1,1,1,1,1,1,1,1,1,1,1,1,1,1,1,1,1,1,1,1,1,1,1,1,1,1,1,1,1,1,1,1,1,1,1,1,1,1,1,1,1,1,1,1,1,1,1,1,1,1,1,1,1,1,1,1,1,1,1,1,1,1,1,1,1,1,1,1,1,1,1,1,1,1,1,1,1,1,1,1,1,1,1,1,1,1,1,1,1,1,1,1,1,1,1,1,1,1,1,1,1,1,1,1,1,1,1,1,1,1,1,1,1,1,1,1,1,1,1,1,1,1,1,1,1,1,1,1,1,1,1,1,1,1,1,1,1,1,1,1,1,1,1,1,1,1,1,1,1,1,1,1,1,1,1,1,1,1,1,1,1,1,1,1,1,1,1,1,1,1,1,1,1,1,1,1,1,1,1,1,1,1,1,1,1,1,1,1,1,1,1,1,1,1,1,1,1,1,1,1,1,1,1,1,1,1,1,1,1,1,1,1,1,1,1,1,1,1,1,1,1,1,1,1,1,1,1,1,1,1,1,1,1,1,1,1,1,1,1,1,1,1,1,1,1,1,1,1,1,1,1,1,1,1,1,1,1,1,1,1,1,1,1,1,1,1,1,1,1,1,1,1,1,1,1,1,1,1,1,1,1,1,1,1,1,1,1,1,1,1,1,1,1,1,1,1,1,1,1,1,1,1,1,1,1,1,1,1,1,1,1,1,1,1,1,1,1,1,1,1,1,1,1,1,1,1,1,1,1,1,1,1,1,1,1,1,1,1,1,1,1,1,1,1,1,1,1,1,1,1,1,1,1,1,1,1,1,1,1,1,1,1,1,1,1,1,1,1,1,1,1,1,1,1,1,1,1,1,1,1,1,1,1,1,1,1,1,1,1,1,1,1,1,1,1,1,1,1,1,1,1,1,1,1,1,1,1,1,1,1,1,1,1,1,1,1,1,1,1,1,1,1,1,1,1,1,1,1,1,1,1,1,1,1,1,1,1,1,1,1,1,1,1,1,1,1,1,1,1,1,1,1,1,1,1,1,1,1,1,1,1,1,1,1,1,1,1,1,1,1,1,1,1,1,1,1,1,1,1,1,1,1,1,1,1,1,1,1,1,1,1,1,1,1,1,1,1,1,1,1,1,1,1,1,1,1,1,1,1,1,1,1,1,1,1,1,1,1,1,1,1,1,1,1,1,1,1,1,1,1,1,1,1,1,1,1,1,1,1,1,1,1,1,1,1,1,1,1,1,1,1,1,1,1,1,1,1,1,1,1,1,1,1,1,1,1,1,1,1,1,1,1,1,1,1,1,1,1,1,1,1,1,1,1,1,1,1,1,1,1,1,1,1,1,1,1,1,1,1,1,1,1,1,1,1,1,1,1,1,1,1,1,1,1,1,1,1,1,1,1,1,1,1,1,1,1,1,1,1,1,1,1,1,1,1,1,1,1,1,1,1,1,1,1,1,1,1,1,1,1,1,1,1,1,1,1,1,1,1,1,1,1,1,1,1,1,1,1,1,1,1,1,1,1,1,1,1,1,1,1,1,1,1,1,1,1,1,1,1,1,1,1,1,1,1,1,1,1,1,1,1,1,1,1,1,1,1,1,1,1,1,1,1,1,1,1,1,1,1,1,1,1,1,1,1,1,1,1,1,1,1,1,1,1,1,1,1,1,1,1,1,1,1,1,1,1,1,1,1,1,1,1,1,1,1,1,1,1,1,1,1,1,1,1,1,1,1,1,1,1,1,1,1,1,1,1,1,1,1,1,1,1,1,1,1,1,1,1,1,1,1,1,1,1,1,1,1,1,1,1,1,1,1,1,1,1,1,1,1,1,1,1,1,1,1,1,1,1,1,1,1,1,1,1,1,1,1,1,1,1,1,1,1,1,1,1,1,1,1,1,1,1,1,1,1,1,1,1,1,1,1,1,1,1,1,1,1,1,1,1,1,1,1,1,1,1,1,1,1,1,1,1,1,1,1,1,1,1,1,1,1,1,1,1,1,1,1,1,1,1,1,1,1,1,1,1,1,1,1,1,1,1,1,1,1,1,1,1,1,1,1,1,1,1,1,1,1,1,1,1,1,1,1,1,1,1,1,1,1,1,1,1,1,1,1,1,1,1,1,1,1,1,1,1,1,1,1,1,1,1,1,1,1,1,1,1,1,1,1,1,1,1,1,1,1,1,1,1,1,1,1,1,1,1,1,1,1,1,1,1,1,1,1,1,1,1,1,1,1,1,1,1,1,1,1,1,1,1,1,1,1,1,1,1,1,1,1,1,1,1,1,1,1,1,1,1,1,1,1,1,1,1,1,1,1,1,1,1,1,1,1,1,1,1,1,1,1,1,1,1,1,1,1,1,1,1,1,1,1,1,1,1,1,1,1,1,1,1,1,1,1,1,1,1,1,1,1,1,1,1,1,1,1,1,1,1,1,1,1,1,1,1,1,1,1,1,1,1,1,1,1,1,1,1,1,1,1,1,1,1,1,1,1,1,1,1,1,1,1,1,1,1,1,1,1,1,1,1,1,1,1,1,1,1,1,1,1,1,1,1,1,1,1,1,1,1,1,1,1,1,1,1,1,1,1,1,1,1,1,1,1,1,1,1,1,1,1,1,1,1,1,1,1,1,1,1,1,1,1,1,1,1,1,1,1,1,1,1,1,1,1,1,1,1,1,1,1,1,1,1,1,1,1,1,1,1,1,1,1,1,1,1,1,1,1,1,1,1,1,1,1,1,1,1,1,1,1,1,1,1,1,1,1,1,1,1,1,1,1,1,1,1,1,1,1,1,1,1,1,1,1,1,1,1,1,1,1,1,1,1,1,1,1,1,1,1,1,1,1,1,1,1,1,1,1,1,1,1,1,1,1,1,1,1,1,1,1,1,1,1,1,1,1,1,1,1,1,1,1,1,1,1,1,1,1,1,1,1,1,1,1,1,1,1,1,1,1,1,1,1,1,1,1,1,1,1,1,1,1,1,1,1,1,1,1,1,1,1,1,1,1,1,1,1,1,1,1,1,1,1,1,1,1,1,1,1,1,1,1,1,1,1,1,1,1,1,1,1,1,1,1,1,1,1,1,1,1,1,1,1,1,1,1,1,1,1,1,1,1,1,1,1,1,1,1,1,1,1,1,1,1,1,1,1,1,1,1,1,1,1,1,1,1,1,1,1,1,1,1,1,1,1,1,1,1,1,1,1,1,1,1,1,1,1,1,1,1,1,1,1,1,1,1,1,1,1,1,1,1,1,1,1,1,1,1,1,1,1,1,1,1,1,1,1,1,1,1,1,1,1,1,1,1,1,1,1,1,1,1,1,1,1,1,1,1,1,1,1,1,1,1,1,1,1,1,1,1,1,1,1,1,1,1,1,1,1,1,1,1,1,1,1,1,1,1,1,1,1,1,1,1,1,1,1,1,1,1,1,1,1,1,1,1,1,1,1,1,1,1,1,1,1,1,1,1,1,1,1,1,1,1,1,1,1,1,1,1,1,1,1,1,1,1,1,1,1,1,1,1,1,1,1,1,1,1,1,1,1,1,1,1,1,1,1,1,1,1,1,1,1,1,1,1,1,1,1,1,1,1,1,1,1,1,1,1,1,1,1,1,1,1,1,1,1,1,1,1,1,1,1,1,1,1,1,1,1,1,1,1,1,1,1,1,1,1,1,1,1,1,1,1,1,1,1,1,1,1,1,1,1,1,1,1,1,1,1,1,1,1,1,1,1,1,1,1,1,1,1,1,1,1,1,1,1,1,1,1,1,1,1,1,1,1,1,1,1,1,1,1,1,1,1,1,1,1,1,1,1,1,1,1,1,1,1,1,1,1,1,1,1,1,1,1,1,1,1,1,1,1,1,1,1,1,1,1,1,1,1,1,1,1,1,1,1,1,1,1,1,1,1,1,1,1,1,1,1,1,1,1,1,1,1,1,1,1,1,1,1,1,1,1,1,1,1,1,1,1,1,1,1,1,1,1,1,1,1,1,1,1,1,1,1,1,1,1,1,1,1,1,1,1,1,1,1,1,1,1,1,1,1,1,1,1,1,1,1,1,1,1,1,1,1,1,1,1,1,1,1,1,1,1,1,1,1,1,1,1,1,1,1,1,1,1,1,1,1,1,1,1,1,1,1,1,1,1,1,1,1,1,1,1,1,1,1,1,1,1,1,1,1,1,1,1,1,1,1,1,1,1,1,1,1,1,1,1,1,1,1,1,1,1,1,1,1,1,1,1,1,1,1,1,1,1,1,1,1,1,1,1,1,1,1,1,1,1,1,1,1,1,1,1,1,1,1,1,1,1,1,1,1,1,1,1,1,1,1,1,1,1,1,1,1,1,1,1,1,1,1,1,1,1,1,1,1,1,1,1,1,1,1,1,1,1,1,1,1,1,1,1,1,1,1,1,1,1,1,1,1,1,1,1,1,1,1,1,1,1,1,1,1,1,1,1,1,1,1,1,1,1,1,1,1,1,1,1,1,1,1,1,1,1,1,1,1,1,1,1,1,1,1,1,1,1,1,1,1,1,1,1,1,1,1,1,1,1,1,1,1,1,1,1,1,1,1,1,1,1,1,1,1,1,1,1,1,1,1,1,1,1,1,1,1,1,1,1,1,1,1,1,1,1,1,1,1,1,1,1,1,1,1,1,1,1,1,1,1,1,1,1,1,1,1,1,1,1,1,1,1,1,1,1,1,1,1,1,1,1,1,1,1,1,1,1,1,1,1,1,1,1,1,1,1,1,1,1,1,1,1,1,1,1,1,1,1,1,1,1,1,1,1,1,1,1,1,1,1,1,1,1,1,1,1,1,1,1,1,1,1,1,1,1,1,1,1,1,1,1,1,1,1,1,1,1,1,1,1,1,1,1,1,1,1,1,1,1,1,1,1,1,1,1,1,1,1,1,1,1,1,1,1,1,1,1,1,1,1,1,1,1,1,1,1,1,1,1,1,1,1,1,1,1,1,1,1,1,1,1,1,1,1,1,1,1,1,1,1,1,1,1,1,1,1,1,1,1,1,1,1,1,1,1,1,1,1,1,1,1,1,1,1,1,1,1,1,1,1,1,1,1,1,1,1,1,1,1,1,1,1,1,1,1,1,1,1,1,1,1,1,1,1,1,1,1,1,1,1,1,1,1,1,1,1,1,1,1,1,1,1,1,1,1,1,1,1,1,1,1,1,1,1,1,1,1,1,1,1,1,1,1,1,1,1,1,1,1,1,1,1,1,1,1,1,1,1,1,1,1,1,1,1,1,1,1,1,1,1,1,1,1,1,1,1,1,1,1,1,1,1,1,1,1,1,1,1,1,1,1,1,1,1,1,1,1,1,1,1,1,1,1,1,1,1,1,1,1,1,1,1,1,1,1,1,1,1,1,1,1,1,1,1,1,1,1,1,1,1,1,1,1,1,1,1,1,1,1,1,1,1,1,1,1,1,1,1,1,1,1,1,1,1,1,1,1,1,1,1,1,1,1,1,1,1,1,1,1,1,1,1,1,1,1,1,1,1,1,1,1,1,1,1,1,1,1,1,1,1,1,1,1,1,1,1,1,1,1,1,1,1,1,1,1,1,1,1,1,1,1,1,1,1,1,1,1,1,1,1,1,1,1,1,1,1,1,1,1,1,1,1,1,1,1,1,1,1,1,1,1,1,1,1,1,1,1,1,1,1,1,1,1,1,1,1,1,1,1,1,1,1,1,1,1,1,1,1,1,1,1,1,1,1,1,1,1,1,1,1,1,1,1,1,1,1,1,1,1,1,1,1,1,1,1,1,1,1,1,1,1,1,1,1,1,1,1,1,1,1,1,1,1,1,1,1,1,1,1,1,1,1,1,1,1,1,1,1,1,1,1,1,1,1,1,1,1,1,1,1,1,1,1,1,1,1,1,1,1,1,1,1,1,1,1,1,1,1,1,1,1,1,1,1,1,1,1,1,1,1,1,1,1,1,1,1,1,1,1,1,1,1,1,1,1,1,1,1,1,1,1,1,1,1,1,1,1,1,1,1,1,1,1,1,1,1,1,1,1,1,1,1,1,1,1,1,1,1,1,1,1,1,1,1,1,1,1,1,1,1,1,1,1,1,1,1,1,1,1,1,1,1,1,1,1,1,1,1,1,1,1,1,1,1,1,1,1,1,1,1,1,1,1,1,1,1,1,1,1,1,1,1,1,1,1,1,1,1,1,1,1,1,1,1,1,1,1,1,1,1,1,1,1,1,1,1,1,1,1,1,1,1,1,1,1,1,1,1,1,1,1,1,1,1,1,1,1,1,1,1,1,1,1,1,1,1,1,1,1,1,1,1,1,1,1,1,1,1,1,1,1,1,1,1,1,1,1,1,1,1,1,1,1,1,1,1,1,1,1,1,1,1,1,1,1,1,1,1,1,1,1,1,1,1,1,1,1,1,1,1,1,1,1,1,1,1,1,1,1,1,1,1,1,1,1,1,1,1,1,1,1,1,1,1,1,1,1,1,1,1,1,1,1,1,1,1,1,1,1,1,1,1,1,1,1,1,1,1,1,1,1,1,1,1,1,1,1,1,1,1,1,1,1,1,1,1,1,1,1,1,1,1,1,1,1,1,1,1,1,1,1,1,1,1,1,1,1,1,1,1,1,1,1,1,1,1,1,1,1,1,1,1,1,1,1,1,1,1,1,1,1,1,1,1,1,1,1,1,1,1,1,1,1,1,1,1,1,1,1,1,1,1,1,1,1,1,1,1,1,1,1,1,1,1,1,1,1,1,1,1,1,1,1,1,1,1,1,1,1,1,1,1,1,1,1,1,1,1,1,1,1,1,1,1,1,1,1,1,1,1,1,1,1,1,1,1,1,1,1,1,1,1,1,1,1,1,1,1,1,1,1,1,1,1,1,1,1,1,1,1,1,1,1,1,1,1,1,1,1,1,1,1,1,1,1,1,1,1,1,1,1,1,1,1,1,1,1,1,1,1,1,1,1,1,1,1,1,1,1,1,1,1,1,1,1,1,1,1,1,1,1,1,1,1,1,1,1,1,1,1,1,1,1,1,1,1,1,1,1,1,1,1,1,1,1,1,1,1,1,1,1,1,1,1,1,1,1,1,1,1,1,1,1,1,1,1,1,1,1,1,1,1,1,1,1,1,1,1,1,1,1,1,1,1,1,1,1,1,1,1,1,1,1,1,1,1,1,1,1,1,1,1,1,1,1,1,1,1,1,1,1,1,1,1,1,1,1,1,1,1,1,1,1,1,1,1,1,1,1,1,1,1,1,1,1,1,1,1,1,1,1,1,1,1,1,1,1,1,1,1,1,1,1,1,1,1,1,1,1,1,1,1,1,1,1,1,1,1,1,1,1,1,1,1,1,1,1,1,1,1,1,1,1,1,1,1,1,1,1,1,1,1,1,1,1,1,1,1,1,1,1,1,1,1,1,1,1,1,1,1,1,1,1,1,1,1,1,1,1,1,1,1,1,1,1,1,1,1,1,1,1,1,1,1,1,1,1,1,1,1,1,1,1,1,1,1,1,1,1,1,1,1,1,1,1,1,1,1,1,1,1,1,1,1,1,1,1,1,1,1,1,1,1,1,1,1,1,1,1,1,1,1,1,1,1,1,1,1,1,1,1,1,1,1,1,1,1,1,1,1,1,1,1,1,1,1,1,1,1,1,1,1,1,1,1,1,1,1,1,1,1,1,1,1,1,1,1,1,1,1,1,1,1,1,1,1,1,1,1,1,1,1,1,1,1,1,1,1,1,1,1,1,1,1,1,1,1,1,1,1,1,1,1,1,1,1,1,1,1,1,1,1,1,1,1,1,1,1,1,1,1,1,1,1,1,1,1,1,1,1,1,1,1,1,1,1,1,1,1,1,1,1,1,1,1,1,1,1,1,1,1,1,1,1,1,1,1,1,1,1,1,1,1,1,1,1,1,1,1,1,1,1,1,1,1,1,1,1,1,1,1,1,1,1,1,1,1,1,1,1,1,1,1,1,1,1,1,1,1,1,1,1,1,1,1,1,1,1,1,1,1,1,1,1,1,1,1,1,1,1,1,1,1,1,1,1,1,1,1,1,1,1,1,1,1,1,1,1,1,1,1,1,1,1,1,1,1,1,1,1,1,1,1,1,1,1,1,1,1,1,1,1,1,1,1,1,1,1,1,1,1,1,1,1,1,1,1,1,1,1,1,1,1,1,1,1,1,1,1,1,1,1,1,1,1,1,1,1,1,1,1,1,1,1,1,1,1,1,1,1,1,1,1,1,1,1,1,1,1,1,1,1,1,1,1,1,1,1,1,1,1,1,1,1,1,1,1,1,1,1,1,1,1,1,1,1,1,1,1,1,1,1,1,1,1,1,1,1,1,1,1,1,1,1,1,1,1,1,1,1,1,1,1,1,1,1,1,1,1,1,1,1,1,1,1,1,1,1,1,1,1,1,1,1,1,1,1,1,1,1,1,1,1,1,1,1,1,1,1,1,1,1,1,1,1,1,1,1,1,1,1,1,1,1,1,1,1,1,1,1,1,1,1,1,1,1,1,1,1,1,1,1,1,1,1,1,1,1,1,1,1,1,1,1,1,1,1,1,1,1,1,1,1,1,1,1,1,1,1,1,1,1,1,1,1,1,1,1,1,1,1,1,1,1,1,1,1,1,1,1,1,1,1,1,1,1,1,1,1,1,1,1,1,1,1,1,1,1,1,1,1,1,1,1,1,1,1,1,1,1,1,1,1,1,1,1,1,1,1,1,1,1,1,1,1,1,1,1,1,1,1,1,1,1,1,1,1,1,1,1,1,1,1,1,1,1,1,1,1,1,1,1,1,1,1,1,1,1,1,1,1,1,1,1,1,1,1,1,1,1,1,1,1,1,1,1,1,1,1,1,1,1,1,1,1,1,1,1,1,1,1,1,1,1,1,1,1,1,1,1,1,1,1,1,1,1,1,1,1,1,1,1,1,1,1,1,1,1,1,1,1,1,1,1,1,1,1,1,1,1,1,1,1,1,1,1,1,1,1,1,1,1,1,1,1,1,1,1,1,1,1,1,1,1,1,1,1,1,1,1,1,1,1,1,1,1,1,1,1,1,1,1,1,1,1,1,1,1,1,1,1,1,1,1,1,1,1,1,1,1,1,1,1,1,1,1,1,1,1,1,1,1,1,1,1,1,1,1,1,1,1,1,1,1,1,1,1,1,1,1,1,1,1,1,1,1,1,1,1,1,1,1,1,1,1,1,1,1,1,1,1,1,1,1,1,1,1,1,1,1,1,1,1,1,1,1,1,1,1,1,1,1,1,1,1,1,1,1,1,1,1,1,1,1,1,1,1,1,1,1,1,1,1,1,1,1,1,1,1,1,1,1,1,1,1,1,1,1,1,1,1,1,1,1,1,1,1,1,1,1,1,1,1,1,1,1,1,1,1,1,1,1,1,1,1,1,1,1,1,1,1,1,1,1,1,1,1,1,1,1,1,1,1,1,1,1,1,1,1,1,1,1,1,1,1,1,1,1,1,1,1,1,1,1,1,1,1,1,1,1,1,1,1,1,1,1,1,1,1,1,1,1,1,1,1,1,1,1,1,1,1,1,1,1,1,1,1,1,1,1,1,1,1,1,1,1,1,1,1,1,1,1,1,1,1,1,1,1,1,1,1,1,1,1,1,1,1,1,1,1,1,1,1,1,1,1,1,1,1,1,1,1,1,1,1,1,1,1,1,1,1,1,1,1,1,1,1,1,1,1,1,1,1,1,1,1,1,1,1,1,1,1,1,1,1,1,1,1,1,1,1,1,1,1,1,1,1,1,1,1,1,1,1,1,1,1,1,1,1,1,1,1,1,1,1,1,1,1,1,1,1,1,1,1,1,1,1,1,1,1,1,1,1,1,1,1,1,1,1,1,1,1,1,1,1,1,1,1,1,1,1,1,1,1,1,1,1,1,1,1,1,1,1,1,1,1,1,1,1,1,1,1,1,1,1,1,1,1,1,1,1,1,1,1,1,1,1,1,1,1,1,1,1,1,1,1,1,1,1,1,1,1,1,1,1,1,1,1,1,1,1,1,1,1,1,1,1,1,1,1,1,1,1,1,1,1,1,1,1,1,1,1,1,1,1,1,1,1,1,1,1,1,1,1,1,1,1,1,1,1,1,1,1,1,1,1,1,1,1,1,1,1,1,1,1,1,1,1,1,1,1,1,1,1,1,1,1,1,1,1,1,1,1,1,1,1,1,1,1,1,1,1,1,1,1,1,1,1,1,1,1,1,1,1,1,1,1,1,1,1,1,1,1,1,1,1,1,1,1,1,1,1,1,1,1,1,1,1,1,1,1,1,1,1,1,1,1,1,1,1,1,1,1,1,1,1,1,1,1,1,1,1,1,1,1,1,1,1,1,1,1,1,1,1,1,1,1,1,1,1,1,1,1,1,1,1,1,1,1,1,1,1,1,1,1,1,1,1,1,1,1,1,1,1,1,1,1,1,1,1,1,1,1,1,1,1,1,1,1,1,1,1,1,1,1,1,1,1,1,1,1,1,1,1,1,1,1,1,1,1,1,1,1,1,1,1,1,1,1,1,1,1,1,1,1,1,1,1,1,1,1,1,1,1,1,1,1,1,1,1,1,1,1,1,1,1,1,1,1,1,1,1,1,1,1,1,1,1,1,1,1,1,1,1,1,1,1,1,1,1,1,1,1,1,1,1,1,1,1,1,1,1,1,1,1,1,1,1,1,1,1,1,1,1,1,1,1,1,1,1,1,1,1,1,1,1,1,1,1,1,1,1,1,1,1,1,1,1,1,1,1,1,1,1,1,1,1,1,1,1,1,1,1,1,1,1,1,1,1,1,1,1,1,1,1,1,1,1,1,1,1,1,1,1,1,1,1,1,1,1,1,1,1,1,1,1,1,1,1,1,1,1,1,1,1,1,1,1,1,1,1,1,1,1,1,1,1,1,1,1,1,1,1,1,1,1,1,1,1,1,1,1,1,1,1,1,1,1,1,1,1,1,1,1,1,1,1,1,1,1,1,1,1,1,1,1,1,1,1,1,1,1,1,1,1,1,1,1,1,1,1,1,1,1,1,1,1,1,1,1,1,1,1,1,1,1,1,1,1,1,1,1,1,1,1,1,1,1,1,1,1,1,1,1,1,1,1,1,1,1,1,1,1,1,1,1,1,1,1,1,1,1,1,1,1,1,1,1,1,1,1,1,1,1,1,1,1,1,1,1,1,1,1,1,1,1,1,1,1,1,1,1,1,1,1,1,1,1,1,1,1,1,1,1,1,1,1,1,1,1,1,1,1,1],\"yaxis\":\"y\",\"type\":\"bar\"}],                        {\"template\":{\"data\":{\"histogram2dcontour\":[{\"type\":\"histogram2dcontour\",\"colorbar\":{\"outlinewidth\":0,\"ticks\":\"\"},\"colorscale\":[[0.0,\"#0d0887\"],[0.1111111111111111,\"#46039f\"],[0.2222222222222222,\"#7201a8\"],[0.3333333333333333,\"#9c179e\"],[0.4444444444444444,\"#bd3786\"],[0.5555555555555556,\"#d8576b\"],[0.6666666666666666,\"#ed7953\"],[0.7777777777777778,\"#fb9f3a\"],[0.8888888888888888,\"#fdca26\"],[1.0,\"#f0f921\"]]}],\"choropleth\":[{\"type\":\"choropleth\",\"colorbar\":{\"outlinewidth\":0,\"ticks\":\"\"}}],\"histogram2d\":[{\"type\":\"histogram2d\",\"colorbar\":{\"outlinewidth\":0,\"ticks\":\"\"},\"colorscale\":[[0.0,\"#0d0887\"],[0.1111111111111111,\"#46039f\"],[0.2222222222222222,\"#7201a8\"],[0.3333333333333333,\"#9c179e\"],[0.4444444444444444,\"#bd3786\"],[0.5555555555555556,\"#d8576b\"],[0.6666666666666666,\"#ed7953\"],[0.7777777777777778,\"#fb9f3a\"],[0.8888888888888888,\"#fdca26\"],[1.0,\"#f0f921\"]]}],\"heatmap\":[{\"type\":\"heatmap\",\"colorbar\":{\"outlinewidth\":0,\"ticks\":\"\"},\"colorscale\":[[0.0,\"#0d0887\"],[0.1111111111111111,\"#46039f\"],[0.2222222222222222,\"#7201a8\"],[0.3333333333333333,\"#9c179e\"],[0.4444444444444444,\"#bd3786\"],[0.5555555555555556,\"#d8576b\"],[0.6666666666666666,\"#ed7953\"],[0.7777777777777778,\"#fb9f3a\"],[0.8888888888888888,\"#fdca26\"],[1.0,\"#f0f921\"]]}],\"heatmapgl\":[{\"type\":\"heatmapgl\",\"colorbar\":{\"outlinewidth\":0,\"ticks\":\"\"},\"colorscale\":[[0.0,\"#0d0887\"],[0.1111111111111111,\"#46039f\"],[0.2222222222222222,\"#7201a8\"],[0.3333333333333333,\"#9c179e\"],[0.4444444444444444,\"#bd3786\"],[0.5555555555555556,\"#d8576b\"],[0.6666666666666666,\"#ed7953\"],[0.7777777777777778,\"#fb9f3a\"],[0.8888888888888888,\"#fdca26\"],[1.0,\"#f0f921\"]]}],\"contourcarpet\":[{\"type\":\"contourcarpet\",\"colorbar\":{\"outlinewidth\":0,\"ticks\":\"\"}}],\"contour\":[{\"type\":\"contour\",\"colorbar\":{\"outlinewidth\":0,\"ticks\":\"\"},\"colorscale\":[[0.0,\"#0d0887\"],[0.1111111111111111,\"#46039f\"],[0.2222222222222222,\"#7201a8\"],[0.3333333333333333,\"#9c179e\"],[0.4444444444444444,\"#bd3786\"],[0.5555555555555556,\"#d8576b\"],[0.6666666666666666,\"#ed7953\"],[0.7777777777777778,\"#fb9f3a\"],[0.8888888888888888,\"#fdca26\"],[1.0,\"#f0f921\"]]}],\"surface\":[{\"type\":\"surface\",\"colorbar\":{\"outlinewidth\":0,\"ticks\":\"\"},\"colorscale\":[[0.0,\"#0d0887\"],[0.1111111111111111,\"#46039f\"],[0.2222222222222222,\"#7201a8\"],[0.3333333333333333,\"#9c179e\"],[0.4444444444444444,\"#bd3786\"],[0.5555555555555556,\"#d8576b\"],[0.6666666666666666,\"#ed7953\"],[0.7777777777777778,\"#fb9f3a\"],[0.8888888888888888,\"#fdca26\"],[1.0,\"#f0f921\"]]}],\"mesh3d\":[{\"type\":\"mesh3d\",\"colorbar\":{\"outlinewidth\":0,\"ticks\":\"\"}}],\"scatter\":[{\"fillpattern\":{\"fillmode\":\"overlay\",\"size\":10,\"solidity\":0.2},\"type\":\"scatter\"}],\"parcoords\":[{\"type\":\"parcoords\",\"line\":{\"colorbar\":{\"outlinewidth\":0,\"ticks\":\"\"}}}],\"scatterpolargl\":[{\"type\":\"scatterpolargl\",\"marker\":{\"colorbar\":{\"outlinewidth\":0,\"ticks\":\"\"}}}],\"bar\":[{\"error_x\":{\"color\":\"#2a3f5f\"},\"error_y\":{\"color\":\"#2a3f5f\"},\"marker\":{\"line\":{\"color\":\"#E5ECF6\",\"width\":0.5},\"pattern\":{\"fillmode\":\"overlay\",\"size\":10,\"solidity\":0.2}},\"type\":\"bar\"}],\"scattergeo\":[{\"type\":\"scattergeo\",\"marker\":{\"colorbar\":{\"outlinewidth\":0,\"ticks\":\"\"}}}],\"scatterpolar\":[{\"type\":\"scatterpolar\",\"marker\":{\"colorbar\":{\"outlinewidth\":0,\"ticks\":\"\"}}}],\"histogram\":[{\"marker\":{\"pattern\":{\"fillmode\":\"overlay\",\"size\":10,\"solidity\":0.2}},\"type\":\"histogram\"}],\"scattergl\":[{\"type\":\"scattergl\",\"marker\":{\"colorbar\":{\"outlinewidth\":0,\"ticks\":\"\"}}}],\"scatter3d\":[{\"type\":\"scatter3d\",\"line\":{\"colorbar\":{\"outlinewidth\":0,\"ticks\":\"\"}},\"marker\":{\"colorbar\":{\"outlinewidth\":0,\"ticks\":\"\"}}}],\"scattermapbox\":[{\"type\":\"scattermapbox\",\"marker\":{\"colorbar\":{\"outlinewidth\":0,\"ticks\":\"\"}}}],\"scatterternary\":[{\"type\":\"scatterternary\",\"marker\":{\"colorbar\":{\"outlinewidth\":0,\"ticks\":\"\"}}}],\"scattercarpet\":[{\"type\":\"scattercarpet\",\"marker\":{\"colorbar\":{\"outlinewidth\":0,\"ticks\":\"\"}}}],\"carpet\":[{\"aaxis\":{\"endlinecolor\":\"#2a3f5f\",\"gridcolor\":\"white\",\"linecolor\":\"white\",\"minorgridcolor\":\"white\",\"startlinecolor\":\"#2a3f5f\"},\"baxis\":{\"endlinecolor\":\"#2a3f5f\",\"gridcolor\":\"white\",\"linecolor\":\"white\",\"minorgridcolor\":\"white\",\"startlinecolor\":\"#2a3f5f\"},\"type\":\"carpet\"}],\"table\":[{\"cells\":{\"fill\":{\"color\":\"#EBF0F8\"},\"line\":{\"color\":\"white\"}},\"header\":{\"fill\":{\"color\":\"#C8D4E3\"},\"line\":{\"color\":\"white\"}},\"type\":\"table\"}],\"barpolar\":[{\"marker\":{\"line\":{\"color\":\"#E5ECF6\",\"width\":0.5},\"pattern\":{\"fillmode\":\"overlay\",\"size\":10,\"solidity\":0.2}},\"type\":\"barpolar\"}],\"pie\":[{\"automargin\":true,\"type\":\"pie\"}]},\"layout\":{\"autotypenumbers\":\"strict\",\"colorway\":[\"#636efa\",\"#EF553B\",\"#00cc96\",\"#ab63fa\",\"#FFA15A\",\"#19d3f3\",\"#FF6692\",\"#B6E880\",\"#FF97FF\",\"#FECB52\"],\"font\":{\"color\":\"#2a3f5f\"},\"hovermode\":\"closest\",\"hoverlabel\":{\"align\":\"left\"},\"paper_bgcolor\":\"white\",\"plot_bgcolor\":\"#E5ECF6\",\"polar\":{\"bgcolor\":\"#E5ECF6\",\"angularaxis\":{\"gridcolor\":\"white\",\"linecolor\":\"white\",\"ticks\":\"\"},\"radialaxis\":{\"gridcolor\":\"white\",\"linecolor\":\"white\",\"ticks\":\"\"}},\"ternary\":{\"bgcolor\":\"#E5ECF6\",\"aaxis\":{\"gridcolor\":\"white\",\"linecolor\":\"white\",\"ticks\":\"\"},\"baxis\":{\"gridcolor\":\"white\",\"linecolor\":\"white\",\"ticks\":\"\"},\"caxis\":{\"gridcolor\":\"white\",\"linecolor\":\"white\",\"ticks\":\"\"}},\"coloraxis\":{\"colorbar\":{\"outlinewidth\":0,\"ticks\":\"\"}},\"colorscale\":{\"sequential\":[[0.0,\"#0d0887\"],[0.1111111111111111,\"#46039f\"],[0.2222222222222222,\"#7201a8\"],[0.3333333333333333,\"#9c179e\"],[0.4444444444444444,\"#bd3786\"],[0.5555555555555556,\"#d8576b\"],[0.6666666666666666,\"#ed7953\"],[0.7777777777777778,\"#fb9f3a\"],[0.8888888888888888,\"#fdca26\"],[1.0,\"#f0f921\"]],\"sequentialminus\":[[0.0,\"#0d0887\"],[0.1111111111111111,\"#46039f\"],[0.2222222222222222,\"#7201a8\"],[0.3333333333333333,\"#9c179e\"],[0.4444444444444444,\"#bd3786\"],[0.5555555555555556,\"#d8576b\"],[0.6666666666666666,\"#ed7953\"],[0.7777777777777778,\"#fb9f3a\"],[0.8888888888888888,\"#fdca26\"],[1.0,\"#f0f921\"]],\"diverging\":[[0,\"#8e0152\"],[0.1,\"#c51b7d\"],[0.2,\"#de77ae\"],[0.3,\"#f1b6da\"],[0.4,\"#fde0ef\"],[0.5,\"#f7f7f7\"],[0.6,\"#e6f5d0\"],[0.7,\"#b8e186\"],[0.8,\"#7fbc41\"],[0.9,\"#4d9221\"],[1,\"#276419\"]]},\"xaxis\":{\"gridcolor\":\"white\",\"linecolor\":\"white\",\"ticks\":\"\",\"title\":{\"standoff\":15},\"zerolinecolor\":\"white\",\"automargin\":true,\"zerolinewidth\":2},\"yaxis\":{\"gridcolor\":\"white\",\"linecolor\":\"white\",\"ticks\":\"\",\"title\":{\"standoff\":15},\"zerolinecolor\":\"white\",\"automargin\":true,\"zerolinewidth\":2},\"scene\":{\"xaxis\":{\"backgroundcolor\":\"#E5ECF6\",\"gridcolor\":\"white\",\"linecolor\":\"white\",\"showbackground\":true,\"ticks\":\"\",\"zerolinecolor\":\"white\",\"gridwidth\":2},\"yaxis\":{\"backgroundcolor\":\"#E5ECF6\",\"gridcolor\":\"white\",\"linecolor\":\"white\",\"showbackground\":true,\"ticks\":\"\",\"zerolinecolor\":\"white\",\"gridwidth\":2},\"zaxis\":{\"backgroundcolor\":\"#E5ECF6\",\"gridcolor\":\"white\",\"linecolor\":\"white\",\"showbackground\":true,\"ticks\":\"\",\"zerolinecolor\":\"white\",\"gridwidth\":2}},\"shapedefaults\":{\"line\":{\"color\":\"#2a3f5f\"}},\"annotationdefaults\":{\"arrowcolor\":\"#2a3f5f\",\"arrowhead\":0,\"arrowwidth\":1},\"geo\":{\"bgcolor\":\"white\",\"landcolor\":\"#E5ECF6\",\"subunitcolor\":\"white\",\"showland\":true,\"showlakes\":true,\"lakecolor\":\"white\"},\"title\":{\"x\":0.05},\"mapbox\":{\"style\":\"light\"}}},\"xaxis\":{\"anchor\":\"y\",\"domain\":[0.0,1.0],\"title\":{\"text\":\"x\"}},\"yaxis\":{\"anchor\":\"x\",\"domain\":[0.0,1.0],\"title\":{\"text\":\"count\"}},\"legend\":{\"tracegroupgap\":0},\"margin\":{\"t\":60},\"barmode\":\"relative\"},                        {\"responsive\": true}                    ).then(function(){\n",
              "                            \n",
              "var gd = document.getElementById('98f14671-9495-4345-a5ef-ebf4e53ac02a');\n",
              "var x = new MutationObserver(function (mutations, observer) {{\n",
              "        var display = window.getComputedStyle(gd).display;\n",
              "        if (!display || display === 'none') {{\n",
              "            console.log([gd, 'removed!']);\n",
              "            Plotly.purge(gd);\n",
              "            observer.disconnect();\n",
              "        }}\n",
              "}});\n",
              "\n",
              "// Listen for the removal of the full notebook cells\n",
              "var notebookContainer = gd.closest('#notebook-container');\n",
              "if (notebookContainer) {{\n",
              "    x.observe(notebookContainer, {childList: true});\n",
              "}}\n",
              "\n",
              "// Listen for the clearing of the current output cell\n",
              "var outputEl = gd.closest('.output');\n",
              "if (outputEl) {{\n",
              "    x.observe(outputEl, {childList: true});\n",
              "}}\n",
              "\n",
              "                        })                };                            </script>        </div>\n",
              "</body>\n",
              "</html>"
            ]
          },
          "metadata": {}
        }
      ]
    },
    {
      "cell_type": "code",
      "source": [
        "tmpData['Model'].value_counts()"
      ],
      "metadata": {
        "colab": {
          "base_uri": "https://localhost:8080/"
        },
        "id": "IDplHSmpFPUE",
        "outputId": "ee76c05b-8900-40ee-a2e3-4b07829beaf2"
      },
      "execution_count": 15,
      "outputs": [
        {
          "output_type": "execute_result",
          "data": {
            "text/plain": [
              "Prius              1083\n",
              "Sonata             1079\n",
              "Camry               936\n",
              "Elantra             922\n",
              "E 350               542\n",
              "                   ... \n",
              "Move                  1\n",
              "325 CI                1\n",
              "C 230 kompresor       1\n",
              "Tiida 2008            1\n",
              "Prius C aqua          1\n",
              "Name: Model, Length: 1548, dtype: int64"
            ]
          },
          "metadata": {},
          "execution_count": 15
        }
      ]
    },
    {
      "cell_type": "markdown",
      "source": [
        "# ***NOTE->***\n",
        "As there are 1548 unique models, so we can drop this columns as this is too much as compared to the total dataset length. And also as we've other specs too which can describe all the features of the car. So we can drop the model column."
      ],
      "metadata": {
        "id": "L5mBlen-G8Wc"
      }
    },
    {
      "cell_type": "code",
      "source": [
        "sns.countplot(x=tmpData['Prod. year'])"
      ],
      "metadata": {
        "colab": {
          "base_uri": "https://localhost:8080/",
          "height": 466
        },
        "id": "GzoHoiluG7Eg",
        "outputId": "21d4f957-7e2a-46e5-d088-90b3edf0198c"
      },
      "execution_count": 16,
      "outputs": [
        {
          "output_type": "execute_result",
          "data": {
            "text/plain": [
              "<Axes: xlabel='Prod. year', ylabel='count'>"
            ]
          },
          "metadata": {},
          "execution_count": 16
        },
        {
          "output_type": "display_data",
          "data": {
            "text/plain": [
              "<Figure size 640x480 with 1 Axes>"
            ],
            "image/png": "[encoded data removed]"
          },
          "metadata": {}
        }
      ]
    },
    {
      "cell_type": "code",
      "source": [
        "tmpData['Prod. year'].value_counts().shape"
      ],
      "metadata": {
        "colab": {
          "base_uri": "https://localhost:8080/"
        },
        "id": "JVwUeXbdH53G",
        "outputId": "70592644-cfdd-435e-85af-32e81e571a38"
      },
      "execution_count": 17,
      "outputs": [
        {
          "output_type": "execute_result",
          "data": {
            "text/plain": [
              "(53,)"
            ]
          },
          "metadata": {},
          "execution_count": 17
        }
      ]
    },
    {
      "cell_type": "markdown",
      "source": [
        "As there are only 53 unique years, we will keep this column and we'll keep this column as numerical only instead of categorical."
      ],
      "metadata": {
        "id": "25oPKtLEIB2e"
      }
    },
    {
      "cell_type": "code",
      "source": [
        "sns.countplot(x=tmpData['Category'])"
      ],
      "metadata": {
        "colab": {
          "base_uri": "https://localhost:8080/",
          "height": 466
        },
        "id": "U-kYVuBpH8kb",
        "outputId": "b393b998-5669-4474-afcc-e1c2e9ef76b6"
      },
      "execution_count": 18,
      "outputs": [
        {
          "output_type": "execute_result",
          "data": {
            "text/plain": [
              "<Axes: xlabel='Category', ylabel='count'>"
            ]
          },
          "metadata": {},
          "execution_count": 18
        },
        {
          "output_type": "display_data",
          "data": {
            "text/plain": [
              "<Figure size 640x480 with 1 Axes>"
            ],
            "image/png": "[encoded data removed]"
          },
          "metadata": {}
        }
      ]
    },
    {
      "cell_type": "code",
      "source": [
        "sns.boxplot(x=tmpData['Category'],y=tmpData['Price'])"
      ],
      "metadata": {
        "colab": {
          "base_uri": "https://localhost:8080/",
          "height": 466
        },
        "id": "HIT3D-3unayy",
        "outputId": "93c59aff-6850-4808-def9-d50a783002f7"
      },
      "execution_count": 19,
      "outputs": [
        {
          "output_type": "execute_result",
          "data": {
            "text/plain": [
              "<Axes: xlabel='Category', ylabel='Price'>"
            ]
          },
          "metadata": {},
          "execution_count": 19
        },
        {
          "output_type": "display_data",
          "data": {
            "text/plain": [
              "<Figure size 640x480 with 1 Axes>"
            ],
            "image/png": "[encoded data removed]"
          },
          "metadata": {}
        }
      ]
    },
    {
      "cell_type": "code",
      "source": [
        "tmpData['Category'].value_counts()"
      ],
      "metadata": {
        "colab": {
          "base_uri": "https://localhost:8080/"
        },
        "id": "sQS5Dx02J1LL",
        "outputId": "963fbc5a-2eb7-4d58-8929-3a797983f0d9"
      },
      "execution_count": 20,
      "outputs": [
        {
          "output_type": "execute_result",
          "data": {
            "text/plain": [
              "Sedan          8694\n",
              "Jeep           5349\n",
              "Hatchback      2847\n",
              "Minivan         644\n",
              "Coupe           519\n",
              "Universal       360\n",
              "Microbus        303\n",
              "Goods wagon     231\n",
              "Pickup           48\n",
              "Cabriolet        35\n",
              "Limousine        11\n",
              "Name: Category, dtype: int64"
            ]
          },
          "metadata": {},
          "execution_count": 20
        }
      ]
    },
    {
      "cell_type": "code",
      "source": [
        "sns.countplot(x=tmpData['Leather interior'])"
      ],
      "metadata": {
        "colab": {
          "base_uri": "https://localhost:8080/",
          "height": 466
        },
        "id": "mP_JZ1mKJ5sa",
        "outputId": "2c40428d-06b1-45cb-e660-7accf6b85a3c"
      },
      "execution_count": 21,
      "outputs": [
        {
          "output_type": "execute_result",
          "data": {
            "text/plain": [
              "<Axes: xlabel='Leather interior', ylabel='count'>"
            ]
          },
          "metadata": {},
          "execution_count": 21
        },
        {
          "output_type": "display_data",
          "data": {
            "text/plain": [
              "<Figure size 640x480 with 1 Axes>"
            ],
            "image/png": "[encoded data removed]"
          },
          "metadata": {}
        }
      ]
    },
    {
      "cell_type": "code",
      "source": [
        "sns.countplot(x=tmpData['Fuel type'])"
      ],
      "metadata": {
        "colab": {
          "base_uri": "https://localhost:8080/",
          "height": 466
        },
        "id": "Sg_iCzT9J_Jn",
        "outputId": "9dce2c33-1fa4-4e30-b049-f4c88175f032"
      },
      "execution_count": 22,
      "outputs": [
        {
          "output_type": "execute_result",
          "data": {
            "text/plain": [
              "<Axes: xlabel='Fuel type', ylabel='count'>"
            ]
          },
          "metadata": {},
          "execution_count": 22
        },
        {
          "output_type": "display_data",
          "data": {
            "text/plain": [
              "<Figure size 640x480 with 1 Axes>"
            ],
            "image/png": "[encoded data removed]"
          },
          "metadata": {}
        }
      ]
    },
    {
      "cell_type": "code",
      "source": [
        "sns.countplot(x=tmpData['Engine volume'])"
      ],
      "metadata": {
        "colab": {
          "base_uri": "https://localhost:8080/",
          "height": 466
        },
        "id": "nL5d3BGVKGX7",
        "outputId": "716271f6-74b5-414c-a279-46112eb88d6c"
      },
      "execution_count": 23,
      "outputs": [
        {
          "output_type": "execute_result",
          "data": {
            "text/plain": [
              "<Axes: xlabel='Engine volume', ylabel='count'>"
            ]
          },
          "metadata": {},
          "execution_count": 23
        },
        {
          "output_type": "display_data",
          "data": {
            "text/plain": [
              "<Figure size 640x480 with 1 Axes>"
            ],
            "image/png": "[encoded data removed]"
          },
          "metadata": {}
        }
      ]
    },
    {
      "cell_type": "code",
      "source": [
        "tmpData['Engine volume'].value_counts()"
      ],
      "metadata": {
        "colab": {
          "base_uri": "https://localhost:8080/"
        },
        "id": "nE7xfBCKKM1Y",
        "outputId": "39e21ca5-efbb-483d-f84b-ba9c24e21d78"
      },
      "execution_count": 24,
      "outputs": [
        {
          "output_type": "execute_result",
          "data": {
            "text/plain": [
              "2            3902\n",
              "2.5          2272\n",
              "1.8          1760\n",
              "1.6          1462\n",
              "1.5          1321\n",
              "             ... \n",
              "0.8 Turbo       1\n",
              "6.7             1\n",
              "0.5             1\n",
              "7.3             1\n",
              "1.1 Turbo       1\n",
              "Name: Engine volume, Length: 104, dtype: int64"
            ]
          },
          "metadata": {},
          "execution_count": 24
        }
      ]
    },
    {
      "cell_type": "code",
      "source": [
        "tmpData['Engine volume'].unique()"
      ],
      "metadata": {
        "colab": {
          "base_uri": "https://localhost:8080/"
        },
        "id": "KUlFf5rxvkmz",
        "outputId": "84c397bf-8bc5-42eb-9f31-b9ea3101931b"
      },
      "execution_count": 25,
      "outputs": [
        {
          "output_type": "execute_result",
          "data": {
            "text/plain": [
              "array(['3.5', '3', '1.3', '2.5', '2', '1.8', '2.4', '4', '1.6', '3.3',\n",
              "       '2.0 Turbo', '2.2 Turbo', '4.7', '1.5', '4.4', '3.0 Turbo',\n",
              "       '1.4 Turbo', '3.6', '2.3', '1.5 Turbo', '1.6 Turbo', '2.2',\n",
              "       '2.3 Turbo', '1.4', '5.5', '2.8 Turbo', '3.2', '3.8', '4.6', '1.2',\n",
              "       '5', '1.7', '2.9', '0.5', '1.8 Turbo', '2.4 Turbo', '3.5 Turbo',\n",
              "       '1.9', '2.7', '4.8', '5.3', '0.4', '2.8', '3.2 Turbo', '1.1',\n",
              "       '2.1', '0.7', '5.4', '1.3 Turbo', '3.7', '1', '2.5 Turbo', '2.6',\n",
              "       '1.9 Turbo', '4.7 Turbo', '0.8', '0.2 Turbo', '5.7', '4.8 Turbo',\n",
              "       '4.6 Turbo', '6.7', '6.2', '1.2 Turbo', '3.4', '1.7 Turbo',\n",
              "       '2.7 Turbo', '4.3', '4.2', '2.9 Turbo', '0', '4.4 Turbo', '20',\n",
              "       '3.6 Turbo', '0.3', '3.7 Turbo', '5.9', '0.2', '2.1 Turbo', '5.6',\n",
              "       '6', '0.7 Turbo', '0.6 Turbo', '4.5', '5.5 Turbo', '0.6', '7.3',\n",
              "       '0.1', '1.0 Turbo', '6.3', '4.5 Turbo', '0.8 Turbo', '4.2 Turbo',\n",
              "       '3.1', '5.0 Turbo', '6.4', '3.9', '0.9', '4.0 Turbo', '6.3 Turbo',\n",
              "       '5.4 Turbo', '0.3 Turbo', '5.2', '5.8', '1.1 Turbo'], dtype=object)"
            ]
          },
          "metadata": {},
          "execution_count": 25
        }
      ]
    },
    {
      "cell_type": "markdown",
      "source": [
        "Here we 2 types of values filled in Engine Volume Column, 1 is without turbo AND other is with Turbo. So we need to separate this"
      ],
      "metadata": {
        "id": "m_zKNxBduq1a"
      }
    },
    {
      "cell_type": "markdown",
      "source": [
        "We will analyze whether manufacturers column affect the price or not."
      ],
      "metadata": {
        "id": "zK7V9SoPO446"
      }
    },
    {
      "cell_type": "code",
      "source": [
        "sns.countplot(x=tmpData['Manufacturer'])"
      ],
      "metadata": {
        "id": "m9JRDYCYKRji",
        "colab": {
          "base_uri": "https://localhost:8080/",
          "height": 467
        },
        "outputId": "f876a4e0-ce53-457a-fc92-a89919a5b5f2"
      },
      "execution_count": 26,
      "outputs": [
        {
          "output_type": "execute_result",
          "data": {
            "text/plain": [
              "<Axes: xlabel='Manufacturer', ylabel='count'>"
            ]
          },
          "metadata": {},
          "execution_count": 26
        },
        {
          "output_type": "display_data",
          "data": {
            "text/plain": [
              "<Figure size 640x480 with 1 Axes>"
            ],
            "image/png": "[encoded data removed]"
          },
          "metadata": {}
        }
      ]
    },
    {
      "cell_type": "code",
      "source": [
        "tmpData['Manufacturer'].value_counts()"
      ],
      "metadata": {
        "colab": {
          "base_uri": "https://localhost:8080/"
        },
        "id": "Nvmn5HnUoF6C",
        "outputId": "5b04f7b4-7d3e-4f82-b399-3bdbb21b92c4"
      },
      "execution_count": 27,
      "outputs": [
        {
          "output_type": "execute_result",
          "data": {
            "text/plain": [
              "HYUNDAI          3748\n",
              "TOYOTA           3645\n",
              "MERCEDES-BENZ    2027\n",
              "FORD             1089\n",
              "CHEVROLET        1066\n",
              "                 ... \n",
              "TESLA               1\n",
              "PONTIAC             1\n",
              "SATURN              1\n",
              "ASTON MARTIN        1\n",
              "GREATWALL           1\n",
              "Name: Manufacturer, Length: 63, dtype: int64"
            ]
          },
          "metadata": {},
          "execution_count": 27
        }
      ]
    },
    {
      "cell_type": "code",
      "source": [
        "tmpData.groupby('Manufacturer')['Manufacturer'].count().sort_values(ascending=False).head(10)"
      ],
      "metadata": {
        "colab": {
          "base_uri": "https://localhost:8080/"
        },
        "id": "8_LsGpMkrg0F",
        "outputId": "032656b9-db93-4b3e-cecd-551853b80875"
      },
      "execution_count": 28,
      "outputs": [
        {
          "output_type": "execute_result",
          "data": {
            "text/plain": [
              "Manufacturer\n",
              "HYUNDAI          3748\n",
              "TOYOTA           3645\n",
              "MERCEDES-BENZ    2027\n",
              "FORD             1089\n",
              "CHEVROLET        1066\n",
              "BMW              1021\n",
              "HONDA             975\n",
              "LEXUS             966\n",
              "NISSAN            660\n",
              "VOLKSWAGEN        579\n",
              "Name: Manufacturer, dtype: int64"
            ]
          },
          "metadata": {},
          "execution_count": 28
        }
      ]
    },
    {
      "cell_type": "code",
      "source": [
        "manufacData=tmpData[tmpData['Manufacturer'].isin(['HYUNDAI','TOYOTA','MERCEDES-BENZ','FORD','CHEVROLET'])]\n",
        "sns.boxplot(x=manufacData['Manufacturer'],y=manufacData['Price'])"
      ],
      "metadata": {
        "colab": {
          "base_uri": "https://localhost:8080/",
          "height": 466
        },
        "id": "tjwjdreXoPQW",
        "outputId": "f3754487-5b50-4579-dce5-149860a4fd04"
      },
      "execution_count": 29,
      "outputs": [
        {
          "output_type": "execute_result",
          "data": {
            "text/plain": [
              "<Axes: xlabel='Manufacturer', ylabel='Price'>"
            ]
          },
          "metadata": {},
          "execution_count": 29
        },
        {
          "output_type": "display_data",
          "data": {
            "text/plain": [
              "<Figure size 640x480 with 1 Axes>"
            ],
            "image/png": "[encoded data removed]"
          },
          "metadata": {}
        }
      ]
    },
    {
      "cell_type": "code",
      "source": [
        "(tmpData['Manufacturer'].value_counts()<5).sum()"
      ],
      "metadata": {
        "colab": {
          "base_uri": "https://localhost:8080/"
        },
        "id": "RMo7SWKZq5FB",
        "outputId": "67724f2b-6ba8-4f51-881d-7b254460ec78"
      },
      "execution_count": 30,
      "outputs": [
        {
          "output_type": "execute_result",
          "data": {
            "text/plain": [
              "19"
            ]
          },
          "metadata": {},
          "execution_count": 30
        }
      ]
    },
    {
      "cell_type": "markdown",
      "source": [
        "So there are 19 Manufacturers where we have less than 5 sample of car in them"
      ],
      "metadata": {
        "id": "QHTDXRVJrMO5"
      }
    },
    {
      "cell_type": "markdown",
      "source": [
        "# ***Data Processing***"
      ],
      "metadata": {
        "id": "-IHM6eJfpVF-"
      }
    },
    {
      "cell_type": "code",
      "source": [
        "# Things we need to do:-\n",
        "\n",
        "# Standardising the Data\"-\n",
        "# 1- Drop model\n",
        "# 2- Engine volumne--> Divide it in 2 columns\n",
        "# 3- Convert mileage into int\n",
        "# 4- Make changes in Doors\n",
        "# 5- We will make 1 category for the Manufacturer column where-tmpData['Manufacturer'].value_counts()<5)"
      ],
      "metadata": {
        "id": "sICb_a-3oh52"
      },
      "execution_count": 31,
      "outputs": []
    },
    {
      "cell_type": "code",
      "source": [
        "data.drop('Model',axis=1,inplace=True)"
      ],
      "metadata": {
        "id": "uIPekrhntu58"
      },
      "execution_count": 32,
      "outputs": []
    },
    {
      "cell_type": "code",
      "source": [
        "data.head()"
      ],
      "metadata": {
        "colab": {
          "base_uri": "https://localhost:8080/",
          "height": 391
        },
        "id": "D8kWi5qSt6sl",
        "outputId": "523ef30a-bea6-4226-be9d-a1d2adfc86d9"
      },
      "execution_count": 33,
      "outputs": [
        {
          "output_type": "execute_result",
          "data": {
            "text/plain": [
              "   Price  Levy Manufacturer  Prod. year   Category Leather interior Fuel type  \\\n",
              "0  13328  1399        LEXUS        2010       Jeep              Yes    Hybrid   \n",
              "1  16621  1018    CHEVROLET        2011       Jeep               No    Petrol   \n",
              "2   8467     -        HONDA        2006  Hatchback               No    Petrol   \n",
              "3   3607   862         FORD        2011       Jeep              Yes    Hybrid   \n",
              "4  11726   446        HONDA        2014  Hatchback              Yes    Petrol   \n",
              "\n",
              "  Engine volume    Mileage  Cylinders Gear box type Drive wheels   Doors  \\\n",
              "0           3.5  186005 km        6.0     Automatic          4x4  04-May   \n",
              "1             3  192000 km        6.0     Tiptronic          4x4  04-May   \n",
              "2           1.3  200000 km        4.0      Variator        Front  04-May   \n",
              "3           2.5  168966 km        4.0     Automatic          4x4  04-May   \n",
              "4           1.3   91901 km        4.0     Automatic        Front  04-May   \n",
              "\n",
              "              Wheel   Color  Airbags  \n",
              "0        Left wheel  Silver       12  \n",
              "1        Left wheel   Black        8  \n",
              "2  Right-hand drive   Black        2  \n",
              "3        Left wheel   White        0  \n",
              "4        Left wheel  Silver        4  "
            ],
            "text/html": [
              "\n",
              "\n",
              "  <div id=\"df-2d9d5dbd-10ff-4449-a254-afd1b46bcbad\">\n",
              "    <div class=\"colab-df-container\">\n",
              "      <div>\n",
              "<style scoped>\n",
              "    .dataframe tbody tr th:only-of-type {\n",
              "        vertical-align: middle;\n",
              "    }\n",
              "\n",
              "    .dataframe tbody tr th {\n",
              "        vertical-align: top;\n",
              "    }\n",
              "\n",
              "    .dataframe thead th {\n",
              "        text-align: right;\n",
              "    }\n",
              "</style>\n",
              "<table border=\"1\" class=\"dataframe\">\n",
              "  <thead>\n",
              "    <tr style=\"text-align: right;\">\n",
              "      <th></th>\n",
              "      <th>Price</th>\n",
              "      <th>Levy</th>\n",
              "      <th>Manufacturer</th>\n",
              "      <th>Prod. year</th>\n",
              "      <th>Category</th>\n",
              "      <th>Leather interior</th>\n",
              "      <th>Fuel type</th>\n",
              "      <th>Engine volume</th>\n",
              "      <th>Mileage</th>\n",
              "      <th>Cylinders</th>\n",
              "      <th>Gear box type</th>\n",
              "      <th>Drive wheels</th>\n",
              "      <th>Doors</th>\n",
              "      <th>Wheel</th>\n",
              "      <th>Color</th>\n",
              "      <th>Airbags</th>\n",
              "    </tr>\n",
              "  </thead>\n",
              "  <tbody>\n",
              "    <tr>\n",
              "      <th>0</th>\n",
              "      <td>13328</td>\n",
              "      <td>1399</td>\n",
              "      <td>LEXUS</td>\n",
              "      <td>2010</td>\n",
              "      <td>Jeep</td>\n",
              "      <td>Yes</td>\n",
              "      <td>Hybrid</td>\n",
              "      <td>3.5</td>\n",
              "      <td>186005 km</td>\n",
              "      <td>6.0</td>\n",
              "      <td>Automatic</td>\n",
              "      <td>4x4</td>\n",
              "      <td>04-May</td>\n",
              "      <td>Left wheel</td>\n",
              "      <td>Silver</td>\n",
              "      <td>12</td>\n",
              "    </tr>\n",
              "    <tr>\n",
              "      <th>1</th>\n",
              "      <td>16621</td>\n",
              "      <td>1018</td>\n",
              "      <td>CHEVROLET</td>\n",
              "      <td>2011</td>\n",
              "      <td>Jeep</td>\n",
              "      <td>No</td>\n",
              "      <td>Petrol</td>\n",
              "      <td>3</td>\n",
              "      <td>192000 km</td>\n",
              "      <td>6.0</td>\n",
              "      <td>Tiptronic</td>\n",
              "      <td>4x4</td>\n",
              "      <td>04-May</td>\n",
              "      <td>Left wheel</td>\n",
              "      <td>Black</td>\n",
              "      <td>8</td>\n",
              "    </tr>\n",
              "    <tr>\n",
              "      <th>2</th>\n",
              "      <td>8467</td>\n",
              "      <td>-</td>\n",
              "      <td>HONDA</td>\n",
              "      <td>2006</td>\n",
              "      <td>Hatchback</td>\n",
              "      <td>No</td>\n",
              "      <td>Petrol</td>\n",
              "      <td>1.3</td>\n",
              "      <td>200000 km</td>\n",
              "      <td>4.0</td>\n",
              "      <td>Variator</td>\n",
              "      <td>Front</td>\n",
              "      <td>04-May</td>\n",
              "      <td>Right-hand drive</td>\n",
              "      <td>Black</td>\n",
              "      <td>2</td>\n",
              "    </tr>\n",
              "    <tr>\n",
              "      <th>3</th>\n",
              "      <td>3607</td>\n",
              "      <td>862</td>\n",
              "      <td>FORD</td>\n",
              "      <td>2011</td>\n",
              "      <td>Jeep</td>\n",
              "      <td>Yes</td>\n",
              "      <td>Hybrid</td>\n",
              "      <td>2.5</td>\n",
              "      <td>168966 km</td>\n",
              "      <td>4.0</td>\n",
              "      <td>Automatic</td>\n",
              "      <td>4x4</td>\n",
              "      <td>04-May</td>\n",
              "      <td>Left wheel</td>\n",
              "      <td>White</td>\n",
              "      <td>0</td>\n",
              "    </tr>\n",
              "    <tr>\n",
              "      <th>4</th>\n",
              "      <td>11726</td>\n",
              "      <td>446</td>\n",
              "      <td>HONDA</td>\n",
              "      <td>2014</td>\n",
              "      <td>Hatchback</td>\n",
              "      <td>Yes</td>\n",
              "      <td>Petrol</td>\n",
              "      <td>1.3</td>\n",
              "      <td>91901 km</td>\n",
              "      <td>4.0</td>\n",
              "      <td>Automatic</td>\n",
              "      <td>Front</td>\n",
              "      <td>04-May</td>\n",
              "      <td>Left wheel</td>\n",
              "      <td>Silver</td>\n",
              "      <td>4</td>\n",
              "    </tr>\n",
              "  </tbody>\n",
              "</table>\n",
              "</div>\n",
              "      <button class=\"colab-df-convert\" onclick=\"convertToInteractive('df-2d9d5dbd-10ff-4449-a254-afd1b46bcbad')\"\n",
              "              title=\"Convert this dataframe to an interactive table.\"\n",
              "              style=\"display:none;\">\n",
              "\n",
              "  <svg xmlns=\"http://www.w3.org/2000/svg\" height=\"24px\"viewBox=\"0 0 24 24\"\n",
              "       width=\"24px\">\n",
              "    <path d=\"M0 0h24v24H0V0z\" fill=\"none\"/>\n",
              "    <path d=\"M18.56 5.44l.94 2.06.94-2.06 2.06-.94-2.06-.94-.94-2.06-.94 2.06-2.06.94zm-11 1L8.5 8.5l.94-2.06 2.06-.94-2.06-.94L8.5 2.5l-.94 2.06-2.06.94zm10 10l.94 2.06.94-2.06 2.06-.94-2.06-.94-.94-2.06-.94 2.06-2.06.94z\"/><path d=\"M17.41 7.96l-1.37-1.37c-.4-.4-.92-.59-1.43-.59-.52 0-1.04.2-1.43.59L10.3 9.45l-7.72 7.72c-.78.78-.78 2.05 0 2.83L4 21.41c.39.39.9.59 1.41.59.51 0 1.02-.2 1.41-.59l7.78-7.78 2.81-2.81c.8-.78.8-2.07 0-2.86zM5.41 20L4 18.59l7.72-7.72 1.47 1.35L5.41 20z\"/>\n",
              "  </svg>\n",
              "      </button>\n",
              "\n",
              "\n",
              "\n",
              "    <div id=\"df-34c36b02-966f-46d2-bef0-cce1566a1d24\">\n",
              "      <button class=\"colab-df-quickchart\" onclick=\"quickchart('df-34c36b02-966f-46d2-bef0-cce1566a1d24')\"\n",
              "              title=\"Suggest charts.\"\n",
              "              style=\"display:none;\">\n",
              "\n",
              "<svg xmlns=\"http://www.w3.org/2000/svg\" height=\"24px\"viewBox=\"0 0 24 24\"\n",
              "     width=\"24px\">\n",
              "    <g>\n",
              "        <path d=\"M19 3H5c-1.1 0-2 .9-2 2v14c0 1.1.9 2 2 2h14c1.1 0 2-.9 2-2V5c0-1.1-.9-2-2-2zM9 17H7v-7h2v7zm4 0h-2V7h2v10zm4 0h-2v-4h2v4z\"/>\n",
              "    </g>\n",
              "</svg>\n",
              "      </button>\n",
              "    </div>\n",
              "\n",
              "<style>\n",
              "  .colab-df-quickchart {\n",
              "    background-color: #E8F0FE;\n",
              "    border: none;\n",
              "    border-radius: 50%;\n",
              "    cursor: pointer;\n",
              "    display: none;\n",
              "    fill: #1967D2;\n",
              "    height: 32px;\n",
              "    padding: 0 0 0 0;\n",
              "    width: 32px;\n",
              "  }\n",
              "\n",
              "  .colab-df-quickchart:hover {\n",
              "    background-color: #E2EBFA;\n",
              "    box-shadow: 0px 1px 2px rgba(60, 64, 67, 0.3), 0px 1px 3px 1px rgba(60, 64, 67, 0.15);\n",
              "    fill: #174EA6;\n",
              "  }\n",
              "\n",
              "  [theme=dark] .colab-df-quickchart {\n",
              "    background-color: #3B4455;\n",
              "    fill: #D2E3FC;\n",
              "  }\n",
              "\n",
              "  [theme=dark] .colab-df-quickchart:hover {\n",
              "    background-color: #434B5C;\n",
              "    box-shadow: 0px 1px 3px 1px rgba(0, 0, 0, 0.15);\n",
              "    filter: drop-shadow(0px 1px 2px rgba(0, 0, 0, 0.3));\n",
              "    fill: #FFFFFF;\n",
              "  }\n",
              "</style>\n",
              "\n",
              "    <script>\n",
              "      async function quickchart(key) {\n",
              "        const containerElement = document.querySelector('#' + key);\n",
              "        const charts = await google.colab.kernel.invokeFunction(\n",
              "            'suggestCharts', [key], {});\n",
              "      }\n",
              "    </script>\n",
              "\n",
              "      <script>\n",
              "\n",
              "function displayQuickchartButton(domScope) {\n",
              "  let quickchartButtonEl =\n",
              "    domScope.querySelector('#df-34c36b02-966f-46d2-bef0-cce1566a1d24 button.colab-df-quickchart');\n",
              "  quickchartButtonEl.style.display =\n",
              "    google.colab.kernel.accessAllowed ? 'block' : 'none';\n",
              "}\n",
              "\n",
              "        displayQuickchartButton(document);\n",
              "      </script>\n",
              "      <style>\n",
              "    .colab-df-container {\n",
              "      display:flex;\n",
              "      flex-wrap:wrap;\n",
              "      gap: 12px;\n",
              "    }\n",
              "\n",
              "    .colab-df-convert {\n",
              "      background-color: #E8F0FE;\n",
              "      border: none;\n",
              "      border-radius: 50%;\n",
              "      cursor: pointer;\n",
              "      display: none;\n",
              "      fill: #1967D2;\n",
              "      height: 32px;\n",
              "      padding: 0 0 0 0;\n",
              "      width: 32px;\n",
              "    }\n",
              "\n",
              "    .colab-df-convert:hover {\n",
              "      background-color: #E2EBFA;\n",
              "      box-shadow: 0px 1px 2px rgba(60, 64, 67, 0.3), 0px 1px 3px 1px rgba(60, 64, 67, 0.15);\n",
              "      fill: #174EA6;\n",
              "    }\n",
              "\n",
              "    [theme=dark] .colab-df-convert {\n",
              "      background-color: #3B4455;\n",
              "      fill: #D2E3FC;\n",
              "    }\n",
              "\n",
              "    [theme=dark] .colab-df-convert:hover {\n",
              "      background-color: #434B5C;\n",
              "      box-shadow: 0px 1px 3px 1px rgba(0, 0, 0, 0.15);\n",
              "      filter: drop-shadow(0px 1px 2px rgba(0, 0, 0, 0.3));\n",
              "      fill: #FFFFFF;\n",
              "    }\n",
              "  </style>\n",
              "\n",
              "      <script>\n",
              "        const buttonEl =\n",
              "          document.querySelector('#df-2d9d5dbd-10ff-4449-a254-afd1b46bcbad button.colab-df-convert');\n",
              "        buttonEl.style.display =\n",
              "          google.colab.kernel.accessAllowed ? 'block' : 'none';\n",
              "\n",
              "        async function convertToInteractive(key) {\n",
              "          const element = document.querySelector('#df-2d9d5dbd-10ff-4449-a254-afd1b46bcbad');\n",
              "          const dataTable =\n",
              "            await google.colab.kernel.invokeFunction('convertToInteractive',\n",
              "                                                     [key], {});\n",
              "          if (!dataTable) return;\n",
              "\n",
              "          const docLinkHtml = 'Like what you see? Visit the ' +\n",
              "            '<a target=\"_blank\" href=https://colab.research.google.com/notebooks/data_table.ipynb>data table notebook</a>'\n",
              "            + ' to learn more about interactive tables.';\n",
              "          element.innerHTML = '';\n",
              "          dataTable['output_type'] = 'display_data';\n",
              "          await google.colab.output.renderOutput(dataTable, element);\n",
              "          const docLink = document.createElement('div');\n",
              "          docLink.innerHTML = docLinkHtml;\n",
              "          element.appendChild(docLink);\n",
              "        }\n",
              "      </script>\n",
              "    </div>\n",
              "  </div>\n"
            ]
          },
          "metadata": {},
          "execution_count": 33
        }
      ]
    },
    {
      "cell_type": "code",
      "source": [
        "data['Leather interior'].values"
      ],
      "metadata": {
        "colab": {
          "base_uri": "https://localhost:8080/"
        },
        "id": "MB42DvcWuLX5",
        "outputId": "4eb7b545-ca6d-4d9c-df0a-8822d47f3139"
      },
      "execution_count": 34,
      "outputs": [
        {
          "output_type": "execute_result",
          "data": {
            "text/plain": [
              "array(['Yes', 'No', 'No', ..., 'Yes', 'Yes', 'Yes'], dtype=object)"
            ]
          },
          "metadata": {},
          "execution_count": 34
        }
      ]
    },
    {
      "cell_type": "code",
      "source": [
        "def processEngineVolume(enginecol):\n",
        " volume=[]\n",
        " turbo=[]\n",
        " for val in data['Engine volume'].values:\n",
        "  output=val.split(\" \")\n",
        "  if len(output)>1:\n",
        "   volume.append(float(output[0]))\n",
        "   turbo.append(\"Turbo\")\n",
        "  else:\n",
        "   volume.append(float(output[0]))\n",
        "   turbo.append(\"Normal\")\n",
        " return volume,turbo\n"
      ],
      "metadata": {
        "id": "fbYkaD-jvHGQ"
      },
      "execution_count": 35,
      "outputs": []
    },
    {
      "cell_type": "code",
      "source": [
        "enginevolume,enginetype=processEngineVolume(data['Engine volume'])\n",
        "data['EngineVolume']=enginevolume\n",
        "data['EngineType']=enginetype\n",
        "data.head()"
      ],
      "metadata": {
        "colab": {
          "base_uri": "https://localhost:8080/",
          "height": 391
        },
        "id": "a5pcpvDBwcyx",
        "outputId": "39f46570-d58a-46ef-97fe-8cbbb408620e"
      },
      "execution_count": 36,
      "outputs": [
        {
          "output_type": "execute_result",
          "data": {
            "text/plain": [
              "   Price  Levy Manufacturer  Prod. year   Category Leather interior Fuel type  \\\n",
              "0  13328  1399        LEXUS        2010       Jeep              Yes    Hybrid   \n",
              "1  16621  1018    CHEVROLET        2011       Jeep               No    Petrol   \n",
              "2   8467     -        HONDA        2006  Hatchback               No    Petrol   \n",
              "3   3607   862         FORD        2011       Jeep              Yes    Hybrid   \n",
              "4  11726   446        HONDA        2014  Hatchback              Yes    Petrol   \n",
              "\n",
              "  Engine volume    Mileage  Cylinders Gear box type Drive wheels   Doors  \\\n",
              "0           3.5  186005 km        6.0     Automatic          4x4  04-May   \n",
              "1             3  192000 km        6.0     Tiptronic          4x4  04-May   \n",
              "2           1.3  200000 km        4.0      Variator        Front  04-May   \n",
              "3           2.5  168966 km        4.0     Automatic          4x4  04-May   \n",
              "4           1.3   91901 km        4.0     Automatic        Front  04-May   \n",
              "\n",
              "              Wheel   Color  Airbags  EngineVolume EngineType  \n",
              "0        Left wheel  Silver       12           3.5     Normal  \n",
              "1        Left wheel   Black        8           3.0     Normal  \n",
              "2  Right-hand drive   Black        2           1.3     Normal  \n",
              "3        Left wheel   White        0           2.5     Normal  \n",
              "4        Left wheel  Silver        4           1.3     Normal  "
            ],
            "text/html": [
              "\n",
              "\n",
              "  <div id=\"df-e7e61d49-52db-4932-9b69-6c5d2e800faa\">\n",
              "    <div class=\"colab-df-container\">\n",
              "      <div>\n",
              "<style scoped>\n",
              "    .dataframe tbody tr th:only-of-type {\n",
              "        vertical-align: middle;\n",
              "    }\n",
              "\n",
              "    .dataframe tbody tr th {\n",
              "        vertical-align: top;\n",
              "    }\n",
              "\n",
              "    .dataframe thead th {\n",
              "        text-align: right;\n",
              "    }\n",
              "</style>\n",
              "<table border=\"1\" class=\"dataframe\">\n",
              "  <thead>\n",
              "    <tr style=\"text-align: right;\">\n",
              "      <th></th>\n",
              "      <th>Price</th>\n",
              "      <th>Levy</th>\n",
              "      <th>Manufacturer</th>\n",
              "      <th>Prod. year</th>\n",
              "      <th>Category</th>\n",
              "      <th>Leather interior</th>\n",
              "      <th>Fuel type</th>\n",
              "      <th>Engine volume</th>\n",
              "      <th>Mileage</th>\n",
              "      <th>Cylinders</th>\n",
              "      <th>Gear box type</th>\n",
              "      <th>Drive wheels</th>\n",
              "      <th>Doors</th>\n",
              "      <th>Wheel</th>\n",
              "      <th>Color</th>\n",
              "      <th>Airbags</th>\n",
              "      <th>EngineVolume</th>\n",
              "      <th>EngineType</th>\n",
              "    </tr>\n",
              "  </thead>\n",
              "  <tbody>\n",
              "    <tr>\n",
              "      <th>0</th>\n",
              "      <td>13328</td>\n",
              "      <td>1399</td>\n",
              "      <td>LEXUS</td>\n",
              "      <td>2010</td>\n",
              "      <td>Jeep</td>\n",
              "      <td>Yes</td>\n",
              "      <td>Hybrid</td>\n",
              "      <td>3.5</td>\n",
              "      <td>186005 km</td>\n",
              "      <td>6.0</td>\n",
              "      <td>Automatic</td>\n",
              "      <td>4x4</td>\n",
              "      <td>04-May</td>\n",
              "      <td>Left wheel</td>\n",
              "      <td>Silver</td>\n",
              "      <td>12</td>\n",
              "      <td>3.5</td>\n",
              "      <td>Normal</td>\n",
              "    </tr>\n",
              "    <tr>\n",
              "      <th>1</th>\n",
              "      <td>16621</td>\n",
              "      <td>1018</td>\n",
              "      <td>CHEVROLET</td>\n",
              "      <td>2011</td>\n",
              "      <td>Jeep</td>\n",
              "      <td>No</td>\n",
              "      <td>Petrol</td>\n",
              "      <td>3</td>\n",
              "      <td>192000 km</td>\n",
              "      <td>6.0</td>\n",
              "      <td>Tiptronic</td>\n",
              "      <td>4x4</td>\n",
              "      <td>04-May</td>\n",
              "      <td>Left wheel</td>\n",
              "      <td>Black</td>\n",
              "      <td>8</td>\n",
              "      <td>3.0</td>\n",
              "      <td>Normal</td>\n",
              "    </tr>\n",
              "    <tr>\n",
              "      <th>2</th>\n",
              "      <td>8467</td>\n",
              "      <td>-</td>\n",
              "      <td>HONDA</td>\n",
              "      <td>2006</td>\n",
              "      <td>Hatchback</td>\n",
              "      <td>No</td>\n",
              "      <td>Petrol</td>\n",
              "      <td>1.3</td>\n",
              "      <td>200000 km</td>\n",
              "      <td>4.0</td>\n",
              "      <td>Variator</td>\n",
              "      <td>Front</td>\n",
              "      <td>04-May</td>\n",
              "      <td>Right-hand drive</td>\n",
              "      <td>Black</td>\n",
              "      <td>2</td>\n",
              "      <td>1.3</td>\n",
              "      <td>Normal</td>\n",
              "    </tr>\n",
              "    <tr>\n",
              "      <th>3</th>\n",
              "      <td>3607</td>\n",
              "      <td>862</td>\n",
              "      <td>FORD</td>\n",
              "      <td>2011</td>\n",
              "      <td>Jeep</td>\n",
              "      <td>Yes</td>\n",
              "      <td>Hybrid</td>\n",
              "      <td>2.5</td>\n",
              "      <td>168966 km</td>\n",
              "      <td>4.0</td>\n",
              "      <td>Automatic</td>\n",
              "      <td>4x4</td>\n",
              "      <td>04-May</td>\n",
              "      <td>Left wheel</td>\n",
              "      <td>White</td>\n",
              "      <td>0</td>\n",
              "      <td>2.5</td>\n",
              "      <td>Normal</td>\n",
              "    </tr>\n",
              "    <tr>\n",
              "      <th>4</th>\n",
              "      <td>11726</td>\n",
              "      <td>446</td>\n",
              "      <td>HONDA</td>\n",
              "      <td>2014</td>\n",
              "      <td>Hatchback</td>\n",
              "      <td>Yes</td>\n",
              "      <td>Petrol</td>\n",
              "      <td>1.3</td>\n",
              "      <td>91901 km</td>\n",
              "      <td>4.0</td>\n",
              "      <td>Automatic</td>\n",
              "      <td>Front</td>\n",
              "      <td>04-May</td>\n",
              "      <td>Left wheel</td>\n",
              "      <td>Silver</td>\n",
              "      <td>4</td>\n",
              "      <td>1.3</td>\n",
              "      <td>Normal</td>\n",
              "    </tr>\n",
              "  </tbody>\n",
              "</table>\n",
              "</div>\n",
              "      <button class=\"colab-df-convert\" onclick=\"convertToInteractive('df-e7e61d49-52db-4932-9b69-6c5d2e800faa')\"\n",
              "              title=\"Convert this dataframe to an interactive table.\"\n",
              "              style=\"display:none;\">\n",
              "\n",
              "  <svg xmlns=\"http://www.w3.org/2000/svg\" height=\"24px\"viewBox=\"0 0 24 24\"\n",
              "       width=\"24px\">\n",
              "    <path d=\"M0 0h24v24H0V0z\" fill=\"none\"/>\n",
              "    <path d=\"M18.56 5.44l.94 2.06.94-2.06 2.06-.94-2.06-.94-.94-2.06-.94 2.06-2.06.94zm-11 1L8.5 8.5l.94-2.06 2.06-.94-2.06-.94L8.5 2.5l-.94 2.06-2.06.94zm10 10l.94 2.06.94-2.06 2.06-.94-2.06-.94-.94-2.06-.94 2.06-2.06.94z\"/><path d=\"M17.41 7.96l-1.37-1.37c-.4-.4-.92-.59-1.43-.59-.52 0-1.04.2-1.43.59L10.3 9.45l-7.72 7.72c-.78.78-.78 2.05 0 2.83L4 21.41c.39.39.9.59 1.41.59.51 0 1.02-.2 1.41-.59l7.78-7.78 2.81-2.81c.8-.78.8-2.07 0-2.86zM5.41 20L4 18.59l7.72-7.72 1.47 1.35L5.41 20z\"/>\n",
              "  </svg>\n",
              "      </button>\n",
              "\n",
              "\n",
              "\n",
              "    <div id=\"df-b7e4c82b-72ba-43be-9537-83f55ac8b8fc\">\n",
              "      <button class=\"colab-df-quickchart\" onclick=\"quickchart('df-b7e4c82b-72ba-43be-9537-83f55ac8b8fc')\"\n",
              "              title=\"Suggest charts.\"\n",
              "              style=\"display:none;\">\n",
              "\n",
              "<svg xmlns=\"http://www.w3.org/2000/svg\" height=\"24px\"viewBox=\"0 0 24 24\"\n",
              "     width=\"24px\">\n",
              "    <g>\n",
              "        <path d=\"M19 3H5c-1.1 0-2 .9-2 2v14c0 1.1.9 2 2 2h14c1.1 0 2-.9 2-2V5c0-1.1-.9-2-2-2zM9 17H7v-7h2v7zm4 0h-2V7h2v10zm4 0h-2v-4h2v4z\"/>\n",
              "    </g>\n",
              "</svg>\n",
              "      </button>\n",
              "    </div>\n",
              "\n",
              "<style>\n",
              "  .colab-df-quickchart {\n",
              "    background-color: #E8F0FE;\n",
              "    border: none;\n",
              "    border-radius: 50%;\n",
              "    cursor: pointer;\n",
              "    display: none;\n",
              "    fill: #1967D2;\n",
              "    height: 32px;\n",
              "    padding: 0 0 0 0;\n",
              "    width: 32px;\n",
              "  }\n",
              "\n",
              "  .colab-df-quickchart:hover {\n",
              "    background-color: #E2EBFA;\n",
              "    box-shadow: 0px 1px 2px rgba(60, 64, 67, 0.3), 0px 1px 3px 1px rgba(60, 64, 67, 0.15);\n",
              "    fill: #174EA6;\n",
              "  }\n",
              "\n",
              "  [theme=dark] .colab-df-quickchart {\n",
              "    background-color: #3B4455;\n",
              "    fill: #D2E3FC;\n",
              "  }\n",
              "\n",
              "  [theme=dark] .colab-df-quickchart:hover {\n",
              "    background-color: #434B5C;\n",
              "    box-shadow: 0px 1px 3px 1px rgba(0, 0, 0, 0.15);\n",
              "    filter: drop-shadow(0px 1px 2px rgba(0, 0, 0, 0.3));\n",
              "    fill: #FFFFFF;\n",
              "  }\n",
              "</style>\n",
              "\n",
              "    <script>\n",
              "      async function quickchart(key) {\n",
              "        const containerElement = document.querySelector('#' + key);\n",
              "        const charts = await google.colab.kernel.invokeFunction(\n",
              "            'suggestCharts', [key], {});\n",
              "      }\n",
              "    </script>\n",
              "\n",
              "      <script>\n",
              "\n",
              "function displayQuickchartButton(domScope) {\n",
              "  let quickchartButtonEl =\n",
              "    domScope.querySelector('#df-b7e4c82b-72ba-43be-9537-83f55ac8b8fc button.colab-df-quickchart');\n",
              "  quickchartButtonEl.style.display =\n",
              "    google.colab.kernel.accessAllowed ? 'block' : 'none';\n",
              "}\n",
              "\n",
              "        displayQuickchartButton(document);\n",
              "      </script>\n",
              "      <style>\n",
              "    .colab-df-container {\n",
              "      display:flex;\n",
              "      flex-wrap:wrap;\n",
              "      gap: 12px;\n",
              "    }\n",
              "\n",
              "    .colab-df-convert {\n",
              "      background-color: #E8F0FE;\n",
              "      border: none;\n",
              "      border-radius: 50%;\n",
              "      cursor: pointer;\n",
              "      display: none;\n",
              "      fill: #1967D2;\n",
              "      height: 32px;\n",
              "      padding: 0 0 0 0;\n",
              "      width: 32px;\n",
              "    }\n",
              "\n",
              "    .colab-df-convert:hover {\n",
              "      background-color: #E2EBFA;\n",
              "      box-shadow: 0px 1px 2px rgba(60, 64, 67, 0.3), 0px 1px 3px 1px rgba(60, 64, 67, 0.15);\n",
              "      fill: #174EA6;\n",
              "    }\n",
              "\n",
              "    [theme=dark] .colab-df-convert {\n",
              "      background-color: #3B4455;\n",
              "      fill: #D2E3FC;\n",
              "    }\n",
              "\n",
              "    [theme=dark] .colab-df-convert:hover {\n",
              "      background-color: #434B5C;\n",
              "      box-shadow: 0px 1px 3px 1px rgba(0, 0, 0, 0.15);\n",
              "      filter: drop-shadow(0px 1px 2px rgba(0, 0, 0, 0.3));\n",
              "      fill: #FFFFFF;\n",
              "    }\n",
              "  </style>\n",
              "\n",
              "      <script>\n",
              "        const buttonEl =\n",
              "          document.querySelector('#df-e7e61d49-52db-4932-9b69-6c5d2e800faa button.colab-df-convert');\n",
              "        buttonEl.style.display =\n",
              "          google.colab.kernel.accessAllowed ? 'block' : 'none';\n",
              "\n",
              "        async function convertToInteractive(key) {\n",
              "          const element = document.querySelector('#df-e7e61d49-52db-4932-9b69-6c5d2e800faa');\n",
              "          const dataTable =\n",
              "            await google.colab.kernel.invokeFunction('convertToInteractive',\n",
              "                                                     [key], {});\n",
              "          if (!dataTable) return;\n",
              "\n",
              "          const docLinkHtml = 'Like what you see? Visit the ' +\n",
              "            '<a target=\"_blank\" href=https://colab.research.google.com/notebooks/data_table.ipynb>data table notebook</a>'\n",
              "            + ' to learn more about interactive tables.';\n",
              "          element.innerHTML = '';\n",
              "          dataTable['output_type'] = 'display_data';\n",
              "          await google.colab.output.renderOutput(dataTable, element);\n",
              "          const docLink = document.createElement('div');\n",
              "          docLink.innerHTML = docLinkHtml;\n",
              "          element.appendChild(docLink);\n",
              "        }\n",
              "      </script>\n",
              "    </div>\n",
              "  </div>\n"
            ]
          },
          "metadata": {},
          "execution_count": 36
        }
      ]
    },
    {
      "cell_type": "code",
      "source": [
        "data['EngineType'].value_counts()"
      ],
      "metadata": {
        "colab": {
          "base_uri": "https://localhost:8080/"
        },
        "id": "dJ55p9iPxRuq",
        "outputId": "400c4a09-6d20-4393-80cd-8b741db3b074"
      },
      "execution_count": 37,
      "outputs": [
        {
          "output_type": "execute_result",
          "data": {
            "text/plain": [
              "Normal    17306\n",
              "Turbo      1931\n",
              "Name: EngineType, dtype: int64"
            ]
          },
          "metadata": {},
          "execution_count": 37
        }
      ]
    },
    {
      "cell_type": "code",
      "source": [
        "data.drop('Engine volume',axis=1,inplace=True)"
      ],
      "metadata": {
        "id": "uKXKWNEQxVZf"
      },
      "execution_count": 38,
      "outputs": []
    },
    {
      "cell_type": "code",
      "source": [
        "data['EngineVolume'].dtype"
      ],
      "metadata": {
        "colab": {
          "base_uri": "https://localhost:8080/"
        },
        "id": "0aFTiNGsxf5C",
        "outputId": "d08e9323-5041-4e7e-f46d-7dd4da1934c4"
      },
      "execution_count": 39,
      "outputs": [
        {
          "output_type": "execute_result",
          "data": {
            "text/plain": [
              "dtype('float64')"
            ]
          },
          "metadata": {},
          "execution_count": 39
        }
      ]
    },
    {
      "cell_type": "code",
      "source": [
        "data['Mileage']=data['Mileage'].apply(lambda x:x.split(' ')[0])"
      ],
      "metadata": {
        "id": "qbkVgzRkxpi5"
      },
      "execution_count": 40,
      "outputs": []
    },
    {
      "cell_type": "code",
      "source": [
        "data.head()"
      ],
      "metadata": {
        "colab": {
          "base_uri": "https://localhost:8080/",
          "height": 391
        },
        "id": "rWuWKNWNyRkg",
        "outputId": "d7ded58c-b304-45a0-f7a7-c8c65f24520c"
      },
      "execution_count": 41,
      "outputs": [
        {
          "output_type": "execute_result",
          "data": {
            "text/plain": [
              "   Price  Levy Manufacturer  Prod. year   Category Leather interior Fuel type  \\\n",
              "0  13328  1399        LEXUS        2010       Jeep              Yes    Hybrid   \n",
              "1  16621  1018    CHEVROLET        2011       Jeep               No    Petrol   \n",
              "2   8467     -        HONDA        2006  Hatchback               No    Petrol   \n",
              "3   3607   862         FORD        2011       Jeep              Yes    Hybrid   \n",
              "4  11726   446        HONDA        2014  Hatchback              Yes    Petrol   \n",
              "\n",
              "  Mileage  Cylinders Gear box type Drive wheels   Doors             Wheel  \\\n",
              "0  186005        6.0     Automatic          4x4  04-May        Left wheel   \n",
              "1  192000        6.0     Tiptronic          4x4  04-May        Left wheel   \n",
              "2  200000        4.0      Variator        Front  04-May  Right-hand drive   \n",
              "3  168966        4.0     Automatic          4x4  04-May        Left wheel   \n",
              "4   91901        4.0     Automatic        Front  04-May        Left wheel   \n",
              "\n",
              "    Color  Airbags  EngineVolume EngineType  \n",
              "0  Silver       12           3.5     Normal  \n",
              "1   Black        8           3.0     Normal  \n",
              "2   Black        2           1.3     Normal  \n",
              "3   White        0           2.5     Normal  \n",
              "4  Silver        4           1.3     Normal  "
            ],
            "text/html": [
              "\n",
              "\n",
              "  <div id=\"df-d097cab5-fb49-43eb-bf53-391e34fadb6d\">\n",
              "    <div class=\"colab-df-container\">\n",
              "      <div>\n",
              "<style scoped>\n",
              "    .dataframe tbody tr th:only-of-type {\n",
              "        vertical-align: middle;\n",
              "    }\n",
              "\n",
              "    .dataframe tbody tr th {\n",
              "        vertical-align: top;\n",
              "    }\n",
              "\n",
              "    .dataframe thead th {\n",
              "        text-align: right;\n",
              "    }\n",
              "</style>\n",
              "<table border=\"1\" class=\"dataframe\">\n",
              "  <thead>\n",
              "    <tr style=\"text-align: right;\">\n",
              "      <th></th>\n",
              "      <th>Price</th>\n",
              "      <th>Levy</th>\n",
              "      <th>Manufacturer</th>\n",
              "      <th>Prod. year</th>\n",
              "      <th>Category</th>\n",
              "      <th>Leather interior</th>\n",
              "      <th>Fuel type</th>\n",
              "      <th>Mileage</th>\n",
              "      <th>Cylinders</th>\n",
              "      <th>Gear box type</th>\n",
              "      <th>Drive wheels</th>\n",
              "      <th>Doors</th>\n",
              "      <th>Wheel</th>\n",
              "      <th>Color</th>\n",
              "      <th>Airbags</th>\n",
              "      <th>EngineVolume</th>\n",
              "      <th>EngineType</th>\n",
              "    </tr>\n",
              "  </thead>\n",
              "  <tbody>\n",
              "    <tr>\n",
              "      <th>0</th>\n",
              "      <td>13328</td>\n",
              "      <td>1399</td>\n",
              "      <td>LEXUS</td>\n",
              "      <td>2010</td>\n",
              "      <td>Jeep</td>\n",
              "      <td>Yes</td>\n",
              "      <td>Hybrid</td>\n",
              "      <td>186005</td>\n",
              "      <td>6.0</td>\n",
              "      <td>Automatic</td>\n",
              "      <td>4x4</td>\n",
              "      <td>04-May</td>\n",
              "      <td>Left wheel</td>\n",
              "      <td>Silver</td>\n",
              "      <td>12</td>\n",
              "      <td>3.5</td>\n",
              "      <td>Normal</td>\n",
              "    </tr>\n",
              "    <tr>\n",
              "      <th>1</th>\n",
              "      <td>16621</td>\n",
              "      <td>1018</td>\n",
              "      <td>CHEVROLET</td>\n",
              "      <td>2011</td>\n",
              "      <td>Jeep</td>\n",
              "      <td>No</td>\n",
              "      <td>Petrol</td>\n",
              "      <td>192000</td>\n",
              "      <td>6.0</td>\n",
              "      <td>Tiptronic</td>\n",
              "      <td>4x4</td>\n",
              "      <td>04-May</td>\n",
              "      <td>Left wheel</td>\n",
              "      <td>Black</td>\n",
              "      <td>8</td>\n",
              "      <td>3.0</td>\n",
              "      <td>Normal</td>\n",
              "    </tr>\n",
              "    <tr>\n",
              "      <th>2</th>\n",
              "      <td>8467</td>\n",
              "      <td>-</td>\n",
              "      <td>HONDA</td>\n",
              "      <td>2006</td>\n",
              "      <td>Hatchback</td>\n",
              "      <td>No</td>\n",
              "      <td>Petrol</td>\n",
              "      <td>200000</td>\n",
              "      <td>4.0</td>\n",
              "      <td>Variator</td>\n",
              "      <td>Front</td>\n",
              "      <td>04-May</td>\n",
              "      <td>Right-hand drive</td>\n",
              "      <td>Black</td>\n",
              "      <td>2</td>\n",
              "      <td>1.3</td>\n",
              "      <td>Normal</td>\n",
              "    </tr>\n",
              "    <tr>\n",
              "      <th>3</th>\n",
              "      <td>3607</td>\n",
              "      <td>862</td>\n",
              "      <td>FORD</td>\n",
              "      <td>2011</td>\n",
              "      <td>Jeep</td>\n",
              "      <td>Yes</td>\n",
              "      <td>Hybrid</td>\n",
              "      <td>168966</td>\n",
              "      <td>4.0</td>\n",
              "      <td>Automatic</td>\n",
              "      <td>4x4</td>\n",
              "      <td>04-May</td>\n",
              "      <td>Left wheel</td>\n",
              "      <td>White</td>\n",
              "      <td>0</td>\n",
              "      <td>2.5</td>\n",
              "      <td>Normal</td>\n",
              "    </tr>\n",
              "    <tr>\n",
              "      <th>4</th>\n",
              "      <td>11726</td>\n",
              "      <td>446</td>\n",
              "      <td>HONDA</td>\n",
              "      <td>2014</td>\n",
              "      <td>Hatchback</td>\n",
              "      <td>Yes</td>\n",
              "      <td>Petrol</td>\n",
              "      <td>91901</td>\n",
              "      <td>4.0</td>\n",
              "      <td>Automatic</td>\n",
              "      <td>Front</td>\n",
              "      <td>04-May</td>\n",
              "      <td>Left wheel</td>\n",
              "      <td>Silver</td>\n",
              "      <td>4</td>\n",
              "      <td>1.3</td>\n",
              "      <td>Normal</td>\n",
              "    </tr>\n",
              "  </tbody>\n",
              "</table>\n",
              "</div>\n",
              "      <button class=\"colab-df-convert\" onclick=\"convertToInteractive('df-d097cab5-fb49-43eb-bf53-391e34fadb6d')\"\n",
              "              title=\"Convert this dataframe to an interactive table.\"\n",
              "              style=\"display:none;\">\n",
              "\n",
              "  <svg xmlns=\"http://www.w3.org/2000/svg\" height=\"24px\"viewBox=\"0 0 24 24\"\n",
              "       width=\"24px\">\n",
              "    <path d=\"M0 0h24v24H0V0z\" fill=\"none\"/>\n",
              "    <path d=\"M18.56 5.44l.94 2.06.94-2.06 2.06-.94-2.06-.94-.94-2.06-.94 2.06-2.06.94zm-11 1L8.5 8.5l.94-2.06 2.06-.94-2.06-.94L8.5 2.5l-.94 2.06-2.06.94zm10 10l.94 2.06.94-2.06 2.06-.94-2.06-.94-.94-2.06-.94 2.06-2.06.94z\"/><path d=\"M17.41 7.96l-1.37-1.37c-.4-.4-.92-.59-1.43-.59-.52 0-1.04.2-1.43.59L10.3 9.45l-7.72 7.72c-.78.78-.78 2.05 0 2.83L4 21.41c.39.39.9.59 1.41.59.51 0 1.02-.2 1.41-.59l7.78-7.78 2.81-2.81c.8-.78.8-2.07 0-2.86zM5.41 20L4 18.59l7.72-7.72 1.47 1.35L5.41 20z\"/>\n",
              "  </svg>\n",
              "      </button>\n",
              "\n",
              "\n",
              "\n",
              "    <div id=\"df-ca2aa3f6-a158-4b8a-ac79-765690c92cea\">\n",
              "      <button class=\"colab-df-quickchart\" onclick=\"quickchart('df-ca2aa3f6-a158-4b8a-ac79-765690c92cea')\"\n",
              "              title=\"Suggest charts.\"\n",
              "              style=\"display:none;\">\n",
              "\n",
              "<svg xmlns=\"http://www.w3.org/2000/svg\" height=\"24px\"viewBox=\"0 0 24 24\"\n",
              "     width=\"24px\">\n",
              "    <g>\n",
              "        <path d=\"M19 3H5c-1.1 0-2 .9-2 2v14c0 1.1.9 2 2 2h14c1.1 0 2-.9 2-2V5c0-1.1-.9-2-2-2zM9 17H7v-7h2v7zm4 0h-2V7h2v10zm4 0h-2v-4h2v4z\"/>\n",
              "    </g>\n",
              "</svg>\n",
              "      </button>\n",
              "    </div>\n",
              "\n",
              "<style>\n",
              "  .colab-df-quickchart {\n",
              "    background-color: #E8F0FE;\n",
              "    border: none;\n",
              "    border-radius: 50%;\n",
              "    cursor: pointer;\n",
              "    display: none;\n",
              "    fill: #1967D2;\n",
              "    height: 32px;\n",
              "    padding: 0 0 0 0;\n",
              "    width: 32px;\n",
              "  }\n",
              "\n",
              "  .colab-df-quickchart:hover {\n",
              "    background-color: #E2EBFA;\n",
              "    box-shadow: 0px 1px 2px rgba(60, 64, 67, 0.3), 0px 1px 3px 1px rgba(60, 64, 67, 0.15);\n",
              "    fill: #174EA6;\n",
              "  }\n",
              "\n",
              "  [theme=dark] .colab-df-quickchart {\n",
              "    background-color: #3B4455;\n",
              "    fill: #D2E3FC;\n",
              "  }\n",
              "\n",
              "  [theme=dark] .colab-df-quickchart:hover {\n",
              "    background-color: #434B5C;\n",
              "    box-shadow: 0px 1px 3px 1px rgba(0, 0, 0, 0.15);\n",
              "    filter: drop-shadow(0px 1px 2px rgba(0, 0, 0, 0.3));\n",
              "    fill: #FFFFFF;\n",
              "  }\n",
              "</style>\n",
              "\n",
              "    <script>\n",
              "      async function quickchart(key) {\n",
              "        const containerElement = document.querySelector('#' + key);\n",
              "        const charts = await google.colab.kernel.invokeFunction(\n",
              "            'suggestCharts', [key], {});\n",
              "      }\n",
              "    </script>\n",
              "\n",
              "      <script>\n",
              "\n",
              "function displayQuickchartButton(domScope) {\n",
              "  let quickchartButtonEl =\n",
              "    domScope.querySelector('#df-ca2aa3f6-a158-4b8a-ac79-765690c92cea button.colab-df-quickchart');\n",
              "  quickchartButtonEl.style.display =\n",
              "    google.colab.kernel.accessAllowed ? 'block' : 'none';\n",
              "}\n",
              "\n",
              "        displayQuickchartButton(document);\n",
              "      </script>\n",
              "      <style>\n",
              "    .colab-df-container {\n",
              "      display:flex;\n",
              "      flex-wrap:wrap;\n",
              "      gap: 12px;\n",
              "    }\n",
              "\n",
              "    .colab-df-convert {\n",
              "      background-color: #E8F0FE;\n",
              "      border: none;\n",
              "      border-radius: 50%;\n",
              "      cursor: pointer;\n",
              "      display: none;\n",
              "      fill: #1967D2;\n",
              "      height: 32px;\n",
              "      padding: 0 0 0 0;\n",
              "      width: 32px;\n",
              "    }\n",
              "\n",
              "    .colab-df-convert:hover {\n",
              "      background-color: #E2EBFA;\n",
              "      box-shadow: 0px 1px 2px rgba(60, 64, 67, 0.3), 0px 1px 3px 1px rgba(60, 64, 67, 0.15);\n",
              "      fill: #174EA6;\n",
              "    }\n",
              "\n",
              "    [theme=dark] .colab-df-convert {\n",
              "      background-color: #3B4455;\n",
              "      fill: #D2E3FC;\n",
              "    }\n",
              "\n",
              "    [theme=dark] .colab-df-convert:hover {\n",
              "      background-color: #434B5C;\n",
              "      box-shadow: 0px 1px 3px 1px rgba(0, 0, 0, 0.15);\n",
              "      filter: drop-shadow(0px 1px 2px rgba(0, 0, 0, 0.3));\n",
              "      fill: #FFFFFF;\n",
              "    }\n",
              "  </style>\n",
              "\n",
              "      <script>\n",
              "        const buttonEl =\n",
              "          document.querySelector('#df-d097cab5-fb49-43eb-bf53-391e34fadb6d button.colab-df-convert');\n",
              "        buttonEl.style.display =\n",
              "          google.colab.kernel.accessAllowed ? 'block' : 'none';\n",
              "\n",
              "        async function convertToInteractive(key) {\n",
              "          const element = document.querySelector('#df-d097cab5-fb49-43eb-bf53-391e34fadb6d');\n",
              "          const dataTable =\n",
              "            await google.colab.kernel.invokeFunction('convertToInteractive',\n",
              "                                                     [key], {});\n",
              "          if (!dataTable) return;\n",
              "\n",
              "          const docLinkHtml = 'Like what you see? Visit the ' +\n",
              "            '<a target=\"_blank\" href=https://colab.research.google.com/notebooks/data_table.ipynb>data table notebook</a>'\n",
              "            + ' to learn more about interactive tables.';\n",
              "          element.innerHTML = '';\n",
              "          dataTable['output_type'] = 'display_data';\n",
              "          await google.colab.output.renderOutput(dataTable, element);\n",
              "          const docLink = document.createElement('div');\n",
              "          docLink.innerHTML = docLinkHtml;\n",
              "          element.appendChild(docLink);\n",
              "        }\n",
              "      </script>\n",
              "    </div>\n",
              "  </div>\n"
            ]
          },
          "metadata": {},
          "execution_count": 41
        }
      ]
    },
    {
      "cell_type": "code",
      "source": [
        "data['Doors']=data['Doors'].apply(lambda x:x.split(\"-\")[0])\n",
        "data['Doors']=data['Doors'].apply(lambda x:x[1] if x.startswith('0') else x)\n",
        "data.head()"
      ],
      "metadata": {
        "colab": {
          "base_uri": "https://localhost:8080/",
          "height": 391
        },
        "id": "lnXZvJBeyUUc",
        "outputId": "0f198f9b-539b-462f-b813-9c9524de7dac"
      },
      "execution_count": 42,
      "outputs": [
        {
          "output_type": "execute_result",
          "data": {
            "text/plain": [
              "   Price  Levy Manufacturer  Prod. year   Category Leather interior Fuel type  \\\n",
              "0  13328  1399        LEXUS        2010       Jeep              Yes    Hybrid   \n",
              "1  16621  1018    CHEVROLET        2011       Jeep               No    Petrol   \n",
              "2   8467     -        HONDA        2006  Hatchback               No    Petrol   \n",
              "3   3607   862         FORD        2011       Jeep              Yes    Hybrid   \n",
              "4  11726   446        HONDA        2014  Hatchback              Yes    Petrol   \n",
              "\n",
              "  Mileage  Cylinders Gear box type Drive wheels Doors             Wheel  \\\n",
              "0  186005        6.0     Automatic          4x4     4        Left wheel   \n",
              "1  192000        6.0     Tiptronic          4x4     4        Left wheel   \n",
              "2  200000        4.0      Variator        Front     4  Right-hand drive   \n",
              "3  168966        4.0     Automatic          4x4     4        Left wheel   \n",
              "4   91901        4.0     Automatic        Front     4        Left wheel   \n",
              "\n",
              "    Color  Airbags  EngineVolume EngineType  \n",
              "0  Silver       12           3.5     Normal  \n",
              "1   Black        8           3.0     Normal  \n",
              "2   Black        2           1.3     Normal  \n",
              "3   White        0           2.5     Normal  \n",
              "4  Silver        4           1.3     Normal  "
            ],
            "text/html": [
              "\n",
              "\n",
              "  <div id=\"df-aca04d98-a9db-4a70-a13b-3312c97dbc29\">\n",
              "    <div class=\"colab-df-container\">\n",
              "      <div>\n",
              "<style scoped>\n",
              "    .dataframe tbody tr th:only-of-type {\n",
              "        vertical-align: middle;\n",
              "    }\n",
              "\n",
              "    .dataframe tbody tr th {\n",
              "        vertical-align: top;\n",
              "    }\n",
              "\n",
              "    .dataframe thead th {\n",
              "        text-align: right;\n",
              "    }\n",
              "</style>\n",
              "<table border=\"1\" class=\"dataframe\">\n",
              "  <thead>\n",
              "    <tr style=\"text-align: right;\">\n",
              "      <th></th>\n",
              "      <th>Price</th>\n",
              "      <th>Levy</th>\n",
              "      <th>Manufacturer</th>\n",
              "      <th>Prod. year</th>\n",
              "      <th>Category</th>\n",
              "      <th>Leather interior</th>\n",
              "      <th>Fuel type</th>\n",
              "      <th>Mileage</th>\n",
              "      <th>Cylinders</th>\n",
              "      <th>Gear box type</th>\n",
              "      <th>Drive wheels</th>\n",
              "      <th>Doors</th>\n",
              "      <th>Wheel</th>\n",
              "      <th>Color</th>\n",
              "      <th>Airbags</th>\n",
              "      <th>EngineVolume</th>\n",
              "      <th>EngineType</th>\n",
              "    </tr>\n",
              "  </thead>\n",
              "  <tbody>\n",
              "    <tr>\n",
              "      <th>0</th>\n",
              "      <td>13328</td>\n",
              "      <td>1399</td>\n",
              "      <td>LEXUS</td>\n",
              "      <td>2010</td>\n",
              "      <td>Jeep</td>\n",
              "      <td>Yes</td>\n",
              "      <td>Hybrid</td>\n",
              "      <td>186005</td>\n",
              "      <td>6.0</td>\n",
              "      <td>Automatic</td>\n",
              "      <td>4x4</td>\n",
              "      <td>4</td>\n",
              "      <td>Left wheel</td>\n",
              "      <td>Silver</td>\n",
              "      <td>12</td>\n",
              "      <td>3.5</td>\n",
              "      <td>Normal</td>\n",
              "    </tr>\n",
              "    <tr>\n",
              "      <th>1</th>\n",
              "      <td>16621</td>\n",
              "      <td>1018</td>\n",
              "      <td>CHEVROLET</td>\n",
              "      <td>2011</td>\n",
              "      <td>Jeep</td>\n",
              "      <td>No</td>\n",
              "      <td>Petrol</td>\n",
              "      <td>192000</td>\n",
              "      <td>6.0</td>\n",
              "      <td>Tiptronic</td>\n",
              "      <td>4x4</td>\n",
              "      <td>4</td>\n",
              "      <td>Left wheel</td>\n",
              "      <td>Black</td>\n",
              "      <td>8</td>\n",
              "      <td>3.0</td>\n",
              "      <td>Normal</td>\n",
              "    </tr>\n",
              "    <tr>\n",
              "      <th>2</th>\n",
              "      <td>8467</td>\n",
              "      <td>-</td>\n",
              "      <td>HONDA</td>\n",
              "      <td>2006</td>\n",
              "      <td>Hatchback</td>\n",
              "      <td>No</td>\n",
              "      <td>Petrol</td>\n",
              "      <td>200000</td>\n",
              "      <td>4.0</td>\n",
              "      <td>Variator</td>\n",
              "      <td>Front</td>\n",
              "      <td>4</td>\n",
              "      <td>Right-hand drive</td>\n",
              "      <td>Black</td>\n",
              "      <td>2</td>\n",
              "      <td>1.3</td>\n",
              "      <td>Normal</td>\n",
              "    </tr>\n",
              "    <tr>\n",
              "      <th>3</th>\n",
              "      <td>3607</td>\n",
              "      <td>862</td>\n",
              "      <td>FORD</td>\n",
              "      <td>2011</td>\n",
              "      <td>Jeep</td>\n",
              "      <td>Yes</td>\n",
              "      <td>Hybrid</td>\n",
              "      <td>168966</td>\n",
              "      <td>4.0</td>\n",
              "      <td>Automatic</td>\n",
              "      <td>4x4</td>\n",
              "      <td>4</td>\n",
              "      <td>Left wheel</td>\n",
              "      <td>White</td>\n",
              "      <td>0</td>\n",
              "      <td>2.5</td>\n",
              "      <td>Normal</td>\n",
              "    </tr>\n",
              "    <tr>\n",
              "      <th>4</th>\n",
              "      <td>11726</td>\n",
              "      <td>446</td>\n",
              "      <td>HONDA</td>\n",
              "      <td>2014</td>\n",
              "      <td>Hatchback</td>\n",
              "      <td>Yes</td>\n",
              "      <td>Petrol</td>\n",
              "      <td>91901</td>\n",
              "      <td>4.0</td>\n",
              "      <td>Automatic</td>\n",
              "      <td>Front</td>\n",
              "      <td>4</td>\n",
              "      <td>Left wheel</td>\n",
              "      <td>Silver</td>\n",
              "      <td>4</td>\n",
              "      <td>1.3</td>\n",
              "      <td>Normal</td>\n",
              "    </tr>\n",
              "  </tbody>\n",
              "</table>\n",
              "</div>\n",
              "      <button class=\"colab-df-convert\" onclick=\"convertToInteractive('df-aca04d98-a9db-4a70-a13b-3312c97dbc29')\"\n",
              "              title=\"Convert this dataframe to an interactive table.\"\n",
              "              style=\"display:none;\">\n",
              "\n",
              "  <svg xmlns=\"http://www.w3.org/2000/svg\" height=\"24px\"viewBox=\"0 0 24 24\"\n",
              "       width=\"24px\">\n",
              "    <path d=\"M0 0h24v24H0V0z\" fill=\"none\"/>\n",
              "    <path d=\"M18.56 5.44l.94 2.06.94-2.06 2.06-.94-2.06-.94-.94-2.06-.94 2.06-2.06.94zm-11 1L8.5 8.5l.94-2.06 2.06-.94-2.06-.94L8.5 2.5l-.94 2.06-2.06.94zm10 10l.94 2.06.94-2.06 2.06-.94-2.06-.94-.94-2.06-.94 2.06-2.06.94z\"/><path d=\"M17.41 7.96l-1.37-1.37c-.4-.4-.92-.59-1.43-.59-.52 0-1.04.2-1.43.59L10.3 9.45l-7.72 7.72c-.78.78-.78 2.05 0 2.83L4 21.41c.39.39.9.59 1.41.59.51 0 1.02-.2 1.41-.59l7.78-7.78 2.81-2.81c.8-.78.8-2.07 0-2.86zM5.41 20L4 18.59l7.72-7.72 1.47 1.35L5.41 20z\"/>\n",
              "  </svg>\n",
              "      </button>\n",
              "\n",
              "\n",
              "\n",
              "    <div id=\"df-cc0cea95-576b-4e9a-895d-8677208a73a2\">\n",
              "      <button class=\"colab-df-quickchart\" onclick=\"quickchart('df-cc0cea95-576b-4e9a-895d-8677208a73a2')\"\n",
              "              title=\"Suggest charts.\"\n",
              "              style=\"display:none;\">\n",
              "\n",
              "<svg xmlns=\"http://www.w3.org/2000/svg\" height=\"24px\"viewBox=\"0 0 24 24\"\n",
              "     width=\"24px\">\n",
              "    <g>\n",
              "        <path d=\"M19 3H5c-1.1 0-2 .9-2 2v14c0 1.1.9 2 2 2h14c1.1 0 2-.9 2-2V5c0-1.1-.9-2-2-2zM9 17H7v-7h2v7zm4 0h-2V7h2v10zm4 0h-2v-4h2v4z\"/>\n",
              "    </g>\n",
              "</svg>\n",
              "      </button>\n",
              "    </div>\n",
              "\n",
              "<style>\n",
              "  .colab-df-quickchart {\n",
              "    background-color: #E8F0FE;\n",
              "    border: none;\n",
              "    border-radius: 50%;\n",
              "    cursor: pointer;\n",
              "    display: none;\n",
              "    fill: #1967D2;\n",
              "    height: 32px;\n",
              "    padding: 0 0 0 0;\n",
              "    width: 32px;\n",
              "  }\n",
              "\n",
              "  .colab-df-quickchart:hover {\n",
              "    background-color: #E2EBFA;\n",
              "    box-shadow: 0px 1px 2px rgba(60, 64, 67, 0.3), 0px 1px 3px 1px rgba(60, 64, 67, 0.15);\n",
              "    fill: #174EA6;\n",
              "  }\n",
              "\n",
              "  [theme=dark] .colab-df-quickchart {\n",
              "    background-color: #3B4455;\n",
              "    fill: #D2E3FC;\n",
              "  }\n",
              "\n",
              "  [theme=dark] .colab-df-quickchart:hover {\n",
              "    background-color: #434B5C;\n",
              "    box-shadow: 0px 1px 3px 1px rgba(0, 0, 0, 0.15);\n",
              "    filter: drop-shadow(0px 1px 2px rgba(0, 0, 0, 0.3));\n",
              "    fill: #FFFFFF;\n",
              "  }\n",
              "</style>\n",
              "\n",
              "    <script>\n",
              "      async function quickchart(key) {\n",
              "        const containerElement = document.querySelector('#' + key);\n",
              "        const charts = await google.colab.kernel.invokeFunction(\n",
              "            'suggestCharts', [key], {});\n",
              "      }\n",
              "    </script>\n",
              "\n",
              "      <script>\n",
              "\n",
              "function displayQuickchartButton(domScope) {\n",
              "  let quickchartButtonEl =\n",
              "    domScope.querySelector('#df-cc0cea95-576b-4e9a-895d-8677208a73a2 button.colab-df-quickchart');\n",
              "  quickchartButtonEl.style.display =\n",
              "    google.colab.kernel.accessAllowed ? 'block' : 'none';\n",
              "}\n",
              "\n",
              "        displayQuickchartButton(document);\n",
              "      </script>\n",
              "      <style>\n",
              "    .colab-df-container {\n",
              "      display:flex;\n",
              "      flex-wrap:wrap;\n",
              "      gap: 12px;\n",
              "    }\n",
              "\n",
              "    .colab-df-convert {\n",
              "      background-color: #E8F0FE;\n",
              "      border: none;\n",
              "      border-radius: 50%;\n",
              "      cursor: pointer;\n",
              "      display: none;\n",
              "      fill: #1967D2;\n",
              "      height: 32px;\n",
              "      padding: 0 0 0 0;\n",
              "      width: 32px;\n",
              "    }\n",
              "\n",
              "    .colab-df-convert:hover {\n",
              "      background-color: #E2EBFA;\n",
              "      box-shadow: 0px 1px 2px rgba(60, 64, 67, 0.3), 0px 1px 3px 1px rgba(60, 64, 67, 0.15);\n",
              "      fill: #174EA6;\n",
              "    }\n",
              "\n",
              "    [theme=dark] .colab-df-convert {\n",
              "      background-color: #3B4455;\n",
              "      fill: #D2E3FC;\n",
              "    }\n",
              "\n",
              "    [theme=dark] .colab-df-convert:hover {\n",
              "      background-color: #434B5C;\n",
              "      box-shadow: 0px 1px 3px 1px rgba(0, 0, 0, 0.15);\n",
              "      filter: drop-shadow(0px 1px 2px rgba(0, 0, 0, 0.3));\n",
              "      fill: #FFFFFF;\n",
              "    }\n",
              "  </style>\n",
              "\n",
              "      <script>\n",
              "        const buttonEl =\n",
              "          document.querySelector('#df-aca04d98-a9db-4a70-a13b-3312c97dbc29 button.colab-df-convert');\n",
              "        buttonEl.style.display =\n",
              "          google.colab.kernel.accessAllowed ? 'block' : 'none';\n",
              "\n",
              "        async function convertToInteractive(key) {\n",
              "          const element = document.querySelector('#df-aca04d98-a9db-4a70-a13b-3312c97dbc29');\n",
              "          const dataTable =\n",
              "            await google.colab.kernel.invokeFunction('convertToInteractive',\n",
              "                                                     [key], {});\n",
              "          if (!dataTable) return;\n",
              "\n",
              "          const docLinkHtml = 'Like what you see? Visit the ' +\n",
              "            '<a target=\"_blank\" href=https://colab.research.google.com/notebooks/data_table.ipynb>data table notebook</a>'\n",
              "            + ' to learn more about interactive tables.';\n",
              "          element.innerHTML = '';\n",
              "          dataTable['output_type'] = 'display_data';\n",
              "          await google.colab.output.renderOutput(dataTable, element);\n",
              "          const docLink = document.createElement('div');\n",
              "          docLink.innerHTML = docLinkHtml;\n",
              "          element.appendChild(docLink);\n",
              "        }\n",
              "      </script>\n",
              "    </div>\n",
              "  </div>\n"
            ]
          },
          "metadata": {},
          "execution_count": 42
        }
      ]
    },
    {
      "cell_type": "code",
      "source": [
        "data.Doors.value_counts()"
      ],
      "metadata": {
        "colab": {
          "base_uri": "https://localhost:8080/"
        },
        "id": "cVfW-_6A0lX3",
        "outputId": "b9ad09b0-b913-4c7f-eed7-afdaa993164c"
      },
      "execution_count": 43,
      "outputs": [
        {
          "output_type": "execute_result",
          "data": {
            "text/plain": [
              "4     18332\n",
              "2       777\n",
              ">5      128\n",
              "Name: Doors, dtype: int64"
            ]
          },
          "metadata": {},
          "execution_count": 43
        }
      ]
    },
    {
      "cell_type": "code",
      "source": [
        "data.shape"
      ],
      "metadata": {
        "colab": {
          "base_uri": "https://localhost:8080/"
        },
        "id": "v6j9Q0tV1GuK",
        "outputId": "889cda3e-ca2e-4015-abc1-b6f889ca5b04"
      },
      "execution_count": 44,
      "outputs": [
        {
          "output_type": "execute_result",
          "data": {
            "text/plain": [
              "(19237, 17)"
            ]
          },
          "metadata": {},
          "execution_count": 44
        }
      ]
    },
    {
      "cell_type": "code",
      "source": [
        "manufacturers=data['Manufacturer'].value_counts().index\n",
        "less_occuring_manufacturers=manufacturers[data['Manufacturer'].value_counts()<10]"
      ],
      "metadata": {
        "id": "8Dcdke9aCGYV"
      },
      "execution_count": 45,
      "outputs": []
    },
    {
      "cell_type": "code",
      "source": [
        "# Replacing all the manufacturers to others, having value_count<10:-\n",
        "\n",
        "data['Manufacturer'].replace(less_occuring_manufacturers,\"Others\",inplace=True)"
      ],
      "metadata": {
        "id": "ectQNDT-ElJQ"
      },
      "execution_count": 46,
      "outputs": []
    },
    {
      "cell_type": "code",
      "source": [
        "data['Manufacturer'].value_counts()"
      ],
      "metadata": {
        "colab": {
          "base_uri": "https://localhost:8080/"
        },
        "id": "T-14KrjQGejy",
        "outputId": "befcb700-ddb8-4436-db0e-06d8f4374dab"
      },
      "execution_count": 47,
      "outputs": [
        {
          "output_type": "execute_result",
          "data": {
            "text/plain": [
              "HYUNDAI          3769\n",
              "TOYOTA           3662\n",
              "MERCEDES-BENZ    2076\n",
              "FORD             1111\n",
              "CHEVROLET        1069\n",
              "BMW              1049\n",
              "LEXUS             982\n",
              "HONDA             977\n",
              "NISSAN            660\n",
              "VOLKSWAGEN        579\n",
              "SSANGYONG         441\n",
              "KIA               421\n",
              "OPEL              397\n",
              "MITSUBISHI        289\n",
              "SUBARU            275\n",
              "AUDI              255\n",
              "MAZDA             183\n",
              "JEEP              138\n",
              "DAEWOO             91\n",
              "DODGE              91\n",
              "FIAT               78\n",
              "SUZUKI             76\n",
              "Others             66\n",
              "PORSCHE            54\n",
              "LAND ROVER         49\n",
              "VAZ                48\n",
              "MINI               48\n",
              "JAGUAR             42\n",
              "RENAULT            37\n",
              "INFINITI           30\n",
              "CHRYSLER           26\n",
              "SKODA              20\n",
              "VOLVO              19\n",
              "PEUGEOT            17\n",
              "BUICK              16\n",
              "GMC                15\n",
              "LINCOLN            15\n",
              "ACURA              15\n",
              "CADILLAC           14\n",
              "DAIHATSU           13\n",
              "GAZ                12\n",
              "UAZ                12\n",
              "Name: Manufacturer, dtype: int64"
            ]
          },
          "metadata": {},
          "execution_count": 47
        }
      ]
    },
    {
      "cell_type": "code",
      "source": [
        "data.head()"
      ],
      "metadata": {
        "colab": {
          "base_uri": "https://localhost:8080/",
          "height": 391
        },
        "id": "A-naLbO6GZZf",
        "outputId": "8b7437de-09bc-474b-8aed-9422bb154fa8"
      },
      "execution_count": 48,
      "outputs": [
        {
          "output_type": "execute_result",
          "data": {
            "text/plain": [
              "   Price  Levy Manufacturer  Prod. year   Category Leather interior Fuel type  \\\n",
              "0  13328  1399        LEXUS        2010       Jeep              Yes    Hybrid   \n",
              "1  16621  1018    CHEVROLET        2011       Jeep               No    Petrol   \n",
              "2   8467     -        HONDA        2006  Hatchback               No    Petrol   \n",
              "3   3607   862         FORD        2011       Jeep              Yes    Hybrid   \n",
              "4  11726   446        HONDA        2014  Hatchback              Yes    Petrol   \n",
              "\n",
              "  Mileage  Cylinders Gear box type Drive wheels Doors             Wheel  \\\n",
              "0  186005        6.0     Automatic          4x4     4        Left wheel   \n",
              "1  192000        6.0     Tiptronic          4x4     4        Left wheel   \n",
              "2  200000        4.0      Variator        Front     4  Right-hand drive   \n",
              "3  168966        4.0     Automatic          4x4     4        Left wheel   \n",
              "4   91901        4.0     Automatic        Front     4        Left wheel   \n",
              "\n",
              "    Color  Airbags  EngineVolume EngineType  \n",
              "0  Silver       12           3.5     Normal  \n",
              "1   Black        8           3.0     Normal  \n",
              "2   Black        2           1.3     Normal  \n",
              "3   White        0           2.5     Normal  \n",
              "4  Silver        4           1.3     Normal  "
            ],
            "text/html": [
              "\n",
              "\n",
              "  <div id=\"df-4462c589-9359-4c44-95aa-4d28b6613bc6\">\n",
              "    <div class=\"colab-df-container\">\n",
              "      <div>\n",
              "<style scoped>\n",
              "    .dataframe tbody tr th:only-of-type {\n",
              "        vertical-align: middle;\n",
              "    }\n",
              "\n",
              "    .dataframe tbody tr th {\n",
              "        vertical-align: top;\n",
              "    }\n",
              "\n",
              "    .dataframe thead th {\n",
              "        text-align: right;\n",
              "    }\n",
              "</style>\n",
              "<table border=\"1\" class=\"dataframe\">\n",
              "  <thead>\n",
              "    <tr style=\"text-align: right;\">\n",
              "      <th></th>\n",
              "      <th>Price</th>\n",
              "      <th>Levy</th>\n",
              "      <th>Manufacturer</th>\n",
              "      <th>Prod. year</th>\n",
              "      <th>Category</th>\n",
              "      <th>Leather interior</th>\n",
              "      <th>Fuel type</th>\n",
              "      <th>Mileage</th>\n",
              "      <th>Cylinders</th>\n",
              "      <th>Gear box type</th>\n",
              "      <th>Drive wheels</th>\n",
              "      <th>Doors</th>\n",
              "      <th>Wheel</th>\n",
              "      <th>Color</th>\n",
              "      <th>Airbags</th>\n",
              "      <th>EngineVolume</th>\n",
              "      <th>EngineType</th>\n",
              "    </tr>\n",
              "  </thead>\n",
              "  <tbody>\n",
              "    <tr>\n",
              "      <th>0</th>\n",
              "      <td>13328</td>\n",
              "      <td>1399</td>\n",
              "      <td>LEXUS</td>\n",
              "      <td>2010</td>\n",
              "      <td>Jeep</td>\n",
              "      <td>Yes</td>\n",
              "      <td>Hybrid</td>\n",
              "      <td>186005</td>\n",
              "      <td>6.0</td>\n",
              "      <td>Automatic</td>\n",
              "      <td>4x4</td>\n",
              "      <td>4</td>\n",
              "      <td>Left wheel</td>\n",
              "      <td>Silver</td>\n",
              "      <td>12</td>\n",
              "      <td>3.5</td>\n",
              "      <td>Normal</td>\n",
              "    </tr>\n",
              "    <tr>\n",
              "      <th>1</th>\n",
              "      <td>16621</td>\n",
              "      <td>1018</td>\n",
              "      <td>CHEVROLET</td>\n",
              "      <td>2011</td>\n",
              "      <td>Jeep</td>\n",
              "      <td>No</td>\n",
              "      <td>Petrol</td>\n",
              "      <td>192000</td>\n",
              "      <td>6.0</td>\n",
              "      <td>Tiptronic</td>\n",
              "      <td>4x4</td>\n",
              "      <td>4</td>\n",
              "      <td>Left wheel</td>\n",
              "      <td>Black</td>\n",
              "      <td>8</td>\n",
              "      <td>3.0</td>\n",
              "      <td>Normal</td>\n",
              "    </tr>\n",
              "    <tr>\n",
              "      <th>2</th>\n",
              "      <td>8467</td>\n",
              "      <td>-</td>\n",
              "      <td>HONDA</td>\n",
              "      <td>2006</td>\n",
              "      <td>Hatchback</td>\n",
              "      <td>No</td>\n",
              "      <td>Petrol</td>\n",
              "      <td>200000</td>\n",
              "      <td>4.0</td>\n",
              "      <td>Variator</td>\n",
              "      <td>Front</td>\n",
              "      <td>4</td>\n",
              "      <td>Right-hand drive</td>\n",
              "      <td>Black</td>\n",
              "      <td>2</td>\n",
              "      <td>1.3</td>\n",
              "      <td>Normal</td>\n",
              "    </tr>\n",
              "    <tr>\n",
              "      <th>3</th>\n",
              "      <td>3607</td>\n",
              "      <td>862</td>\n",
              "      <td>FORD</td>\n",
              "      <td>2011</td>\n",
              "      <td>Jeep</td>\n",
              "      <td>Yes</td>\n",
              "      <td>Hybrid</td>\n",
              "      <td>168966</td>\n",
              "      <td>4.0</td>\n",
              "      <td>Automatic</td>\n",
              "      <td>4x4</td>\n",
              "      <td>4</td>\n",
              "      <td>Left wheel</td>\n",
              "      <td>White</td>\n",
              "      <td>0</td>\n",
              "      <td>2.5</td>\n",
              "      <td>Normal</td>\n",
              "    </tr>\n",
              "    <tr>\n",
              "      <th>4</th>\n",
              "      <td>11726</td>\n",
              "      <td>446</td>\n",
              "      <td>HONDA</td>\n",
              "      <td>2014</td>\n",
              "      <td>Hatchback</td>\n",
              "      <td>Yes</td>\n",
              "      <td>Petrol</td>\n",
              "      <td>91901</td>\n",
              "      <td>4.0</td>\n",
              "      <td>Automatic</td>\n",
              "      <td>Front</td>\n",
              "      <td>4</td>\n",
              "      <td>Left wheel</td>\n",
              "      <td>Silver</td>\n",
              "      <td>4</td>\n",
              "      <td>1.3</td>\n",
              "      <td>Normal</td>\n",
              "    </tr>\n",
              "  </tbody>\n",
              "</table>\n",
              "</div>\n",
              "      <button class=\"colab-df-convert\" onclick=\"convertToInteractive('df-4462c589-9359-4c44-95aa-4d28b6613bc6')\"\n",
              "              title=\"Convert this dataframe to an interactive table.\"\n",
              "              style=\"display:none;\">\n",
              "\n",
              "  <svg xmlns=\"http://www.w3.org/2000/svg\" height=\"24px\"viewBox=\"0 0 24 24\"\n",
              "       width=\"24px\">\n",
              "    <path d=\"M0 0h24v24H0V0z\" fill=\"none\"/>\n",
              "    <path d=\"M18.56 5.44l.94 2.06.94-2.06 2.06-.94-2.06-.94-.94-2.06-.94 2.06-2.06.94zm-11 1L8.5 8.5l.94-2.06 2.06-.94-2.06-.94L8.5 2.5l-.94 2.06-2.06.94zm10 10l.94 2.06.94-2.06 2.06-.94-2.06-.94-.94-2.06-.94 2.06-2.06.94z\"/><path d=\"M17.41 7.96l-1.37-1.37c-.4-.4-.92-.59-1.43-.59-.52 0-1.04.2-1.43.59L10.3 9.45l-7.72 7.72c-.78.78-.78 2.05 0 2.83L4 21.41c.39.39.9.59 1.41.59.51 0 1.02-.2 1.41-.59l7.78-7.78 2.81-2.81c.8-.78.8-2.07 0-2.86zM5.41 20L4 18.59l7.72-7.72 1.47 1.35L5.41 20z\"/>\n",
              "  </svg>\n",
              "      </button>\n",
              "\n",
              "\n",
              "\n",
              "    <div id=\"df-ae423101-b413-4414-bb2a-40a5137128ec\">\n",
              "      <button class=\"colab-df-quickchart\" onclick=\"quickchart('df-ae423101-b413-4414-bb2a-40a5137128ec')\"\n",
              "              title=\"Suggest charts.\"\n",
              "              style=\"display:none;\">\n",
              "\n",
              "<svg xmlns=\"http://www.w3.org/2000/svg\" height=\"24px\"viewBox=\"0 0 24 24\"\n",
              "     width=\"24px\">\n",
              "    <g>\n",
              "        <path d=\"M19 3H5c-1.1 0-2 .9-2 2v14c0 1.1.9 2 2 2h14c1.1 0 2-.9 2-2V5c0-1.1-.9-2-2-2zM9 17H7v-7h2v7zm4 0h-2V7h2v10zm4 0h-2v-4h2v4z\"/>\n",
              "    </g>\n",
              "</svg>\n",
              "      </button>\n",
              "    </div>\n",
              "\n",
              "<style>\n",
              "  .colab-df-quickchart {\n",
              "    background-color: #E8F0FE;\n",
              "    border: none;\n",
              "    border-radius: 50%;\n",
              "    cursor: pointer;\n",
              "    display: none;\n",
              "    fill: #1967D2;\n",
              "    height: 32px;\n",
              "    padding: 0 0 0 0;\n",
              "    width: 32px;\n",
              "  }\n",
              "\n",
              "  .colab-df-quickchart:hover {\n",
              "    background-color: #E2EBFA;\n",
              "    box-shadow: 0px 1px 2px rgba(60, 64, 67, 0.3), 0px 1px 3px 1px rgba(60, 64, 67, 0.15);\n",
              "    fill: #174EA6;\n",
              "  }\n",
              "\n",
              "  [theme=dark] .colab-df-quickchart {\n",
              "    background-color: #3B4455;\n",
              "    fill: #D2E3FC;\n",
              "  }\n",
              "\n",
              "  [theme=dark] .colab-df-quickchart:hover {\n",
              "    background-color: #434B5C;\n",
              "    box-shadow: 0px 1px 3px 1px rgba(0, 0, 0, 0.15);\n",
              "    filter: drop-shadow(0px 1px 2px rgba(0, 0, 0, 0.3));\n",
              "    fill: #FFFFFF;\n",
              "  }\n",
              "</style>\n",
              "\n",
              "    <script>\n",
              "      async function quickchart(key) {\n",
              "        const containerElement = document.querySelector('#' + key);\n",
              "        const charts = await google.colab.kernel.invokeFunction(\n",
              "            'suggestCharts', [key], {});\n",
              "      }\n",
              "    </script>\n",
              "\n",
              "      <script>\n",
              "\n",
              "function displayQuickchartButton(domScope) {\n",
              "  let quickchartButtonEl =\n",
              "    domScope.querySelector('#df-ae423101-b413-4414-bb2a-40a5137128ec button.colab-df-quickchart');\n",
              "  quickchartButtonEl.style.display =\n",
              "    google.colab.kernel.accessAllowed ? 'block' : 'none';\n",
              "}\n",
              "\n",
              "        displayQuickchartButton(document);\n",
              "      </script>\n",
              "      <style>\n",
              "    .colab-df-container {\n",
              "      display:flex;\n",
              "      flex-wrap:wrap;\n",
              "      gap: 12px;\n",
              "    }\n",
              "\n",
              "    .colab-df-convert {\n",
              "      background-color: #E8F0FE;\n",
              "      border: none;\n",
              "      border-radius: 50%;\n",
              "      cursor: pointer;\n",
              "      display: none;\n",
              "      fill: #1967D2;\n",
              "      height: 32px;\n",
              "      padding: 0 0 0 0;\n",
              "      width: 32px;\n",
              "    }\n",
              "\n",
              "    .colab-df-convert:hover {\n",
              "      background-color: #E2EBFA;\n",
              "      box-shadow: 0px 1px 2px rgba(60, 64, 67, 0.3), 0px 1px 3px 1px rgba(60, 64, 67, 0.15);\n",
              "      fill: #174EA6;\n",
              "    }\n",
              "\n",
              "    [theme=dark] .colab-df-convert {\n",
              "      background-color: #3B4455;\n",
              "      fill: #D2E3FC;\n",
              "    }\n",
              "\n",
              "    [theme=dark] .colab-df-convert:hover {\n",
              "      background-color: #434B5C;\n",
              "      box-shadow: 0px 1px 3px 1px rgba(0, 0, 0, 0.15);\n",
              "      filter: drop-shadow(0px 1px 2px rgba(0, 0, 0, 0.3));\n",
              "      fill: #FFFFFF;\n",
              "    }\n",
              "  </style>\n",
              "\n",
              "      <script>\n",
              "        const buttonEl =\n",
              "          document.querySelector('#df-4462c589-9359-4c44-95aa-4d28b6613bc6 button.colab-df-convert');\n",
              "        buttonEl.style.display =\n",
              "          google.colab.kernel.accessAllowed ? 'block' : 'none';\n",
              "\n",
              "        async function convertToInteractive(key) {\n",
              "          const element = document.querySelector('#df-4462c589-9359-4c44-95aa-4d28b6613bc6');\n",
              "          const dataTable =\n",
              "            await google.colab.kernel.invokeFunction('convertToInteractive',\n",
              "                                                     [key], {});\n",
              "          if (!dataTable) return;\n",
              "\n",
              "          const docLinkHtml = 'Like what you see? Visit the ' +\n",
              "            '<a target=\"_blank\" href=https://colab.research.google.com/notebooks/data_table.ipynb>data table notebook</a>'\n",
              "            + ' to learn more about interactive tables.';\n",
              "          element.innerHTML = '';\n",
              "          dataTable['output_type'] = 'display_data';\n",
              "          await google.colab.output.renderOutput(dataTable, element);\n",
              "          const docLink = document.createElement('div');\n",
              "          docLink.innerHTML = docLinkHtml;\n",
              "          element.appendChild(docLink);\n",
              "        }\n",
              "      </script>\n",
              "    </div>\n",
              "  </div>\n"
            ]
          },
          "metadata": {},
          "execution_count": 48
        }
      ]
    },
    {
      "cell_type": "markdown",
      "source": [
        "In the Levy column 3 row, is \"-\", so we need to replace it np.nan in the entire dataset"
      ],
      "metadata": {
        "id": "zA9ci0v1HYsE"
      }
    },
    {
      "cell_type": "code",
      "source": [
        "data.replace(\"-\",np.nan,inplace=True)"
      ],
      "metadata": {
        "id": "aNbtCh27GkQn"
      },
      "execution_count": 49,
      "outputs": []
    },
    {
      "cell_type": "code",
      "source": [
        "data.head()"
      ],
      "metadata": {
        "colab": {
          "base_uri": "https://localhost:8080/",
          "height": 391
        },
        "id": "w61XyRreHmsp",
        "outputId": "39073f8d-c13d-49b2-cb4b-09c5d336d44f"
      },
      "execution_count": 50,
      "outputs": [
        {
          "output_type": "execute_result",
          "data": {
            "text/plain": [
              "   Price  Levy Manufacturer  Prod. year   Category Leather interior Fuel type  \\\n",
              "0  13328  1399        LEXUS        2010       Jeep              Yes    Hybrid   \n",
              "1  16621  1018    CHEVROLET        2011       Jeep               No    Petrol   \n",
              "2   8467   NaN        HONDA        2006  Hatchback               No    Petrol   \n",
              "3   3607   862         FORD        2011       Jeep              Yes    Hybrid   \n",
              "4  11726   446        HONDA        2014  Hatchback              Yes    Petrol   \n",
              "\n",
              "  Mileage  Cylinders Gear box type Drive wheels Doors             Wheel  \\\n",
              "0  186005        6.0     Automatic          4x4     4        Left wheel   \n",
              "1  192000        6.0     Tiptronic          4x4     4        Left wheel   \n",
              "2  200000        4.0      Variator        Front     4  Right-hand drive   \n",
              "3  168966        4.0     Automatic          4x4     4        Left wheel   \n",
              "4   91901        4.0     Automatic        Front     4        Left wheel   \n",
              "\n",
              "    Color  Airbags  EngineVolume EngineType  \n",
              "0  Silver       12           3.5     Normal  \n",
              "1   Black        8           3.0     Normal  \n",
              "2   Black        2           1.3     Normal  \n",
              "3   White        0           2.5     Normal  \n",
              "4  Silver        4           1.3     Normal  "
            ],
            "text/html": [
              "\n",
              "\n",
              "  <div id=\"df-a8a82997-4225-42c9-a17a-fc5e2052f74e\">\n",
              "    <div class=\"colab-df-container\">\n",
              "      <div>\n",
              "<style scoped>\n",
              "    .dataframe tbody tr th:only-of-type {\n",
              "        vertical-align: middle;\n",
              "    }\n",
              "\n",
              "    .dataframe tbody tr th {\n",
              "        vertical-align: top;\n",
              "    }\n",
              "\n",
              "    .dataframe thead th {\n",
              "        text-align: right;\n",
              "    }\n",
              "</style>\n",
              "<table border=\"1\" class=\"dataframe\">\n",
              "  <thead>\n",
              "    <tr style=\"text-align: right;\">\n",
              "      <th></th>\n",
              "      <th>Price</th>\n",
              "      <th>Levy</th>\n",
              "      <th>Manufacturer</th>\n",
              "      <th>Prod. year</th>\n",
              "      <th>Category</th>\n",
              "      <th>Leather interior</th>\n",
              "      <th>Fuel type</th>\n",
              "      <th>Mileage</th>\n",
              "      <th>Cylinders</th>\n",
              "      <th>Gear box type</th>\n",
              "      <th>Drive wheels</th>\n",
              "      <th>Doors</th>\n",
              "      <th>Wheel</th>\n",
              "      <th>Color</th>\n",
              "      <th>Airbags</th>\n",
              "      <th>EngineVolume</th>\n",
              "      <th>EngineType</th>\n",
              "    </tr>\n",
              "  </thead>\n",
              "  <tbody>\n",
              "    <tr>\n",
              "      <th>0</th>\n",
              "      <td>13328</td>\n",
              "      <td>1399</td>\n",
              "      <td>LEXUS</td>\n",
              "      <td>2010</td>\n",
              "      <td>Jeep</td>\n",
              "      <td>Yes</td>\n",
              "      <td>Hybrid</td>\n",
              "      <td>186005</td>\n",
              "      <td>6.0</td>\n",
              "      <td>Automatic</td>\n",
              "      <td>4x4</td>\n",
              "      <td>4</td>\n",
              "      <td>Left wheel</td>\n",
              "      <td>Silver</td>\n",
              "      <td>12</td>\n",
              "      <td>3.5</td>\n",
              "      <td>Normal</td>\n",
              "    </tr>\n",
              "    <tr>\n",
              "      <th>1</th>\n",
              "      <td>16621</td>\n",
              "      <td>1018</td>\n",
              "      <td>CHEVROLET</td>\n",
              "      <td>2011</td>\n",
              "      <td>Jeep</td>\n",
              "      <td>No</td>\n",
              "      <td>Petrol</td>\n",
              "      <td>192000</td>\n",
              "      <td>6.0</td>\n",
              "      <td>Tiptronic</td>\n",
              "      <td>4x4</td>\n",
              "      <td>4</td>\n",
              "      <td>Left wheel</td>\n",
              "      <td>Black</td>\n",
              "      <td>8</td>\n",
              "      <td>3.0</td>\n",
              "      <td>Normal</td>\n",
              "    </tr>\n",
              "    <tr>\n",
              "      <th>2</th>\n",
              "      <td>8467</td>\n",
              "      <td>NaN</td>\n",
              "      <td>HONDA</td>\n",
              "      <td>2006</td>\n",
              "      <td>Hatchback</td>\n",
              "      <td>No</td>\n",
              "      <td>Petrol</td>\n",
              "      <td>200000</td>\n",
              "      <td>4.0</td>\n",
              "      <td>Variator</td>\n",
              "      <td>Front</td>\n",
              "      <td>4</td>\n",
              "      <td>Right-hand drive</td>\n",
              "      <td>Black</td>\n",
              "      <td>2</td>\n",
              "      <td>1.3</td>\n",
              "      <td>Normal</td>\n",
              "    </tr>\n",
              "    <tr>\n",
              "      <th>3</th>\n",
              "      <td>3607</td>\n",
              "      <td>862</td>\n",
              "      <td>FORD</td>\n",
              "      <td>2011</td>\n",
              "      <td>Jeep</td>\n",
              "      <td>Yes</td>\n",
              "      <td>Hybrid</td>\n",
              "      <td>168966</td>\n",
              "      <td>4.0</td>\n",
              "      <td>Automatic</td>\n",
              "      <td>4x4</td>\n",
              "      <td>4</td>\n",
              "      <td>Left wheel</td>\n",
              "      <td>White</td>\n",
              "      <td>0</td>\n",
              "      <td>2.5</td>\n",
              "      <td>Normal</td>\n",
              "    </tr>\n",
              "    <tr>\n",
              "      <th>4</th>\n",
              "      <td>11726</td>\n",
              "      <td>446</td>\n",
              "      <td>HONDA</td>\n",
              "      <td>2014</td>\n",
              "      <td>Hatchback</td>\n",
              "      <td>Yes</td>\n",
              "      <td>Petrol</td>\n",
              "      <td>91901</td>\n",
              "      <td>4.0</td>\n",
              "      <td>Automatic</td>\n",
              "      <td>Front</td>\n",
              "      <td>4</td>\n",
              "      <td>Left wheel</td>\n",
              "      <td>Silver</td>\n",
              "      <td>4</td>\n",
              "      <td>1.3</td>\n",
              "      <td>Normal</td>\n",
              "    </tr>\n",
              "  </tbody>\n",
              "</table>\n",
              "</div>\n",
              "      <button class=\"colab-df-convert\" onclick=\"convertToInteractive('df-a8a82997-4225-42c9-a17a-fc5e2052f74e')\"\n",
              "              title=\"Convert this dataframe to an interactive table.\"\n",
              "              style=\"display:none;\">\n",
              "\n",
              "  <svg xmlns=\"http://www.w3.org/2000/svg\" height=\"24px\"viewBox=\"0 0 24 24\"\n",
              "       width=\"24px\">\n",
              "    <path d=\"M0 0h24v24H0V0z\" fill=\"none\"/>\n",
              "    <path d=\"M18.56 5.44l.94 2.06.94-2.06 2.06-.94-2.06-.94-.94-2.06-.94 2.06-2.06.94zm-11 1L8.5 8.5l.94-2.06 2.06-.94-2.06-.94L8.5 2.5l-.94 2.06-2.06.94zm10 10l.94 2.06.94-2.06 2.06-.94-2.06-.94-.94-2.06-.94 2.06-2.06.94z\"/><path d=\"M17.41 7.96l-1.37-1.37c-.4-.4-.92-.59-1.43-.59-.52 0-1.04.2-1.43.59L10.3 9.45l-7.72 7.72c-.78.78-.78 2.05 0 2.83L4 21.41c.39.39.9.59 1.41.59.51 0 1.02-.2 1.41-.59l7.78-7.78 2.81-2.81c.8-.78.8-2.07 0-2.86zM5.41 20L4 18.59l7.72-7.72 1.47 1.35L5.41 20z\"/>\n",
              "  </svg>\n",
              "      </button>\n",
              "\n",
              "\n",
              "\n",
              "    <div id=\"df-73ad9f36-8325-4c41-afaf-119cbb3ee7fb\">\n",
              "      <button class=\"colab-df-quickchart\" onclick=\"quickchart('df-73ad9f36-8325-4c41-afaf-119cbb3ee7fb')\"\n",
              "              title=\"Suggest charts.\"\n",
              "              style=\"display:none;\">\n",
              "\n",
              "<svg xmlns=\"http://www.w3.org/2000/svg\" height=\"24px\"viewBox=\"0 0 24 24\"\n",
              "     width=\"24px\">\n",
              "    <g>\n",
              "        <path d=\"M19 3H5c-1.1 0-2 .9-2 2v14c0 1.1.9 2 2 2h14c1.1 0 2-.9 2-2V5c0-1.1-.9-2-2-2zM9 17H7v-7h2v7zm4 0h-2V7h2v10zm4 0h-2v-4h2v4z\"/>\n",
              "    </g>\n",
              "</svg>\n",
              "      </button>\n",
              "    </div>\n",
              "\n",
              "<style>\n",
              "  .colab-df-quickchart {\n",
              "    background-color: #E8F0FE;\n",
              "    border: none;\n",
              "    border-radius: 50%;\n",
              "    cursor: pointer;\n",
              "    display: none;\n",
              "    fill: #1967D2;\n",
              "    height: 32px;\n",
              "    padding: 0 0 0 0;\n",
              "    width: 32px;\n",
              "  }\n",
              "\n",
              "  .colab-df-quickchart:hover {\n",
              "    background-color: #E2EBFA;\n",
              "    box-shadow: 0px 1px 2px rgba(60, 64, 67, 0.3), 0px 1px 3px 1px rgba(60, 64, 67, 0.15);\n",
              "    fill: #174EA6;\n",
              "  }\n",
              "\n",
              "  [theme=dark] .colab-df-quickchart {\n",
              "    background-color: #3B4455;\n",
              "    fill: #D2E3FC;\n",
              "  }\n",
              "\n",
              "  [theme=dark] .colab-df-quickchart:hover {\n",
              "    background-color: #434B5C;\n",
              "    box-shadow: 0px 1px 3px 1px rgba(0, 0, 0, 0.15);\n",
              "    filter: drop-shadow(0px 1px 2px rgba(0, 0, 0, 0.3));\n",
              "    fill: #FFFFFF;\n",
              "  }\n",
              "</style>\n",
              "\n",
              "    <script>\n",
              "      async function quickchart(key) {\n",
              "        const containerElement = document.querySelector('#' + key);\n",
              "        const charts = await google.colab.kernel.invokeFunction(\n",
              "            'suggestCharts', [key], {});\n",
              "      }\n",
              "    </script>\n",
              "\n",
              "      <script>\n",
              "\n",
              "function displayQuickchartButton(domScope) {\n",
              "  let quickchartButtonEl =\n",
              "    domScope.querySelector('#df-73ad9f36-8325-4c41-afaf-119cbb3ee7fb button.colab-df-quickchart');\n",
              "  quickchartButtonEl.style.display =\n",
              "    google.colab.kernel.accessAllowed ? 'block' : 'none';\n",
              "}\n",
              "\n",
              "        displayQuickchartButton(document);\n",
              "      </script>\n",
              "      <style>\n",
              "    .colab-df-container {\n",
              "      display:flex;\n",
              "      flex-wrap:wrap;\n",
              "      gap: 12px;\n",
              "    }\n",
              "\n",
              "    .colab-df-convert {\n",
              "      background-color: #E8F0FE;\n",
              "      border: none;\n",
              "      border-radius: 50%;\n",
              "      cursor: pointer;\n",
              "      display: none;\n",
              "      fill: #1967D2;\n",
              "      height: 32px;\n",
              "      padding: 0 0 0 0;\n",
              "      width: 32px;\n",
              "    }\n",
              "\n",
              "    .colab-df-convert:hover {\n",
              "      background-color: #E2EBFA;\n",
              "      box-shadow: 0px 1px 2px rgba(60, 64, 67, 0.3), 0px 1px 3px 1px rgba(60, 64, 67, 0.15);\n",
              "      fill: #174EA6;\n",
              "    }\n",
              "\n",
              "    [theme=dark] .colab-df-convert {\n",
              "      background-color: #3B4455;\n",
              "      fill: #D2E3FC;\n",
              "    }\n",
              "\n",
              "    [theme=dark] .colab-df-convert:hover {\n",
              "      background-color: #434B5C;\n",
              "      box-shadow: 0px 1px 3px 1px rgba(0, 0, 0, 0.15);\n",
              "      filter: drop-shadow(0px 1px 2px rgba(0, 0, 0, 0.3));\n",
              "      fill: #FFFFFF;\n",
              "    }\n",
              "  </style>\n",
              "\n",
              "      <script>\n",
              "        const buttonEl =\n",
              "          document.querySelector('#df-a8a82997-4225-42c9-a17a-fc5e2052f74e button.colab-df-convert');\n",
              "        buttonEl.style.display =\n",
              "          google.colab.kernel.accessAllowed ? 'block' : 'none';\n",
              "\n",
              "        async function convertToInteractive(key) {\n",
              "          const element = document.querySelector('#df-a8a82997-4225-42c9-a17a-fc5e2052f74e');\n",
              "          const dataTable =\n",
              "            await google.colab.kernel.invokeFunction('convertToInteractive',\n",
              "                                                     [key], {});\n",
              "          if (!dataTable) return;\n",
              "\n",
              "          const docLinkHtml = 'Like what you see? Visit the ' +\n",
              "            '<a target=\"_blank\" href=https://colab.research.google.com/notebooks/data_table.ipynb>data table notebook</a>'\n",
              "            + ' to learn more about interactive tables.';\n",
              "          element.innerHTML = '';\n",
              "          dataTable['output_type'] = 'display_data';\n",
              "          await google.colab.output.renderOutput(dataTable, element);\n",
              "          const docLink = document.createElement('div');\n",
              "          docLink.innerHTML = docLinkHtml;\n",
              "          element.appendChild(docLink);\n",
              "        }\n",
              "      </script>\n",
              "    </div>\n",
              "  </div>\n"
            ]
          },
          "metadata": {},
          "execution_count": 50
        }
      ]
    },
    {
      "cell_type": "code",
      "source": [
        "data.info()"
      ],
      "metadata": {
        "colab": {
          "base_uri": "https://localhost:8080/"
        },
        "id": "_cCnTvdTHwo9",
        "outputId": "7eb58eca-3d81-4e83-b3df-a1ced5fa43fa"
      },
      "execution_count": 51,
      "outputs": [
        {
          "output_type": "stream",
          "name": "stdout",
          "text": [
            "<class 'pandas.core.frame.DataFrame'>\n",
            "RangeIndex: 19237 entries, 0 to 19236\n",
            "Data columns (total 17 columns):\n",
            " #   Column            Non-Null Count  Dtype  \n",
            "---  ------            --------------  -----  \n",
            " 0   Price             19237 non-null  int64  \n",
            " 1   Levy              13418 non-null  object \n",
            " 2   Manufacturer      19237 non-null  object \n",
            " 3   Prod. year        19237 non-null  int64  \n",
            " 4   Category          19237 non-null  object \n",
            " 5   Leather interior  19237 non-null  object \n",
            " 6   Fuel type         19237 non-null  object \n",
            " 7   Mileage           19237 non-null  object \n",
            " 8   Cylinders         19237 non-null  float64\n",
            " 9   Gear box type     19237 non-null  object \n",
            " 10  Drive wheels      19237 non-null  object \n",
            " 11  Doors             19237 non-null  object \n",
            " 12  Wheel             19237 non-null  object \n",
            " 13  Color             19237 non-null  object \n",
            " 14  Airbags           19237 non-null  int64  \n",
            " 15  EngineVolume      19237 non-null  float64\n",
            " 16  EngineType        19237 non-null  object \n",
            "dtypes: float64(2), int64(3), object(12)\n",
            "memory usage: 2.5+ MB\n"
          ]
        }
      ]
    },
    {
      "cell_type": "markdown",
      "source": [
        "We observed that, we need to change the datatype of Levy and Mileage into int:-\n",
        "BUT NOTE--> While converting Levy to int, an error was showing that float can't be converted to int, that's why we changed it to float"
      ],
      "metadata": {
        "id": "_v9u-pvoP0EW"
      }
    },
    {
      "cell_type": "code",
      "source": [
        "data['Levy']=data['Levy'].astype(np.float64)\n",
        "data['Mileage']=data['Mileage'].astype(np.int64)"
      ],
      "metadata": {
        "id": "oN_uVxI9PyGu"
      },
      "execution_count": 52,
      "outputs": []
    },
    {
      "cell_type": "markdown",
      "source": [
        "# ***Data Preprocessing***"
      ],
      "metadata": {
        "id": "gj6YWMaMSxmw"
      }
    },
    {
      "cell_type": "code",
      "source": [
        "data.isnull().sum()/data.shape[0]"
      ],
      "metadata": {
        "colab": {
          "base_uri": "https://localhost:8080/"
        },
        "id": "TSeHtzL3QFrA",
        "outputId": "224dc41e-d653-4b33-a586-fa9db1003108"
      },
      "execution_count": 53,
      "outputs": [
        {
          "output_type": "execute_result",
          "data": {
            "text/plain": [
              "Price               0.00000\n",
              "Levy                0.30249\n",
              "Manufacturer        0.00000\n",
              "Prod. year          0.00000\n",
              "Category            0.00000\n",
              "Leather interior    0.00000\n",
              "Fuel type           0.00000\n",
              "Mileage             0.00000\n",
              "Cylinders           0.00000\n",
              "Gear box type       0.00000\n",
              "Drive wheels        0.00000\n",
              "Doors               0.00000\n",
              "Wheel               0.00000\n",
              "Color               0.00000\n",
              "Airbags             0.00000\n",
              "EngineVolume        0.00000\n",
              "EngineType          0.00000\n",
              "dtype: float64"
            ]
          },
          "metadata": {},
          "execution_count": 53
        }
      ]
    },
    {
      "cell_type": "markdown",
      "source": [
        "As Levy column contains more than 30% null values, we should drop this column"
      ],
      "metadata": {
        "id": "Du_GALdOS5zb"
      }
    },
    {
      "cell_type": "code",
      "source": [
        "data[data['Levy'].isnull()]"
      ],
      "metadata": {
        "colab": {
          "base_uri": "https://localhost:8080/",
          "height": 713
        },
        "id": "NBAu7FNES1aH",
        "outputId": "fe0258c2-e978-4ecb-bfef-71499ce6e1aa"
      },
      "execution_count": 54,
      "outputs": [
        {
          "output_type": "execute_result",
          "data": {
            "text/plain": [
              "       Price  Levy   Manufacturer  Prod. year     Category Leather interior  \\\n",
              "2       8467   NaN          HONDA        2006    Hatchback               No   \n",
              "9      26657   NaN          LEXUS        2007         Jeep              Yes   \n",
              "11      8781   NaN           FORD        1999     Microbus               No   \n",
              "12      3000   NaN           OPEL        1997  Goods wagon               No   \n",
              "23      7840   NaN           FORD        2001     Microbus               No   \n",
              "...      ...   ...            ...         ...          ...              ...   \n",
              "19223   8781   NaN          DODGE        2008    Hatchback               No   \n",
              "19224  19130   NaN            KIA        2014        Sedan              Yes   \n",
              "19226   7840   NaN         NISSAN        2003        Sedan              Yes   \n",
              "19229     50   NaN         TOYOTA        2008    Hatchback               No   \n",
              "19232   8467   NaN  MERCEDES-BENZ        1999        Coupe              Yes   \n",
              "\n",
              "      Fuel type  Mileage  Cylinders Gear box type Drive wheels Doors  \\\n",
              "2        Petrol   200000        4.0      Variator        Front     4   \n",
              "9        Petrol   128500        6.0     Automatic          4x4     4   \n",
              "11          CNG        0        8.0        Manual         Rear     2   \n",
              "12          CNG   350000        4.0        Manual        Front     4   \n",
              "23       Diesel   230000        4.0        Manual        Front     2   \n",
              "...         ...      ...        ...           ...          ...   ...   \n",
              "19223    Petrol        0        4.0     Automatic        Front     4   \n",
              "19224    Petrol    35800        4.0     Automatic        Front     4   \n",
              "19226    Petrol   220000        6.0     Tiptronic         Rear     4   \n",
              "19229    Hybrid   150000        4.0     Automatic        Front     4   \n",
              "19232       CNG   300000        4.0        Manual         Rear     2   \n",
              "\n",
              "                  Wheel   Color  Airbags  EngineVolume EngineType  \n",
              "2      Right-hand drive   Black        2           1.3     Normal  \n",
              "9            Left wheel  Silver       12           3.5     Normal  \n",
              "11           Left wheel    Blue        0           4.0     Normal  \n",
              "12           Left wheel   White        4           1.6     Normal  \n",
              "23           Left wheel   White        0           2.0      Turbo  \n",
              "...                 ...     ...      ...           ...        ...  \n",
              "19223        Left wheel    Blue        4           2.4     Normal  \n",
              "19224        Left wheel   Black       12           2.4     Normal  \n",
              "19226  Right-hand drive   White        0           3.0     Normal  \n",
              "19229        Left wheel  Silver        6           1.5     Normal  \n",
              "19232        Left wheel  Silver        5           2.0      Turbo  \n",
              "\n",
              "[5819 rows x 17 columns]"
            ],
            "text/html": [
              "\n",
              "\n",
              "  <div id=\"df-1fbb0b8e-3387-4bc5-8a82-bdbc49934a69\">\n",
              "    <div class=\"colab-df-container\">\n",
              "      <div>\n",
              "<style scoped>\n",
              "    .dataframe tbody tr th:only-of-type {\n",
              "        vertical-align: middle;\n",
              "    }\n",
              "\n",
              "    .dataframe tbody tr th {\n",
              "        vertical-align: top;\n",
              "    }\n",
              "\n",
              "    .dataframe thead th {\n",
              "        text-align: right;\n",
              "    }\n",
              "</style>\n",
              "<table border=\"1\" class=\"dataframe\">\n",
              "  <thead>\n",
              "    <tr style=\"text-align: right;\">\n",
              "      <th></th>\n",
              "      <th>Price</th>\n",
              "      <th>Levy</th>\n",
              "      <th>Manufacturer</th>\n",
              "      <th>Prod. year</th>\n",
              "      <th>Category</th>\n",
              "      <th>Leather interior</th>\n",
              "      <th>Fuel type</th>\n",
              "      <th>Mileage</th>\n",
              "      <th>Cylinders</th>\n",
              "      <th>Gear box type</th>\n",
              "      <th>Drive wheels</th>\n",
              "      <th>Doors</th>\n",
              "      <th>Wheel</th>\n",
              "      <th>Color</th>\n",
              "      <th>Airbags</th>\n",
              "      <th>EngineVolume</th>\n",
              "      <th>EngineType</th>\n",
              "    </tr>\n",
              "  </thead>\n",
              "  <tbody>\n",
              "    <tr>\n",
              "      <th>2</th>\n",
              "      <td>8467</td>\n",
              "      <td>NaN</td>\n",
              "      <td>HONDA</td>\n",
              "      <td>2006</td>\n",
              "      <td>Hatchback</td>\n",
              "      <td>No</td>\n",
              "      <td>Petrol</td>\n",
              "      <td>200000</td>\n",
              "      <td>4.0</td>\n",
              "      <td>Variator</td>\n",
              "      <td>Front</td>\n",
              "      <td>4</td>\n",
              "      <td>Right-hand drive</td>\n",
              "      <td>Black</td>\n",
              "      <td>2</td>\n",
              "      <td>1.3</td>\n",
              "      <td>Normal</td>\n",
              "    </tr>\n",
              "    <tr>\n",
              "      <th>9</th>\n",
              "      <td>26657</td>\n",
              "      <td>NaN</td>\n",
              "      <td>LEXUS</td>\n",
              "      <td>2007</td>\n",
              "      <td>Jeep</td>\n",
              "      <td>Yes</td>\n",
              "      <td>Petrol</td>\n",
              "      <td>128500</td>\n",
              "      <td>6.0</td>\n",
              "      <td>Automatic</td>\n",
              "      <td>4x4</td>\n",
              "      <td>4</td>\n",
              "      <td>Left wheel</td>\n",
              "      <td>Silver</td>\n",
              "      <td>12</td>\n",
              "      <td>3.5</td>\n",
              "      <td>Normal</td>\n",
              "    </tr>\n",
              "    <tr>\n",
              "      <th>11</th>\n",
              "      <td>8781</td>\n",
              "      <td>NaN</td>\n",
              "      <td>FORD</td>\n",
              "      <td>1999</td>\n",
              "      <td>Microbus</td>\n",
              "      <td>No</td>\n",
              "      <td>CNG</td>\n",
              "      <td>0</td>\n",
              "      <td>8.0</td>\n",
              "      <td>Manual</td>\n",
              "      <td>Rear</td>\n",
              "      <td>2</td>\n",
              "      <td>Left wheel</td>\n",
              "      <td>Blue</td>\n",
              "      <td>0</td>\n",
              "      <td>4.0</td>\n",
              "      <td>Normal</td>\n",
              "    </tr>\n",
              "    <tr>\n",
              "      <th>12</th>\n",
              "      <td>3000</td>\n",
              "      <td>NaN</td>\n",
              "      <td>OPEL</td>\n",
              "      <td>1997</td>\n",
              "      <td>Goods wagon</td>\n",
              "      <td>No</td>\n",
              "      <td>CNG</td>\n",
              "      <td>350000</td>\n",
              "      <td>4.0</td>\n",
              "      <td>Manual</td>\n",
              "      <td>Front</td>\n",
              "      <td>4</td>\n",
              "      <td>Left wheel</td>\n",
              "      <td>White</td>\n",
              "      <td>4</td>\n",
              "      <td>1.6</td>\n",
              "      <td>Normal</td>\n",
              "    </tr>\n",
              "    <tr>\n",
              "      <th>23</th>\n",
              "      <td>7840</td>\n",
              "      <td>NaN</td>\n",
              "      <td>FORD</td>\n",
              "      <td>2001</td>\n",
              "      <td>Microbus</td>\n",
              "      <td>No</td>\n",
              "      <td>Diesel</td>\n",
              "      <td>230000</td>\n",
              "      <td>4.0</td>\n",
              "      <td>Manual</td>\n",
              "      <td>Front</td>\n",
              "      <td>2</td>\n",
              "      <td>Left wheel</td>\n",
              "      <td>White</td>\n",
              "      <td>0</td>\n",
              "      <td>2.0</td>\n",
              "      <td>Turbo</td>\n",
              "    </tr>\n",
              "    <tr>\n",
              "      <th>...</th>\n",
              "      <td>...</td>\n",
              "      <td>...</td>\n",
              "      <td>...</td>\n",
              "      <td>...</td>\n",
              "      <td>...</td>\n",
              "      <td>...</td>\n",
              "      <td>...</td>\n",
              "      <td>...</td>\n",
              "      <td>...</td>\n",
              "      <td>...</td>\n",
              "      <td>...</td>\n",
              "      <td>...</td>\n",
              "      <td>...</td>\n",
              "      <td>...</td>\n",
              "      <td>...</td>\n",
              "      <td>...</td>\n",
              "      <td>...</td>\n",
              "    </tr>\n",
              "    <tr>\n",
              "      <th>19223</th>\n",
              "      <td>8781</td>\n",
              "      <td>NaN</td>\n",
              "      <td>DODGE</td>\n",
              "      <td>2008</td>\n",
              "      <td>Hatchback</td>\n",
              "      <td>No</td>\n",
              "      <td>Petrol</td>\n",
              "      <td>0</td>\n",
              "      <td>4.0</td>\n",
              "      <td>Automatic</td>\n",
              "      <td>Front</td>\n",
              "      <td>4</td>\n",
              "      <td>Left wheel</td>\n",
              "      <td>Blue</td>\n",
              "      <td>4</td>\n",
              "      <td>2.4</td>\n",
              "      <td>Normal</td>\n",
              "    </tr>\n",
              "    <tr>\n",
              "      <th>19224</th>\n",
              "      <td>19130</td>\n",
              "      <td>NaN</td>\n",
              "      <td>KIA</td>\n",
              "      <td>2014</td>\n",
              "      <td>Sedan</td>\n",
              "      <td>Yes</td>\n",
              "      <td>Petrol</td>\n",
              "      <td>35800</td>\n",
              "      <td>4.0</td>\n",
              "      <td>Automatic</td>\n",
              "      <td>Front</td>\n",
              "      <td>4</td>\n",
              "      <td>Left wheel</td>\n",
              "      <td>Black</td>\n",
              "      <td>12</td>\n",
              "      <td>2.4</td>\n",
              "      <td>Normal</td>\n",
              "    </tr>\n",
              "    <tr>\n",
              "      <th>19226</th>\n",
              "      <td>7840</td>\n",
              "      <td>NaN</td>\n",
              "      <td>NISSAN</td>\n",
              "      <td>2003</td>\n",
              "      <td>Sedan</td>\n",
              "      <td>Yes</td>\n",
              "      <td>Petrol</td>\n",
              "      <td>220000</td>\n",
              "      <td>6.0</td>\n",
              "      <td>Tiptronic</td>\n",
              "      <td>Rear</td>\n",
              "      <td>4</td>\n",
              "      <td>Right-hand drive</td>\n",
              "      <td>White</td>\n",
              "      <td>0</td>\n",
              "      <td>3.0</td>\n",
              "      <td>Normal</td>\n",
              "    </tr>\n",
              "    <tr>\n",
              "      <th>19229</th>\n",
              "      <td>50</td>\n",
              "      <td>NaN</td>\n",
              "      <td>TOYOTA</td>\n",
              "      <td>2008</td>\n",
              "      <td>Hatchback</td>\n",
              "      <td>No</td>\n",
              "      <td>Hybrid</td>\n",
              "      <td>150000</td>\n",
              "      <td>4.0</td>\n",
              "      <td>Automatic</td>\n",
              "      <td>Front</td>\n",
              "      <td>4</td>\n",
              "      <td>Left wheel</td>\n",
              "      <td>Silver</td>\n",
              "      <td>6</td>\n",
              "      <td>1.5</td>\n",
              "      <td>Normal</td>\n",
              "    </tr>\n",
              "    <tr>\n",
              "      <th>19232</th>\n",
              "      <td>8467</td>\n",
              "      <td>NaN</td>\n",
              "      <td>MERCEDES-BENZ</td>\n",
              "      <td>1999</td>\n",
              "      <td>Coupe</td>\n",
              "      <td>Yes</td>\n",
              "      <td>CNG</td>\n",
              "      <td>300000</td>\n",
              "      <td>4.0</td>\n",
              "      <td>Manual</td>\n",
              "      <td>Rear</td>\n",
              "      <td>2</td>\n",
              "      <td>Left wheel</td>\n",
              "      <td>Silver</td>\n",
              "      <td>5</td>\n",
              "      <td>2.0</td>\n",
              "      <td>Turbo</td>\n",
              "    </tr>\n",
              "  </tbody>\n",
              "</table>\n",
              "<p>5819 rows × 17 columns</p>\n",
              "</div>\n",
              "      <button class=\"colab-df-convert\" onclick=\"convertToInteractive('df-1fbb0b8e-3387-4bc5-8a82-bdbc49934a69')\"\n",
              "              title=\"Convert this dataframe to an interactive table.\"\n",
              "              style=\"display:none;\">\n",
              "\n",
              "  <svg xmlns=\"http://www.w3.org/2000/svg\" height=\"24px\"viewBox=\"0 0 24 24\"\n",
              "       width=\"24px\">\n",
              "    <path d=\"M0 0h24v24H0V0z\" fill=\"none\"/>\n",
              "    <path d=\"M18.56 5.44l.94 2.06.94-2.06 2.06-.94-2.06-.94-.94-2.06-.94 2.06-2.06.94zm-11 1L8.5 8.5l.94-2.06 2.06-.94-2.06-.94L8.5 2.5l-.94 2.06-2.06.94zm10 10l.94 2.06.94-2.06 2.06-.94-2.06-.94-.94-2.06-.94 2.06-2.06.94z\"/><path d=\"M17.41 7.96l-1.37-1.37c-.4-.4-.92-.59-1.43-.59-.52 0-1.04.2-1.43.59L10.3 9.45l-7.72 7.72c-.78.78-.78 2.05 0 2.83L4 21.41c.39.39.9.59 1.41.59.51 0 1.02-.2 1.41-.59l7.78-7.78 2.81-2.81c.8-.78.8-2.07 0-2.86zM5.41 20L4 18.59l7.72-7.72 1.47 1.35L5.41 20z\"/>\n",
              "  </svg>\n",
              "      </button>\n",
              "\n",
              "\n",
              "\n",
              "    <div id=\"df-414b2851-7b08-4861-853c-320da80742c8\">\n",
              "      <button class=\"colab-df-quickchart\" onclick=\"quickchart('df-414b2851-7b08-4861-853c-320da80742c8')\"\n",
              "              title=\"Suggest charts.\"\n",
              "              style=\"display:none;\">\n",
              "\n",
              "<svg xmlns=\"http://www.w3.org/2000/svg\" height=\"24px\"viewBox=\"0 0 24 24\"\n",
              "     width=\"24px\">\n",
              "    <g>\n",
              "        <path d=\"M19 3H5c-1.1 0-2 .9-2 2v14c0 1.1.9 2 2 2h14c1.1 0 2-.9 2-2V5c0-1.1-.9-2-2-2zM9 17H7v-7h2v7zm4 0h-2V7h2v10zm4 0h-2v-4h2v4z\"/>\n",
              "    </g>\n",
              "</svg>\n",
              "      </button>\n",
              "    </div>\n",
              "\n",
              "<style>\n",
              "  .colab-df-quickchart {\n",
              "    background-color: #E8F0FE;\n",
              "    border: none;\n",
              "    border-radius: 50%;\n",
              "    cursor: pointer;\n",
              "    display: none;\n",
              "    fill: #1967D2;\n",
              "    height: 32px;\n",
              "    padding: 0 0 0 0;\n",
              "    width: 32px;\n",
              "  }\n",
              "\n",
              "  .colab-df-quickchart:hover {\n",
              "    background-color: #E2EBFA;\n",
              "    box-shadow: 0px 1px 2px rgba(60, 64, 67, 0.3), 0px 1px 3px 1px rgba(60, 64, 67, 0.15);\n",
              "    fill: #174EA6;\n",
              "  }\n",
              "\n",
              "  [theme=dark] .colab-df-quickchart {\n",
              "    background-color: #3B4455;\n",
              "    fill: #D2E3FC;\n",
              "  }\n",
              "\n",
              "  [theme=dark] .colab-df-quickchart:hover {\n",
              "    background-color: #434B5C;\n",
              "    box-shadow: 0px 1px 3px 1px rgba(0, 0, 0, 0.15);\n",
              "    filter: drop-shadow(0px 1px 2px rgba(0, 0, 0, 0.3));\n",
              "    fill: #FFFFFF;\n",
              "  }\n",
              "</style>\n",
              "\n",
              "    <script>\n",
              "      async function quickchart(key) {\n",
              "        const containerElement = document.querySelector('#' + key);\n",
              "        const charts = await google.colab.kernel.invokeFunction(\n",
              "            'suggestCharts', [key], {});\n",
              "      }\n",
              "    </script>\n",
              "\n",
              "      <script>\n",
              "\n",
              "function displayQuickchartButton(domScope) {\n",
              "  let quickchartButtonEl =\n",
              "    domScope.querySelector('#df-414b2851-7b08-4861-853c-320da80742c8 button.colab-df-quickchart');\n",
              "  quickchartButtonEl.style.display =\n",
              "    google.colab.kernel.accessAllowed ? 'block' : 'none';\n",
              "}\n",
              "\n",
              "        displayQuickchartButton(document);\n",
              "      </script>\n",
              "      <style>\n",
              "    .colab-df-container {\n",
              "      display:flex;\n",
              "      flex-wrap:wrap;\n",
              "      gap: 12px;\n",
              "    }\n",
              "\n",
              "    .colab-df-convert {\n",
              "      background-color: #E8F0FE;\n",
              "      border: none;\n",
              "      border-radius: 50%;\n",
              "      cursor: pointer;\n",
              "      display: none;\n",
              "      fill: #1967D2;\n",
              "      height: 32px;\n",
              "      padding: 0 0 0 0;\n",
              "      width: 32px;\n",
              "    }\n",
              "\n",
              "    .colab-df-convert:hover {\n",
              "      background-color: #E2EBFA;\n",
              "      box-shadow: 0px 1px 2px rgba(60, 64, 67, 0.3), 0px 1px 3px 1px rgba(60, 64, 67, 0.15);\n",
              "      fill: #174EA6;\n",
              "    }\n",
              "\n",
              "    [theme=dark] .colab-df-convert {\n",
              "      background-color: #3B4455;\n",
              "      fill: #D2E3FC;\n",
              "    }\n",
              "\n",
              "    [theme=dark] .colab-df-convert:hover {\n",
              "      background-color: #434B5C;\n",
              "      box-shadow: 0px 1px 3px 1px rgba(0, 0, 0, 0.15);\n",
              "      filter: drop-shadow(0px 1px 2px rgba(0, 0, 0, 0.3));\n",
              "      fill: #FFFFFF;\n",
              "    }\n",
              "  </style>\n",
              "\n",
              "      <script>\n",
              "        const buttonEl =\n",
              "          document.querySelector('#df-1fbb0b8e-3387-4bc5-8a82-bdbc49934a69 button.colab-df-convert');\n",
              "        buttonEl.style.display =\n",
              "          google.colab.kernel.accessAllowed ? 'block' : 'none';\n",
              "\n",
              "        async function convertToInteractive(key) {\n",
              "          const element = document.querySelector('#df-1fbb0b8e-3387-4bc5-8a82-bdbc49934a69');\n",
              "          const dataTable =\n",
              "            await google.colab.kernel.invokeFunction('convertToInteractive',\n",
              "                                                     [key], {});\n",
              "          if (!dataTable) return;\n",
              "\n",
              "          const docLinkHtml = 'Like what you see? Visit the ' +\n",
              "            '<a target=\"_blank\" href=https://colab.research.google.com/notebooks/data_table.ipynb>data table notebook</a>'\n",
              "            + ' to learn more about interactive tables.';\n",
              "          element.innerHTML = '';\n",
              "          dataTable['output_type'] = 'display_data';\n",
              "          await google.colab.output.renderOutput(dataTable, element);\n",
              "          const docLink = document.createElement('div');\n",
              "          docLink.innerHTML = docLinkHtml;\n",
              "          element.appendChild(docLink);\n",
              "        }\n",
              "      </script>\n",
              "    </div>\n",
              "  </div>\n"
            ]
          },
          "metadata": {},
          "execution_count": 54
        }
      ]
    },
    {
      "cell_type": "code",
      "source": [
        "data.drop('Levy',axis=1,inplace=True)"
      ],
      "metadata": {
        "id": "hZ-t3QNRTDdr"
      },
      "execution_count": 55,
      "outputs": []
    },
    {
      "cell_type": "code",
      "source": [
        "numerical_cols = ['Price', 'Mileage','Cylinders','Airbags','EngineVolume']  # We've added price to numerical_cols list as, while when we got 3 outliers and we are creating them nans, then the price column will remain as nan if we dont include it here"
      ],
      "metadata": {
        "id": "9K29pWruxnEN"
      },
      "execution_count": 56,
      "outputs": []
    },
    {
      "cell_type": "code",
      "source": [
        "OUTLIER_DETECT=['Price','Mileage']  # We're doing oulier detect on price column, as the price have too many outliers and while our model, RMS will be too high as the actual vs predicted value for costliest cars will vary too much.\n",
        "\n",
        "# NOTE-->  We tried detecting outliers with IQR also, but the number of outliers were too much, so then we try Zscore.\n",
        "\n",
        "def DetectOutlier_Zscore(data,col_name,numerical_cols):\n",
        "  col_values=data.loc[:,col_name]\n",
        "  upper_limit=col_values.mean()+3*col_values.std()\n",
        "  lower_limit=col_values.mean()-3*col_values.std()\n",
        "\n",
        "  outliers=np.logical_or(col_values.values>upper_limit,col_values.values<lower_limit)\n",
        "  idxs=np.where(outliers)[0]\n",
        "\n",
        "  print(f'Outliers detected:{len(idxs)}')\n",
        "\n",
        "  plt.plot([upper_limit]*data.shape[0]) # To get a straight line\n",
        "  plt.plot([lower_limit]*data.shape[0])\n",
        "  plt.scatter(x=[i for i in range(data.shape[0])],y=col_values)\n",
        "  plt.xlabel(\"Data Points \")\n",
        "  plt.ylabel(col_name)\n",
        "  plt.title(f'Outliers in {col_name }')\n",
        "  plt.show()\n",
        "\n",
        "  print(\"Fixing Outliers\")\n",
        "\n",
        "  data.loc[idxs,col_name]=np.nan\n",
        "  imputer=KNNImputer()\n",
        "  data.loc[:,numerical_cols]=imputer.fit_transform(data.loc[:,numerical_cols])\n",
        "\n",
        "\n",
        "  plt.plot([upper_limit]*data.shape[0])\n",
        "  plt.plot([lower_limit]*data.shape[0])\n",
        "  plt.scatter(x=[i for i in range(data.shape[0])],y=data.loc[:,col_name].values)\n",
        "  plt.xlabel(\"Data Points\")\n",
        "  plt.ylabel(col_name)\n",
        "  plt.title(f'Outliers in {col_name }')\n",
        "  plt.show()\n",
        "\n",
        "  return data"
      ],
      "metadata": {
        "id": "V_MkYc5La2km"
      },
      "execution_count": 57,
      "outputs": []
    },
    {
      "cell_type": "code",
      "source": [
        "for outlier_col in OUTLIER_DETECT:\n",
        "  data=DetectOutlier_Zscore(data,outlier_col,numerical_cols)"
      ],
      "metadata": {
        "colab": {
          "base_uri": "https://localhost:8080/",
          "height": 1000
        },
        "id": "GNe3dB-bxteR",
        "outputId": "773011ad-1b8e-4163-8b10-e62ff454a5f4"
      },
      "execution_count": 58,
      "outputs": [
        {
          "output_type": "stream",
          "name": "stdout",
          "text": [
            "Outliers detected:3\n"
          ]
        },
        {
          "output_type": "display_data",
          "data": {
            "text/plain": [
              "<Figure size 640x480 with 1 Axes>"
            ],
            "image/png": "[encoded data removed]"
          },
          "metadata": {}
        },
        {
          "output_type": "stream",
          "name": "stdout",
          "text": [
            "Fixing Outliers\n"
          ]
        },
        {
          "output_type": "stream",
          "name": "stderr",
          "text": [
            "<ipython-input-57-bbe866a29aca>:27: DeprecationWarning:\n",
            "\n",
            "In a future version, `df.iloc[:, i] = newvals` will attempt to set the values inplace instead of always setting a new array. To retain the old behavior, use either `df[df.columns[i]] = newvals` or, if columns are non-unique, `df.isetitem(i, newvals)`\n",
            "\n"
          ]
        },
        {
          "output_type": "display_data",
          "data": {
            "text/plain": [
              "<Figure size 640x480 with 1 Axes>"
            ],
            "image/png": "[encoded data removed]"
          },
          "metadata": {}
        },
        {
          "output_type": "stream",
          "name": "stdout",
          "text": [
            "Outliers detected:18\n"
          ]
        },
        {
          "output_type": "display_data",
          "data": {
            "text/plain": [
              "<Figure size 640x480 with 1 Axes>"
            ],
            "image/png": "[encoded data removed]"
          },
          "metadata": {}
        },
        {
          "output_type": "stream",
          "name": "stdout",
          "text": [
            "Fixing Outliers\n"
          ]
        },
        {
          "output_type": "display_data",
          "data": {
            "text/plain": [
              "<Figure size 640x480 with 1 Axes>"
            ],
            "image/png": "[encoded data removed]"
          },
          "metadata": {}
        }
      ]
    },
    {
      "cell_type": "code",
      "source": [
        "def ApplyLabelEncoder(data,col_name):\n",
        "  Le=LabelEncoder()\n",
        "  data[col_name]=Le.fit_transform(data[col_name])\n",
        "  return data\n",
        "\n",
        "def ApplyOneHotEncoder(data,col_name):\n",
        "  ohe=OneHotEncoder()\n",
        "  encodings=ohe.fit_transform(data[[col_name]]).todense()\n",
        "  columns=[col_name+\"_\"+str(categorie) for categorie in ohe.categories_[0][:-1]]\n",
        "  encodings=pd.DataFrame(encodings[:,:-1],columns=columns)\n",
        "\n",
        "\n",
        "\n",
        "  data=pd.concat([data,encodings],axis=1)\n",
        "  data.drop([col_name],axis=1,inplace=True)\n",
        "  return data\n",
        "\n",
        "def HandleCategoricaldata(data,ohe_cols,le_cols):\n",
        "  for col in le_cols:\n",
        "    data=ApplyLabelEncoder(data,col)\n",
        "\n",
        "  for col in ohe_cols:\n",
        "    data=ApplyOneHotEncoder(data,col)\n",
        "  return data"
      ],
      "metadata": {
        "id": "BijmYXHpyaVB"
      },
      "execution_count": 59,
      "outputs": []
    },
    {
      "cell_type": "code",
      "source": [
        "data.head()"
      ],
      "metadata": {
        "colab": {
          "base_uri": "https://localhost:8080/",
          "height": 391
        },
        "id": "9vLeh0er9EE1",
        "outputId": "3658e114-476a-4963-99a5-1b7d5ecce35e"
      },
      "execution_count": 60,
      "outputs": [
        {
          "output_type": "execute_result",
          "data": {
            "text/plain": [
              "     Price Manufacturer  Prod. year   Category Leather interior Fuel type  \\\n",
              "0  13328.0        LEXUS        2010       Jeep              Yes    Hybrid   \n",
              "1  16621.0    CHEVROLET        2011       Jeep               No    Petrol   \n",
              "2   8467.0        HONDA        2006  Hatchback               No    Petrol   \n",
              "3   3607.0         FORD        2011       Jeep              Yes    Hybrid   \n",
              "4  11726.0        HONDA        2014  Hatchback              Yes    Petrol   \n",
              "\n",
              "    Mileage  Cylinders Gear box type Drive wheels Doors             Wheel  \\\n",
              "0  186005.0        6.0     Automatic          4x4     4        Left wheel   \n",
              "1  192000.0        6.0     Tiptronic          4x4     4        Left wheel   \n",
              "2  200000.0        4.0      Variator        Front     4  Right-hand drive   \n",
              "3  168966.0        4.0     Automatic          4x4     4        Left wheel   \n",
              "4   91901.0        4.0     Automatic        Front     4        Left wheel   \n",
              "\n",
              "    Color  Airbags  EngineVolume EngineType  \n",
              "0  Silver     12.0           3.5     Normal  \n",
              "1   Black      8.0           3.0     Normal  \n",
              "2   Black      2.0           1.3     Normal  \n",
              "3   White      0.0           2.5     Normal  \n",
              "4  Silver      4.0           1.3     Normal  "
            ],
            "text/html": [
              "\n",
              "\n",
              "  <div id=\"df-41287f72-fdaa-4919-a416-920b7e8d3962\">\n",
              "    <div class=\"colab-df-container\">\n",
              "      <div>\n",
              "<style scoped>\n",
              "    .dataframe tbody tr th:only-of-type {\n",
              "        vertical-align: middle;\n",
              "    }\n",
              "\n",
              "    .dataframe tbody tr th {\n",
              "        vertical-align: top;\n",
              "    }\n",
              "\n",
              "    .dataframe thead th {\n",
              "        text-align: right;\n",
              "    }\n",
              "</style>\n",
              "<table border=\"1\" class=\"dataframe\">\n",
              "  <thead>\n",
              "    <tr style=\"text-align: right;\">\n",
              "      <th></th>\n",
              "      <th>Price</th>\n",
              "      <th>Manufacturer</th>\n",
              "      <th>Prod. year</th>\n",
              "      <th>Category</th>\n",
              "      <th>Leather interior</th>\n",
              "      <th>Fuel type</th>\n",
              "      <th>Mileage</th>\n",
              "      <th>Cylinders</th>\n",
              "      <th>Gear box type</th>\n",
              "      <th>Drive wheels</th>\n",
              "      <th>Doors</th>\n",
              "      <th>Wheel</th>\n",
              "      <th>Color</th>\n",
              "      <th>Airbags</th>\n",
              "      <th>EngineVolume</th>\n",
              "      <th>EngineType</th>\n",
              "    </tr>\n",
              "  </thead>\n",
              "  <tbody>\n",
              "    <tr>\n",
              "      <th>0</th>\n",
              "      <td>13328.0</td>\n",
              "      <td>LEXUS</td>\n",
              "      <td>2010</td>\n",
              "      <td>Jeep</td>\n",
              "      <td>Yes</td>\n",
              "      <td>Hybrid</td>\n",
              "      <td>186005.0</td>\n",
              "      <td>6.0</td>\n",
              "      <td>Automatic</td>\n",
              "      <td>4x4</td>\n",
              "      <td>4</td>\n",
              "      <td>Left wheel</td>\n",
              "      <td>Silver</td>\n",
              "      <td>12.0</td>\n",
              "      <td>3.5</td>\n",
              "      <td>Normal</td>\n",
              "    </tr>\n",
              "    <tr>\n",
              "      <th>1</th>\n",
              "      <td>16621.0</td>\n",
              "      <td>CHEVROLET</td>\n",
              "      <td>2011</td>\n",
              "      <td>Jeep</td>\n",
              "      <td>No</td>\n",
              "      <td>Petrol</td>\n",
              "      <td>192000.0</td>\n",
              "      <td>6.0</td>\n",
              "      <td>Tiptronic</td>\n",
              "      <td>4x4</td>\n",
              "      <td>4</td>\n",
              "      <td>Left wheel</td>\n",
              "      <td>Black</td>\n",
              "      <td>8.0</td>\n",
              "      <td>3.0</td>\n",
              "      <td>Normal</td>\n",
              "    </tr>\n",
              "    <tr>\n",
              "      <th>2</th>\n",
              "      <td>8467.0</td>\n",
              "      <td>HONDA</td>\n",
              "      <td>2006</td>\n",
              "      <td>Hatchback</td>\n",
              "      <td>No</td>\n",
              "      <td>Petrol</td>\n",
              "      <td>200000.0</td>\n",
              "      <td>4.0</td>\n",
              "      <td>Variator</td>\n",
              "      <td>Front</td>\n",
              "      <td>4</td>\n",
              "      <td>Right-hand drive</td>\n",
              "      <td>Black</td>\n",
              "      <td>2.0</td>\n",
              "      <td>1.3</td>\n",
              "      <td>Normal</td>\n",
              "    </tr>\n",
              "    <tr>\n",
              "      <th>3</th>\n",
              "      <td>3607.0</td>\n",
              "      <td>FORD</td>\n",
              "      <td>2011</td>\n",
              "      <td>Jeep</td>\n",
              "      <td>Yes</td>\n",
              "      <td>Hybrid</td>\n",
              "      <td>168966.0</td>\n",
              "      <td>4.0</td>\n",
              "      <td>Automatic</td>\n",
              "      <td>4x4</td>\n",
              "      <td>4</td>\n",
              "      <td>Left wheel</td>\n",
              "      <td>White</td>\n",
              "      <td>0.0</td>\n",
              "      <td>2.5</td>\n",
              "      <td>Normal</td>\n",
              "    </tr>\n",
              "    <tr>\n",
              "      <th>4</th>\n",
              "      <td>11726.0</td>\n",
              "      <td>HONDA</td>\n",
              "      <td>2014</td>\n",
              "      <td>Hatchback</td>\n",
              "      <td>Yes</td>\n",
              "      <td>Petrol</td>\n",
              "      <td>91901.0</td>\n",
              "      <td>4.0</td>\n",
              "      <td>Automatic</td>\n",
              "      <td>Front</td>\n",
              "      <td>4</td>\n",
              "      <td>Left wheel</td>\n",
              "      <td>Silver</td>\n",
              "      <td>4.0</td>\n",
              "      <td>1.3</td>\n",
              "      <td>Normal</td>\n",
              "    </tr>\n",
              "  </tbody>\n",
              "</table>\n",
              "</div>\n",
              "      <button class=\"colab-df-convert\" onclick=\"convertToInteractive('df-41287f72-fdaa-4919-a416-920b7e8d3962')\"\n",
              "              title=\"Convert this dataframe to an interactive table.\"\n",
              "              style=\"display:none;\">\n",
              "\n",
              "  <svg xmlns=\"http://www.w3.org/2000/svg\" height=\"24px\"viewBox=\"0 0 24 24\"\n",
              "       width=\"24px\">\n",
              "    <path d=\"M0 0h24v24H0V0z\" fill=\"none\"/>\n",
              "    <path d=\"M18.56 5.44l.94 2.06.94-2.06 2.06-.94-2.06-.94-.94-2.06-.94 2.06-2.06.94zm-11 1L8.5 8.5l.94-2.06 2.06-.94-2.06-.94L8.5 2.5l-.94 2.06-2.06.94zm10 10l.94 2.06.94-2.06 2.06-.94-2.06-.94-.94-2.06-.94 2.06-2.06.94z\"/><path d=\"M17.41 7.96l-1.37-1.37c-.4-.4-.92-.59-1.43-.59-.52 0-1.04.2-1.43.59L10.3 9.45l-7.72 7.72c-.78.78-.78 2.05 0 2.83L4 21.41c.39.39.9.59 1.41.59.51 0 1.02-.2 1.41-.59l7.78-7.78 2.81-2.81c.8-.78.8-2.07 0-2.86zM5.41 20L4 18.59l7.72-7.72 1.47 1.35L5.41 20z\"/>\n",
              "  </svg>\n",
              "      </button>\n",
              "\n",
              "\n",
              "\n",
              "    <div id=\"df-8a5ba59e-463d-4d17-95c4-688d6dbb995e\">\n",
              "      <button class=\"colab-df-quickchart\" onclick=\"quickchart('df-8a5ba59e-463d-4d17-95c4-688d6dbb995e')\"\n",
              "              title=\"Suggest charts.\"\n",
              "              style=\"display:none;\">\n",
              "\n",
              "<svg xmlns=\"http://www.w3.org/2000/svg\" height=\"24px\"viewBox=\"0 0 24 24\"\n",
              "     width=\"24px\">\n",
              "    <g>\n",
              "        <path d=\"M19 3H5c-1.1 0-2 .9-2 2v14c0 1.1.9 2 2 2h14c1.1 0 2-.9 2-2V5c0-1.1-.9-2-2-2zM9 17H7v-7h2v7zm4 0h-2V7h2v10zm4 0h-2v-4h2v4z\"/>\n",
              "    </g>\n",
              "</svg>\n",
              "      </button>\n",
              "    </div>\n",
              "\n",
              "<style>\n",
              "  .colab-df-quickchart {\n",
              "    background-color: #E8F0FE;\n",
              "    border: none;\n",
              "    border-radius: 50%;\n",
              "    cursor: pointer;\n",
              "    display: none;\n",
              "    fill: #1967D2;\n",
              "    height: 32px;\n",
              "    padding: 0 0 0 0;\n",
              "    width: 32px;\n",
              "  }\n",
              "\n",
              "  .colab-df-quickchart:hover {\n",
              "    background-color: #E2EBFA;\n",
              "    box-shadow: 0px 1px 2px rgba(60, 64, 67, 0.3), 0px 1px 3px 1px rgba(60, 64, 67, 0.15);\n",
              "    fill: #174EA6;\n",
              "  }\n",
              "\n",
              "  [theme=dark] .colab-df-quickchart {\n",
              "    background-color: #3B4455;\n",
              "    fill: #D2E3FC;\n",
              "  }\n",
              "\n",
              "  [theme=dark] .colab-df-quickchart:hover {\n",
              "    background-color: #434B5C;\n",
              "    box-shadow: 0px 1px 3px 1px rgba(0, 0, 0, 0.15);\n",
              "    filter: drop-shadow(0px 1px 2px rgba(0, 0, 0, 0.3));\n",
              "    fill: #FFFFFF;\n",
              "  }\n",
              "</style>\n",
              "\n",
              "    <script>\n",
              "      async function quickchart(key) {\n",
              "        const containerElement = document.querySelector('#' + key);\n",
              "        const charts = await google.colab.kernel.invokeFunction(\n",
              "            'suggestCharts', [key], {});\n",
              "      }\n",
              "    </script>\n",
              "\n",
              "      <script>\n",
              "\n",
              "function displayQuickchartButton(domScope) {\n",
              "  let quickchartButtonEl =\n",
              "    domScope.querySelector('#df-8a5ba59e-463d-4d17-95c4-688d6dbb995e button.colab-df-quickchart');\n",
              "  quickchartButtonEl.style.display =\n",
              "    google.colab.kernel.accessAllowed ? 'block' : 'none';\n",
              "}\n",
              "\n",
              "        displayQuickchartButton(document);\n",
              "      </script>\n",
              "      <style>\n",
              "    .colab-df-container {\n",
              "      display:flex;\n",
              "      flex-wrap:wrap;\n",
              "      gap: 12px;\n",
              "    }\n",
              "\n",
              "    .colab-df-convert {\n",
              "      background-color: #E8F0FE;\n",
              "      border: none;\n",
              "      border-radius: 50%;\n",
              "      cursor: pointer;\n",
              "      display: none;\n",
              "      fill: #1967D2;\n",
              "      height: 32px;\n",
              "      padding: 0 0 0 0;\n",
              "      width: 32px;\n",
              "    }\n",
              "\n",
              "    .colab-df-convert:hover {\n",
              "      background-color: #E2EBFA;\n",
              "      box-shadow: 0px 1px 2px rgba(60, 64, 67, 0.3), 0px 1px 3px 1px rgba(60, 64, 67, 0.15);\n",
              "      fill: #174EA6;\n",
              "    }\n",
              "\n",
              "    [theme=dark] .colab-df-convert {\n",
              "      background-color: #3B4455;\n",
              "      fill: #D2E3FC;\n",
              "    }\n",
              "\n",
              "    [theme=dark] .colab-df-convert:hover {\n",
              "      background-color: #434B5C;\n",
              "      box-shadow: 0px 1px 3px 1px rgba(0, 0, 0, 0.15);\n",
              "      filter: drop-shadow(0px 1px 2px rgba(0, 0, 0, 0.3));\n",
              "      fill: #FFFFFF;\n",
              "    }\n",
              "  </style>\n",
              "\n",
              "      <script>\n",
              "        const buttonEl =\n",
              "          document.querySelector('#df-41287f72-fdaa-4919-a416-920b7e8d3962 button.colab-df-convert');\n",
              "        buttonEl.style.display =\n",
              "          google.colab.kernel.accessAllowed ? 'block' : 'none';\n",
              "\n",
              "        async function convertToInteractive(key) {\n",
              "          const element = document.querySelector('#df-41287f72-fdaa-4919-a416-920b7e8d3962');\n",
              "          const dataTable =\n",
              "            await google.colab.kernel.invokeFunction('convertToInteractive',\n",
              "                                                     [key], {});\n",
              "          if (!dataTable) return;\n",
              "\n",
              "          const docLinkHtml = 'Like what you see? Visit the ' +\n",
              "            '<a target=\"_blank\" href=https://colab.research.google.com/notebooks/data_table.ipynb>data table notebook</a>'\n",
              "            + ' to learn more about interactive tables.';\n",
              "          element.innerHTML = '';\n",
              "          dataTable['output_type'] = 'display_data';\n",
              "          await google.colab.output.renderOutput(dataTable, element);\n",
              "          const docLink = document.createElement('div');\n",
              "          docLink.innerHTML = docLinkHtml;\n",
              "          element.appendChild(docLink);\n",
              "        }\n",
              "      </script>\n",
              "    </div>\n",
              "  </div>\n"
            ]
          },
          "metadata": {},
          "execution_count": 60
        }
      ]
    },
    {
      "cell_type": "code",
      "source": [
        "# We will check the value_counts of each column and then correspondingly we can put that column under ohe & le.\n",
        "# For LE --> 2 categories\n",
        "# For Ohe --> 2> and < 7 categories\n",
        "\n",
        "ohe_cols = ['Fuel type', 'Gear box type', 'Drive wheels', 'Doors']\n",
        "le_cols = ['Manufacturer', 'Category', 'Leather interior', 'Wheel', 'Color', 'EngineType']\n",
        "\n",
        "data = HandleCategoricaldata(data, ohe_cols, le_cols)"
      ],
      "metadata": {
        "id": "86oWDR1X64do"
      },
      "execution_count": 61,
      "outputs": []
    },
    {
      "cell_type": "code",
      "source": [
        "data.info()"
      ],
      "metadata": {
        "colab": {
          "base_uri": "https://localhost:8080/"
        },
        "id": "nXLdEi4_-kR3",
        "outputId": "e74d6042-ddba-428a-b5a8-f047813bed22"
      },
      "execution_count": 62,
      "outputs": [
        {
          "output_type": "stream",
          "name": "stdout",
          "text": [
            "<class 'pandas.core.frame.DataFrame'>\n",
            "RangeIndex: 19237 entries, 0 to 19236\n",
            "Data columns (total 25 columns):\n",
            " #   Column                   Non-Null Count  Dtype  \n",
            "---  ------                   --------------  -----  \n",
            " 0   Price                    19237 non-null  float64\n",
            " 1   Manufacturer             19237 non-null  int64  \n",
            " 2   Prod. year               19237 non-null  int64  \n",
            " 3   Category                 19237 non-null  int64  \n",
            " 4   Leather interior         19237 non-null  int64  \n",
            " 5   Mileage                  19237 non-null  float64\n",
            " 6   Cylinders                19237 non-null  float64\n",
            " 7   Wheel                    19237 non-null  int64  \n",
            " 8   Color                    19237 non-null  int64  \n",
            " 9   Airbags                  19237 non-null  float64\n",
            " 10  EngineVolume             19237 non-null  float64\n",
            " 11  EngineType               19237 non-null  int64  \n",
            " 12  Fuel type_CNG            19237 non-null  float64\n",
            " 13  Fuel type_Diesel         19237 non-null  float64\n",
            " 14  Fuel type_Hybrid         19237 non-null  float64\n",
            " 15  Fuel type_Hydrogen       19237 non-null  float64\n",
            " 16  Fuel type_LPG            19237 non-null  float64\n",
            " 17  Fuel type_Petrol         19237 non-null  float64\n",
            " 18  Gear box type_Automatic  19237 non-null  float64\n",
            " 19  Gear box type_Manual     19237 non-null  float64\n",
            " 20  Gear box type_Tiptronic  19237 non-null  float64\n",
            " 21  Drive wheels_4x4         19237 non-null  float64\n",
            " 22  Drive wheels_Front       19237 non-null  float64\n",
            " 23  Doors_2                  19237 non-null  float64\n",
            " 24  Doors_4                  19237 non-null  float64\n",
            "dtypes: float64(18), int64(7)\n",
            "memory usage: 3.7 MB\n"
          ]
        }
      ]
    },
    {
      "cell_type": "markdown",
      "source": [
        "So we've successfully converted all the categorical cols to numeric cols"
      ],
      "metadata": {
        "id": "tv6HzzwR__gi"
      }
    },
    {
      "cell_type": "code",
      "source": [
        "X=data.iloc[:,1:].values\n",
        "Y=data.iloc[:,0].values"
      ],
      "metadata": {
        "id": "5Mr9CcS0_-F0"
      },
      "execution_count": 63,
      "outputs": []
    },
    {
      "cell_type": "code",
      "source": [
        "# X1 (0-1), X2 (0-100)\n",
        "# Prediction = X1.W1 + X2.W2\n",
        "\n",
        "# X1 (0-1), X2 (0-1)\n",
        "#\n",
        "\n",
        "# Prediction = W.X + b\n",
        "\n",
        "# MinMax Scaler - brings values between 0 and 1\n",
        "#   ScaledValue = (Value - Min)/(Max - Min)\n",
        "# Standard Sclaer - brings mean -> 0 and std -> 1\n",
        "#   ScaledValue = (Value - Mean)/Std\n",
        "\n",
        "Scaler = MinMaxScaler()\n",
        "X_scale = Scaler.fit_transform(X)\n",
        "Y_scale = (Y - np.min(Y))/(np.max(Y) - np.min(Y)) # We are creating custom code for converting Y to Y_scaled because MinMaxScaler work on matrix only not on single column.\n",
        "\n",
        "# Y_scale*((np.max(Y) - np.min(Y)) + np.min(Y) --> unscaled_value\n",
        "\n",
        "# NOTE --> Y is large,so W might also be very large that's why scaling Y."
      ],
      "metadata": {
        "id": "RorH7MiGBRuE"
      },
      "execution_count": 64,
      "outputs": []
    },
    {
      "cell_type": "code",
      "source": [
        "xtrain,xtest,ytrain,ytest=train_test_split(X,Y,test_size=0.2,shuffle=True,random_state=4)"
      ],
      "metadata": {
        "id": "jV72S_L-C3GV"
      },
      "execution_count": 65,
      "outputs": []
    },
    {
      "cell_type": "code",
      "source": [
        "def MeanSquaredError(Actual,Prediction):\n",
        "  return np.mean(np.square(Actual-Prediction))\n",
        "\n",
        "def RootMeanSquaredError(Actual,Prediction):\n",
        "  return np.sqrt(MeanSquaredError(Actual,Prediction))\n",
        "\n",
        "def MeanAbsuloteError(Actual,Prediction):\n",
        "  return np.mean(np.abs(Actual-Prediction))\n",
        "\n",
        "def R2Score(Actual,Prediction):\n",
        "  SSR=np.sum(np.square(Actual-Prediction))\n",
        "  SSM=np.sum(np.square(Actual-np.mean(Actual)))\n",
        "  return 1-(SSR/SSM)\n",
        "\n",
        "def PrintMetrics(Actual,Prediction):\n",
        "  print(\" MeanSquaredError : \", MeanSquaredError(Actual, Prediction))\n",
        "  print(\" RootMeanSquaredError : \", RootMeanSquaredError(Actual, Prediction))\n",
        "  print(\" MeanAbsolutedError : \", MeanAbsuloteError(Actual, Prediction))\n",
        "  print(\" R2 Score : \", R2Score(Actual, Prediction))"
      ],
      "metadata": {
        "id": "tq_ax3WPDAsZ"
      },
      "execution_count": 66,
      "outputs": []
    },
    {
      "cell_type": "code",
      "source": [
        "from sklearn.linear_model import LinearRegression, Lasso, Ridge, ElasticNet\n",
        "from sklearn.ensemble import RandomForestRegressor"
      ],
      "metadata": {
        "id": "AH5IUPYAFmV8"
      },
      "execution_count": 67,
      "outputs": []
    },
    {
      "cell_type": "code",
      "source": [
        "model = LinearRegression()\n",
        "model.fit(xtrain, ytrain)\n",
        "predictions = model.predict(xtest)\n",
        "PrintMetrics(ytest, predictions)"
      ],
      "metadata": {
        "colab": {
          "base_uri": "https://localhost:8080/"
        },
        "id": "cFNlifTrFqKg",
        "outputId": "ddf122a0-759b-43a7-ee79-cddeddb659f9"
      },
      "execution_count": 68,
      "outputs": [
        {
          "output_type": "stream",
          "name": "stdout",
          "text": [
            " MeanSquaredError :  245641925.53178433\n",
            " RootMeanSquaredError :  15672.967987327234\n",
            " MeanAbsolutedError :  10272.555775983039\n",
            " R2 Score :  0.2523168914071423\n"
          ]
        }
      ]
    },
    {
      "cell_type": "code",
      "source": [
        "model = RandomForestRegressor()\n",
        "model.fit(xtrain, ytrain)\n",
        "predictions = model.predict(xtest)\n",
        "PrintMetrics(ytest, predictions)"
      ],
      "metadata": {
        "colab": {
          "base_uri": "https://localhost:8080/"
        },
        "id": "ZuD49TrtFsXR",
        "outputId": "9b3aee2a-5ff7-4315-c333-18b6546c13bf"
      },
      "execution_count": 69,
      "outputs": [
        {
          "output_type": "stream",
          "name": "stdout",
          "text": [
            " MeanSquaredError :  104147657.42670465\n",
            " RootMeanSquaredError :  10205.275960340545\n",
            " MeanAbsolutedError :  4587.691946546174\n",
            " R2 Score :  0.6829961168522642\n"
          ]
        }
      ]
    },
    {
      "cell_type": "markdown",
      "source": [
        "Comparing R2_Scores, RandomForestRegressor is the best model.\n"
      ],
      "metadata": {
        "id": "Zb8jrnXA17eS"
      }
    },
    {
      "cell_type": "code",
      "source": [
        "actual_answers=ytest*(np.max(Y)-np.min(Y))+np.min(Y)\n",
        "actual_predictions=predictions*(np.max(Y)-np.min(Y))+np.min(Y)\n",
        "print(\" Actual Value : \", actual_answers[0], \" Predicted Value : \", actual_predictions[0])"
      ],
      "metadata": {
        "colab": {
          "base_uri": "https://localhost:8080/"
        },
        "id": "w_UlMxPnGaqW",
        "outputId": "a1be8132-211f-499f-f9dd-af099184d174"
      },
      "execution_count": 71,
      "outputs": [
        {
          "output_type": "stream",
          "name": "stdout",
          "text": [
            " Actual Value :  5618673046.0  Predicted Value :  4974760573.5\n"
          ]
        }
      ]
    },
    {
      "cell_type": "code",
      "source": [
        "pickle.dump(model,open('model.pkl','wb'))"
      ],
      "metadata": {
        "id": "Xt7AjkGwHKfT"
      },
      "execution_count": 74,
      "outputs": []
    }
  ]
}